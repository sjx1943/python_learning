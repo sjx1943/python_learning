{
 "cells": [
  {
   "cell_type": "markdown",
   "metadata": {
    "colab_type": "text",
    "id": "QsUcHSE0TcRM"
   },
   "source": [
    "<a href=\"https://practicalai.me\"><img src=\"https://raw.githubusercontent.com/practicalAI/images/master/images/rounded_logo.png\" width=\"100\" align=\"left\" hspace=\"20px\" vspace=\"20px\"></a>\n",
    "\n",
    "<img src=\"https://raw.githubusercontent.com/practicalAI/images/master/basic_ml/05_Logistic_Regression/logistic_regression.png\" width=\"170\" vspace=\"10px\" align=\"right\">\n",
    "\n",
    "<div align=\"left\">\n",
    "<h1>Logistic Regression</h1>\n",
    "\n",
    "In this lesson, we're going to implement logistic regression for a classification task where we want to probabilistically determine the outcome for a given set of inputs.\n",
    "    \n",
    "    \n",
    "    \n",
    "    1.导入参数，如集群大小，特征维度，分类种类，迭代次数等。\n",
    "    2.下载数据导入dataFrame数据矩阵\n",
    "    3.基本原始分布展示（包括所有数据）\n",
    "    4.切片分训练集、测试集和验证集\n",
    "    5.对待预测y值进行one-hot编码\n",
    "    6.x值标准化便于迭代速度提升\n",
    "    7.初始化权重W和常数项b\n",
    "    8.利用逻辑回归经典的softmax概率计算模型进行标准化预测\n",
    "    9.损失函数迭代更替以降低 loss，提高模型精确度，逻辑回归的损失函数多用交叉熵\n",
    "    10.模型精确度评估\n",
    "    11.分类边界可视化\n",
    "    --------------\n",
    "    12.也可用TensorFlow+keras的神经网络集成结构构建迭代模型进行分析预测\n",
    "    13.引入评估矩阵精确评估(confusion matrix)\n",
    "    14.利用模型对未来X对应的Y值进行推断预测其可能性。\n",
    "    \n",
    "    "
   ]
  },
  {
   "cell_type": "markdown",
   "metadata": {
    "colab_type": "text",
    "id": "G-CQd9joTxwB"
   },
   "source": [
    "<table align=\"center\">\n",
    "  <td>\n",
    "<img src=\"https://raw.githubusercontent.com/practicalAI/images/master/images/rounded_logo.png\" width=\"25\"><a target=\"_blank\" href=\"https://practicalai.me\"> View on practicalAI</a>\n",
    "  </td>\n",
    "  <td>\n",
    "<img src=\"https://raw.githubusercontent.com/practicalAI/images/master/images/colab_logo.png\" width=\"25\"><a target=\"_blank\" href=\"https://colab.research.google.com/github/practicalAI/practicalAI/blob/master/notebooks/05_Logistic_Regression.ipynb\"> Run in Google Colab</a>\n",
    "  </td>\n",
    "  <td>\n",
    "<img src=\"https://raw.githubusercontent.com/practicalAI/images/master/images/github_logo.png\" width=\"22\"><a target=\"_blank\" href=\"https://github.com/practicalAI/practicalAI/blob/master/notebooks/basic_ml/05_Logistic_Regression.ipynb\"> View code on GitHub</a>\n",
    "  </td>\n",
    "</table>"
   ]
  },
  {
   "cell_type": "markdown",
   "metadata": {
    "colab_type": "text",
    "id": "VoMq0eFRvugb"
   },
   "source": [
    "# Overview"
   ]
  },
  {
   "cell_type": "markdown",
   "metadata": {
    "colab_type": "text",
    "id": "T4Y55tpzIjOa"
   },
   "source": [
    "* **Objective:**  Predict the probability of class $y$ given the inputs $X$. The softmax classifier normalizes the linear outputs to determine class probabilities. \n",
    "* **Advantages:**\n",
    "  * Can predict class probabilities given a set on inputs.\n",
    "* **Disadvantages:**\n",
    "  * Sensitive to outliers since objective is to minimize cross entropy loss. Support vector machines ([SVMs](https://towardsdatascience.com/support-vector-machine-vs-logistic-regression-94cc2975433f)) are a good alternative to counter outliers.\n",
    "* **Miscellaneous:** Softmax classifier is going to used widely in neural network architectures as the last layer since it produces class probabilities."
   ]
  },
  {
   "cell_type": "markdown",
   "metadata": {
    "colab_type": "text",
    "id": "orlWnRz2-wyO"
   },
   "source": [
    "Logistic regression is just an extension on linear regression (both are generalized linear methods). We will still learn to model a line (plane) that models $y$ given $X$. Except now we are dealing with classification problems as opposed to regression problems so we want classification probabilities. We'll be using the softmax operation to normalize our logits ($XW$) to derive probabilities.\n",
    "\n",
    "Our goal is to learn a logistic model $\\hat{y}$ that models $y$ given $X$. \n",
    "\n",
    "$ \\hat{y} = \\frac{e^{XW_y}}{\\sum_j e^{XW}} $ \n",
    "* $\\hat{y}$ = prediction | $\\in \\mathbb{R}^{NX1}$ ($N$ is the number of samples)\n",
    "* $X$ = inputs | $\\in \\mathbb{R}^{NXD}$ ($D$ is the number of features)\n",
    "* $W$ = weights | $\\in \\mathbb{R}^{DXC}$ ($C$ is the number of classes)\n",
    "\n",
    "This function is known as the multinomial logistic regression or the softmax classifier. The softmax classifier will use the linear equation ($z=XW$) and normalize it (using the softmax function) to produce the probabiltiy for class y given the inputs.\n",
    "\n",
    "**NOTE**: We'll leave the bias weights out for now to avoid complicating the backpropagation calculation."
   ]
  },
  {
   "cell_type": "markdown",
   "metadata": {
    "colab_type": "text",
    "id": "Jq65LZJbSpzd"
   },
   "source": [
    "### Training"
   ]
  },
  {
   "cell_type": "markdown",
   "metadata": {
    "colab_type": "text",
    "id": "-HBPn8zPTQfZ"
   },
   "source": [
    "1. Randomly initialize the model's weights $W$ (we'll cover more effective initalization strategies in future lessons).\n",
    "2. Feed inputs $X$ into the model to receive the logits ($z=XW$). Apply the softmax operation on the logits to get the class probabilies $\\hat{y}$ in one-hot encoded form. For example, if there are three classes, the predicted class probabilities could look like [0.3, 0.3, 0.4]. \n",
    "  * $ \\hat{y} = softmax(z) = softmax(XW) = \\frac{e^{XW_y}}{\\sum_j e^{XW}} $\n",
    "3. Compare the predictions $\\hat{y}$ (ex.  [0.3, 0.3, 0.4]]) with the actual target values $y$ (ex. class 2 would look like [0, 0, 1]) with the objective (cost) function to determine loss $J$. A common objective function for logistics regression is cross-entropy loss. \n",
    "  * $J(\\theta) = - \\sum_i y_i ln (\\hat{y_i}) =  - \\sum_i y_i ln (\\frac{e^{X_iW_y}}{\\sum_j e^{X_iW}}) $\n",
    "    * example: $y$ = [0, 0, 1], $\\hat{y}$ = [0.3, 0.3, 0.4]\n",
    "    * $J(\\theta) = - \\sum_i y_i ln (\\hat{y_i}) =  - \\sum_i y_i ln (\\frac{e^{X_iW_y}}{\\sum_j e^{X_iW}}) = - \\sum_i [0 * ln(0.3) + 0 * ln(0.3) + 1 * ln(0.4)] = -ln(0.4) $\n",
    "  * This simplifies our cross entropy objective to the following: $J(\\theta) = - ln(\\hat{y_i})$ (negative log likelihood). This is only applicable when each input maps to exactly one class.\n",
    "    * $J(\\theta) = - \\sum_i ln(\\hat{y_i}) = - \\sum_i ln (\\frac{e^{X_iW_y}}{\\sum_j e^{X_iW}}) $\n",
    "4. Calculate the gradient of loss $J(\\theta)$ w.r.t to the model weights. Let's assume that our classes are mutually exclusive (a set of inputs could only belong to one class).\n",
    " * $\\frac{\\partial{J}}{\\partial{W_j}} = \\frac{\\partial{J}}{\\partial{\\hat{y}}}\\frac{\\partial{\\hat{y}}}{\\partial{W_j}} = - \\frac{1}{\\hat{y}}\\frac{\\partial{\\hat{y}}}{\\partial{W_j}} = - \\frac{1}{\\frac{e^{XW_y}}{\\sum_j e^{XW}}}\\frac{\\sum_j e^{XW}e^{XW_y}0 - e^{XW_y}e^{XW_j}X}{(\\sum_j e^{XW})^2} = \\frac{Xe^{XW_j}}{\\sum_j e^{XW}} = X\\hat{y}$\n",
    "  * $\\frac{\\partial{J}}{\\partial{W_y}} = \\frac{\\partial{J}}{\\partial{\\hat{y}}}\\frac{\\partial{\\hat{y}}}{\\partial{W_y}} = - \\frac{1}{\\hat{y}}\\frac{\\partial{\\hat{y}}}{\\partial{W_y}} = - \\frac{1}{\\frac{e^{XW_y}}{\\sum_j e^{XW}}}\\frac{\\sum_j e^{XW}e^{XW_y}X - e^{W_yX}e^{XW_y}X}{(\\sum_j e^{XW})^2} = \\frac{1}{\\hat{y}}(X\\hat{y} - X\\hat{y}^2) = X(\\hat{y}-1)$\n",
    "5. Update the weights $W$ using a small learning rate $\\alpha$. The updates will penalize the probabiltiy for the incorrect classes (j) and encourage a higher probability for the correct class (y).\n",
    "  * $W_j = W_j - \\alpha\\frac{\\partial{J}}{\\partial{W_j}}$\n",
    "6. Repeat steps 2 - 5 to minimize the loss and train the model."
   ]
  },
  {
   "cell_type": "markdown",
   "metadata": {
    "colab_type": "text",
    "id": "r_hKrjzdtTgM"
   },
   "source": [
    "# Set up"
   ]
  },
  {
   "cell_type": "code",
   "execution_count": 1,
   "metadata": {
    "colab": {
     "base_uri": "https://localhost:8080/",
     "height": 34
    },
    "colab_type": "code",
    "id": "9F3X_qTOKSmn",
    "outputId": "4b5c47fb-6408-43cc-de4b-62af139e289f"
   },
   "outputs": [
    {
     "name": "stderr",
     "output_type": "stream",
     "text": [
      "UsageError: Line magic function `%tensorflow_version` not found.\n"
     ]
    }
   ],
   "source": [
    "# Use TensorFlow 2.x\n",
    "%tensorflow_version 2.x"
   ]
  },
  {
   "cell_type": "code",
   "execution_count": 2,
   "metadata": {},
   "outputs": [
    {
     "data": {
      "text/plain": [
       "'/Users/SJX/anaconda3/bin/python'"
      ]
     },
     "execution_count": 2,
     "metadata": {},
     "output_type": "execute_result"
    }
   ],
   "source": [
    "import sys\n",
    "sys.executable"
   ]
  },
  {
   "cell_type": "code",
   "execution_count": 3,
   "metadata": {},
   "outputs": [
    {
     "data": {
      "text/plain": [
       "'3.7.6 (default, Jan  8 2020, 13:42:34) \\n[Clang 4.0.1 (tags/RELEASE_401/final)]'"
      ]
     },
     "execution_count": 3,
     "metadata": {},
     "output_type": "execute_result"
    }
   ],
   "source": [
    "sys.version"
   ]
  },
  {
   "cell_type": "code",
   "execution_count": 4,
   "metadata": {
    "colab": {},
    "colab_type": "code",
    "id": "H385V4VUtWOv"
   },
   "outputs": [],
   "source": [
    "import os\n",
    "import numpy as np\n"
   ]
  },
  {
   "cell_type": "code",
   "execution_count": 5,
   "metadata": {},
   "outputs": [],
   "source": [
    "import tensorflow as tf"
   ]
  },
  {
   "cell_type": "code",
   "execution_count": 6,
   "metadata": {
    "colab": {},
    "colab_type": "code",
    "id": "-drUMY9CFlQu"
   },
   "outputs": [],
   "source": [
    "# Arguments\n",
    "SEED = 1234\n",
    "DATA_FILE = 'tumors.csv'\n",
    "TRAIN_SIZE = 0.7\n",
    "VAL_SIZE = 0.15\n",
    "TEST_SIZE = 0.15\n",
    "NUM_EPOCHS = 100\n",
    "BATCH_SIZE = 32\n",
    "LEARNING_RATE = 1e-1\n",
    "INPUT_DIM = 2\n",
    "HIDDEN_DIM = 1\n",
    "NUM_CLASSES = 2\n",
    "SHUFFLE = True"
   ]
  },
  {
   "cell_type": "code",
   "execution_count": 9,
   "metadata": {
    "colab": {},
    "colab_type": "code",
    "id": "pL67TlZO6Zg4"
   },
   "outputs": [],
   "source": [
    "# Set seed for reproducability\n",
    "np.random.seed(SEED)\n",
    "# tf.set_random_seed(SEED)\n",
    "tf.random.set_seed(SEED)"
   ]
  },
  {
   "cell_type": "markdown",
   "metadata": {
    "colab_type": "text",
    "id": "00B5uEM8Tb0d"
   },
   "source": [
    "# Data"
   ]
  },
  {
   "cell_type": "markdown",
   "metadata": {
    "colab_type": "text",
    "id": "sYNIM3PxQGgo"
   },
   "source": [
    "We'll used some synthesized data to train our models on. The task is to determine whether a tumor will be benign (harmless) or malignant (harmful) based on leukocyte (white blood cells) count and blood pressure. Note that this is a synethic dataset that has no clinical relevance."
   ]
  },
  {
   "cell_type": "code",
   "execution_count": 10,
   "metadata": {
    "colab": {},
    "colab_type": "code",
    "id": "A8rspXhNEgrL"
   },
   "outputs": [],
   "source": [
    "import matplotlib.pyplot as plt\n",
    "import pandas as pd\n",
    "from pandas.plotting import scatter_matrix\n",
    "import urllib"
   ]
  },
  {
   "cell_type": "code",
   "execution_count": 11,
   "metadata": {},
   "outputs": [],
   "source": [
    "import requests"
   ]
  },
  {
   "cell_type": "markdown",
   "metadata": {
    "colab_type": "text",
    "id": "dyCEgQ5NCumb"
   },
   "source": [
    "### Operations"
   ]
  },
  {
   "cell_type": "code",
   "execution_count": 12,
   "metadata": {
    "colab": {},
    "colab_type": "code",
    "id": "7sp_tSyItf1_"
   },
   "outputs": [],
   "source": [
    "# Upload data from GitHub to notebook's local drive\n",
    "url = \"https://raw.githubusercontent.com/practicalAI/practicalAI/master/data/tumors.csv\"\n",
    "response = urllib.request.urlopen(url)\n",
    "html = response.read()\n",
    "with open(DATA_FILE, 'wb') as fp:\n",
    "    fp.write(html)"
   ]
  },
  {
   "cell_type": "code",
   "execution_count": 13,
   "metadata": {
    "colab": {
     "base_uri": "https://localhost:8080/",
     "height": 204
    },
    "colab_type": "code",
    "id": "7alqmyzXtgE8",
    "outputId": "3d1a31c8-350e-48a8-efd8-7e1828424fdc"
   },
   "outputs": [
    {
     "data": {
      "text/html": [
       "<div>\n",
       "<style scoped>\n",
       "    .dataframe tbody tr th:only-of-type {\n",
       "        vertical-align: middle;\n",
       "    }\n",
       "\n",
       "    .dataframe tbody tr th {\n",
       "        vertical-align: top;\n",
       "    }\n",
       "\n",
       "    .dataframe thead th {\n",
       "        text-align: right;\n",
       "    }\n",
       "</style>\n",
       "<table border=\"1\" class=\"dataframe\">\n",
       "  <thead>\n",
       "    <tr style=\"text-align: right;\">\n",
       "      <th></th>\n",
       "      <th>leukocyte_count</th>\n",
       "      <th>blood_pressure</th>\n",
       "      <th>tumor_class</th>\n",
       "    </tr>\n",
       "  </thead>\n",
       "  <tbody>\n",
       "    <tr>\n",
       "      <th>0</th>\n",
       "      <td>13.472969</td>\n",
       "      <td>15.250393</td>\n",
       "      <td>malignant</td>\n",
       "    </tr>\n",
       "    <tr>\n",
       "      <th>1</th>\n",
       "      <td>10.805510</td>\n",
       "      <td>14.109676</td>\n",
       "      <td>malignant</td>\n",
       "    </tr>\n",
       "    <tr>\n",
       "      <th>2</th>\n",
       "      <td>13.834053</td>\n",
       "      <td>15.793920</td>\n",
       "      <td>malignant</td>\n",
       "    </tr>\n",
       "    <tr>\n",
       "      <th>3</th>\n",
       "      <td>9.572811</td>\n",
       "      <td>17.873286</td>\n",
       "      <td>malignant</td>\n",
       "    </tr>\n",
       "    <tr>\n",
       "      <th>4</th>\n",
       "      <td>7.633667</td>\n",
       "      <td>16.598559</td>\n",
       "      <td>malignant</td>\n",
       "    </tr>\n",
       "  </tbody>\n",
       "</table>\n",
       "</div>"
      ],
      "text/plain": [
       "   leukocyte_count  blood_pressure tumor_class\n",
       "0        13.472969       15.250393   malignant\n",
       "1        10.805510       14.109676   malignant\n",
       "2        13.834053       15.793920   malignant\n",
       "3         9.572811       17.873286   malignant\n",
       "4         7.633667       16.598559   malignant"
      ]
     },
     "execution_count": 13,
     "metadata": {},
     "output_type": "execute_result"
    }
   ],
   "source": [
    "# Read from CSV to Pandas DataFrame\n",
    "df = pd.read_csv(DATA_FILE, header=0)\n",
    "df.head()"
   ]
  },
  {
   "cell_type": "code",
   "execution_count": 14,
   "metadata": {
    "colab": {},
    "colab_type": "code",
    "id": "3aqJxfKmnYTs"
   },
   "outputs": [],
   "source": [
    "# Define X and y\n",
    "X = df[['leukocyte_count', 'blood_pressure']].values\n",
    "y = df['tumor_class'].values"
   ]
  },
  {
   "cell_type": "code",
   "execution_count": 15,
   "metadata": {
    "colab": {
     "base_uri": "https://localhost:8080/",
     "height": 279
    },
    "colab_type": "code",
    "id": "lpoF3_EgDtPl",
    "outputId": "d06c71f3-f8d7-43f4-cccd-3d7e632f48d1"
   },
   "outputs": [
    {
     "data": {
      "image/png": "[encoded data removed]",
      "text/plain": [
       "<Figure size 432x288 with 1 Axes>"
      ]
     },
     "metadata": {
      "needs_background": "light"
     },
     "output_type": "display_data"
    }
   ],
   "source": [
    "# Plot data\n",
    "colors = {'benign': 'blue', 'malignant': 'red'}\n",
    "df1 = df.loc[df['tumor_class']=='benign']\n",
    "X1 = df1[['leukocyte_count', 'blood_pressure']].values\n",
    "df2 = df.loc[df['tumor_class']=='malignant']\n",
    "X2 = df2[['leukocyte_count', 'blood_pressure']].values\n",
    "plt.scatter(X1[:, 0], X1[:, 1], c='blue', s=25, edgecolors='k')\n",
    "plt.scatter(X2[:, 0], X2[:, 1], c='red', s=25, edgecolors='k')\n",
    "plt.legend(labels=['benign ','malignant '], loc='upper left')\n",
    "plt.show()\n",
    "\n",
    "# plt.scatter(X[:, 0], X[:, 1], c=[colors[_y] for _y in y], s=25, edgecolors='k')\n",
    "# # l1=plt.scatter(X[:, 0], X[:, 1], c=[colors[_y] for _y in y], s=25, edgecolors='k')\n",
    "# # l2=plt.scatter(X[:, 0], X[:, 1], c=[colors[_y] for _y in y], s=25, edgecolors='k')\n",
    "# plt.xlabel('leukocyte count')\n",
    "# plt.ylabel('blood pressure')\n",
    "# #plt.legend(handles=[l1,l2],labels=['up','down'],loc='best')\n",
    "# # plt.legend(labels=['benign '], loc=0)\n",
    "# plt.legend(labels=['malignant ','benign '], loc=1)\n",
    "# plt.show()"
   ]
  },
  {
   "cell_type": "markdown",
   "metadata": {
    "colab_type": "text",
    "id": "23rUN1uTpoc4"
   },
   "source": [
    "# Split data"
   ]
  },
  {
   "cell_type": "code",
   "execution_count": 16,
   "metadata": {
    "colab": {},
    "colab_type": "code",
    "id": "EHcoL7fH_CsS"
   },
   "outputs": [],
   "source": [
    "import collections\n",
    "import json\n",
    "from sklearn.model_selection import train_test_split"
   ]
  },
  {
   "cell_type": "markdown",
   "metadata": {
    "colab_type": "text",
    "id": "o0YPFskY1j1T"
   },
   "source": [
    "### Components"
   ]
  },
  {
   "cell_type": "markdown",
   "metadata": {
    "colab_type": "text",
    "id": "_Mak_supAsIV"
   },
   "source": [
    "Splitting the dataset for classification tasks requires more than just randomly splitting into train, validation and test sets. We want to ensure that each split has a similar class distribution so that we can learn to predict well across all the classes. We can do this by specifying the `stratify` argument in [`train_test_split`](https://scikit-learn.org/stable/modules/generated/sklearn.model_selection.train_test_split.html) which will be set to the class labels."
   ]
  },
  {
   "cell_type": "code",
   "execution_count": 17,
   "metadata": {
    "colab": {},
    "colab_type": "code",
    "id": "27h91LX0pp7F"
   },
   "outputs": [],
   "source": [
    "def train_val_test_split(X, y, val_size, test_size, shuffle):\n",
    "    \"\"\"Split data into train/val/test datasets.\n",
    "    \"\"\"\n",
    "    X_train, X_test, y_train, y_test = train_test_split(\n",
    "        X, y, test_size=test_size, stratify=y, shuffle=shuffle)\n",
    "    X_train, X_val, y_train, y_val = train_test_split(\n",
    "        X_train, y_train, test_size=val_size, stratify=y_train, shuffle=shuffle)\n",
    "    return X_train, X_val, X_test, y_train, y_val, y_test"
   ]
  },
  {
   "cell_type": "markdown",
   "metadata": {
    "colab_type": "text",
    "id": "iH6bWZ221l6J"
   },
   "source": [
    "### Operations"
   ]
  },
  {
   "cell_type": "code",
   "execution_count": 18,
   "metadata": {
    "colab": {
     "base_uri": "https://localhost:8080/",
     "height": 119
    },
    "colab_type": "code",
    "id": "D4fy2vUjr-Qe",
    "outputId": "4968fe38-8cdd-4ca9-beed-f96072f626d2"
   },
   "outputs": [
    {
     "name": "stdout",
     "output_type": "stream",
     "text": [
      "X_train: (722, 2), y_train: (722,)\n",
      "X_val: (128, 2), y_val: (128,)\n",
      "X_test: (150, 2), y_test: (150,)\n",
      "X_train[0]: [18.01865938 15.48133647]\n",
      "y_train[0]: benign\n",
      "Classes: {'malignant': 611, 'benign': 389}\n"
     ]
    }
   ],
   "source": [
    "# Create data splits\n",
    "X_train, X_val, X_test, y_train, y_val, y_test = train_val_test_split(\n",
    "    X=X, y=y, val_size=VAL_SIZE, test_size=TEST_SIZE, shuffle=SHUFFLE)\n",
    "class_counts = dict(collections.Counter(y))\n",
    "print (f\"X_train: {X_train.shape}, y_train: {y_train.shape}\")\n",
    "print (f\"X_val: {X_val.shape}, y_val: {y_val.shape}\")\n",
    "print (f\"X_test: {X_test.shape}, y_test: {y_test.shape}\")\n",
    "print (f\"X_train[0]: {X_train[0]}\")\n",
    "print (f\"y_train[0]: {y_train[0]}\")\n",
    "print (f\"Classes: {class_counts}\")"
   ]
  },
  {
   "cell_type": "markdown",
   "metadata": {
    "colab_type": "text",
    "id": "lLHG5_vpHQ3d"
   },
   "source": [
    "# Label encoder"
   ]
  },
  {
   "cell_type": "markdown",
   "metadata": {
    "colab_type": "text",
    "id": "YGWO8zDCHTFp"
   },
   "source": [
    "You'll notice that our class labels are text. We need to encode them into integers so we can use them in our models. We're going to the scikit-learn's [LabelEncoder](https://scikit-learn.org/stable/modules/generated/sklearn.preprocessing.LabelEncoder.html#sklearn.preprocessing.LabelEncoder) to do this. "
   ]
  },
  {
   "cell_type": "code",
   "execution_count": 19,
   "metadata": {
    "colab": {},
    "colab_type": "code",
    "id": "KPIsL1kAHkhu"
   },
   "outputs": [],
   "source": [
    "import json\n",
    "from sklearn.preprocessing import LabelEncoder"
   ]
  },
  {
   "cell_type": "code",
   "execution_count": 20,
   "metadata": {
    "colab": {},
    "colab_type": "code",
    "id": "hcfHtYFtHkmo"
   },
   "outputs": [],
   "source": [
    "# Output vectorizer\n",
    "y_tokenizer = LabelEncoder()"
   ]
  },
  {
   "cell_type": "code",
   "execution_count": 21,
   "metadata": {
    "colab": {
     "base_uri": "https://localhost:8080/",
     "height": 34
    },
    "colab_type": "code",
    "id": "4hbPtvg4HoqE",
    "outputId": "c83870d1-c378-481f-9641-ef9a814f78c1"
   },
   "outputs": [
    {
     "name": "stdout",
     "output_type": "stream",
     "text": [
      "classes: ['benign' 'malignant']\n"
     ]
    }
   ],
   "source": [
    "# Fit on train data\n",
    "y_tokenizer = y_tokenizer.fit(y_train)\n",
    "classes = y_tokenizer.classes_\n",
    "print (f\"classes: {classes}\")"
   ]
  },
  {
   "cell_type": "code",
   "execution_count": 22,
   "metadata": {
    "colab": {
     "base_uri": "https://localhost:8080/",
     "height": 51
    },
    "colab_type": "code",
    "id": "U7MTxcrcHotG",
    "outputId": "6504038a-6706-4a90-c95b-2da6b8c58c4b"
   },
   "outputs": [
    {
     "name": "stdout",
     "output_type": "stream",
     "text": [
      "y_train[0]: benign\n",
      "y_train[0]: 0\n"
     ]
    }
   ],
   "source": [
    "# Convert labels to tokens\n",
    "print (f\"y_train[0]: {y_train[0]}\")\n",
    "y_train = y_tokenizer.transform(y_train)\n",
    "y_val = y_tokenizer.transform(y_val)\n",
    "y_test = y_tokenizer.transform(y_test)\n",
    "print (f\"y_train[0]: {y_train[0]}\")"
   ]
  },
  {
   "cell_type": "code",
   "execution_count": 23,
   "metadata": {},
   "outputs": [
    {
     "name": "stdout",
     "output_type": "stream",
     "text": [
      "y_train[0]: 1\n"
     ]
    }
   ],
   "source": [
    "print (f\"y_train[0]: {y_train[56]}\")"
   ]
  },
  {
   "cell_type": "code",
   "execution_count": 24,
   "metadata": {
    "colab": {
     "base_uri": "https://localhost:8080/",
     "height": 51
    },
    "colab_type": "code",
    "id": "sXHboWkUAIjI",
    "outputId": "09f872ec-af58-400a-ca27-86fe1c0d20e1"
   },
   "outputs": [
    {
     "name": "stdout",
     "output_type": "stream",
     "text": [
      "class counts: Counter({1: 441, 0: 281}),\n",
      "class weights: {0: 0.0035587188612099642, 1: 0.0022675736961451248}\n"
     ]
    }
   ],
   "source": [
    "# Class weights\n",
    "counts = collections.Counter(y_train)\n",
    "class_weights = {_class: 1.0/count for _class, count in counts.items()}\n",
    "print (f\"class counts: {counts},\\nclass weights: {class_weights}\")"
   ]
  },
  {
   "cell_type": "markdown",
   "metadata": {
    "colab_type": "text",
    "id": "nkAmzEwVHs6E"
   },
   "source": [
    "<img height=\"45\" src=\"http://bestanimations.com/HomeOffice/Lights/Bulbs/animated-light-bulb-gif-29.gif\" align=\"left\" vspace=\"5px\" hspace=\"10px\">\n",
    "\n",
    "Class weights are useful for weighting the loss function during training. It tells the model to focus on samples from an under-represented class."
   ]
  },
  {
   "cell_type": "markdown",
   "metadata": {
    "colab_type": "text",
    "id": "IodMyhnAJUg_"
   },
   "source": [
    "# Standardize data"
   ]
  },
  {
   "cell_type": "markdown",
   "metadata": {
    "colab_type": "text",
    "id": "QRhNHi9YJfDm"
   },
   "source": [
    "We need to standardize our data (zero mean and unit variance) in order to optimize quickly. We're only going to standardize the inputs X because out outputs y are class values."
   ]
  },
  {
   "cell_type": "code",
   "execution_count": 25,
   "metadata": {
    "colab": {},
    "colab_type": "code",
    "id": "rjIz1KKYJWI7"
   },
   "outputs": [],
   "source": [
    "from sklearn.preprocessing import StandardScaler"
   ]
  },
  {
   "cell_type": "code",
   "execution_count": 26,
   "metadata": {
    "colab": {},
    "colab_type": "code",
    "id": "hP6VTXSiJWM1"
   },
   "outputs": [],
   "source": [
    "# Standardize the data (mean=0, std=1) using training data\n",
    "X_scaler = StandardScaler().fit(X_train)"
   ]
  },
  {
   "cell_type": "code",
   "execution_count": 27,
   "metadata": {
    "colab": {},
    "colab_type": "code",
    "id": "kn2SDd28Jwna"
   },
   "outputs": [],
   "source": [
    "# Apply scaler on training and test data (don't standardize outputs for classification)\n",
    "standardized_X_train = X_scaler.transform(X_train)\n",
    "standardized_X_val = X_scaler.transform(X_val)\n",
    "standardized_X_test = X_scaler.transform(X_test)"
   ]
  },
  {
   "cell_type": "code",
   "execution_count": 28,
   "metadata": {
    "colab": {
     "base_uri": "https://localhost:8080/",
     "height": 68
    },
    "colab_type": "code",
    "id": "zBAu7GkJJwq8",
    "outputId": "fa304558-a464-4bb5-a8b4-b9b4af51a62b"
   },
   "outputs": [
    {
     "name": "stdout",
     "output_type": "stream",
     "text": [
      "standardized_X_train: mean: 3.938600753633857e-15, std: 0.9999999999999998\n",
      "standardized_X_val: mean: 0.06571155649025341, std: 0.9625041074006321\n",
      "standardized_X_test: mean: -0.09679265967370689, std: 0.9864056087200104\n"
     ]
    }
   ],
   "source": [
    "# Check\n",
    "print (f\"standardized_X_train: mean: {np.mean(standardized_X_train, axis=0)[0]}, std: {np.std(standardized_X_train, axis=0)[0]}\")\n",
    "print (f\"standardized_X_val: mean: {np.mean(standardized_X_val, axis=0)[0]}, std: {np.std(standardized_X_val, axis=0)[0]}\")\n",
    "print (f\"standardized_X_test: mean: {np.mean(standardized_X_test, axis=0)[0]}, std: {np.std(standardized_X_test, axis=0)[0]}\")"
   ]
  },
  {
   "cell_type": "markdown",
   "metadata": {
    "colab_type": "text",
    "id": "CYH7kRTd9WoJ"
   },
   "source": [
    "# From scratch\n",
    "\n",
    "Before we use TensorFlow 2.0 + Keras we will implent logistic regression from scratch using NumPy so we can:\n",
    "1. Absorb the fundamental concepts by implementing from scratch\n",
    "2. Appreciate the level of abstraction TensorFlow provides\n",
    "\n",
    "<div align=\"left\">\n",
    "<img src=\"https://raw.githubusercontent.com/practicalAI/images/master/images/lightbulb.gif\" width=\"45px\" align=\"left\" hspace=\"10px\">\n",
    "</div>\n",
    "\n",
    "It's normal to find the math and code in this section slightly complex. You can still read each of the steps to build intuition for when we implement this using TensorFlow + Keras."
   ]
  },
  {
   "cell_type": "code",
   "execution_count": 29,
   "metadata": {
    "colab": {
     "base_uri": "https://localhost:8080/",
     "height": 51
    },
    "colab_type": "code",
    "id": "g7kQ_lBj9c7t",
    "outputId": "7caa3354-7fb7-43ba-8fd1-f7c6e2984172"
   },
   "outputs": [
    {
     "name": "stdout",
     "output_type": "stream",
     "text": [
      "X: (722, 2)\n",
      "y: (722,)\n"
     ]
    }
   ],
   "source": [
    "print (f\"X: {standardized_X_train.shape}\")\n",
    "print (f\"y: {y_train.shape}\")"
   ]
  },
  {
   "cell_type": "markdown",
   "metadata": {
    "colab_type": "text",
    "id": "Y-gUbD71-yiX"
   },
   "source": [
    "Our goal is to learn a logistic model $\\hat{y}$ that models $y$ given $X$. \n",
    "\n",
    "$ \\hat{y} = \\frac{e^{XW_y}}{\\sum e^{XW}} $ \n",
    "* $\\hat{y}$ = prediction | $\\in \\mathbb{R}^{NX1}$ ($N$ is the number of samples)\n",
    "* $X$ = inputs | $\\in \\mathbb{R}^{NXD}$ ($D$ is the number of features)\n",
    "* $W$ = weights | $\\in \\mathbb{R}^{DXC}$ ($C$ is the number of classes)"
   ]
  },
  {
   "cell_type": "markdown",
   "metadata": {
    "colab_type": "text",
    "id": "6wcc5lbdH_Hi"
   },
   "source": [
    "We are going to use multinomial logistic regression even though our task only involves two classes because you can generalize the softmax classifier to any number of classes."
   ]
  },
  {
   "cell_type": "markdown",
   "metadata": {
    "colab_type": "text",
    "id": "o-Os5f8mad5_"
   },
   "source": [
    "1. Randomly initialize the model's weights $W$."
   ]
  },
  {
   "cell_type": "code",
   "execution_count": 30,
   "metadata": {
    "colab": {
     "base_uri": "https://localhost:8080/",
     "height": 51
    },
    "colab_type": "code",
    "id": "6x4heep29c_F",
    "outputId": "09de20d2-3ab9-4db5-ced8-2d4e271021ac"
   },
   "outputs": [
    {
     "name": "stdout",
     "output_type": "stream",
     "text": [
      "W: (2, 2)\n",
      "b: (1, 2)\n"
     ]
    }
   ],
   "source": [
    "# Initialize random weights\n",
    "W = 0.01 * np.random.randn(INPUT_DIM, NUM_CLASSES)\n",
    "b = np.zeros((1, NUM_CLASSES))\n",
    "print (f\"W: {W.shape}\")\n",
    "print (f\"b: {b.shape}\")"
   ]
  },
  {
   "cell_type": "markdown",
   "metadata": {
    "colab_type": "text",
    "id": "7Fh8YOJjae28"
   },
   "source": [
    "2. Feed inputs $X$ into the model to receive the logits ($z=XW$). Apply the softmax operation on the logits to get the class probabilies $\\hat{y}$ in one-hot encoded form. For example, if there are three classes, the predicted class probabilities could look like [0.3, 0.3, 0.4]. \n",
    "  * $ \\hat{y} = softmax(z) = softmax(XW) = \\frac{e^{XW_y}}{\\sum_j e^{XW}} $"
   ]
  },
  {
   "cell_type": "code",
   "execution_count": 31,
   "metadata": {
    "colab": {
     "base_uri": "https://localhost:8080/",
     "height": 51
    },
    "colab_type": "code",
    "id": "EXQkZOwW-otw",
    "outputId": "3e5af5ef-15fc-4bbd-d052-2609c9491369"
   },
   "outputs": [
    {
     "name": "stdout",
     "output_type": "stream",
     "text": [
      "logits: (722, 2)\n",
      "sample: [0.01817675 0.00635562]\n"
     ]
    }
   ],
   "source": [
    "# Forward pass [NX2] · [2X2] + [1,2] = [NX2]\n",
    "logits = np.dot(standardized_X_train, W) + b\n",
    "print (f\"logits: {logits.shape}\")\n",
    "print (f\"sample: {logits[0]}\")"
   ]
  },
  {
   "cell_type": "code",
   "execution_count": 32,
   "metadata": {
    "colab": {
     "base_uri": "https://localhost:8080/",
     "height": 51
    },
    "colab_type": "code",
    "id": "Ak9FfYIJ-ozJ",
    "outputId": "9613108f-ea18-4480-be40-fc416548ccd9"
   },
   "outputs": [
    {
     "name": "stdout",
     "output_type": "stream",
     "text": [
      "y_hat: (722, 2)\n",
      "sample: [0.50295525 0.49704475]\n"
     ]
    }
   ],
   "source": [
    "# Normalization via softmax to obtain class probabilities\n",
    "exp_logits = np.exp(logits)\n",
    "y_hat = exp_logits / np.sum(exp_logits, axis=1, keepdims=True)\n",
    "print (f\"y_hat: {y_hat.shape}\")\n",
    "print (f\"sample: {y_hat[0]}\")"
   ]
  },
  {
   "cell_type": "markdown",
   "metadata": {
    "colab_type": "text",
    "id": "VxxORg12amXv"
   },
   "source": [
    " 3. Compare the predictions $\\hat{y}$ (ex.  [0.3, 0.3, 0.4]]) with the actual target values $y$ (ex. class 2 would look like [0, 0, 1]) with the objective (cost) function to determine loss $J$. A common objective function for logistics regression is cross-entropy loss. \n",
    "\n",
    "  * $J(\\theta) = - \\sum_i ln(\\hat{y_i}) = - \\sum_i ln (\\frac{e^{X_iW_y}}{\\sum_j e^{X_iW}}) $"
   ]
  },
  {
   "cell_type": "code",
   "execution_count": 33,
   "metadata": {
    "colab": {
     "base_uri": "https://localhost:8080/",
     "height": 34
    },
    "colab_type": "code",
    "id": "_dfuMmW2Y01f",
    "outputId": "54ac6dbb-a362-4b8e-a181-24ebc5c39046"
   },
   "outputs": [
    {
     "name": "stdout",
     "output_type": "stream",
     "text": [
      "loss: 0.69\n"
     ]
    }
   ],
   "source": [
    "# Loss\n",
    "correct_class_logprobs = -np.log(y_hat[range(len(y_hat)), y_train])\n",
    "loss = np.sum(correct_class_logprobs) / len(y_train)\n",
    "print (f\"loss: {loss:.2f}\")"
   ]
  },
  {
   "cell_type": "markdown",
   "metadata": {
    "colab_type": "text",
    "id": "g9nWUa-3b2lw"
   },
   "source": [
    "4. Calculate the gradient of loss $J(\\theta)$ w.r.t to the model weights. Let's assume that our classes are mutually exclusive (a set of inputs could only belong to one class).\n",
    " * $\\frac{\\partial{J}}{\\partial{W_j}} = \\frac{\\partial{J}}{\\partial{\\hat{y}}}\\frac{\\partial{\\hat{y}}}{\\partial{W_j}} = - \\frac{1}{\\hat{y}}\\frac{\\partial{\\hat{y}}}{\\partial{W_j}} = - \\frac{1}{\\frac{e^{XW_y}}{\\sum_j e^{XW}}}\\frac{\\sum_j e^{XW}e^{XW_y}0 - e^{XW_y}e^{XW_j}X}{(\\sum_j e^{XW})^2} = \\frac{Xe^{XW_j}}{\\sum_j e^{XW}} = X\\hat{y}$\n",
    "  * $\\frac{\\partial{J}}{\\partial{W_y}} = \\frac{\\partial{J}}{\\partial{\\hat{y}}}\\frac{\\partial{\\hat{y}}}{\\partial{W_y}} = - \\frac{1}{\\hat{y}}\\frac{\\partial{\\hat{y}}}{\\partial{W_y}} = - \\frac{1}{\\frac{e^{XW_y}}{\\sum_j e^{XW}}}\\frac{\\sum_j e^{XW}e^{XW_y}X - e^{W_yX}e^{XW_y}X}{(\\sum_j e^{XW})^2} = \\frac{1}{\\hat{y}}(X\\hat{y} - X\\hat{y}^2) = X(\\hat{y}-1)$"
   ]
  },
  {
   "cell_type": "code",
   "execution_count": 34,
   "metadata": {
    "colab": {},
    "colab_type": "code",
    "id": "9_-LGJWwZqhW"
   },
   "outputs": [],
   "source": [
    "# Backpropagation\n",
    "dscores = y_hat\n",
    "dscores[range(len(y_hat)), y_train] -= 1\n",
    "dscores /= len(y_train)\n",
    "dW = np.dot(standardized_X_train.T, dscores)\n",
    "db = np.sum(dscores, axis=0, keepdims=True)"
   ]
  },
  {
   "cell_type": "markdown",
   "metadata": {
    "colab_type": "text",
    "id": "QaOhLrqib7t9"
   },
   "source": [
    "5. Update the weights  𝑊  using a small learning rate  𝛼. The updates will penalize the probabiltiy for the incorrect classes (j) and encourage a higher probability for the correct class (y).\n",
    "  * $W_j = W_j - \\alpha\\frac{\\partial{J}}{\\partial{W_j}}$"
   ]
  },
  {
   "cell_type": "code",
   "execution_count": 35,
   "metadata": {
    "colab": {},
    "colab_type": "code",
    "id": "qy6LjHNPZqe1"
   },
   "outputs": [],
   "source": [
    "# Update weights\n",
    "W += -LEARNING_RATE * dW\n",
    "b += -LEARNING_RATE * db"
   ]
  },
  {
   "cell_type": "markdown",
   "metadata": {
    "colab_type": "text",
    "id": "AFjnVvCqb_Kk"
   },
   "source": [
    "6. Repeat steps 2 - 5 to minimize the loss and train the model."
   ]
  },
  {
   "cell_type": "code",
   "execution_count": 36,
   "metadata": {
    "colab": {
     "base_uri": "https://localhost:8080/",
     "height": 187
    },
    "colab_type": "code",
    "id": "vCipe3EhZqbl",
    "outputId": "c68d130c-3862-4427-f14c-6572a7aee700"
   },
   "outputs": [
    {
     "name": "stdout",
     "output_type": "stream",
     "text": [
      "Epoch: 0, loss: 0.684, accuracy: 0.889\n",
      "Epoch: 10, loss: 0.447, accuracy: 0.978\n",
      "Epoch: 20, loss: 0.348, accuracy: 0.978\n",
      "Epoch: 30, loss: 0.295, accuracy: 0.981\n",
      "Epoch: 40, loss: 0.260, accuracy: 0.981\n",
      "Epoch: 50, loss: 0.236, accuracy: 0.981\n",
      "Epoch: 60, loss: 0.217, accuracy: 0.981\n",
      "Epoch: 70, loss: 0.203, accuracy: 0.981\n",
      "Epoch: 80, loss: 0.191, accuracy: 0.981\n",
      "Epoch: 90, loss: 0.181, accuracy: 0.981\n"
     ]
    }
   ],
   "source": [
    "# Initialize random weights\n",
    "W = 0.01 * np.random.randn(INPUT_DIM, NUM_CLASSES)\n",
    "b = np.zeros((1, NUM_CLASSES))\n",
    "\n",
    "# Training loop\n",
    "for epoch_num in range(NUM_EPOCHS):\n",
    "\n",
    "    # Forward pass [NX2] · [2X2] = [NX2]\n",
    "    logits = np.dot(standardized_X_train, W) + b\n",
    "    \n",
    "    # Normalization via softmax to obtain class probabilities\n",
    "    exp_logits = np.exp(logits)\n",
    "    y_hat = exp_logits / np.sum(exp_logits, axis=1, keepdims=True)\n",
    "\n",
    "    # Loss\n",
    "    correct_class_logprobs = -np.log(y_hat[range(len(y_hat)), y_train])\n",
    "    loss = np.sum(correct_class_logprobs) / len(y_train)\n",
    "\n",
    "    # show progress\n",
    "    if epoch_num%10 == 0:\n",
    "        # Accuracy\n",
    "        y_pred = np.argmax(logits, axis=1)\n",
    "        accuracy =  np.mean(np.equal(y_train, y_pred))\n",
    "        print (f\"Epoch: {epoch_num}, loss: {loss:.3f}, accuracy: {accuracy:.3f}\")\n",
    "\n",
    "    # Backpropagation\n",
    "    dscores = y_hat\n",
    "    dscores[range(len(y_hat)), y_train] -= 1\n",
    "    dscores /= len(y_train)\n",
    "    dW = np.dot(standardized_X_train.T, dscores)\n",
    "    db = np.sum(dscores, axis=0, keepdims=True)\n",
    "\n",
    "    # Update weights\n",
    "    W += -LEARNING_RATE * dW\n",
    "    b += -LEARNING_RATE * db"
   ]
  },
  {
   "cell_type": "markdown",
   "metadata": {
    "colab_type": "text",
    "id": "2zHB-mHA1-Uh"
   },
   "source": [
    "Since we're taking the argmax, we can just calculate logits since normalization won't change which index has the higher value. "
   ]
  },
  {
   "cell_type": "code",
   "execution_count": 37,
   "metadata": {
    "colab": {},
    "colab_type": "code",
    "id": "TpE3oDpIhhBH"
   },
   "outputs": [],
   "source": [
    "class LogisticRegressionFromScratch():\n",
    "    def predict(self, x):\n",
    "        logits = np.dot(x, W) + b\n",
    "        exp_logits = np.exp(logits)\n",
    "        y_hat = exp_logits / np.sum(exp_logits, axis=1, keepdims=True)\n",
    "        return y_hat"
   ]
  },
  {
   "cell_type": "code",
   "execution_count": 38,
   "metadata": {
    "colab": {},
    "colab_type": "code",
    "id": "-6T8rm1bw_Sw"
   },
   "outputs": [],
   "source": [
    "# Evaluation\n",
    "model = LogisticRegressionFromScratch()\n",
    "logits_train = model.predict(standardized_X_train)\n",
    "pred_train = np.argmax(logits_train, axis=1)\n",
    "logits_test = model.predict(standardized_X_test)\n",
    "pred_test = np.argmax(logits_test, axis=1)"
   ]
  },
  {
   "cell_type": "code",
   "execution_count": 39,
   "metadata": {
    "colab": {
     "base_uri": "https://localhost:8080/",
     "height": 34
    },
    "colab_type": "code",
    "id": "Smy3DxJazGFm",
    "outputId": "b04fa824-0491-4a88-906a-3bf1a0cb6dc6"
   },
   "outputs": [
    {
     "name": "stdout",
     "output_type": "stream",
     "text": [
      "train acc: 0.98, test acc: 0.95\n"
     ]
    }
   ],
   "source": [
    "# Training and test accuracy\n",
    "train_acc =  np.mean(np.equal(y_train, pred_train))\n",
    "test_acc = np.mean(np.equal(y_test, pred_test))\n",
    "print (f\"train acc: {train_acc:.2f}, test acc: {test_acc:.2f}\")"
   ]
  },
  {
   "cell_type": "code",
   "execution_count": 40,
   "metadata": {
    "colab": {},
    "colab_type": "code",
    "id": "Cv-Dxp4AxeWh"
   },
   "outputs": [],
   "source": [
    "def plot_multiclass_decision_boundary(model, X, y, savefig_fp=None):\n",
    "    \"\"\"Plot the multiclass decision boundary for a model that accepts 2D inputs.\n",
    "\n",
    "    Arguments:\n",
    "        model {function} -- trained model with function model.predict(x_in).\n",
    "        X {numpy.ndarray} -- 2D inputs with shape (N, 2).\n",
    "        y {numpy.ndarray} -- 1D outputs with shape (N,).\n",
    "    \"\"\"\n",
    "    # Axis boundaries\n",
    "    x_min, x_max = X[:, 0].min() - 0.1, X[:, 0].max() + 0.1\n",
    "    y_min, y_max = X[:, 1].min() - 0.1, X[:, 1].max() + 0.1\n",
    "    xx, yy = np.meshgrid(np.linspace(x_min, x_max, 101),\n",
    "                         np.linspace(y_min, y_max, 101))\n",
    "\n",
    "    # Create predictions\n",
    "    x_in = np.c_[xx.ravel(), yy.ravel()]\n",
    "    y_pred = model.predict(x_in)\n",
    "    y_pred = np.argmax(y_pred, axis=1).reshape(xx.shape)\n",
    "\n",
    "    # Plot decision boundary\n",
    "    plt.contourf(xx, yy, y_pred, cmap=plt.cm.Spectral, alpha=0.8)\n",
    "    plt.scatter(X[:, 0], X[:, 1], c=y, s=40, cmap=plt.cm.RdYlBu)\n",
    "    plt.xlim(xx.min(), xx.max())\n",
    "    plt.ylim(yy.min(), yy.max())\n",
    "\n",
    "    # Plot\n",
    "    if savefig_fp:\n",
    "        plt.savefig(savefig_fp, format='png')"
   ]
  },
  {
   "cell_type": "code",
   "execution_count": 41,
   "metadata": {
    "colab": {
     "base_uri": "https://localhost:8080/",
     "height": 336
    },
    "colab_type": "code",
    "id": "Z7RorJHHxfW7",
    "outputId": "10f7e03f-d320-4b4a-c679-98126b61fb13"
   },
   "outputs": [
    {
     "data": {
      "image/png": "[encoded data removed]",
      "text/plain": [
       "<Figure size 864x360 with 2 Axes>"
      ]
     },
     "metadata": {
      "needs_background": "light"
     },
     "output_type": "display_data"
    }
   ],
   "source": [
    "# Visualize the decision boundary\n",
    "plt.figure(figsize=(12,5))\n",
    "plt.subplot(1, 2, 1)\n",
    "plt.title(\"Train\")\n",
    "plot_multiclass_decision_boundary(model=model, X=standardized_X_train, y=y_train)\n",
    "plt.subplot(1, 2, 2)\n",
    "plt.title(\"Test\")\n",
    "plot_multiclass_decision_boundary(model=model, X=standardized_X_test, y=y_test)\n",
    "plt.show()"
   ]
  },
  {
   "cell_type": "markdown",
   "metadata": {
    "colab_type": "text",
    "id": "QW5piG-XCz1N"
   },
   "source": [
    "Credit for the plotting functions and the intuition behind all this is due to [CS231n](http://cs231n.github.io/neural-networks-case-study/), one of the best courses for machine learning. Now let's implement logistic regression with TensorFlow + Keras."
   ]
  },
  {
   "cell_type": "markdown",
   "metadata": {
    "colab_type": "text",
    "id": "7Cy3efR7s7HD"
   },
   "source": [
    "# TensorFlow + Keras"
   ]
  },
  {
   "cell_type": "markdown",
   "metadata": {
    "colab_type": "text",
    "id": "CuGUAtHkyFBv"
   },
   "source": [
    "We will be using [Dense](https://www.tensorflow.org/versions/r2.0/api_docs/python/tf/keras/layers/Dense) layers to recreate the same model and use [SparseCategoricalCrossentropy](https://www.tensorflow.org/versions/r2.0/api_docs/python/tf/keras/losses/SparseCategoricalCrossentropy) as our loss function."
   ]
  },
  {
   "cell_type": "code",
   "execution_count": 42,
   "metadata": {
    "colab": {},
    "colab_type": "code",
    "id": "7-vm9AZm1_f9"
   },
   "outputs": [],
   "source": [
    "from tensorflow.keras.layers import Dense\n",
    "from tensorflow.keras.layers import Input\n",
    "from tensorflow.keras.losses import SparseCategoricalCrossentropy\n",
    "from tensorflow.keras.models import Model\n",
    "from tensorflow.keras.optimizers import Adam"
   ]
  },
  {
   "cell_type": "code",
   "execution_count": 43,
   "metadata": {
    "colab": {},
    "colab_type": "code",
    "id": "iII1ljErs2dL"
   },
   "outputs": [],
   "source": [
    "# Logistic regression\n",
    "class LogisticRegression(Model):\n",
    "    def __init__(self, num_classes):\n",
    "        super(LogisticRegression, self).__init__()\n",
    "        self.fc1 = Dense(units=num_classes, activation='softmax')\n",
    "        \n",
    "    def call(self, x_in, training=False):\n",
    "        \"\"\"Forward pass.\"\"\"\n",
    "        y_pred = self.fc1(x_in)\n",
    "        return y_pred\n",
    "    \n",
    "    def sample(self, input_shape):\n",
    "        x_in = Input(shape=input_shape)\n",
    "        return Model(inputs=x_in, outputs=self.call(x_in)).summary()"
   ]
  },
  {
   "cell_type": "code",
   "execution_count": 44,
   "metadata": {
    "colab": {
     "base_uri": "https://localhost:8080/",
     "height": 221
    },
    "colab_type": "code",
    "id": "0e8U9NNluYVp",
    "outputId": "7babcfbb-9251-4864-ee3e-ba570e8fd9c6"
   },
   "outputs": [
    {
     "name": "stdout",
     "output_type": "stream",
     "text": [
      "Model: \"model\"\n",
      "_________________________________________________________________\n",
      "Layer (type)                 Output Shape              Param #   \n",
      "=================================================================\n",
      "input_1 (InputLayer)         [(None, 2)]               0         \n",
      "_________________________________________________________________\n",
      "dense (Dense)                (None, 2)                 6         \n",
      "=================================================================\n",
      "Total params: 6\n",
      "Trainable params: 6\n",
      "Non-trainable params: 0\n",
      "_________________________________________________________________\n"
     ]
    }
   ],
   "source": [
    "# Initialize the model\n",
    "model = LogisticRegression(num_classes=NUM_CLASSES)\n",
    "model.sample(input_shape=(INPUT_DIM,))"
   ]
  },
  {
   "cell_type": "code",
   "execution_count": 45,
   "metadata": {
    "colab": {},
    "colab_type": "code",
    "id": "hA7Oz97NAe8A"
   },
   "outputs": [],
   "source": [
    "# Compile\n",
    "model.compile(optimizer=Adam(lr=LEARNING_RATE),\n",
    "              loss=SparseCategoricalCrossentropy(),\n",
    "              metrics=['accuracy'])"
   ]
  },
  {
   "cell_type": "code",
   "execution_count": 46,
   "metadata": {
    "colab": {
     "base_uri": "https://localhost:8080/",
     "height": 1000
    },
    "colab_type": "code",
    "id": "FBWtqKCDtXHN",
    "outputId": "0cc9f60a-f13d-4a2d-cca8-5edce3c4ec78"
   },
   "outputs": [
    {
     "name": "stdout",
     "output_type": "stream",
     "text": [
      "WARNING:tensorflow:sample_weight modes were coerced from\n",
      "  ...\n",
      "    to  \n",
      "  ['...']\n",
      "WARNING:tensorflow:sample_weight modes were coerced from\n",
      "  ...\n",
      "    to  \n",
      "  ['...']\n",
      "Train on 722 samples, validate on 128 samples\n",
      "Epoch 1/100\n",
      "722/722 [==============================] - 0s 598us/sample - loss: 8.3439e-04 - accuracy: 0.8615 - val_loss: 4.1483e-04 - val_accuracy: 0.9688\n",
      "Epoch 2/100\n",
      "722/722 [==============================] - 0s 51us/sample - loss: 2.5897e-04 - accuracy: 0.9834 - val_loss: 2.8280e-04 - val_accuracy: 0.9766\n",
      "Epoch 3/100\n",
      "722/722 [==============================] - 0s 79us/sample - loss: 1.9570e-04 - accuracy: 0.9861 - val_loss: 2.3468e-04 - val_accuracy: 0.9844\n",
      "Epoch 4/100\n",
      "722/722 [==============================] - 0s 110us/sample - loss: 1.7173e-04 - accuracy: 0.9875 - val_loss: 2.1131e-04 - val_accuracy: 0.9844\n",
      "Epoch 5/100\n",
      "722/722 [==============================] - 0s 69us/sample - loss: 1.5492e-04 - accuracy: 0.9875 - val_loss: 1.9432e-04 - val_accuracy: 0.9844\n",
      "Epoch 6/100\n",
      "722/722 [==============================] - 0s 67us/sample - loss: 1.4234e-04 - accuracy: 0.9889 - val_loss: 1.8063e-04 - val_accuracy: 0.9844\n",
      "Epoch 7/100\n",
      "722/722 [==============================] - 0s 116us/sample - loss: 1.3253e-04 - accuracy: 0.9889 - val_loss: 1.6964e-04 - val_accuracy: 0.9844\n",
      "Epoch 8/100\n",
      "722/722 [==============================] - 0s 78us/sample - loss: 1.2462e-04 - accuracy: 0.9889 - val_loss: 1.6068e-04 - val_accuracy: 0.9844\n",
      "Epoch 9/100\n",
      "722/722 [==============================] - 0s 79us/sample - loss: 1.1810e-04 - accuracy: 0.9889 - val_loss: 1.5321e-04 - val_accuracy: 0.9844\n",
      "Epoch 10/100\n",
      "722/722 [==============================] - 0s 83us/sample - loss: 1.1262e-04 - accuracy: 0.9889 - val_loss: 1.4687e-04 - val_accuracy: 0.9844\n",
      "Epoch 11/100\n",
      "722/722 [==============================] - 0s 56us/sample - loss: 1.0796e-04 - accuracy: 0.9889 - val_loss: 1.4143e-04 - val_accuracy: 0.9844\n",
      "Epoch 12/100\n",
      "722/722 [==============================] - 0s 76us/sample - loss: 1.0394e-04 - accuracy: 0.9889 - val_loss: 1.3671e-04 - val_accuracy: 0.9844\n",
      "Epoch 13/100\n",
      "722/722 [==============================] - 0s 88us/sample - loss: 1.0043e-04 - accuracy: 0.9903 - val_loss: 1.3258e-04 - val_accuracy: 0.9844\n",
      "Epoch 14/100\n",
      "722/722 [==============================] - 0s 61us/sample - loss: 9.7343e-05 - accuracy: 0.9903 - val_loss: 1.2893e-04 - val_accuracy: 0.9844\n",
      "Epoch 15/100\n",
      "722/722 [==============================] - 0s 55us/sample - loss: 9.4607e-05 - accuracy: 0.9903 - val_loss: 1.2568e-04 - val_accuracy: 0.9844\n",
      "Epoch 16/100\n",
      "722/722 [==============================] - 0s 73us/sample - loss: 9.2165e-05 - accuracy: 0.9903 - val_loss: 1.2278e-04 - val_accuracy: 0.9844\n",
      "Epoch 17/100\n",
      "722/722 [==============================] - 0s 80us/sample - loss: 8.9973e-05 - accuracy: 0.9903 - val_loss: 1.2016e-04 - val_accuracy: 0.9844\n",
      "Epoch 18/100\n",
      "722/722 [==============================] - 0s 61us/sample - loss: 8.7994e-05 - accuracy: 0.9903 - val_loss: 1.1780e-04 - val_accuracy: 0.9844\n",
      "Epoch 19/100\n",
      "722/722 [==============================] - 0s 55us/sample - loss: 8.6200e-05 - accuracy: 0.9903 - val_loss: 1.1565e-04 - val_accuracy: 0.9844\n",
      "Epoch 20/100\n",
      "722/722 [==============================] - 0s 64us/sample - loss: 8.4566e-05 - accuracy: 0.9903 - val_loss: 1.1369e-04 - val_accuracy: 0.9844\n",
      "Epoch 21/100\n",
      "722/722 [==============================] - 0s 80us/sample - loss: 8.3072e-05 - accuracy: 0.9903 - val_loss: 1.1190e-04 - val_accuracy: 0.9844\n",
      "Epoch 22/100\n",
      "722/722 [==============================] - 0s 58us/sample - loss: 8.1703e-05 - accuracy: 0.9903 - val_loss: 1.1025e-04 - val_accuracy: 0.9844\n",
      "Epoch 23/100\n",
      "722/722 [==============================] - 0s 79us/sample - loss: 8.0443e-05 - accuracy: 0.9903 - val_loss: 1.0873e-04 - val_accuracy: 0.9844\n",
      "Epoch 24/100\n",
      "722/722 [==============================] - 0s 80us/sample - loss: 7.9280e-05 - accuracy: 0.9903 - val_loss: 1.0732e-04 - val_accuracy: 0.9844\n",
      "Epoch 25/100\n",
      "722/722 [==============================] - 0s 69us/sample - loss: 7.8205e-05 - accuracy: 0.9903 - val_loss: 1.0602e-04 - val_accuracy: 0.9844\n",
      "Epoch 26/100\n",
      "722/722 [==============================] - 0s 80us/sample - loss: 7.7209e-05 - accuracy: 0.9903 - val_loss: 1.0482e-04 - val_accuracy: 0.9844\n",
      "Epoch 27/100\n",
      "722/722 [==============================] - 0s 84us/sample - loss: 7.6283e-05 - accuracy: 0.9917 - val_loss: 1.0369e-04 - val_accuracy: 0.9844\n",
      "Epoch 28/100\n",
      "722/722 [==============================] - 0s 64us/sample - loss: 7.5420e-05 - accuracy: 0.9917 - val_loss: 1.0264e-04 - val_accuracy: 0.9844\n",
      "Epoch 29/100\n",
      "722/722 [==============================] - 0s 58us/sample - loss: 7.4616e-05 - accuracy: 0.9917 - val_loss: 1.0166e-04 - val_accuracy: 0.9844\n",
      "Epoch 30/100\n",
      "722/722 [==============================] - 0s 56us/sample - loss: 7.3865e-05 - accuracy: 0.9917 - val_loss: 1.0074e-04 - val_accuracy: 0.9844\n",
      "Epoch 31/100\n",
      "722/722 [==============================] - 0s 63us/sample - loss: 7.3162e-05 - accuracy: 0.9917 - val_loss: 9.9880e-05 - val_accuracy: 0.9844\n",
      "Epoch 32/100\n",
      "722/722 [==============================] - 0s 52us/sample - loss: 7.2503e-05 - accuracy: 0.9917 - val_loss: 9.9070e-05 - val_accuracy: 0.9844\n",
      "Epoch 33/100\n",
      "722/722 [==============================] - 0s 62us/sample - loss: 7.1885e-05 - accuracy: 0.9917 - val_loss: 9.8309e-05 - val_accuracy: 0.9844\n",
      "Epoch 34/100\n",
      "722/722 [==============================] - 0s 68us/sample - loss: 7.1303e-05 - accuracy: 0.9917 - val_loss: 9.7592e-05 - val_accuracy: 0.9844\n",
      "Epoch 35/100\n",
      "722/722 [==============================] - 0s 72us/sample - loss: 7.0757e-05 - accuracy: 0.9917 - val_loss: 9.6916e-05 - val_accuracy: 0.9844\n",
      "Epoch 36/100\n",
      "722/722 [==============================] - 0s 68us/sample - loss: 7.0242e-05 - accuracy: 0.9917 - val_loss: 9.6277e-05 - val_accuracy: 0.9844\n",
      "Epoch 37/100\n",
      "722/722 [==============================] - 0s 66us/sample - loss: 6.9756e-05 - accuracy: 0.9917 - val_loss: 9.5674e-05 - val_accuracy: 0.9844\n",
      "Epoch 38/100\n",
      "722/722 [==============================] - 0s 52us/sample - loss: 6.9298e-05 - accuracy: 0.9917 - val_loss: 9.5102e-05 - val_accuracy: 0.9844\n",
      "Epoch 39/100\n",
      "722/722 [==============================] - 0s 63us/sample - loss: 6.8865e-05 - accuracy: 0.9917 - val_loss: 9.4561e-05 - val_accuracy: 0.9844\n",
      "Epoch 40/100\n",
      "722/722 [==============================] - 0s 63us/sample - loss: 6.8455e-05 - accuracy: 0.9917 - val_loss: 9.4047e-05 - val_accuracy: 0.9844\n",
      "Epoch 41/100\n",
      "722/722 [==============================] - 0s 62us/sample - loss: 6.8067e-05 - accuracy: 0.9917 - val_loss: 9.3560e-05 - val_accuracy: 0.9844\n",
      "Epoch 42/100\n",
      "722/722 [==============================] - 0s 51us/sample - loss: 6.7700e-05 - accuracy: 0.9917 - val_loss: 9.3097e-05 - val_accuracy: 0.9844\n",
      "Epoch 43/100\n",
      "722/722 [==============================] - 0s 52us/sample - loss: 6.7352e-05 - accuracy: 0.9917 - val_loss: 9.2657e-05 - val_accuracy: 0.9844\n",
      "Epoch 44/100\n",
      "722/722 [==============================] - 0s 56us/sample - loss: 6.7022e-05 - accuracy: 0.9917 - val_loss: 9.2238e-05 - val_accuracy: 0.9844\n",
      "Epoch 45/100\n",
      "722/722 [==============================] - 0s 59us/sample - loss: 6.6709e-05 - accuracy: 0.9917 - val_loss: 9.1839e-05 - val_accuracy: 0.9844\n",
      "Epoch 46/100\n",
      "722/722 [==============================] - 0s 58us/sample - loss: 6.6411e-05 - accuracy: 0.9917 - val_loss: 9.1459e-05 - val_accuracy: 0.9844\n",
      "Epoch 47/100\n",
      "722/722 [==============================] - 0s 61us/sample - loss: 6.6129e-05 - accuracy: 0.9917 - val_loss: 9.1096e-05 - val_accuracy: 0.9844\n",
      "Epoch 48/100\n",
      "722/722 [==============================] - 0s 75us/sample - loss: 6.5860e-05 - accuracy: 0.9917 - val_loss: 9.0750e-05 - val_accuracy: 0.9844\n",
      "Epoch 49/100\n",
      "722/722 [==============================] - 0s 62us/sample - loss: 6.5604e-05 - accuracy: 0.9917 - val_loss: 9.0420e-05 - val_accuracy: 0.9844\n",
      "Epoch 50/100\n",
      "722/722 [==============================] - 0s 72us/sample - loss: 6.5360e-05 - accuracy: 0.9917 - val_loss: 9.0105e-05 - val_accuracy: 0.9844\n",
      "Epoch 51/100\n",
      "722/722 [==============================] - 0s 71us/sample - loss: 6.5129e-05 - accuracy: 0.9917 - val_loss: 8.9803e-05 - val_accuracy: 0.9844\n",
      "Epoch 52/100\n"
     ]
    },
    {
     "name": "stdout",
     "output_type": "stream",
     "text": [
      "722/722 [==============================] - 0s 50us/sample - loss: 6.4908e-05 - accuracy: 0.9917 - val_loss: 8.9515e-05 - val_accuracy: 0.9844\n",
      "Epoch 53/100\n",
      "722/722 [==============================] - 0s 49us/sample - loss: 6.4697e-05 - accuracy: 0.9917 - val_loss: 8.9239e-05 - val_accuracy: 0.9844\n",
      "Epoch 54/100\n",
      "722/722 [==============================] - 0s 64us/sample - loss: 6.4496e-05 - accuracy: 0.9917 - val_loss: 8.8975e-05 - val_accuracy: 0.9844\n",
      "Epoch 55/100\n",
      "722/722 [==============================] - 0s 66us/sample - loss: 6.4305e-05 - accuracy: 0.9917 - val_loss: 8.8723e-05 - val_accuracy: 0.9844\n",
      "Epoch 56/100\n",
      "722/722 [==============================] - 0s 60us/sample - loss: 6.4122e-05 - accuracy: 0.9917 - val_loss: 8.8480e-05 - val_accuracy: 0.9844\n",
      "Epoch 57/100\n",
      "722/722 [==============================] - 0s 52us/sample - loss: 6.3947e-05 - accuracy: 0.9917 - val_loss: 8.8248e-05 - val_accuracy: 0.9844\n",
      "Epoch 58/100\n",
      "722/722 [==============================] - 0s 64us/sample - loss: 6.3781e-05 - accuracy: 0.9917 - val_loss: 8.8026e-05 - val_accuracy: 0.9844\n",
      "Epoch 59/100\n",
      "722/722 [==============================] - 0s 83us/sample - loss: 6.3622e-05 - accuracy: 0.9917 - val_loss: 8.7812e-05 - val_accuracy: 0.9844\n",
      "Epoch 60/100\n",
      "722/722 [==============================] - 0s 98us/sample - loss: 6.3469e-05 - accuracy: 0.9917 - val_loss: 8.7607e-05 - val_accuracy: 0.9844\n",
      "Epoch 61/100\n",
      "722/722 [==============================] - 0s 84us/sample - loss: 6.3324e-05 - accuracy: 0.9917 - val_loss: 8.7411e-05 - val_accuracy: 0.9844\n",
      "Epoch 62/100\n",
      "722/722 [==============================] - 0s 57us/sample - loss: 6.3185e-05 - accuracy: 0.9917 - val_loss: 8.7222e-05 - val_accuracy: 0.9844\n",
      "Epoch 63/100\n",
      "722/722 [==============================] - 0s 78us/sample - loss: 6.3052e-05 - accuracy: 0.9917 - val_loss: 8.7041e-05 - val_accuracy: 0.9844\n",
      "Epoch 64/100\n",
      "722/722 [==============================] - 0s 60us/sample - loss: 6.2925e-05 - accuracy: 0.9917 - val_loss: 8.6866e-05 - val_accuracy: 0.9844\n",
      "Epoch 65/100\n",
      "722/722 [==============================] - 0s 57us/sample - loss: 6.2803e-05 - accuracy: 0.9917 - val_loss: 8.6699e-05 - val_accuracy: 0.9844\n",
      "Epoch 66/100\n",
      "722/722 [==============================] - 0s 63us/sample - loss: 6.2687e-05 - accuracy: 0.9917 - val_loss: 8.6538e-05 - val_accuracy: 0.9844\n",
      "Epoch 67/100\n",
      "722/722 [==============================] - 0s 88us/sample - loss: 6.2576e-05 - accuracy: 0.9917 - val_loss: 8.6383e-05 - val_accuracy: 0.9844\n",
      "Epoch 68/100\n",
      "722/722 [==============================] - 0s 72us/sample - loss: 6.2469e-05 - accuracy: 0.9917 - val_loss: 8.6234e-05 - val_accuracy: 0.9844\n",
      "Epoch 69/100\n",
      "722/722 [==============================] - 0s 61us/sample - loss: 6.2367e-05 - accuracy: 0.9917 - val_loss: 8.6091e-05 - val_accuracy: 0.9844\n",
      "Epoch 70/100\n",
      "722/722 [==============================] - 0s 60us/sample - loss: 6.2269e-05 - accuracy: 0.9917 - val_loss: 8.5953e-05 - val_accuracy: 0.9844\n",
      "Epoch 71/100\n",
      "722/722 [==============================] - 0s 238us/sample - loss: 6.2175e-05 - accuracy: 0.9917 - val_loss: 8.5821e-05 - val_accuracy: 0.9844\n",
      "Epoch 72/100\n",
      "722/722 [==============================] - 0s 53us/sample - loss: 6.2085e-05 - accuracy: 0.9917 - val_loss: 8.5693e-05 - val_accuracy: 0.9844\n",
      "Epoch 73/100\n",
      "722/722 [==============================] - 0s 56us/sample - loss: 6.1999e-05 - accuracy: 0.9917 - val_loss: 8.5570e-05 - val_accuracy: 0.9844\n",
      "Epoch 74/100\n",
      "722/722 [==============================] - 0s 54us/sample - loss: 6.1917e-05 - accuracy: 0.9917 - val_loss: 8.5452e-05 - val_accuracy: 0.9844\n",
      "Epoch 75/100\n",
      "722/722 [==============================] - 0s 56us/sample - loss: 6.1838e-05 - accuracy: 0.9917 - val_loss: 8.5338e-05 - val_accuracy: 0.9844\n",
      "Epoch 76/100\n",
      "722/722 [==============================] - 0s 53us/sample - loss: 6.1762e-05 - accuracy: 0.9917 - val_loss: 8.5228e-05 - val_accuracy: 0.9844\n",
      "Epoch 77/100\n",
      "722/722 [==============================] - 0s 55us/sample - loss: 6.1690e-05 - accuracy: 0.9917 - val_loss: 8.5122e-05 - val_accuracy: 0.9844\n",
      "Epoch 78/100\n",
      "722/722 [==============================] - 0s 54us/sample - loss: 6.1620e-05 - accuracy: 0.9917 - val_loss: 8.5020e-05 - val_accuracy: 0.9844\n",
      "Epoch 79/100\n",
      "722/722 [==============================] - 0s 54us/sample - loss: 6.1553e-05 - accuracy: 0.9917 - val_loss: 8.4922e-05 - val_accuracy: 0.9844\n",
      "Epoch 80/100\n",
      "722/722 [==============================] - 0s 76us/sample - loss: 6.1489e-05 - accuracy: 0.9917 - val_loss: 8.4827e-05 - val_accuracy: 0.9844\n",
      "Epoch 81/100\n",
      "722/722 [==============================] - 0s 92us/sample - loss: 6.1428e-05 - accuracy: 0.9917 - val_loss: 8.4736e-05 - val_accuracy: 0.9844\n",
      "Epoch 82/100\n",
      "722/722 [==============================] - 0s 76us/sample - loss: 6.1369e-05 - accuracy: 0.9917 - val_loss: 8.4648e-05 - val_accuracy: 0.9844\n",
      "Epoch 83/100\n",
      "722/722 [==============================] - 0s 81us/sample - loss: 6.1313e-05 - accuracy: 0.9917 - val_loss: 8.4563e-05 - val_accuracy: 0.9844\n",
      "Epoch 84/100\n",
      "722/722 [==============================] - 0s 147us/sample - loss: 6.1258e-05 - accuracy: 0.9917 - val_loss: 8.4481e-05 - val_accuracy: 0.9844\n",
      "Epoch 85/100\n",
      "722/722 [==============================] - 0s 158us/sample - loss: 6.1206e-05 - accuracy: 0.9917 - val_loss: 8.4402e-05 - val_accuracy: 0.9844\n",
      "Epoch 86/100\n",
      "722/722 [==============================] - 0s 200us/sample - loss: 6.1157e-05 - accuracy: 0.9917 - val_loss: 8.4325e-05 - val_accuracy: 0.9844\n",
      "Epoch 87/100\n",
      "722/722 [==============================] - 0s 123us/sample - loss: 6.1109e-05 - accuracy: 0.9917 - val_loss: 8.4252e-05 - val_accuracy: 0.9844\n",
      "Epoch 88/100\n",
      "722/722 [==============================] - 0s 55us/sample - loss: 6.1063e-05 - accuracy: 0.9917 - val_loss: 8.4181e-05 - val_accuracy: 0.9844\n",
      "Epoch 89/100\n",
      "722/722 [==============================] - 0s 62us/sample - loss: 6.1019e-05 - accuracy: 0.9917 - val_loss: 8.4112e-05 - val_accuracy: 0.9844\n",
      "Epoch 90/100\n",
      "722/722 [==============================] - 0s 59us/sample - loss: 6.0976e-05 - accuracy: 0.9917 - val_loss: 8.4046e-05 - val_accuracy: 0.9844\n",
      "Epoch 91/100\n",
      "722/722 [==============================] - 0s 68us/sample - loss: 6.0936e-05 - accuracy: 0.9917 - val_loss: 8.3982e-05 - val_accuracy: 0.9844\n",
      "Epoch 92/100\n",
      "722/722 [==============================] - 0s 118us/sample - loss: 6.0897e-05 - accuracy: 0.9917 - val_loss: 8.3921e-05 - val_accuracy: 0.9844\n",
      "Epoch 93/100\n",
      "722/722 [==============================] - 0s 192us/sample - loss: 6.0860e-05 - accuracy: 0.9917 - val_loss: 8.3861e-05 - val_accuracy: 0.9844\n",
      "Epoch 94/100\n",
      "722/722 [==============================] - 0s 88us/sample - loss: 6.0824e-05 - accuracy: 0.9917 - val_loss: 8.3804e-05 - val_accuracy: 0.9844\n",
      "Epoch 95/100\n",
      "722/722 [==============================] - 0s 56us/sample - loss: 6.0789e-05 - accuracy: 0.9917 - val_loss: 8.3748e-05 - val_accuracy: 0.9844\n",
      "Epoch 96/100\n",
      "722/722 [==============================] - 0s 62us/sample - loss: 6.0756e-05 - accuracy: 0.9917 - val_loss: 8.3695e-05 - val_accuracy: 0.9844\n",
      "Epoch 97/100\n",
      "722/722 [==============================] - 0s 52us/sample - loss: 6.0725e-05 - accuracy: 0.9917 - val_loss: 8.3643e-05 - val_accuracy: 0.9844\n",
      "Epoch 98/100\n",
      "722/722 [==============================] - 0s 56us/sample - loss: 6.0694e-05 - accuracy: 0.9917 - val_loss: 8.3594e-05 - val_accuracy: 0.9844\n",
      "Epoch 99/100\n",
      "722/722 [==============================] - 0s 193us/sample - loss: 6.0665e-05 - accuracy: 0.9917 - val_loss: 8.3545e-05 - val_accuracy: 0.9844\n",
      "Epoch 100/100\n",
      "722/722 [==============================] - 0s 110us/sample - loss: 6.0637e-05 - accuracy: 0.9917 - val_loss: 8.3499e-05 - val_accuracy: 0.9844\n"
     ]
    },
    {
     "data": {
      "text/plain": [
       "<tensorflow.python.keras.callbacks.History at 0x13a0a0e10>"
      ]
     },
     "execution_count": 46,
     "metadata": {},
     "output_type": "execute_result"
    }
   ],
   "source": [
    "# Training\n",
    "model.fit(x=standardized_X_train, \n",
    "          y=y_train,\n",
    "          validation_data=(standardized_X_val, y_val),\n",
    "          epochs=NUM_EPOCHS,\n",
    "          batch_size=BATCH_SIZE,\n",
    "          class_weight=class_weights,\n",
    "          shuffle=False,\n",
    "          verbose=1)"
   ]
  },
  {
   "cell_type": "markdown",
   "metadata": {
    "colab_type": "text",
    "id": "dM7iYW8ANYjy"
   },
   "source": [
    "# Evaluation"
   ]
  },
  {
   "cell_type": "code",
   "execution_count": 47,
   "metadata": {
    "colab": {},
    "colab_type": "code",
    "id": "uFXbczqu8Rno"
   },
   "outputs": [],
   "source": [
    "import itertools\n",
    "import matplotlib.pyplot as plt\n",
    "from sklearn.metrics import accuracy_score\n",
    "from sklearn.metrics import classification_report\n",
    "from sklearn.metrics import confusion_matrix"
   ]
  },
  {
   "cell_type": "markdown",
   "metadata": {
    "colab_type": "text",
    "id": "D3_dQmWdQhSm"
   },
   "source": [
    "### Components"
   ]
  },
  {
   "cell_type": "code",
   "execution_count": 48,
   "metadata": {
    "colab": {},
    "colab_type": "code",
    "id": "-RnQrNaKQhWJ"
   },
   "outputs": [],
   "source": [
    "def plot_confusion_matrix(y_true, y_pred, classes, cmap=plt.cm.Blues):\n",
    "    \"\"\"Plot a confusion matrix using ground truth and predictions.\"\"\"\n",
    "    # Confusion matrix\n",
    "    cm = confusion_matrix(y_true, y_pred)\n",
    "    cm_norm = cm.astype('float') / cm.sum(axis=1)[:, np.newaxis]\n",
    "\n",
    "    #  Figure\n",
    "    fig = plt.figure()\n",
    "    ax = fig.add_subplot(111)\n",
    "    cax = ax.matshow(cm, cmap=plt.cm.Blues)\n",
    "    fig.colorbar(cax)\n",
    "\n",
    "    # Axis\n",
    "    plt.title(\"Confusion matrix\")\n",
    "    plt.ylabel(\"True label\")\n",
    "    plt.xlabel(\"Predicted label\")\n",
    "    ax.set_xticklabels([''] + classes)\n",
    "    ax.set_yticklabels([''] + classes)\n",
    "    ax.xaxis.set_label_position('bottom') \n",
    "    ax.xaxis.tick_bottom()\n",
    "\n",
    "    # Values\n",
    "    thresh = cm.max() / 2.\n",
    "    for i, j in itertools.product(range(cm.shape[0]), range(cm.shape[1])):\n",
    "        plt.text(j, i, f\"{cm[i, j]:d} ({cm_norm[i, j]*100:.1f}%)\",\n",
    "                 horizontalalignment=\"center\",\n",
    "                 color=\"white\" if cm[i, j] > thresh else \"black\")\n",
    "\n",
    "    # Display\n",
    "    plt.show()"
   ]
  },
  {
   "cell_type": "markdown",
   "metadata": {
    "colab_type": "text",
    "id": "klyws2fhBeyr"
   },
   "source": [
    "### Operations"
   ]
  },
  {
   "cell_type": "code",
   "execution_count": 49,
   "metadata": {
    "colab": {
     "base_uri": "https://localhost:8080/",
     "height": 51
    },
    "colab_type": "code",
    "id": "-jZtTd7F6_ps",
    "outputId": "755810f7-3181-4e72-9fe8-ab79303fc85c"
   },
   "outputs": [
    {
     "name": "stdout",
     "output_type": "stream",
     "text": [
      "sample probability: [2.5153402e-05 9.9997485e-01]\n",
      "sample class: 1\n"
     ]
    }
   ],
   "source": [
    "# Predictions\n",
    "pred_train = model.predict(standardized_X_train) \n",
    "pred_test = model.predict(standardized_X_test)\n",
    "print (f\"sample probability: {pred_test[0]}\")\n",
    "pred_train = np.argmax(pred_train, axis=1)\n",
    "pred_test = np.argmax(pred_test, axis=1)\n",
    "print (f\"sample class: {pred_test[0]}\")"
   ]
  },
  {
   "cell_type": "code",
   "execution_count": 50,
   "metadata": {
    "colab": {
     "base_uri": "https://localhost:8080/",
     "height": 34
    },
    "colab_type": "code",
    "id": "sEjansj78Rqe",
    "outputId": "a8443219-3fee-4535-a7d9-25dacd0f64ad"
   },
   "outputs": [
    {
     "name": "stdout",
     "output_type": "stream",
     "text": [
      "train acc: 0.99, test acc: 0.97\n"
     ]
    }
   ],
   "source": [
    "# Accuracy\n",
    "train_acc = accuracy_score(y_train, pred_train)\n",
    "test_acc = accuracy_score(y_test, pred_test)\n",
    "print (f\"train acc: {train_acc:.2f}, test acc: {test_acc:.2f}\")"
   ]
  },
  {
   "cell_type": "code",
   "execution_count": 51,
   "metadata": {
    "colab": {
     "base_uri": "https://localhost:8080/",
     "height": 336
    },
    "colab_type": "code",
    "id": "t9uDMe_Dh4cs",
    "outputId": "821ab91e-952f-4b57-8a9c-98ce8d57aaa7"
   },
   "outputs": [
    {
     "data": {
      "image/png": "[encoded data removed]",
      "text/plain": [
       "<Figure size 864x360 with 2 Axes>"
      ]
     },
     "metadata": {
      "needs_background": "light"
     },
     "output_type": "display_data"
    }
   ],
   "source": [
    "# Visualize the decision boundary\n",
    "plt.figure(figsize=(12,5))\n",
    "plt.subplot(1, 2, 1)\n",
    "plt.title(\"Train\")\n",
    "plot_multiclass_decision_boundary(model=model, X=standardized_X_train, y=y_train)\n",
    "plt.subplot(1, 2, 2)\n",
    "plt.title(\"Test\")\n",
    "plot_multiclass_decision_boundary(model=model, X=standardized_X_test, y=y_test)\n",
    "plt.show()"
   ]
  },
  {
   "cell_type": "markdown",
   "metadata": {
    "colab_type": "text",
    "id": "WijzY-vDNbE9"
   },
   "source": [
    "So far we looked at accuracy as the metric that determines our mode's level of performance. But we have several other options when it comes to  evaluation metrics.\n",
    "\n",
    "<img src=\"https://raw.githubusercontent.com/practicalAI/images/master/basic_ml/05_Logistic_Regression/metrics.png\" width=\"350\">"
   ]
  },
  {
   "cell_type": "markdown",
   "metadata": {
    "colab_type": "text",
    "id": "80MwyE0yOr-k"
   },
   "source": [
    "The metric we choose really depends on the situation.\n",
    "positive - true, 1, tumor, issue, etc., negative - false, 0, not tumor, not issue, etc.\n",
    "\n",
    "$\\text{accuracy} = \\frac{TP+TN}{TP+TN+FP+FN}$ \n",
    "\n",
    "$\\text{recall} = \\frac{TP}{TP+FN}$ → (how many of the actual issues did I catch)\n",
    "\n",
    "$\\text{precision} = \\frac{TP}{TP+FP}$ → (out of all the things I said were issues, how many were actually issues)\n",
    "\n",
    "$F_1 = 2 * \\frac{\\text{precision }  *  \\text{ recall}}{\\text{precision } + \\text{ recall}}$\n",
    "\n",
    "where: \n",
    "* TP: # of samples predicted to be positive and were actually positive\n",
    "* TN: # of samples predicted to be negative and were actually negative\n",
    "* FP: # of samples predicted to be positive but were actually negative\n",
    "* FN: # of samples predicted to be negative but were actually positive"
   ]
  },
  {
   "cell_type": "code",
   "execution_count": 52,
   "metadata": {
    "colab": {
     "base_uri": "https://localhost:8080/",
     "height": 459
    },
    "colab_type": "code",
    "id": "8N8jPq_Cy2hp",
    "outputId": "f41499c4-c890-4ea0-a1b9-68dce0f26b98"
   },
   "outputs": [
    {
     "data": {
      "image/png": "[encoded data removed]",
      "text/plain": [
       "<Figure size 432x288 with 2 Axes>"
      ]
     },
     "metadata": {
      "needs_background": "light"
     },
     "output_type": "display_data"
    },
    {
     "name": "stdout",
     "output_type": "stream",
     "text": [
      "              precision    recall  f1-score   support\n",
      "\n",
      "           0       0.94      1.00      0.97        58\n",
      "           1       1.00      0.96      0.98        92\n",
      "\n",
      "    accuracy                           0.97       150\n",
      "   macro avg       0.97      0.98      0.97       150\n",
      "weighted avg       0.98      0.97      0.97       150\n",
      "\n"
     ]
    }
   ],
   "source": [
    "# Classification report\n",
    "plot_confusion_matrix(y_true=y_test, y_pred=pred_test, classes=classes)\n",
    "print (classification_report(y_test, pred_test))"
   ]
  },
  {
   "cell_type": "markdown",
   "metadata": {
    "colab_type": "text",
    "id": "9v6zc1_1PWnz"
   },
   "source": [
    "# Inference"
   ]
  },
  {
   "cell_type": "code",
   "execution_count": 74,
   "metadata": {
    "colab": {
     "base_uri": "https://localhost:8080/",
     "height": 80
    },
    "colab_type": "code",
    "id": "kX9428-EPUzx",
    "outputId": "48154a48-c8c8-42a7-97de-fdc7128552df"
   },
   "outputs": [
    {
     "data": {
      "text/html": [
       "<div>\n",
       "<style scoped>\n",
       "    .dataframe tbody tr th:only-of-type {\n",
       "        vertical-align: middle;\n",
       "    }\n",
       "\n",
       "    .dataframe tbody tr th {\n",
       "        vertical-align: top;\n",
       "    }\n",
       "\n",
       "    .dataframe thead th {\n",
       "        text-align: right;\n",
       "    }\n",
       "</style>\n",
       "<table border=\"1\" class=\"dataframe\">\n",
       "  <thead>\n",
       "    <tr style=\"text-align: right;\">\n",
       "      <th></th>\n",
       "      <th>leukocyte_count</th>\n",
       "      <th>blood_pressure</th>\n",
       "    </tr>\n",
       "  </thead>\n",
       "  <tbody>\n",
       "    <tr>\n",
       "      <th>0</th>\n",
       "      <td>15</td>\n",
       "      <td>14</td>\n",
       "    </tr>\n",
       "  </tbody>\n",
       "</table>\n",
       "</div>"
      ],
      "text/plain": [
       "   leukocyte_count  blood_pressure\n",
       "0               15              14"
      ]
     },
     "execution_count": 74,
     "metadata": {},
     "output_type": "execute_result"
    }
   ],
   "source": [
    "# Inputs for inference\n",
    "X_infer = pd.DataFrame([{'leukocyte_count': 15, 'blood_pressure': 14}])\n",
    "X_infer.head()"
   ]
  },
  {
   "cell_type": "code",
   "execution_count": 75,
   "metadata": {
    "colab": {
     "base_uri": "https://localhost:8080/",
     "height": 34
    },
    "colab_type": "code",
    "id": "3qY6buxLKb2o",
    "outputId": "8d5af37e-c89f-49a2-ff16-ddc6d31dab22"
   },
   "outputs": [
    {
     "name": "stdout",
     "output_type": "stream",
     "text": [
      "[[ 0.01016204 -1.24117818]]\n"
     ]
    }
   ],
   "source": [
    "# Standardize\n",
    "standardized_X_infer = X_scaler.transform(X_infer)\n",
    "print (standardized_X_infer)"
   ]
  },
  {
   "cell_type": "code",
   "execution_count": 76,
   "metadata": {
    "colab": {
     "base_uri": "https://localhost:8080/",
     "height": 34
    },
    "colab_type": "code",
    "id": "7O5PbOAvXTzF",
    "outputId": "a09f71c7-3548-4bb2-ffb8-888ccf705444"
   },
   "outputs": [
    {
     "name": "stdout",
     "output_type": "stream",
     "text": [
      "The probability that you have a benign tumor is 98%\n"
     ]
    }
   ],
   "source": [
    "# Predict\n",
    "y_infer = model.predict(standardized_X_infer)\n",
    "_class = np.argmax(y_infer)\n",
    "print (f\"The probability that you have a {classes[_class]} tumor is {y_infer[0][_class]*100.0:.0f}%\")"
   ]
  },
  {
   "cell_type": "code",
   "execution_count": 77,
   "metadata": {},
   "outputs": [
    {
     "data": {
      "text/plain": [
       "array([[0.98048556, 0.01951442]], dtype=float32)"
      ]
     },
     "execution_count": 77,
     "metadata": {},
     "output_type": "execute_result"
    }
   ],
   "source": [
    "y_infer"
   ]
  },
  {
   "cell_type": "code",
   "execution_count": 85,
   "metadata": {},
   "outputs": [
    {
     "data": {
      "text/plain": [
       "array([[0.4, 0.6]])"
      ]
     },
     "execution_count": 85,
     "metadata": {},
     "output_type": "execute_result"
    }
   ],
   "source": [
    "y_infer1 = np.array([[0.4,0.6]])\n",
    "y_infer1"
   ]
  },
  {
   "cell_type": "code",
   "execution_count": 86,
   "metadata": {},
   "outputs": [],
   "source": [
    "_class1 = np.argmax(y_infer1)"
   ]
  },
  {
   "cell_type": "code",
   "execution_count": 95,
   "metadata": {},
   "outputs": [
    {
     "name": "stdout",
     "output_type": "stream",
     "text": [
      "The probability that you have a malignant tumor is 60%\n"
     ]
    }
   ],
   "source": [
    "print (f\"The probability that you have a {classes[_class1]} tumor is {y_infer1[0][_class1]*100.0:.0f}%\")"
   ]
  },
  {
   "cell_type": "code",
   "execution_count": 94,
   "metadata": {},
   "outputs": [
    {
     "data": {
      "text/plain": [
       "array([0.4, 0.6])"
      ]
     },
     "execution_count": 94,
     "metadata": {},
     "output_type": "execute_result"
    }
   ],
   "source": [
    "y_infer1[0]"
   ]
  },
  {
   "cell_type": "code",
   "execution_count": 92,
   "metadata": {},
   "outputs": [
    {
     "data": {
      "text/plain": [
       "array(['benign', 'malignant'], dtype=object)"
      ]
     },
     "execution_count": 92,
     "metadata": {},
     "output_type": "execute_result"
    }
   ],
   "source": [
    "classes"
   ]
  },
  {
   "cell_type": "markdown",
   "metadata": {
    "colab_type": "text",
    "id": "8PLPFFP67tvL"
   },
   "source": [
    "# Unscaled weights"
   ]
  },
  {
   "cell_type": "markdown",
   "metadata": {
    "colab_type": "text",
    "id": "jv6LKNXO7uch"
   },
   "source": [
    "Which of the features are most influential?\n",
    "answer:leukocyte_count\n",
    "因为权重的第一行系数更大，也就意味着第一个特征更能决定预测值的结果。"
   ]
  },
  {
   "cell_type": "markdown",
   "metadata": {
    "colab_type": "text",
    "id": "_XYBW85WIdKy"
   },
   "source": [
    "Note that only X was standardized.\n",
    "\n",
    "$\\hat{y}_{unscaled} = b_{scaled} + \\sum_{j=1}^{k}W_{{scaled}_j}x_{{scaled}_j}$\n",
    "* $x_{scaled} = \\frac{x_j - \\bar{x}_j}{\\sigma_j}$\n",
    "\n",
    "$\\hat{y}_{unscaled} = b_{scaled} + \\sum_{j=1}^{k} W_{{scaled}_j} (\\frac{x_j - \\bar{x}_j}{\\sigma_j}) $\n",
    "\n",
    "$\\hat{y}_{unscaled} = (b_{scaled} - \\sum_{j=1}^{k} W_{{scaled}_j}\\frac{\\bar{x}_j}{\\sigma_j}) +  \\sum_{j=1}^{k} (\\frac{W_{{scaled}_j}}{\\sigma_j})x_j$\n",
    "\n",
    "In the expression above, we can see the expression $\\hat{y}_{unscaled} = W_{unscaled}x + b_{unscaled} $\n",
    "\n",
    "* $W_{unscaled} = \\sum_{j=1}^{k} (\\frac{W_{{scaled}_j}}{\\sigma_j}) $\n",
    "\n",
    "* $b_{unscaled} = b_{scaled} - \\sum_{j=1}^{k} W_{{scaled}_j}\\frac{\\bar{x}_j}{\\sigma_j}$"
   ]
  },
  {
   "cell_type": "code",
   "execution_count": 81,
   "metadata": {
    "colab": {
     "base_uri": "https://localhost:8080/",
     "height": 68
    },
    "colab_type": "code",
    "id": "KTSpxbwy7ugl",
    "outputId": "cfd97bc5-af04-4ddd-8891-0e1aa29b14fe"
   },
   "outputs": [
    {
     "name": "stdout",
     "output_type": "stream",
     "text": [
      "[[  4.16645982 -10.6087801 ]\n",
      " [ -1.57983823   4.09808493]]\n",
      "[57.398724 64.97541 ]\n"
     ]
    }
   ],
   "source": [
    "# Unstandardize weights \n",
    "W = model.layers[0].get_weights()[0]\n",
    "b = model.layers[0].get_weights()[1]\n",
    "W_unscaled = W / X_scaler.scale_\n",
    "b_unscaled = b - np.sum((W_unscaled * X_scaler.mean_))\n",
    "print (W_unscaled)\n",
    "print (b_unscaled)"
   ]
  },
  {
   "cell_type": "code",
   "execution_count": 83,
   "metadata": {},
   "outputs": [
    {
     "data": {
      "text/plain": [
       "array([-3.7883499,  3.7883399], dtype=float32)"
      ]
     },
     "execution_count": 83,
     "metadata": {},
     "output_type": "execute_result"
    }
   ],
   "source": [
    "b"
   ]
  },
  {
   "cell_type": "code",
   "execution_count": 84,
   "metadata": {},
   "outputs": [
    {
     "data": {
      "text/plain": [
       "array([[ 12.337883 , -11.498732 ],\n",
       "       [ -4.6782784,   4.441866 ]], dtype=float32)"
      ]
     },
     "execution_count": 84,
     "metadata": {},
     "output_type": "execute_result"
    }
   ],
   "source": [
    "W"
   ]
  },
  {
   "cell_type": "markdown",
   "metadata": {
    "colab_type": "text",
    "id": "PbcuwPdKEMlK"
   },
   "source": [
    "---\n",
    "<div align=\"center\">\n",
    "\n",
    "Subscribe to our <a href=\"https://practicalai.me/#newsletter\">newsletter</a> and follow us on social media to get the latest updates!\n",
    "\n",
    "<a class=\"ai-header-badge\" target=\"_blank\" href=\"https://github.com/practicalAI/practicalAI\">\n",
    "              <img src=\"https://img.shields.io/github/stars/practicalAI/practicalAI.svg?style=social&label=Star\"></a>&nbsp;\n",
    "            <a class=\"ai-header-badge\" target=\"_blank\" href=\"https://www.linkedin.com/company/practicalai-me\">\n",
    "              <img src=\"https://img.shields.io/badge/style--5eba00.svg?label=LinkedIn&logo=linkedin&style=social\"></a>&nbsp;\n",
    "            <a class=\"ai-header-badge\" target=\"_blank\" href=\"https://twitter.com/practicalAIme\">\n",
    "              <img src=\"https://img.shields.io/twitter/follow/practicalAIme.svg?label=Follow&style=social\">\n",
    "            </a>\n",
    "              </div>\n",
    "\n",
    "</div>"
   ]
  }
 ],
 "metadata": {
  "colab": {
   "collapsed_sections": [
    "CYH7kRTd9WoJ"
   ],
   "name": "05_Logistic_Regression",
   "provenance": [],
   "toc_visible": true
  },
  "kernelspec": {
   "display_name": "Python 3",
   "language": "python",
   "name": "python3"
  },
  "language_info": {
   "codemirror_mode": {
    "name": "ipython",
    "version": 3
   },
   "file_extension": ".py",
   "mimetype": "text/x-python",
   "name": "python",
   "nbconvert_exporter": "python",
   "pygments_lexer": "ipython3",
   "version": "3.7.6"
  },
  "toc": {
   "base_numbering": 1,
   "nav_menu": {},
   "number_sections": true,
   "sideBar": true,
   "skip_h1_title": false,
   "title_cell": "Table of Contents",
   "title_sidebar": "Contents",
   "toc_cell": false,
   "toc_position": {},
   "toc_section_display": true,
   "toc_window_display": false
  }
 },
 "nbformat": 4,
 "nbformat_minor": 1
}
