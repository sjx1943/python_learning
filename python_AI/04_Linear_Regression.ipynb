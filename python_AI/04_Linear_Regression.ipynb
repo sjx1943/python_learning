{
 "cells": [
  {
   "cell_type": "markdown",
   "metadata": {
    "colab_type": "text",
    "id": "7nDdR3N2R2PJ"
   },
   "source": [
    "<a href=\"https://practicalai.me\"><img src=\"https://raw.githubusercontent.com/practicalAI/images/master/images/rounded_logo.png\" width=\"100\" align=\"left\" hspace=\"20px\" vspace=\"20px\"></a>\n",
    "\n",
    "<img src=\"https://raw.githubusercontent.com/practicalAI/images/master/images/04_Linear_Regression/linear_regression.png\" width=\"150\" vspace=\"20px\" align=\"right\">\n",
    "\n",
    "<div align=\"left\">\n",
    "<h1>Linear Regression</h1>\n",
    "In this lesson we will learn about linear regression. We will understand the basic math behind it, implement it in Python. and then look at ways of interpreting the linear model.\n",
    "<br><p>\n",
    "<em>一元线性回归基本步骤：<br>\n",
    "数据提取➡️数据预处理➡️标准化➡️建模➡️训练➡️评估➡️图形展示➡️推断➡️方程解释</em></p>\n",
    "</div>"
   ]
  },
  {
   "cell_type": "markdown",
   "metadata": {
    "colab_type": "text",
    "id": "Izx6GIn_SETR"
   },
   "source": [
    "<table align=\"center\">\n",
    "  <td>\n",
    "<img src=\"https://raw.githubusercontent.com/practicalAI/images/master/images/rounded_logo.png\" width=\"25\"><a target=\"_blank\" href=\"https://practicalai.me\"> View on practicalAI</a>\n",
    "  </td>\n",
    "  <td>\n",
    "<img src=\"https://raw.githubusercontent.com/practicalAI/images/master/images/colab_logo.png\" width=\"25\"><a target=\"_blank\" href=\"https://colab.research.google.com/github/practicalAI/practicalAI/blob/master/notebooks/04_Linear_Regression.ipynb\"> Run in Google Colab</a>\n",
    "  </td>\n",
    "  <td>\n",
    "<img src=\"https://raw.githubusercontent.com/practicalAI/images/master/images/github_logo.png\" width=\"22\"><a target=\"_blank\" href=\"https://github.com/practicalAI/practicalAI/blob/master/notebooks/04_Linear_Regression.ipynb\"> View code on GitHub</a>\n",
    "  </td>\n",
    "</table>"
   ]
  },
  {
   "cell_type": "markdown",
   "metadata": {
    "colab_type": "text",
    "id": "VoMq0eFRvugb"
   },
   "source": [
    "# Overview"
   ]
  },
  {
   "cell_type": "markdown",
   "metadata": {
    "colab_type": "text",
    "id": "LaFUStk-24I4"
   },
   "source": [
    "Our goal is to learn a linear model $\\hat{y}$ that models $y$ given $X$. \n",
    "\n",
    "$\\hat{y} = XW + b$\n",
    "* $\\hat{y}$ = predictions | $\\in \\mathbb{R}^{NX1}$ ($N$ is the number of samples)\n",
    "* $X$ = inputs | $\\in \\mathbb{R}^{NXD}$ ($D$ is the number of features)\n",
    "* $W$ = weights | $\\in \\mathbb{R}^{DX1}$ \n",
    "* $b$ = bias | $\\in \\mathbb{R}^{1}$ "
   ]
  },
  {
   "cell_type": "markdown",
   "metadata": {
    "colab_type": "text",
    "id": "QAgr7Grv9pb6"
   },
   "source": [
    "* **Objective:**  Use inputs $X$ to predict the output $\\hat{y}$ using a linear model. The model will be a line of best fit that minimizes the distance between the predicted (model's output) and target (ground truth) values. Training data $(X, y)$ is used to train the model and learn the weights $W$ using gradient descent.\n",
    "* **Advantages:**\n",
    "  * Computationally simple.\n",
    "  * Highly interpretable.\n",
    "  * Can account for continuous and categorical features.\n",
    "* **Disadvantages:**\n",
    "  * The model will perform well only when the data is linearly separable (for classification).\n",
    "  * Usually not used for classification and only for regression.\n",
    "* **Miscellaneous:** You can also use linear regression for binary classification tasks where if the predicted continuous value is above a threshold, it belongs to a certain class. But we will cover better techniques for classification in future lessons and will focus on linear regression for continuous regression tasks only.\n"
   ]
  },
  {
   "cell_type": "markdown",
   "metadata": {
    "colab_type": "text",
    "id": "xP7XD24-09Io"
   },
   "source": [
    "### Training"
   ]
  },
  {
   "cell_type": "markdown",
   "metadata": {
    "colab_type": "text",
    "id": "476yPgTM1BKJ"
   },
   "source": [
    "1. Randomly initialize the model's weights $W$ (we'll cover more effective initalization strategies in future lessons).\n",
    "2. Feed inputs $X$ into the model to receive the predictions $\\hat{y}$.\n",
    "  * $\\hat{y} = XW + b$\n",
    "3. Compare the predictions $\\hat{y}$ with the actual target values $y$ using the objective (cost) function to determine the loss $J$. A common objective function for linear regression is mean squarred error (MSE). This function calculates the difference between the predicted and target values and squares it.\n",
    "\n",
    "  * $J(\\theta) = MSE = \\frac{1}{N} \\sum_i (y_i - \\hat{y}_i)^2 $\n",
    "    * ${y}$ = ground truth | $\\in \\mathbb{R}^{NX1}$\n",
    "    * $\\hat{y}$ = predictions | $\\in \\mathbb{R}^{NX1}$\n",
    "4. Calculate the gradient of loss $J(\\theta)$ w.r.t to the model weights.\n",
    "  * $J(\\theta) = \\frac{1}{N} \\sum_i (y_i - \\hat{y}_i)^2  = \\frac{1}{N}\\sum_i (y_i - X_iW)^2 $\n",
    "    * $\\frac{\\partial{J}}{\\partial{W}} = -\\frac{2}{N} \\sum_i (y_i - X_iW) X_i = -\\frac{2}{N} \\sum_i (y_i - \\hat{y}_i) X_i$\n",
    "    * $\\frac{\\partial{J}}{\\partial{W}} = -\\frac{2}{N} \\sum_i (y_i - X_iW)1 = -\\frac{2}{N} \\sum_i (y_i - \\hat{y}_i)1$\n",
    "5. Update the weights $W$ using a small learning rate $\\alpha$. The simplified intuition is that the gradient tells you the direction for how to increase something so subtracting it will help you go the other way since we want to decrease loss $J(\\theta)$:\n",
    "  * $W = W - \\alpha\\frac{\\partial{J}}{\\partial{W}}$\n",
    "  * $b = b - \\alpha\\frac{\\partial{J}}{\\partial{b}}$\n",
    "6. Repeat steps 2 - 5 to minimize the loss and train the model."
   ]
  },
  {
   "cell_type": "markdown",
   "metadata": {
    "colab_type": "text",
    "id": "wqEglvPJTifp"
   },
   "source": [
    "# Set up"
   ]
  },
  {
   "cell_type": "code",
   "execution_count": 29,
   "metadata": {
    "cell_style": "center",
    "colab": {
     "base_uri": "https://localhost:8080/",
     "height": 34
    },
    "colab_type": "code",
    "id": "ebK53z_VctPM",
    "outputId": "c8ebb86c-8df7-4465-957c-569c2595cbd1"
   },
   "outputs": [
    {
     "name": "stderr",
     "output_type": "stream",
     "text": [
      "ERROR:root:Line magic function `%tensorflow_version` not found.\n"
     ]
    }
   ],
   "source": [
    "# Use TensorFlow 2.x\n",
    "%tensorflow_version 2.x"
   ]
  },
  {
   "cell_type": "code",
   "execution_count": 30,
   "metadata": {},
   "outputs": [
    {
     "name": "stdout",
     "output_type": "stream",
     "text": [
      "The tensorboard extension is already loaded. To reload it, use:\n",
      "  %reload_ext tensorboard\n"
     ]
    }
   ],
   "source": [
    "%load_ext tensorboard"
   ]
  },
  {
   "cell_type": "code",
   "execution_count": 31,
   "metadata": {},
   "outputs": [],
   "source": [
    "#!pip install --upgrade --ignore-installed tensorflow"
   ]
  },
  {
   "cell_type": "code",
   "execution_count": 59,
   "metadata": {
    "colab": {},
    "colab_type": "code",
    "collapsed": true,
    "id": "HRXD7LqVJZ43"
   },
   "outputs": [],
   "source": [
    "import os\n",
    "import numpy as np\n",
    "import tensorflow as tf"
   ]
  },
  {
   "cell_type": "code",
   "execution_count": 33,
   "metadata": {
    "colab": {},
    "colab_type": "code",
    "collapsed": true,
    "id": "NFsKg-Z6IWqG"
   },
   "outputs": [],
   "source": [
    "# Arguments\n",
    "SEED = 1234\n",
    "SHUFFLE = True\n",
    "NUM_SAMPLES = 50\n",
    "TRAIN_SIZE = 0.7\n",
    "VAL_SIZE = 0.15\n",
    "TEST_SIZE = 0.15\n",
    "NUM_EPOCHS = 100\n",
    "BATCH_SIZE = 10\n",
    "INPUT_DIM = 1\n",
    "HIDDEN_DIM = 1\n",
    "LEARNING_RATE = 1e-1"
   ]
  },
  {
   "cell_type": "code",
   "execution_count": 34,
   "metadata": {
    "colab": {},
    "colab_type": "code",
    "collapsed": true,
    "id": "K8uaUq8XSsQ8"
   },
   "outputs": [],
   "source": [
    "# Set seed for reproducability\n",
    "np.random.seed(SEED)\n",
    "# tf.random.set_seed(SEED)"
   ]
  },
  {
   "cell_type": "markdown",
   "metadata": {
    "colab_type": "text",
    "id": "jvJKjkMeJP4Q"
   },
   "source": [
    "# Data"
   ]
  },
  {
   "cell_type": "markdown",
   "metadata": {
    "colab_type": "text",
    "id": "RuPl9qlSJTIY"
   },
   "source": [
    "We're going to create some simple dummy data to apply linear regression on."
   ]
  },
  {
   "cell_type": "code",
   "execution_count": 35,
   "metadata": {
    "colab": {},
    "colab_type": "code",
    "collapsed": true,
    "id": "w5T7yGfiEQnx"
   },
   "outputs": [],
   "source": [
    "import matplotlib.pyplot as plt\n",
    "import pandas as pd"
   ]
  },
  {
   "cell_type": "markdown",
   "metadata": {
    "colab_type": "text",
    "id": "l_a--YWXdwig"
   },
   "source": [
    "### Components"
   ]
  },
  {
   "cell_type": "markdown",
   "metadata": {
    "colab_type": "text",
    "id": "McZ7wHsve61A"
   },
   "source": [
    "We're going to create some dummy data to train our linear regression model on. We're going to create roughly linear data (`y = 3.5X + 10`) with some random noise so the points don't all align in a straight line. Our goal is to have the model converge to a similar linear equation (there will be slight variance since we added some noise)."
   ]
  },
  {
   "cell_type": "code",
   "execution_count": 36,
   "metadata": {
    "colab": {},
    "colab_type": "code",
    "collapsed": true,
    "id": "jNWcn3uadzpJ"
   },
   "outputs": [],
   "source": [
    "# Generate synthetic data\n",
    "def generate_data(num_samples):\n",
    "    \"\"\"Generate dummy data for linear regression.\"\"\"\n",
    "    X = np.array(range(num_samples))\n",
    "    random_noise = np.random.uniform(-10,20,size=num_samples)\n",
    "    y = 3.5*X + random_noise # add some noise\n",
    "    return X, y"
   ]
  },
  {
   "cell_type": "markdown",
   "metadata": {
    "colab_type": "text",
    "id": "ppGTtKRrdwgF"
   },
   "source": [
    "### Operations"
   ]
  },
  {
   "cell_type": "markdown",
   "metadata": {
    "colab_type": "text",
    "id": "4f9KSJR6flBt"
   },
   "source": [
    "Now let's load the data onto a dataframe and visualize it."
   ]
  },
  {
   "cell_type": "code",
   "execution_count": 37,
   "metadata": {
    "colab": {
     "base_uri": "https://localhost:8080/",
     "height": 204
    },
    "colab_type": "code",
    "id": "2mb2SjSQIWvF",
    "outputId": "5a96430d-6776-4356-d685-2ce7fd7ddf26"
   },
   "outputs": [
    {
     "data": {
      "text/html": [
       "<div>\n",
       "<style>\n",
       "    .dataframe thead tr:only-child th {\n",
       "        text-align: right;\n",
       "    }\n",
       "\n",
       "    .dataframe thead th {\n",
       "        text-align: left;\n",
       "    }\n",
       "\n",
       "    .dataframe tbody tr th {\n",
       "        vertical-align: top;\n",
       "    }\n",
       "</style>\n",
       "<table border=\"1\" class=\"dataframe\">\n",
       "  <thead>\n",
       "    <tr style=\"text-align: right;\">\n",
       "      <th></th>\n",
       "      <th>X</th>\n",
       "      <th>y</th>\n",
       "    </tr>\n",
       "  </thead>\n",
       "  <tbody>\n",
       "    <tr>\n",
       "      <th>0</th>\n",
       "      <td>0.0</td>\n",
       "      <td>-4.254416</td>\n",
       "    </tr>\n",
       "    <tr>\n",
       "      <th>1</th>\n",
       "      <td>1.0</td>\n",
       "      <td>12.163263</td>\n",
       "    </tr>\n",
       "    <tr>\n",
       "      <th>2</th>\n",
       "      <td>2.0</td>\n",
       "      <td>10.131832</td>\n",
       "    </tr>\n",
       "    <tr>\n",
       "      <th>3</th>\n",
       "      <td>3.0</td>\n",
       "      <td>24.060758</td>\n",
       "    </tr>\n",
       "    <tr>\n",
       "      <th>4</th>\n",
       "      <td>4.0</td>\n",
       "      <td>27.399274</td>\n",
       "    </tr>\n",
       "  </tbody>\n",
       "</table>\n",
       "</div>"
      ],
      "text/plain": [
       "     X          y\n",
       "0  0.0  -4.254416\n",
       "1  1.0  12.163263\n",
       "2  2.0  10.131832\n",
       "3  3.0  24.060758\n",
       "4  4.0  27.399274"
      ]
     },
     "execution_count": 37,
     "metadata": {},
     "output_type": "execute_result"
    }
   ],
   "source": [
    "# Generate random (linear) data\n",
    "X, y = generate_data(num_samples=NUM_SAMPLES)\n",
    "data = np.vstack([X, y]).T\n",
    "df = pd.DataFrame(data, columns=['X', 'y'])\n",
    "X = df[['X']].values\n",
    "y = df[['y']].values\n",
    "df.head()"
   ]
  },
  {
   "cell_type": "code",
   "execution_count": 38,
   "metadata": {
    "colab": {
     "base_uri": "https://localhost:8080/",
     "height": 281
    },
    "colab_type": "code",
    "id": "6LwVVOkiLfBN",
    "outputId": "ed7e32c6-c0e2-447c-ad0c-dc4e4d734597"
   },
   "outputs": [
    {
     "data": {
      "image/png": "[encoded data removed]",
      "text/plain": [
       "<matplotlib.figure.Figure at 0x1a1c9495c0>"
      ]
     },
     "metadata": {},
     "output_type": "display_data"
    }
   ],
   "source": [
    "# Scatter plot\n",
    "plt.title(\"Generated data\")\n",
    "plt.scatter(x=df['X'], y=df['y'])\n",
    "plt.show()"
   ]
  },
  {
   "cell_type": "markdown",
   "metadata": {
    "colab_type": "text",
    "id": "Qwn29SjK-XCg"
   },
   "source": [
    "# Split data\n",
    "\n"
   ]
  },
  {
   "cell_type": "code",
   "execution_count": 39,
   "metadata": {
    "colab": {},
    "colab_type": "code",
    "collapsed": true,
    "id": "8Z0Nl1Oy3eOJ"
   },
   "outputs": [],
   "source": [
    "from sklearn.model_selection import train_test_split"
   ]
  },
  {
   "cell_type": "markdown",
   "metadata": {
    "colab_type": "text",
    "id": "q_bbSMUZ3e3m"
   },
   "source": [
    "### Components"
   ]
  },
  {
   "cell_type": "markdown",
   "metadata": {
    "colab_type": "text",
    "id": "-XAIAT-QoKn1"
   },
   "source": [
    "Since our task is a regression task, we will randomly split our dataset into **three** sets: train, validation and test data splits.\n",
    "\n",
    "* train: used to train our model.\n",
    "* val : used to validate our model's performance during training.\n",
    "* test: used to do an evaluation of our fully trained model."
   ]
  },
  {
   "cell_type": "markdown",
   "metadata": {
    "colab_type": "text",
    "id": "9wIw3j4Z_0ya"
   },
   "source": [
    "<div align=\"left\">\n",
    "<img src=\"https://raw.githubusercontent.com/practicalAI/images/master/images/lightbulb.gif\" width=\"45px\" align=\"left\" hspace=\"10px\">\n",
    "</div>\n",
    "Splitting the data for classification tasks are a bit different in that we want similar class distributions in each data split. We'll see this in action in the next lesson."
   ]
  },
  {
   "cell_type": "code",
   "execution_count": 40,
   "metadata": {
    "colab": {},
    "colab_type": "code",
    "collapsed": true,
    "id": "uKmBKodpgHEE"
   },
   "outputs": [],
   "source": [
    "def train_val_test_split(X, y, val_size, test_size, shuffle):\n",
    "    \"\"\"Split data into train/val/test datasets.\n",
    "    \"\"\"\n",
    "    X_train, X_test, y_train, y_test = train_test_split(\n",
    "        X, y, test_size=test_size, shuffle=shuffle)\n",
    "    X_train, X_val, y_train, y_val = train_test_split(\n",
    "        X_train, y_train, test_size=val_size, shuffle=shuffle)\n",
    "    return X_train, X_val, X_test, y_train, y_val, y_test"
   ]
  },
  {
   "cell_type": "markdown",
   "metadata": {
    "colab_type": "text",
    "id": "2SFTiscx3gNi"
   },
   "source": [
    "### Operations"
   ]
  },
  {
   "cell_type": "code",
   "execution_count": 41,
   "metadata": {
    "colab": {
     "base_uri": "https://localhost:8080/",
     "height": 102
    },
    "colab_type": "code",
    "id": "WuUQwD72NVAE",
    "outputId": "2eb09cdd-d96a-4242-80d3-20222efa1e41"
   },
   "outputs": [
    {
     "name": "stdout",
     "output_type": "stream",
     "text": [
      "X_train: (35, 1), y_train: (35, 1)\n",
      "X_val: (7, 1), y_test: (7, 1)\n",
      "X_test: (8, 1), y_test: (8, 1)\n",
      "X_train[0]: [12.]\n",
      "y_train[0]: [52.50388806]\n"
     ]
    }
   ],
   "source": [
    "# Create data splits\n",
    "X_train, X_val, X_test, y_train, y_val, y_test = train_val_test_split(\n",
    "    X, y, val_size=VAL_SIZE, test_size=TEST_SIZE, shuffle=SHUFFLE)\n",
    "print (f\"X_train: {X_train.shape}, y_train: {y_train.shape}\")\n",
    "print (f\"X_val: {X_val.shape}, y_test: {y_val.shape}\")\n",
    "print (f\"X_test: {X_test.shape}, y_test: {y_test.shape}\")\n",
    "print (f\"X_train[0]: {X_train[0]}\")\n",
    "print (f\"y_train[0]: {y_train[0]}\")"
   ]
  },
  {
   "cell_type": "markdown",
   "metadata": {
    "colab_type": "text",
    "id": "U-Eksj89d_yv"
   },
   "source": [
    "# Standardize data"
   ]
  },
  {
   "cell_type": "markdown",
   "metadata": {
    "colab_type": "text",
    "id": "MJVs6JF7trja"
   },
   "source": [
    "We need to standardize our data (zero mean and unit variance) in order to optimize quickly."
   ]
  },
  {
   "cell_type": "markdown",
   "metadata": {
    "colab_type": "text",
    "id": "yD7GFSnvsFfg"
   },
   "source": [
    "$z = \\frac{x_i - \\mu}{\\sigma}$\n",
    "* $z$ = standardized value\n",
    "* $x_i$ = inputs\n",
    "* $\\mu$ = mean\n",
    "* $\\sigma$ = standard deviation"
   ]
  },
  {
   "cell_type": "code",
   "execution_count": 42,
   "metadata": {
    "colab": {},
    "colab_type": "code",
    "collapsed": true,
    "id": "VlOYPD5GRjRC"
   },
   "outputs": [],
   "source": [
    "from sklearn.preprocessing import StandardScaler"
   ]
  },
  {
   "cell_type": "code",
   "execution_count": 43,
   "metadata": {
    "colab": {},
    "colab_type": "code",
    "collapsed": true,
    "id": "CiE3oLCkOCEa"
   },
   "outputs": [],
   "source": [
    "# Standardize the data (mean=0, std=1) using training data\n",
    "X_scaler = StandardScaler().fit(X_train)\n",
    "y_scaler = StandardScaler().fit(y_train)"
   ]
  },
  {
   "cell_type": "code",
   "execution_count": 44,
   "metadata": {
    "colab": {},
    "colab_type": "code",
    "collapsed": true,
    "id": "E7dKUyWGJ4Av"
   },
   "outputs": [],
   "source": [
    "# Apply scaler on training and test data and val data\n",
    "standardized_X_train = X_scaler.transform(X_train)\n",
    "standardized_y_train = y_scaler.transform(y_train).ravel()\n",
    "standardized_X_val = X_scaler.transform(X_val)\n",
    "standardized_y_val = y_scaler.transform(y_val).ravel()\n",
    "standardized_X_test = X_scaler.transform(X_test)\n",
    "standardized_y_test = y_scaler.transform(y_test).ravel()"
   ]
  },
  {
   "cell_type": "code",
   "execution_count": 45,
   "metadata": {
    "colab": {
     "base_uri": "https://localhost:8080/",
     "height": 119
    },
    "colab_type": "code",
    "id": "3JC-YFYFJ39Z",
    "outputId": "3cfb0813-841b-4640-bbbf-4715e5afab20"
   },
   "outputs": [
    {
     "name": "stdout",
     "output_type": "stream",
     "text": [
      "standardized_X_train: mean: -1.2688263138573217e-16, std: 1.0\n",
      "standardized_y_train: mean: 8.961085841617335e-17, std: 1.0\n",
      "standardized_X_val: mean: 0.455275148918323, std: 0.8941749819083381\n",
      "standardized_y_val: mean: 0.48468545395300805, std: 0.9785039908565315\n",
      "standardized_X_test: mean: -0.44282621906508784, std: 1.0652341142978086\n",
      "standardized_y_test: mean: -0.4940327711822252, std: 1.0650188983159736\n"
     ]
    }
   ],
   "source": [
    "# Check (means should be ~0 and std should be ~1)\n",
    "print (f\"standardized_X_train: mean: {np.mean(standardized_X_train, axis=0)[0]}, std: {np.std(standardized_X_train, axis=0)[0]}\")\n",
    "print (f\"standardized_y_train: mean: {np.mean(standardized_y_train, axis=0)}, std: {np.std(standardized_y_train, axis=0)}\")\n",
    "print (f\"standardized_X_val: mean: {np.mean(standardized_X_val, axis=0)[0]}, std: {np.std(standardized_X_val, axis=0)[0]}\")\n",
    "print (f\"standardized_y_val: mean: {np.mean(standardized_y_val, axis=0)}, std: {np.std(standardized_y_val, axis=0)}\")\n",
    "print (f\"standardized_X_test: mean: {np.mean(standardized_X_test, axis=0)[0]}, std: {np.std(standardized_X_test, axis=0)[0]}\")\n",
    "print (f\"standardized_y_test: mean: {np.mean(standardized_y_test, axis=0)}, std: {np.std(standardized_y_test, axis=0)}\")"
   ]
  },
  {
   "cell_type": "markdown",
   "metadata": {
    "colab_type": "text",
    "id": "sdruDHf_laWg"
   },
   "source": [
    "# From scratch\n",
    "\n",
    "Before we use TensorFlow 2.0 + Keras we will implent linear regression from scratch using NumPy so we can:\n",
    "1. Absorb the fundamental concepts by implementing from scratch\n",
    "2. Appreciate the level of abstraction TensorFlow provides\n",
    "\n",
    "<div align=\"left\">\n",
    "<img src=\"https://raw.githubusercontent.com/practicalAI/images/master/images/lightbulb.gif\" width=\"45px\" align=\"left\" hspace=\"10px\">\n",
    "</div>\n",
    "\n",
    "It's normal to find the math and code in this section slightly complex. You can still read each of the steps to build intuition for when we implement this using TensorFlow + Keras."
   ]
  },
  {
   "cell_type": "code",
   "execution_count": 46,
   "metadata": {},
   "outputs": [
    {
     "data": {
      "text/plain": [
       "(35,)"
      ]
     },
     "execution_count": 46,
     "metadata": {},
     "output_type": "execute_result"
    }
   ],
   "source": [
    "standardized_y_train.shape"
   ]
  },
  {
   "cell_type": "code",
   "execution_count": 47,
   "metadata": {
    "colab": {
     "base_uri": "https://localhost:8080/"
    },
    "colab_type": "code",
    "id": "U4Prl8dDl-T4",
    "outputId": "55ef92c1-4e73-4a63-ff51-9d3965cf5bc9"
   },
   "outputs": [
    {
     "name": "stdout",
     "output_type": "stream",
     "text": [
      "X: (35, 1)\n",
      "y: (35, 1)\n"
     ]
    }
   ],
   "source": [
    "#维度X,y保持一致\n",
    "standardized_y_train = standardized_y_train.reshape(-1, 1)\n",
    "print (f\"X: {standardized_X_train.shape}\")\n",
    "print (f\"y: {standardized_y_train.shape}\")"
   ]
  },
  {
   "cell_type": "markdown",
   "metadata": {
    "colab_type": "text",
    "id": "R8vzjUSW-05x"
   },
   "source": [
    "Our goal is to learn a linear model $\\hat{y}$ that models $y$ given $X$. \n",
    "\n",
    "$\\hat{y} = XW + b$\n",
    "* $\\hat{y}$ = predictions | $\\in \\mathbb{R}^{NX1}$ ($N$ is the number of samples)\n",
    "* $X$ = inputs | $\\in \\mathbb{R}^{NXD}$ ($D$ is the number of features)\n",
    "* $W$ = weights | $\\in \\mathbb{R}^{DX1}$ \n",
    "* $b$ = bias | $\\in \\mathbb{R}^{1}$ "
   ]
  },
  {
   "cell_type": "markdown",
   "metadata": {
    "colab_type": "text",
    "id": "R1QzuBFM8by6"
   },
   "source": [
    "1.   Randomly initialize the model's weights $W$."
   ]
  },
  {
   "cell_type": "code",
   "execution_count": 48,
   "metadata": {
    "colab": {
     "base_uri": "https://localhost:8080/"
    },
    "colab_type": "code",
    "id": "KJrD1GiCl-bX",
    "outputId": "43c0157f-47a3-4099-d400-50062b6e45b2"
   },
   "outputs": [
    {
     "name": "stdout",
     "output_type": "stream",
     "text": [
      "W: (1, 1)\n",
      "b: (1, 1)\n"
     ]
    }
   ],
   "source": [
    "# Initialize random weights\n",
    "W = 0.01 * np.random.randn(INPUT_DIM, 1)\n",
    "b = np.zeros((1, 1))\n",
    "print (f\"W: {W.shape}\")\n",
    "print (f\"b: {b.shape}\")"
   ]
  },
  {
   "cell_type": "markdown",
   "metadata": {
    "colab_type": "text",
    "id": "0IptdjlS8sBw"
   },
   "source": [
    "2. Feed inputs $X$ into the model to receive the predictions $\\hat{y}$.\n",
    "  * $\\hat{y} = XW + b$"
   ]
  },
  {
   "cell_type": "code",
   "execution_count": 49,
   "metadata": {
    "colab": {
     "base_uri": "https://localhost:8080/"
    },
    "colab_type": "code",
    "id": "_RQsyPW4sSLb",
    "outputId": "449589ec-558f-4925-8621-ce9f652a97c8"
   },
   "outputs": [
    {
     "name": "stdout",
     "output_type": "stream",
     "text": [
      "y_hat: (35, 1)\n"
     ]
    }
   ],
   "source": [
    "# Forward pass [NX1] · [1X1] = [NX1]\n",
    "y_hat = np.dot(standardized_X_train, W) + b\n",
    "print (f\"y_hat: {y_hat.shape}\")\n"
   ]
  },
  {
   "cell_type": "markdown",
   "metadata": {
    "colab_type": "text",
    "id": "W5ZTGKol84VO"
   },
   "source": [
    "3. Compare the predictions $\\hat{y}$ with the actual target values $y$ using the objective (cost) function to determine the loss $J$. A common objective function for linear regression is mean squarred error (MSE). This function calculates the difference between the predicted and target values and squares it.\n",
    "\n",
    "  * $J(\\theta) = MSE = \\frac{1}{N} \\sum_{i-1}^{N} (y_i - \\hat{y}_i)^2 $\n",
    "    * ${y}$ = ground truth | $\\in \\mathbb{R}^{NX1}$\n",
    "    * $\\hat{y}$ = predictions | $\\in \\mathbb{R}^{NX1}$"
   ]
  },
  {
   "cell_type": "code",
   "execution_count": 50,
   "metadata": {
    "colab": {
     "base_uri": "https://localhost:8080/"
    },
    "colab_type": "code",
    "id": "Cqs_50xcsSkm",
    "outputId": "eb89f7c8-63c5-49b3-e94e-654519728168"
   },
   "outputs": [
    {
     "name": "stdout",
     "output_type": "stream",
     "text": [
      "loss: 1.02\n"
     ]
    }
   ],
   "source": [
    "# Loss\n",
    "N = len(standardized_y_train)\n",
    "loss = (1/N) * np.sum((standardized_y_train - y_hat)**2)\n",
    "print (f\"loss: {loss:.2f}\")"
   ]
  },
  {
   "cell_type": "markdown",
   "metadata": {
    "colab_type": "text",
    "id": "hBQ59qNs90-u"
   },
   "source": [
    "4. Calculate the gradient of loss $J(\\theta)$ w.r.t to the model weights.\n",
    "  * $J(\\theta) = \\frac{1}{N} \\sum_i (y_i - \\hat{y}_i)^2  = \\frac{1}{N}\\sum_i (y_i - X_iW)^2 $\n",
    "    * $\\frac{\\partial{J}}{\\partial{W}} = -\\frac{2}{N} \\sum_i (y_i - X_iW) X_i = -\\frac{2}{N} \\sum_i (y_i - \\hat{y}_i) X_i$\n",
    "    * $\\frac{\\partial{J}}{\\partial{W}} = -\\frac{2}{N} \\sum_i (y_i - X_iW)1 = -\\frac{2}{N} \\sum_i (y_i - \\hat{y}_i)1$"
   ]
  },
  {
   "cell_type": "code",
   "execution_count": 51,
   "metadata": {
    "colab": {},
    "colab_type": "code",
    "collapsed": true,
    "id": "NlN9F8bysSiP"
   },
   "outputs": [],
   "source": [
    "# Backpropagation\n",
    "dW = -(2/N) * np.sum((standardized_y_train - y_hat) * standardized_X_train)\n",
    "db = -(2/N) * np.sum((standardized_y_train - y_hat) * 1)"
   ]
  },
  {
   "cell_type": "markdown",
   "metadata": {
    "colab_type": "text",
    "id": "vA8K64TF_fRD"
   },
   "source": [
    "5. Update the weights $W$ using a small learning rate $\\alpha$. The simplified intuition is that the gradient tells you the direction for how to increase something so subtracting it will help you go the other way since we want to decrease loss $J(\\theta)$:\n",
    "  * $W = W - \\alpha\\frac{\\partial{J}}{\\partial{W}}$\n",
    "  * $b = b - \\alpha\\frac{\\partial{J}}{\\partial{b}}$"
   ]
  },
  {
   "cell_type": "code",
   "execution_count": 52,
   "metadata": {
    "colab": {},
    "colab_type": "code",
    "collapsed": true,
    "id": "nBa96kSXvDnJ"
   },
   "outputs": [],
   "source": [
    "# Update weights\n",
    "W += -LEARNING_RATE * dW\n",
    "b += -LEARNING_RATE * db"
   ]
  },
  {
   "cell_type": "markdown",
   "metadata": {
    "colab_type": "text",
    "id": "3b0P4Ls6_thq"
   },
   "source": [
    "6. Repeat steps 2 - 5 to minimize the loss and train the model."
   ]
  },
  {
   "cell_type": "code",
   "execution_count": 53,
   "metadata": {
    "colab": {
     "base_uri": "https://localhost:8080/"
    },
    "colab_type": "code",
    "id": "xF6_RVuul-ZJ",
    "outputId": "d6dc9f2a-e5ad-465a-d8ed-dd8098bb836a"
   },
   "outputs": [
    {
     "name": "stdout",
     "output_type": "stream",
     "text": [
      "Epoch: 0, loss: 1.025\n",
      "Epoch: 10, loss: 0.040\n",
      "Epoch: 20, loss: 0.028\n",
      "Epoch: 30, loss: 0.028\n",
      "Epoch: 40, loss: 0.028\n",
      "Epoch: 50, loss: 0.028\n",
      "Epoch: 60, loss: 0.028\n",
      "Epoch: 70, loss: 0.028\n",
      "Epoch: 80, loss: 0.028\n",
      "Epoch: 90, loss: 0.028\n"
     ]
    }
   ],
   "source": [
    "# Initialize random weights\n",
    "W = 0.01 * np.random.randn(INPUT_DIM, 1)\n",
    "b = np.zeros((1, ))\n",
    "\n",
    "# Training loop\n",
    "for epoch_num in range(NUM_EPOCHS):\n",
    "\n",
    "    # Forward pass [NX1] · [1X1] = [NX1]\n",
    "    y_hat = np.dot(standardized_X_train, W) + b\n",
    "\n",
    "    # Loss\n",
    "    loss = (1/len(standardized_y_train)) * np.sum((standardized_y_train - y_hat)**2)\n",
    "\n",
    "    # show progress\n",
    "    if epoch_num%10 == 0:\n",
    "        print (f\"Epoch: {epoch_num}, loss: {loss:.3f}\")\n",
    "\n",
    "    # Backpropagation\n",
    "    dW = -(2/N) * np.sum((standardized_y_train - y_hat) * standardized_X_train)\n",
    "    db = -(2/N) * np.sum((standardized_y_train - y_hat) * 1)\n",
    "\n",
    "    # Update weights\n",
    "    W += -LEARNING_RATE * dW\n",
    "    b += -LEARNING_RATE * db"
   ]
  },
  {
   "cell_type": "code",
   "execution_count": 54,
   "metadata": {
    "colab": {},
    "colab_type": "code",
    "collapsed": true,
    "id": "fcIUx6d-69_g"
   },
   "outputs": [],
   "source": [
    "# Predictions \n",
    "pred_train = W*standardized_X_train + b\n",
    "pred_test = W*standardized_X_test + b"
   ]
  },
  {
   "cell_type": "code",
   "execution_count": 55,
   "metadata": {
    "colab": {
     "base_uri": "https://localhost:8080/"
    },
    "colab_type": "code",
    "id": "WB_c9ek16-FC",
    "outputId": "2b9b8568-6e6d-48ec-98d9-cb48fedda2dc"
   },
   "outputs": [
    {
     "name": "stdout",
     "output_type": "stream",
     "text": [
      "train_MSE: 0.03, test_MSE: 2.24\n"
     ]
    }
   ],
   "source": [
    "# Train and test MSE\n",
    "train_mse = np.mean((standardized_y_train - pred_train) ** 2)\n",
    "test_mse = np.mean((standardized_y_test - pred_test) ** 2)\n",
    "print (f\"train_MSE: {train_mse:.2f}, test_MSE: {test_mse:.2f}\")"
   ]
  },
  {
   "cell_type": "code",
   "execution_count": 56,
   "metadata": {
    "colab": {
     "base_uri": "https://localhost:8080/"
    },
    "colab_type": "code",
    "id": "by9uqJbC699J",
    "outputId": "52652814-cfa3-4d39-8d58-a085c2cab0ea"
   },
   "outputs": [
    {
     "data": {
      "image/png": "[encoded data removed]",
      "text/plain": [
       "<matplotlib.figure.Figure at 0x1a1cbdeac8>"
      ]
     },
     "metadata": {},
     "output_type": "display_data"
    }
   ],
   "source": [
    "# Figure size\n",
    "plt.figure(figsize=(15,5))\n",
    "\n",
    "# Plot train data\n",
    "plt.subplot(1, 2, 1)\n",
    "plt.title(\"Train\")\n",
    "plt.scatter(standardized_X_train, standardized_y_train, label='y_train')\n",
    "plt.plot(standardized_X_train, pred_train, color='red', linewidth=1, linestyle='-', label='model')\n",
    "plt.legend(loc='lower right')\n",
    "\n",
    "# Plot test data\n",
    "plt.subplot(1, 2, 2)\n",
    "plt.title(\"Test\")\n",
    "plt.scatter(standardized_X_test, standardized_y_test, label='y_test')\n",
    "plt.plot(standardized_X_test, pred_test, color='red', linewidth=1, linestyle='-', label='model')\n",
    "plt.legend(loc='lower right')\n",
    "\n",
    "# Show plots\n",
    "plt.show()"
   ]
  },
  {
   "cell_type": "markdown",
   "metadata": {
    "colab_type": "text",
    "id": "S3MlFkZ8_der"
   },
   "source": [
    "Since we standardized our inputs and outputs, our weights were fit to those standardized values. So we need to unstandardize our weights so we can compare it to our true weight (3.5).\n",
    "\n",
    "Note that both X and y were standardized.\n",
    "\n",
    "$\\hat{y}_{scaled} = b_{scaled} + \\sum_{j=1}^{k}W_{{scaled}_j}x_{{scaled}_j}$\n",
    "* $y_{scaled} = \\frac{\\hat{y} - \\bar{y}}{\\sigma_y}$\n",
    "* $x_{scaled} = \\frac{x_j - \\bar{x}_j}{\\sigma_j}$\n",
    "\n",
    "$\\frac{\\hat{y} - \\bar{y}}{\\sigma_y} = b_{scaled} + \\sum_{j=1}^{k}W_{{scaled}_j}\\frac{x_j - \\bar{x}_j}{\\sigma_j}$\n",
    "\n",
    "$ \\hat{y}_{scaled} = \\frac{\\hat{y}_{unscaled} - \\bar{y}}{\\sigma_y} = {b_{scaled}} + \\sum_{j=1}^{k} {W}_{{scaled}_j} (\\frac{x_j - \\bar{x}_j}{\\sigma_j}) $\n",
    "\n",
    "$\\hat{y}_{unscaled} = b_{scaled}\\sigma_y + \\bar{y} - \\sum_{j=1}^{k} {W}_{{scaled}_j}(\\frac{\\sigma_y}{\\sigma_j})\\bar{x}_j + \\sum_{j=1}^{k}{W}_{{scaled}_j}(\\frac{\\sigma_y}{\\sigma_j})x_j $\n",
    "\n",
    "In the expression above, we can see the expression $\\hat{y}_{unscaled} = W_{unscaled}x + b_{unscaled} $ where\n",
    "\n",
    "* $W_{unscaled} = \\sum_{j=1}^{k}{W}_j(\\frac{\\sigma_y}{\\sigma_j}) $\n",
    "\n",
    "* $b_{unscaled} = b_{scaled}\\sigma_y + \\bar{y} - \\sum_{j=1}^{k} {W}_j(\\frac{\\sigma_y}{\\sigma_j})\\bar{x}_j$\n",
    "\n",
    "\n",
    "\n"
   ]
  },
  {
   "cell_type": "code",
   "execution_count": 37,
   "metadata": {
    "colab": {
     "base_uri": "https://localhost:8080/"
    },
    "colab_type": "code",
    "id": "C-PcjG4G2TRq",
    "outputId": "74ac88ec-1c1a-4747-bd82-7902f9318bf7"
   },
   "outputs": [
    {
     "name": "stdout",
     "output_type": "stream",
     "text": [
      "[actual] y = 3.5X + noise\n",
      "[model] y_hat = 3.4X + 9.5\n"
     ]
    }
   ],
   "source": [
    "# Unscaled weights\n",
    "W_unscaled = W * (y_scaler.scale_/X_scaler.scale_)\n",
    "b_unscaled = b * y_scaler.scale_ + y_scaler.mean_ - np.sum(W_unscaled*X_scaler.mean_)\n",
    "print (\"[actual] y = 3.5X + noise\")\n",
    "print (f\"[model] y_hat = {W_unscaled[0][0]:.1f}X + {b_unscaled[0]:.1f}\")   #实际中只关心这一条"
   ]
  },
  {
   "cell_type": "markdown",
   "metadata": {
    "colab_type": "text",
    "id": "LD5m4v1A9nqF"
   },
   "source": [
    "Now let's implement linear regression with TensorFlow + Keras."
   ]
  },
  {
   "cell_type": "markdown",
   "metadata": {
    "colab_type": "text",
    "id": "33NIijOMKqZF"
   },
   "source": [
    "# TensorFlow + Keras"
   ]
  },
  {
   "cell_type": "markdown",
   "metadata": {
    "colab_type": "text",
    "id": "wCuIxAH7KuwG"
   },
   "source": [
    "We will be using [Dense layers](https://www.tensorflow.org/versions/r2.0/api_docs/python/tf/keras/layers/Dense) in our MLP implementation. The layer applies an activation function on the dot product of the layer's inputs and its weights.\n",
    "\n",
    "$ z = \\text{activation}(XW)$"
   ]
  },
  {
   "cell_type": "code",
   "execution_count": 57,
   "metadata": {
    "colab": {},
    "colab_type": "code",
    "id": "QvjSlcsfKqjY"
   },
   "outputs": [
    {
     "name": "stderr",
     "output_type": "stream",
     "text": [
      "/Users/SJX/anaconda3/lib/python3.6/site-packages/tensorflow/python/framework/dtypes.py:516: FutureWarning: Passing (type, 1) or '1type' as a synonym of type is deprecated; in a future version of numpy, it will be understood as (type, (1,)) / '(1,)type'.\n",
      "  _np_qint8 = np.dtype([(\"qint8\", np.int8, 1)])\n",
      "/Users/SJX/anaconda3/lib/python3.6/site-packages/tensorflow/python/framework/dtypes.py:517: FutureWarning: Passing (type, 1) or '1type' as a synonym of type is deprecated; in a future version of numpy, it will be understood as (type, (1,)) / '(1,)type'.\n",
      "  _np_quint8 = np.dtype([(\"quint8\", np.uint8, 1)])\n",
      "/Users/SJX/anaconda3/lib/python3.6/site-packages/tensorflow/python/framework/dtypes.py:518: FutureWarning: Passing (type, 1) or '1type' as a synonym of type is deprecated; in a future version of numpy, it will be understood as (type, (1,)) / '(1,)type'.\n",
      "  _np_qint16 = np.dtype([(\"qint16\", np.int16, 1)])\n",
      "/Users/SJX/anaconda3/lib/python3.6/site-packages/tensorflow/python/framework/dtypes.py:519: FutureWarning: Passing (type, 1) or '1type' as a synonym of type is deprecated; in a future version of numpy, it will be understood as (type, (1,)) / '(1,)type'.\n",
      "  _np_quint16 = np.dtype([(\"quint16\", np.uint16, 1)])\n",
      "/Users/SJX/anaconda3/lib/python3.6/site-packages/tensorflow/python/framework/dtypes.py:520: FutureWarning: Passing (type, 1) or '1type' as a synonym of type is deprecated; in a future version of numpy, it will be understood as (type, (1,)) / '(1,)type'.\n",
      "  _np_qint32 = np.dtype([(\"qint32\", np.int32, 1)])\n",
      "/Users/SJX/anaconda3/lib/python3.6/site-packages/tensorflow/python/framework/dtypes.py:525: FutureWarning: Passing (type, 1) or '1type' as a synonym of type is deprecated; in a future version of numpy, it will be understood as (type, (1,)) / '(1,)type'.\n",
      "  np_resource = np.dtype([(\"resource\", np.ubyte, 1)])\n",
      "/Users/SJX/anaconda3/lib/python3.6/site-packages/h5py/__init__.py:34: FutureWarning: Conversion of the second argument of issubdtype from `float` to `np.floating` is deprecated. In future, it will be treated as `np.float64 == np.dtype(float).type`.\n",
      "  from ._conv import register_converters as _register_converters\n",
      "/Users/SJX/anaconda3/lib/python3.6/site-packages/tensorboard/compat/tensorflow_stub/dtypes.py:541: FutureWarning: Passing (type, 1) or '1type' as a synonym of type is deprecated; in a future version of numpy, it will be understood as (type, (1,)) / '(1,)type'.\n",
      "  _np_qint8 = np.dtype([(\"qint8\", np.int8, 1)])\n",
      "/Users/SJX/anaconda3/lib/python3.6/site-packages/tensorboard/compat/tensorflow_stub/dtypes.py:542: FutureWarning: Passing (type, 1) or '1type' as a synonym of type is deprecated; in a future version of numpy, it will be understood as (type, (1,)) / '(1,)type'.\n",
      "  _np_quint8 = np.dtype([(\"quint8\", np.uint8, 1)])\n",
      "/Users/SJX/anaconda3/lib/python3.6/site-packages/tensorboard/compat/tensorflow_stub/dtypes.py:543: FutureWarning: Passing (type, 1) or '1type' as a synonym of type is deprecated; in a future version of numpy, it will be understood as (type, (1,)) / '(1,)type'.\n",
      "  _np_qint16 = np.dtype([(\"qint16\", np.int16, 1)])\n",
      "/Users/SJX/anaconda3/lib/python3.6/site-packages/tensorboard/compat/tensorflow_stub/dtypes.py:544: FutureWarning: Passing (type, 1) or '1type' as a synonym of type is deprecated; in a future version of numpy, it will be understood as (type, (1,)) / '(1,)type'.\n",
      "  _np_quint16 = np.dtype([(\"quint16\", np.uint16, 1)])\n",
      "/Users/SJX/anaconda3/lib/python3.6/site-packages/tensorboard/compat/tensorflow_stub/dtypes.py:545: FutureWarning: Passing (type, 1) or '1type' as a synonym of type is deprecated; in a future version of numpy, it will be understood as (type, (1,)) / '(1,)type'.\n",
      "  _np_qint32 = np.dtype([(\"qint32\", np.int32, 1)])\n",
      "/Users/SJX/anaconda3/lib/python3.6/site-packages/tensorboard/compat/tensorflow_stub/dtypes.py:550: FutureWarning: Passing (type, 1) or '1type' as a synonym of type is deprecated; in a future version of numpy, it will be understood as (type, (1,)) / '(1,)type'.\n",
      "  np_resource = np.dtype([(\"resource\", np.ubyte, 1)])\n"
     ]
    }
   ],
   "source": [
    "from tensorflow.keras.layers import Dense\n",
    "from tensorflow.keras.layers import Input"
   ]
  },
  {
   "cell_type": "code",
   "execution_count": 58,
   "metadata": {
    "colab": {
     "base_uri": "https://localhost:8080/",
     "height": 34
    },
    "colab_type": "code",
    "id": "07hfw6dcK_jo",
    "outputId": "c05d40b6-a1ec-4bfc-b72f-c102fde37ecd"
   },
   "outputs": [
    {
     "name": "stderr",
     "output_type": "stream",
     "text": [
      "WARNING: Logging before flag parsing goes to stderr.\n",
      "W0109 18:04:04.206878 4647886272 deprecation.py:506] From /Users/SJX/anaconda3/lib/python3.6/site-packages/tensorflow/python/ops/init_ops.py:1251: calling VarianceScaling.__init__ (from tensorflow.python.ops.init_ops) with dtype is deprecated and will be removed in a future version.\n",
      "Instructions for updating:\n",
      "Call initializer instance with the dtype argument instead of passing it to the constructor\n"
     ]
    },
    {
     "name": "stdout",
     "output_type": "stream",
     "text": [
      "z (?, 1) = x (?, 1) · W (1, 1) + b (1,)\n"
     ]
    }
   ],
   "source": [
    "x = Input(shape=(INPUT_DIM,))\n",
    "fc = Dense(units=HIDDEN_DIM, activation='linear')\n",
    "z = fc(x)\n",
    "W, b = fc.weights\n",
    "print (f\"z {z.shape} = x {x.shape} · W {W.shape} + b {b.shape}\")"
   ]
  },
  {
   "cell_type": "code",
   "execution_count": 64,
   "metadata": {},
   "outputs": [
    {
     "data": {
      "text/plain": [
       "<tf.Variable 'dense/bias:0' shape=(1,) dtype=float32>"
      ]
     },
     "execution_count": 64,
     "metadata": {},
     "output_type": "execute_result"
    }
   ],
   "source": [
    "b"
   ]
  },
  {
   "cell_type": "markdown",
   "metadata": {
    "colab_type": "text",
    "id": "4drnbzryeVsD"
   },
   "source": [
    "# Model"
   ]
  },
  {
   "cell_type": "code",
   "execution_count": 65,
   "metadata": {
    "colab": {},
    "colab_type": "code",
    "collapsed": true,
    "id": "sGH_pQaDOb49"
   },
   "outputs": [],
   "source": [
    "from tensorflow.keras.layers import Dense\n",
    "from tensorflow.keras.layers import Input\n",
    "from tensorflow.keras.losses import MeanSquaredError\n",
    "from tensorflow.keras.metrics import MeanAbsolutePercentageError\n",
    "from tensorflow.keras.models import Model\n",
    "from tensorflow.keras.optimizers import Adam"
   ]
  },
  {
   "cell_type": "code",
   "execution_count": 66,
   "metadata": {
    "colab": {},
    "colab_type": "code",
    "collapsed": true,
    "id": "V-3zRdoIeaas"
   },
   "outputs": [],
   "source": [
    "# Linear regression\n",
    "class LinearRegression(Model):\n",
    "    def __init__(self, hidden_dim):\n",
    "        super(LinearRegression, self).__init__()\n",
    "        self.fc1 = Dense(units=hidden_dim, activation='linear')\n",
    "        \n",
    "    def call(self, x_in, training=False):\n",
    "        \"\"\"Forward pass.\"\"\"\n",
    "        y_pred = self.fc1(x_in)\n",
    "        return y_pred\n",
    "    \n",
    "    def sample(self, input_shape):\n",
    "        x_in = Input(shape=input_shape)\n",
    "        return Model(inputs=x_in, outputs=self.call(x_in)).summary()"
   ]
  },
  {
   "cell_type": "code",
   "execution_count": 67,
   "metadata": {
    "colab": {
     "base_uri": "https://localhost:8080/",
     "height": 221
    },
    "colab_type": "code",
    "id": "8y3YIttkeaX2",
    "outputId": "c1b26629-a5b8-47bc-c446-4a85de7e2c0b"
   },
   "outputs": [
    {
     "name": "stdout",
     "output_type": "stream",
     "text": [
      "Model: \"model\"\n",
      "_________________________________________________________________\n",
      "Layer (type)                 Output Shape              Param #   \n",
      "=================================================================\n",
      "input_2 (InputLayer)         [(None, 1)]               0         \n",
      "_________________________________________________________________\n",
      "dense_1 (Dense)              (None, 1)                 2         \n",
      "=================================================================\n",
      "Total params: 2\n",
      "Trainable params: 2\n",
      "Non-trainable params: 0\n",
      "_________________________________________________________________\n"
     ]
    }
   ],
   "source": [
    "# Initialize the model\n",
    "model = LinearRegression(hidden_dim=HIDDEN_DIM)\n",
    "model.sample(input_shape=(INPUT_DIM,))"
   ]
  },
  {
   "cell_type": "markdown",
   "metadata": {
    "colab_type": "text",
    "id": "Yj5snqjN0Y4j"
   },
   "source": [
    "When we implemented linear regression from scratch, we used batch gradient descent to update our weights. But there are actually many different [gradient descent optimization algorithms](https://ruder.io/optimizing-gradient-descent/) to choose from and it depends on the situation. However, the [ADAM optimizer](https://ruder.io/optimizing-gradient-descent/index.html#gradientdescentoptimizationalgorithms/#adam) has become a standard algorithm for most cases. "
   ]
  },
  {
   "cell_type": "code",
   "execution_count": 68,
   "metadata": {
    "colab": {},
    "colab_type": "code",
    "collapsed": true,
    "id": "0eZiOOYeerCV"
   },
   "outputs": [],
   "source": [
    "# Compile\n",
    "model.compile(optimizer=Adam(lr=LEARNING_RATE),\n",
    "              loss=MeanSquaredError(),\n",
    "              metrics=[MeanAbsolutePercentageError()])"
   ]
  },
  {
   "cell_type": "markdown",
   "metadata": {
    "colab_type": "text",
    "id": "ysKlKW_lki9R"
   },
   "source": [
    "<img height=\"45\" src=\"http://bestanimations.com/HomeOffice/Lights/Bulbs/animated-light-bulb-gif-29.gif\" align=\"left\" vspace=\"5px\" hspace=\"10px\">\n",
    "\n",
    "Here are the full list of options for [optimizer](https://www.tensorflow.org/versions/r2.0/api_docs/python/tf/keras/optimizers), [loss](https://www.tensorflow.org/versions/r2.0/api_docs/python/tf/keras/losses) and [metrics](https://www.tensorflow.org/versions/r2.0/api_docs/python/tf/keras/metrics)."
   ]
  },
  {
   "cell_type": "markdown",
   "metadata": {
    "colab_type": "text",
    "id": "7VtxXsNq3hrz"
   },
   "source": [
    "# Training"
   ]
  },
  {
   "cell_type": "markdown",
   "metadata": {
    "colab_type": "text",
    "id": "PWn-wFPEFu38"
   },
   "source": [
    "When we implemented linear regression from scratch, we used batch gradient descent to update our weights. This means that we calculated the gradients using the entire training dataset. We also could've updated our weights using stochastic gradient descent (SGD) where we pass in one training example at a time. The current standard is mini-batch gradient descent, which strikes a balance between batch and stochastic GD, where we update the weights using a mini-batch of n (`BATCH_SIZE`) samples."
   ]
  },
  {
   "cell_type": "code",
   "execution_count": 71,
   "metadata": {
    "colab": {
     "base_uri": "https://localhost:8080/",
     "height": 1000
    },
    "colab_type": "code",
    "id": "u_ZOiIGleq_l",
    "outputId": "81046735-603d-48ce-abc3-0c4b42b88ade"
   },
   "outputs": [
    {
     "name": "stdout",
     "output_type": "stream",
     "text": [
      "Train on 35 samples, validate on 7 samples\n",
      "Epoch 1/100\n",
      "35/35 [==============================] - 0s 3ms/sample - loss: 5.9274 - mean_absolute_percentage_error: 298.8128 - val_loss: 5.3682 - val_mean_absolute_percentage_error: 181.5307\n",
      "Epoch 2/100\n",
      "35/35 [==============================] - 0s 545us/sample - loss: 4.0715 - mean_absolute_percentage_error: 243.9709 - val_loss: 3.5870 - val_mean_absolute_percentage_error: 155.4494\n",
      "Epoch 3/100\n",
      "35/35 [==============================] - 0s 431us/sample - loss: 2.6682 - mean_absolute_percentage_error: 180.7810 - val_loss: 2.1894 - val_mean_absolute_percentage_error: 131.2296\n",
      "Epoch 4/100\n",
      "35/35 [==============================] - 0s 359us/sample - loss: 1.6260 - mean_absolute_percentage_error: 124.9877 - val_loss: 1.2119 - val_mean_absolute_percentage_error: 108.0205\n",
      "Epoch 5/100\n",
      "35/35 [==============================] - 0s 400us/sample - loss: 0.9058 - mean_absolute_percentage_error: 103.0718 - val_loss: 0.5986 - val_mean_absolute_percentage_error: 85.8562\n",
      "Epoch 6/100\n",
      "35/35 [==============================] - 0s 229us/sample - loss: 0.4497 - mean_absolute_percentage_error: 86.3067 - val_loss: 0.2574 - val_mean_absolute_percentage_error: 65.1962\n",
      "Epoch 7/100\n",
      "35/35 [==============================] - 0s 450us/sample - loss: 0.1922 - mean_absolute_percentage_error: 68.7496 - val_loss: 0.0938 - val_mean_absolute_percentage_error: 46.7636\n",
      "Epoch 8/100\n",
      "35/35 [==============================] - 0s 376us/sample - loss: 0.0715 - mean_absolute_percentage_error: 53.4390 - val_loss: 0.0306 - val_mean_absolute_percentage_error: 31.3600\n",
      "Epoch 9/100\n",
      "35/35 [==============================] - 0s 246us/sample - loss: 0.0351 - mean_absolute_percentage_error: 44.2534 - val_loss: 0.0152 - val_mean_absolute_percentage_error: 22.6407\n",
      "Epoch 10/100\n",
      "35/35 [==============================] - 0s 246us/sample - loss: 0.0405 - mean_absolute_percentage_error: 44.3346 - val_loss: 0.0169 - val_mean_absolute_percentage_error: 17.6894\n",
      "Epoch 11/100\n",
      "35/35 [==============================] - 0s 397us/sample - loss: 0.0570 - mean_absolute_percentage_error: 45.1011 - val_loss: 0.0203 - val_mean_absolute_percentage_error: 16.4284\n",
      "Epoch 12/100\n",
      "35/35 [==============================] - 0s 272us/sample - loss: 0.0666 - mean_absolute_percentage_error: 45.2072 - val_loss: 0.0202 - val_mean_absolute_percentage_error: 16.4294\n",
      "Epoch 13/100\n",
      "35/35 [==============================] - 0s 266us/sample - loss: 0.0640 - mean_absolute_percentage_error: 44.2797 - val_loss: 0.0174 - val_mean_absolute_percentage_error: 16.1413\n",
      "Epoch 14/100\n",
      "35/35 [==============================] - 0s 464us/sample - loss: 0.0532 - mean_absolute_percentage_error: 42.8047 - val_loss: 0.0149 - val_mean_absolute_percentage_error: 16.8430\n",
      "Epoch 15/100\n",
      "35/35 [==============================] - 0s 309us/sample - loss: 0.0411 - mean_absolute_percentage_error: 41.3964 - val_loss: 0.0150 - val_mean_absolute_percentage_error: 19.3464\n",
      "Epoch 16/100\n",
      "35/35 [==============================] - 0s 321us/sample - loss: 0.0325 - mean_absolute_percentage_error: 40.1400 - val_loss: 0.0181 - val_mean_absolute_percentage_error: 22.1388\n",
      "Epoch 17/100\n",
      "35/35 [==============================] - 0s 517us/sample - loss: 0.0287 - mean_absolute_percentage_error: 39.0937 - val_loss: 0.0232 - val_mean_absolute_percentage_error: 25.2355\n",
      "Epoch 18/100\n",
      "35/35 [==============================] - 0s 474us/sample - loss: 0.0283 - mean_absolute_percentage_error: 38.1845 - val_loss: 0.0286 - val_mean_absolute_percentage_error: 27.2888\n",
      "Epoch 19/100\n",
      "35/35 [==============================] - ETA: 0s - loss: 0.0334 - mean_absolute_percentage_error: 27.908 - 0s 359us/sample - loss: 0.0293 - mean_absolute_percentage_error: 37.1865 - val_loss: 0.0329 - val_mean_absolute_percentage_error: 28.3460\n",
      "Epoch 20/100\n",
      "35/35 [==============================] - 0s 426us/sample - loss: 0.0303 - mean_absolute_percentage_error: 36.3563 - val_loss: 0.0353 - val_mean_absolute_percentage_error: 28.6137\n",
      "Epoch 21/100\n",
      "35/35 [==============================] - 0s 358us/sample - loss: 0.0307 - mean_absolute_percentage_error: 35.7808 - val_loss: 0.0355 - val_mean_absolute_percentage_error: 28.3553\n",
      "Epoch 22/100\n",
      "35/35 [==============================] - 0s 493us/sample - loss: 0.0305 - mean_absolute_percentage_error: 35.5851 - val_loss: 0.0339 - val_mean_absolute_percentage_error: 27.8141\n",
      "Epoch 23/100\n",
      "35/35 [==============================] - 0s 381us/sample - loss: 0.0299 - mean_absolute_percentage_error: 35.7399 - val_loss: 0.0315 - val_mean_absolute_percentage_error: 27.1729\n",
      "Epoch 24/100\n",
      "35/35 [==============================] - ETA: 0s - loss: 0.0333 - mean_absolute_percentage_error: 29.340 - 0s 298us/sample - loss: 0.0292 - mean_absolute_percentage_error: 36.1041 - val_loss: 0.0291 - val_mean_absolute_percentage_error: 26.5498\n",
      "Epoch 25/100\n",
      "35/35 [==============================] - 0s 244us/sample - loss: 0.0288 - mean_absolute_percentage_error: 36.5507 - val_loss: 0.0272 - val_mean_absolute_percentage_error: 26.0136\n",
      "Epoch 26/100\n",
      "35/35 [==============================] - 0s 376us/sample - loss: 0.0285 - mean_absolute_percentage_error: 36.8763 - val_loss: 0.0259 - val_mean_absolute_percentage_error: 25.6027\n",
      "Epoch 27/100\n",
      "35/35 [==============================] - 0s 422us/sample - loss: 0.0284 - mean_absolute_percentage_error: 37.0349 - val_loss: 0.0253 - val_mean_absolute_percentage_error: 25.3369\n",
      "Epoch 28/100\n",
      "35/35 [==============================] - 0s 303us/sample - loss: 0.0283 - mean_absolute_percentage_error: 37.0302 - val_loss: 0.0253 - val_mean_absolute_percentage_error: 25.2201\n",
      "Epoch 29/100\n",
      "35/35 [==============================] - ETA: 0s - loss: 0.0341 - mean_absolute_percentage_error: 30.567 - 0s 403us/sample - loss: 0.0283 - mean_absolute_percentage_error: 36.9310 - val_loss: 0.0255 - val_mean_absolute_percentage_error: 25.2374\n",
      "Epoch 30/100\n",
      "35/35 [==============================] - 0s 339us/sample - loss: 0.0283 - mean_absolute_percentage_error: 36.8190 - val_loss: 0.0259 - val_mean_absolute_percentage_error: 25.3547\n",
      "Epoch 31/100\n",
      "35/35 [==============================] - 0s 396us/sample - loss: 0.0284 - mean_absolute_percentage_error: 36.7548 - val_loss: 0.0263 - val_mean_absolute_percentage_error: 25.5247\n",
      "Epoch 32/100\n",
      "35/35 [==============================] - 0s 251us/sample - loss: 0.0284 - mean_absolute_percentage_error: 36.7334 - val_loss: 0.0267 - val_mean_absolute_percentage_error: 25.6974\n",
      "Epoch 33/100\n",
      "35/35 [==============================] - 0s 245us/sample - loss: 0.0285 - mean_absolute_percentage_error: 36.7361 - val_loss: 0.0269 - val_mean_absolute_percentage_error: 25.8335\n",
      "Epoch 34/100\n",
      "35/35 [==============================] - 0s 467us/sample - loss: 0.0285 - mean_absolute_percentage_error: 36.7396 - val_loss: 0.0271 - val_mean_absolute_percentage_error: 25.9123\n",
      "Epoch 35/100\n",
      "35/35 [==============================] - 0s 269us/sample - loss: 0.0285 - mean_absolute_percentage_error: 36.7315 - val_loss: 0.0271 - val_mean_absolute_percentage_error: 25.9335\n",
      "Epoch 36/100\n",
      "35/35 [==============================] - 0s 291us/sample - loss: 0.0285 - mean_absolute_percentage_error: 36.7137 - val_loss: 0.0271 - val_mean_absolute_percentage_error: 25.9117\n",
      "Epoch 37/100\n",
      "35/35 [==============================] - 0s 660us/sample - loss: 0.0285 - mean_absolute_percentage_error: 36.6973 - val_loss: 0.0271 - val_mean_absolute_percentage_error: 25.8680\n",
      "Epoch 38/100\n",
      "35/35 [==============================] - 0s 318us/sample - loss: 0.0285 - mean_absolute_percentage_error: 36.6923 - val_loss: 0.0270 - val_mean_absolute_percentage_error: 25.8212\n",
      "Epoch 39/100\n",
      "35/35 [==============================] - 0s 628us/sample - loss: 0.0285 - mean_absolute_percentage_error: 36.7013 - val_loss: 0.0269 - val_mean_absolute_percentage_error: 25.7834\n",
      "Epoch 40/100\n",
      "35/35 [==============================] - 0s 530us/sample - loss: 0.0285 - mean_absolute_percentage_error: 36.7189 - val_loss: 0.0268 - val_mean_absolute_percentage_error: 25.7593\n",
      "Epoch 41/100\n",
      "35/35 [==============================] - 0s 382us/sample - loss: 0.0285 - mean_absolute_percentage_error: 36.7359 - val_loss: 0.0267 - val_mean_absolute_percentage_error: 25.7482\n",
      "Epoch 42/100\n"
     ]
    },
    {
     "name": "stdout",
     "output_type": "stream",
     "text": [
      "35/35 [==============================] - 0s 824us/sample - loss: 0.0285 - mean_absolute_percentage_error: 36.7453 - val_loss: 0.0267 - val_mean_absolute_percentage_error: 25.7470\n",
      "Epoch 43/100\n",
      "35/35 [==============================] - 0s 769us/sample - loss: 0.0285 - mean_absolute_percentage_error: 36.7453 - val_loss: 0.0267 - val_mean_absolute_percentage_error: 25.7520\n",
      "Epoch 44/100\n",
      "35/35 [==============================] - 0s 802us/sample - loss: 0.0285 - mean_absolute_percentage_error: 36.7388 - val_loss: 0.0268 - val_mean_absolute_percentage_error: 25.7604\n",
      "Epoch 45/100\n",
      "35/35 [==============================] - 0s 607us/sample - loss: 0.0285 - mean_absolute_percentage_error: 36.7308 - val_loss: 0.0268 - val_mean_absolute_percentage_error: 25.7698\n",
      "Epoch 46/100\n",
      "35/35 [==============================] - 0s 721us/sample - loss: 0.0285 - mean_absolute_percentage_error: 36.7252 - val_loss: 0.0268 - val_mean_absolute_percentage_error: 25.7782\n",
      "Epoch 47/100\n",
      "35/35 [==============================] - ETA: 0s - loss: 0.0338 - mean_absolute_percentage_error: 30.179 - 0s 870us/sample - loss: 0.0285 - mean_absolute_percentage_error: 36.7233 - val_loss: 0.0268 - val_mean_absolute_percentage_error: 25.7839\n",
      "Epoch 48/100\n",
      "35/35 [==============================] - 0s 539us/sample - loss: 0.0285 - mean_absolute_percentage_error: 36.7239 - val_loss: 0.0268 - val_mean_absolute_percentage_error: 25.7861\n",
      "Epoch 49/100\n",
      "35/35 [==============================] - 0s 670us/sample - loss: 0.0285 - mean_absolute_percentage_error: 36.7251 - val_loss: 0.0268 - val_mean_absolute_percentage_error: 25.7849\n",
      "Epoch 50/100\n",
      "35/35 [==============================] - 0s 739us/sample - loss: 0.0285 - mean_absolute_percentage_error: 36.7257 - val_loss: 0.0268 - val_mean_absolute_percentage_error: 25.7816\n",
      "Epoch 51/100\n",
      "35/35 [==============================] - 0s 850us/sample - loss: 0.0285 - mean_absolute_percentage_error: 36.7255 - val_loss: 0.0268 - val_mean_absolute_percentage_error: 25.7776\n",
      "Epoch 52/100\n",
      "35/35 [==============================] - 0s 807us/sample - loss: 0.0285 - mean_absolute_percentage_error: 36.7251 - val_loss: 0.0268 - val_mean_absolute_percentage_error: 25.7742\n",
      "Epoch 53/100\n",
      "35/35 [==============================] - 0s 736us/sample - loss: 0.0285 - mean_absolute_percentage_error: 36.7250 - val_loss: 0.0268 - val_mean_absolute_percentage_error: 25.7720\n",
      "Epoch 54/100\n",
      "35/35 [==============================] - 0s 833us/sample - loss: 0.0285 - mean_absolute_percentage_error: 36.7253 - val_loss: 0.0268 - val_mean_absolute_percentage_error: 25.7713\n",
      "Epoch 55/100\n",
      "35/35 [==============================] - 0s 574us/sample - loss: 0.0285 - mean_absolute_percentage_error: 36.7257 - val_loss: 0.0268 - val_mean_absolute_percentage_error: 25.7715\n",
      "Epoch 56/100\n",
      "35/35 [==============================] - 0s 587us/sample - loss: 0.0285 - mean_absolute_percentage_error: 36.7257 - val_loss: 0.0268 - val_mean_absolute_percentage_error: 25.7720\n",
      "Epoch 57/100\n",
      "35/35 [==============================] - 0s 529us/sample - loss: 0.0285 - mean_absolute_percentage_error: 36.7253 - val_loss: 0.0268 - val_mean_absolute_percentage_error: 25.7726\n",
      "Epoch 58/100\n",
      "35/35 [==============================] - 0s 580us/sample - loss: 0.0285 - mean_absolute_percentage_error: 36.7245 - val_loss: 0.0268 - val_mean_absolute_percentage_error: 25.7730\n",
      "Epoch 59/100\n",
      "35/35 [==============================] - 0s 492us/sample - loss: 0.0285 - mean_absolute_percentage_error: 36.7238 - val_loss: 0.0268 - val_mean_absolute_percentage_error: 25.7730\n",
      "Epoch 60/100\n",
      "35/35 [==============================] - 0s 591us/sample - loss: 0.0285 - mean_absolute_percentage_error: 36.7233 - val_loss: 0.0268 - val_mean_absolute_percentage_error: 25.7728\n",
      "Epoch 61/100\n",
      "35/35 [==============================] - 0s 430us/sample - loss: 0.0285 - mean_absolute_percentage_error: 36.7231 - val_loss: 0.0268 - val_mean_absolute_percentage_error: 25.7724\n",
      "Epoch 62/100\n",
      "35/35 [==============================] - 0s 452us/sample - loss: 0.0285 - mean_absolute_percentage_error: 36.7230 - val_loss: 0.0268 - val_mean_absolute_percentage_error: 25.7718\n",
      "Epoch 63/100\n",
      "35/35 [==============================] - 0s 547us/sample - loss: 0.0285 - mean_absolute_percentage_error: 36.7230 - val_loss: 0.0268 - val_mean_absolute_percentage_error: 25.7712\n",
      "Epoch 64/100\n",
      "35/35 [==============================] - 0s 460us/sample - loss: 0.0285 - mean_absolute_percentage_error: 36.7228 - val_loss: 0.0268 - val_mean_absolute_percentage_error: 25.7706\n",
      "Epoch 65/100\n",
      "35/35 [==============================] - 0s 323us/sample - loss: 0.0285 - mean_absolute_percentage_error: 36.7225 - val_loss: 0.0268 - val_mean_absolute_percentage_error: 25.7701\n",
      "Epoch 66/100\n",
      "35/35 [==============================] - 0s 417us/sample - loss: 0.0285 - mean_absolute_percentage_error: 36.7223 - val_loss: 0.0268 - val_mean_absolute_percentage_error: 25.7698\n",
      "Epoch 67/100\n",
      "35/35 [==============================] - 0s 247us/sample - loss: 0.0285 - mean_absolute_percentage_error: 36.7220 - val_loss: 0.0268 - val_mean_absolute_percentage_error: 25.7695\n",
      "Epoch 68/100\n",
      "35/35 [==============================] - 0s 335us/sample - loss: 0.0285 - mean_absolute_percentage_error: 36.7218 - val_loss: 0.0268 - val_mean_absolute_percentage_error: 25.7693\n",
      "Epoch 69/100\n",
      "35/35 [==============================] - 0s 316us/sample - loss: 0.0285 - mean_absolute_percentage_error: 36.7215 - val_loss: 0.0268 - val_mean_absolute_percentage_error: 25.7691\n",
      "Epoch 70/100\n",
      "35/35 [==============================] - 0s 371us/sample - loss: 0.0285 - mean_absolute_percentage_error: 36.7213 - val_loss: 0.0268 - val_mean_absolute_percentage_error: 25.7688\n",
      "Epoch 71/100\n",
      "35/35 [==============================] - 0s 476us/sample - loss: 0.0285 - mean_absolute_percentage_error: 36.7210 - val_loss: 0.0268 - val_mean_absolute_percentage_error: 25.7685\n",
      "Epoch 72/100\n",
      "35/35 [==============================] - 0s 461us/sample - loss: 0.0285 - mean_absolute_percentage_error: 36.7207 - val_loss: 0.0268 - val_mean_absolute_percentage_error: 25.7681\n",
      "Epoch 73/100\n",
      "35/35 [==============================] - 0s 399us/sample - loss: 0.0285 - mean_absolute_percentage_error: 36.7205 - val_loss: 0.0268 - val_mean_absolute_percentage_error: 25.7678\n",
      "Epoch 74/100\n",
      "35/35 [==============================] - 0s 355us/sample - loss: 0.0285 - mean_absolute_percentage_error: 36.7203 - val_loss: 0.0268 - val_mean_absolute_percentage_error: 25.7674\n",
      "Epoch 75/100\n",
      "35/35 [==============================] - 0s 369us/sample - loss: 0.0285 - mean_absolute_percentage_error: 36.7200 - val_loss: 0.0268 - val_mean_absolute_percentage_error: 25.7671\n",
      "Epoch 76/100\n",
      "35/35 [==============================] - 0s 528us/sample - loss: 0.0285 - mean_absolute_percentage_error: 36.7198 - val_loss: 0.0268 - val_mean_absolute_percentage_error: 25.7668\n",
      "Epoch 77/100\n",
      "35/35 [==============================] - 0s 464us/sample - loss: 0.0285 - mean_absolute_percentage_error: 36.7196 - val_loss: 0.0268 - val_mean_absolute_percentage_error: 25.7665\n",
      "Epoch 78/100\n",
      "35/35 [==============================] - 0s 506us/sample - loss: 0.0285 - mean_absolute_percentage_error: 36.7193 - val_loss: 0.0268 - val_mean_absolute_percentage_error: 25.7661\n",
      "Epoch 79/100\n",
      "35/35 [==============================] - 0s 502us/sample - loss: 0.0285 - mean_absolute_percentage_error: 36.7191 - val_loss: 0.0268 - val_mean_absolute_percentage_error: 25.7658\n",
      "Epoch 80/100\n",
      "35/35 [==============================] - 0s 367us/sample - loss: 0.0285 - mean_absolute_percentage_error: 36.7189 - val_loss: 0.0268 - val_mean_absolute_percentage_error: 25.7655\n",
      "Epoch 81/100\n",
      "35/35 [==============================] - 0s 317us/sample - loss: 0.0285 - mean_absolute_percentage_error: 36.7186 - val_loss: 0.0268 - val_mean_absolute_percentage_error: 25.7652\n",
      "Epoch 82/100\n",
      "35/35 [==============================] - 0s 650us/sample - loss: 0.0285 - mean_absolute_percentage_error: 36.7184 - val_loss: 0.0268 - val_mean_absolute_percentage_error: 25.7649\n",
      "Epoch 83/100\n",
      "35/35 [==============================] - 0s 423us/sample - loss: 0.0285 - mean_absolute_percentage_error: 36.7182 - val_loss: 0.0268 - val_mean_absolute_percentage_error: 25.7646\n",
      "Epoch 84/100\n"
     ]
    },
    {
     "name": "stdout",
     "output_type": "stream",
     "text": [
      "35/35 [==============================] - 0s 393us/sample - loss: 0.0285 - mean_absolute_percentage_error: 36.7179 - val_loss: 0.0268 - val_mean_absolute_percentage_error: 25.7643\n",
      "Epoch 85/100\n",
      "35/35 [==============================] - 0s 356us/sample - loss: 0.0285 - mean_absolute_percentage_error: 36.7177 - val_loss: 0.0268 - val_mean_absolute_percentage_error: 25.7640\n",
      "Epoch 86/100\n",
      "35/35 [==============================] - 0s 320us/sample - loss: 0.0285 - mean_absolute_percentage_error: 36.7175 - val_loss: 0.0268 - val_mean_absolute_percentage_error: 25.7637\n",
      "Epoch 87/100\n",
      "35/35 [==============================] - 0s 269us/sample - loss: 0.0285 - mean_absolute_percentage_error: 36.7172 - val_loss: 0.0268 - val_mean_absolute_percentage_error: 25.7634\n",
      "Epoch 88/100\n",
      "35/35 [==============================] - 0s 353us/sample - loss: 0.0285 - mean_absolute_percentage_error: 36.7170 - val_loss: 0.0268 - val_mean_absolute_percentage_error: 25.7631\n",
      "Epoch 89/100\n",
      "35/35 [==============================] - 0s 352us/sample - loss: 0.0285 - mean_absolute_percentage_error: 36.7168 - val_loss: 0.0268 - val_mean_absolute_percentage_error: 25.7628\n",
      "Epoch 90/100\n",
      "35/35 [==============================] - 0s 326us/sample - loss: 0.0285 - mean_absolute_percentage_error: 36.7165 - val_loss: 0.0268 - val_mean_absolute_percentage_error: 25.7625\n",
      "Epoch 91/100\n",
      "35/35 [==============================] - 0s 353us/sample - loss: 0.0285 - mean_absolute_percentage_error: 36.7163 - val_loss: 0.0268 - val_mean_absolute_percentage_error: 25.7622\n",
      "Epoch 92/100\n",
      "35/35 [==============================] - 0s 367us/sample - loss: 0.0285 - mean_absolute_percentage_error: 36.7161 - val_loss: 0.0268 - val_mean_absolute_percentage_error: 25.7619\n",
      "Epoch 93/100\n",
      "35/35 [==============================] - 0s 483us/sample - loss: 0.0285 - mean_absolute_percentage_error: 36.7159 - val_loss: 0.0268 - val_mean_absolute_percentage_error: 25.7616\n",
      "Epoch 94/100\n",
      "35/35 [==============================] - 0s 495us/sample - loss: 0.0285 - mean_absolute_percentage_error: 36.7156 - val_loss: 0.0268 - val_mean_absolute_percentage_error: 25.7613\n",
      "Epoch 95/100\n",
      "35/35 [==============================] - 0s 504us/sample - loss: 0.0285 - mean_absolute_percentage_error: 36.7154 - val_loss: 0.0268 - val_mean_absolute_percentage_error: 25.7610\n",
      "Epoch 96/100\n",
      "35/35 [==============================] - 0s 559us/sample - loss: 0.0285 - mean_absolute_percentage_error: 36.7152 - val_loss: 0.0268 - val_mean_absolute_percentage_error: 25.7607\n",
      "Epoch 97/100\n",
      "35/35 [==============================] - 0s 333us/sample - loss: 0.0285 - mean_absolute_percentage_error: 36.7149 - val_loss: 0.0268 - val_mean_absolute_percentage_error: 25.7604\n",
      "Epoch 98/100\n",
      "35/35 [==============================] - 0s 560us/sample - loss: 0.0285 - mean_absolute_percentage_error: 36.7147 - val_loss: 0.0268 - val_mean_absolute_percentage_error: 25.7601\n",
      "Epoch 99/100\n",
      "35/35 [==============================] - 0s 435us/sample - loss: 0.0285 - mean_absolute_percentage_error: 36.7145 - val_loss: 0.0268 - val_mean_absolute_percentage_error: 25.7598\n",
      "Epoch 100/100\n",
      "35/35 [==============================] - 0s 355us/sample - loss: 0.0285 - mean_absolute_percentage_error: 36.7143 - val_loss: 0.0268 - val_mean_absolute_percentage_error: 25.7595\n"
     ]
    },
    {
     "data": {
      "text/plain": [
       "<tensorflow.python.keras.callbacks.History at 0x1a31a9e9e8>"
      ]
     },
     "execution_count": 71,
     "metadata": {},
     "output_type": "execute_result"
    }
   ],
   "source": [
    "# Training\n",
    "model.fit(x=standardized_X_train, \n",
    "          y=standardized_y_train,\n",
    "          validation_data=(standardized_X_val, standardized_y_val),\n",
    "          epochs=NUM_EPOCHS,\n",
    "          batch_size=BATCH_SIZE,\n",
    "          shuffle=False,\n",
    "          verbose=1)"
   ]
  },
  {
   "cell_type": "markdown",
   "metadata": {
    "colab_type": "text",
    "id": "eRl3Gvu8ewD4"
   },
   "source": [
    "# Evaluation"
   ]
  },
  {
   "cell_type": "markdown",
   "metadata": {
    "colab_type": "text",
    "id": "jhdu9lBie_t_"
   },
   "source": [
    "There are several evaluation techniques to see how well our model performed. A common one for linear regression is mean squarred error."
   ]
  },
  {
   "cell_type": "code",
   "execution_count": 72,
   "metadata": {
    "colab": {},
    "colab_type": "code",
    "collapsed": true,
    "id": "BZl9Jz8qetzI"
   },
   "outputs": [],
   "source": [
    "# Predictions\n",
    "pred_train = model.predict(standardized_X_train)\n",
    "pred_test = model.predict(standardized_X_test)"
   ]
  },
  {
   "cell_type": "code",
   "execution_count": 73,
   "metadata": {
    "colab": {
     "base_uri": "https://localhost:8080/",
     "height": 34
    },
    "colab_type": "code",
    "id": "UT30FvMUetwe",
    "outputId": "24168a89-3644-4583-9a39-72b791f776be"
   },
   "outputs": [
    {
     "name": "stdout",
     "output_type": "stream",
     "text": [
      "train_MSE: 0.03, test_MSE: 2.21\n"
     ]
    }
   ],
   "source": [
    "# Train and test MSE\n",
    "train_mse = np.mean((standardized_y_train - pred_train) ** 2)\n",
    "test_mse = np.mean((standardized_y_test - pred_test) ** 2)\n",
    "print (f\"train_MSE: {train_mse:.2f}, test_MSE: {test_mse:.2f}\")"
   ]
  },
  {
   "cell_type": "markdown",
   "metadata": {
    "colab_type": "text",
    "id": "TegkJM2-YKEq"
   },
   "source": [
    "Since we only have one feature, it's easy to visually inspect the model."
   ]
  },
  {
   "cell_type": "code",
   "execution_count": 74,
   "metadata": {
    "colab": {
     "base_uri": "https://localhost:8080/",
     "height": 336
    },
    "colab_type": "code",
    "id": "I8nuCOjGeySz",
    "outputId": "f3cca3ea-7428-4ce3-e3d6-8f5e0487f54f"
   },
   "outputs": [
    {
     "data": {
      "image/png": "[encoded data removed]",
      "text/plain": [
       "<matplotlib.figure.Figure at 0x1a31f7b2b0>"
      ]
     },
     "metadata": {},
     "output_type": "display_data"
    }
   ],
   "source": [
    "# Figure size\n",
    "plt.figure(figsize=(15,5))\n",
    "\n",
    "# Plot train data\n",
    "plt.subplot(1, 2, 1)\n",
    "plt.title(\"Train\")\n",
    "plt.scatter(standardized_X_train, standardized_y_train, label='y_train')\n",
    "plt.plot(standardized_X_train, pred_train, color='red', linewidth=1, linestyle='-', label='model')\n",
    "plt.legend(loc='lower right')\n",
    "\n",
    "# Plot test data\n",
    "plt.subplot(1, 2, 2)\n",
    "plt.title(\"Test\")\n",
    "plt.scatter(standardized_X_test, standardized_y_test, label='y_test')\n",
    "plt.plot(standardized_X_test, pred_test, color='red', linewidth=1, linestyle='-', label='model')\n",
    "plt.legend(loc='lower right')\n",
    "\n",
    "# Show plots\n",
    "plt.show()"
   ]
  },
  {
   "cell_type": "markdown",
   "metadata": {
    "colab_type": "text",
    "id": "T621buxbe0VQ"
   },
   "source": [
    "# Inference"
   ]
  },
  {
   "cell_type": "markdown",
   "metadata": {
    "colab_type": "text",
    "id": "o4W84oQzfNn_"
   },
   "source": [
    "After training a model, we can use it to predict on new data."
   ]
  },
  {
   "cell_type": "code",
   "execution_count": 75,
   "metadata": {
    "colab": {},
    "colab_type": "code",
    "collapsed": true,
    "id": "O_ZKW-p2e0fN"
   },
   "outputs": [],
   "source": [
    "# Feed in your own inputs\n",
    "sample_indices = [10, 15, 25]\n",
    "X_infer = np.array(sample_indices, dtype=np.float32)\n",
    "standardized_X_infer = X_scaler.transform(X_infer.reshape(-1, 1))"
   ]
  },
  {
   "cell_type": "markdown",
   "metadata": {
    "colab_type": "text",
    "id": "6ZjQ54zKazbE"
   },
   "source": [
    "Recall that we need to unstandardize our predictions.\n",
    "\n",
    "$ \\hat{y}_{scaled} = \\frac{\\hat{y} - \\mu_{\\hat{y}}}{\\sigma_{\\hat{y}}} $\n",
    "\n",
    "$ \\hat{y} = \\hat{y}_{scaled} * \\sigma_{\\hat{y}} + \\mu_{\\hat{y}} $"
   ]
  },
  {
   "cell_type": "code",
   "execution_count": 76,
   "metadata": {
    "colab": {
     "base_uri": "https://localhost:8080/",
     "height": 68
    },
    "colab_type": "code",
    "id": "PMAdz712aE34",
    "outputId": "aed82cf8-86fe-4fc0-8971-884b8ca27b52"
   },
   "outputs": [
    {
     "name": "stdout",
     "output_type": "stream",
     "text": [
      "35.73 (actual) → 43.53 (predicted)\n",
      "59.34 (actual) → 60.06 (predicted)\n",
      "97.04 (actual) → 93.11 (predicted)\n"
     ]
    }
   ],
   "source": [
    "# Unstandardize predictions\n",
    "pred_infer = model.predict(standardized_X_infer) * np.sqrt(y_scaler.var_) + y_scaler.mean_\n",
    "for i, index in enumerate(sample_indices):\n",
    "    print (f\"{df.iloc[index]['y']:.2f} (actual) → {pred_infer[i][0]:.2f} (predicted)\")"
   ]
  },
  {
   "cell_type": "code",
   "execution_count": 77,
   "metadata": {},
   "outputs": [
    {
     "data": {
      "text/plain": [
       "array([[43.53112316],\n",
       "       [60.0567312 ],\n",
       "       [93.10794058]])"
      ]
     },
     "execution_count": 77,
     "metadata": {},
     "output_type": "execute_result"
    }
   ],
   "source": [
    "pred_infer"
   ]
  },
  {
   "cell_type": "markdown",
   "metadata": {
    "colab_type": "text",
    "id": "H5CB4zRFe37l"
   },
   "source": [
    "# Interpretability"
   ]
  },
  {
   "cell_type": "markdown",
   "metadata": {
    "colab_type": "text",
    "id": "OhXo8CbPBZ-G"
   },
   "source": [
    "Linear regression offers the great advantage of being highly interpretable. Each feature has a coefficient which signifies it's importance/impact on the output variable y. We can interpret our coefficient as follows: by increasing X by 1 unit, we increase y by $W$ (~3.65) units. \n",
    "\n",
    "**Note**: Since we standardized our inputs and outputs for gradient descent, we need to apply an operation to our coefficients and intercept to interpret them. See proof in the `From scratch` section above."
   ]
  },
  {
   "cell_type": "code",
   "execution_count": 78,
   "metadata": {
    "colab": {
     "base_uri": "https://localhost:8080/",
     "height": 51
    },
    "colab_type": "code",
    "id": "lJOOjjLze6_U",
    "outputId": "2a735554-e3cd-42bc-db32-c83b0cc8ea8f"
   },
   "outputs": [
    {
     "name": "stdout",
     "output_type": "stream",
     "text": [
      "[actual] y = 3.5X + noise\n",
      "[model] y_hat = 3.3X + 10.5\n"
     ]
    }
   ],
   "source": [
    "# Unstandardize coefficients (proof is in the `From Scratch` section above)\n",
    "W = model.layers[0].get_weights()[0][0][0]\n",
    "b = model.layers[0].get_weights()[1][0]\n",
    "W_unscaled = W * (y_scaler.scale_/X_scaler.scale_)\n",
    "b_unscaled = b * y_scaler.scale_ + y_scaler.mean_ - np.sum(W_unscaled*X_scaler.mean_)\n",
    "print (\"[actual] y = 3.5X + noise\")\n",
    "print (f\"[model] y_hat = {W_unscaled[0]:.1f}X + {b_unscaled[0]:.1f}\") #实际中只关心这一条就可以"
   ]
  },
  {
   "cell_type": "markdown",
   "metadata": {
    "colab_type": "text",
    "id": "rToCXKqeJcvj"
   },
   "source": [
    "# Regularization"
   ]
  },
  {
   "cell_type": "markdown",
   "metadata": {
    "colab_type": "text",
    "id": "L4GFv8xRJmOZ"
   },
   "source": [
    "Regularization helps decrease overfitting. Below is L2 regularization (ridge regression). There are many forms of regularization but they all work to reduce overfitting in our models. With L2 regularization, we are penalizing the weights with large magnitudes by decaying them. Having certain weights with high magnitudes will lead to preferential bias with the inputs and we want the model to work with all the inputs and not just a select few. There are also other types of regularization like L1 (lasso regression) which is useful for creating sparse models where some feature cofficients are zeroed out, or elastic which combines L1 and L2 penalties. \n",
    "\n",
    "**Note**: Regularization is not just for linear regression. You can use it to regularize any model's weights including the ones we will look at in future lessons."
   ]
  },
  {
   "cell_type": "markdown",
   "metadata": {
    "colab_type": "text",
    "id": "D_OcpRxF-Oj7"
   },
   "source": [
    "$ J(\\theta) = = \\frac{1}{2}\\sum_{i}(X_iW - y_i)^2 + \\frac{\\lambda}{2}W^TW$\n",
    "\n",
    "$ \\frac{\\partial{J}}{\\partial{W}}  = X (\\hat{y} - y) + \\lambda W $\n",
    "\n",
    "$W = W- \\alpha\\frac{\\partial{J}}{\\partial{W}}$\n",
    "* $\\lambda$ is the regularzation coefficient"
   ]
  },
  {
   "cell_type": "code",
   "execution_count": 80,
   "metadata": {
    "colab": {},
    "colab_type": "code",
    "collapsed": true,
    "id": "HHaazL9f8QZX"
   },
   "outputs": [],
   "source": [
    "from tensorflow.keras.regularizers import l2"
   ]
  },
  {
   "cell_type": "code",
   "execution_count": 81,
   "metadata": {
    "colab": {},
    "colab_type": "code",
    "collapsed": true,
    "id": "VTIUZLbGZP4e"
   },
   "outputs": [],
   "source": [
    "L2_LAMBDA = 1e-2"
   ]
  },
  {
   "cell_type": "code",
   "execution_count": 82,
   "metadata": {
    "colab": {},
    "colab_type": "code",
    "collapsed": true,
    "id": "ORwkUqcuZhbX"
   },
   "outputs": [],
   "source": [
    "# Linear model with L2 regularization\n",
    "class LinearRegressionL2Regularization(Model):\n",
    "    def __init__(self, hidden_dim):\n",
    "        super(LinearRegressionL2Regularization, self).__init__()\n",
    "        self.fc1 = Dense(units=hidden_dim, activation='linear',\n",
    "                        kernel_regularizer=l2(l=L2_LAMBDA))\n",
    "        \n",
    "    def call(self, x_in, training=False):\n",
    "        \"\"\"Forward pass.\"\"\"\n",
    "        y_pred = self.fc1(x_in)\n",
    "        return y_pred\n",
    "    \n",
    "    def sample(self, input_shape):\n",
    "        x_in = Input(shape=input_shape)\n",
    "        return Model(inputs=x_in, outputs=self.call(x_in)).summary()"
   ]
  },
  {
   "cell_type": "code",
   "execution_count": 83,
   "metadata": {
    "colab": {
     "base_uri": "https://localhost:8080/",
     "height": 221
    },
    "colab_type": "code",
    "id": "IWCvYxBxZhd5",
    "outputId": "3670f885-252f-49fd-afc1-8c64a9328003"
   },
   "outputs": [
    {
     "name": "stdout",
     "output_type": "stream",
     "text": [
      "Model: \"model_1\"\n",
      "_________________________________________________________________\n",
      "Layer (type)                 Output Shape              Param #   \n",
      "=================================================================\n",
      "input_3 (InputLayer)         [(None, 1)]               0         \n",
      "_________________________________________________________________\n",
      "dense_2 (Dense)              (None, 1)                 2         \n",
      "=================================================================\n",
      "Total params: 2\n",
      "Trainable params: 2\n",
      "Non-trainable params: 0\n",
      "_________________________________________________________________\n"
     ]
    }
   ],
   "source": [
    "# Initialize the model\n",
    "model = LinearRegressionL2Regularization(hidden_dim=HIDDEN_DIM)\n",
    "model.sample(input_shape=(INPUT_DIM,))"
   ]
  },
  {
   "cell_type": "code",
   "execution_count": 84,
   "metadata": {
    "colab": {},
    "colab_type": "code",
    "collapsed": true,
    "id": "DJ-XpSYAoNBX"
   },
   "outputs": [],
   "source": [
    "# Compile\n",
    "model.compile(optimizer=Adam(lr=LEARNING_RATE),\n",
    "              loss=MeanSquaredError(),\n",
    "              metrics=[MeanAbsolutePercentageError()])"
   ]
  },
  {
   "cell_type": "code",
   "execution_count": 85,
   "metadata": {
    "colab": {
     "base_uri": "https://localhost:8080/",
     "height": 1000
    },
    "colab_type": "code",
    "id": "Xlt9IuaCoM-X",
    "outputId": "f771fbe4-a860-42cc-8550-a6f7d1e42a2f"
   },
   "outputs": [
    {
     "name": "stdout",
     "output_type": "stream",
     "text": [
      "Train on 35 samples, validate on 7 samples\n",
      "Epoch 1/100\n",
      "35/35 [==============================] - 0s 3ms/sample - loss: 3.7703 - mean_absolute_percentage_error: 190.5097 - val_loss: 3.0525 - val_mean_absolute_percentage_error: 153.2347\n",
      "Epoch 2/100\n",
      "35/35 [==============================] - 0s 435us/sample - loss: 2.4137 - mean_absolute_percentage_error: 153.8904 - val_loss: 1.8712 - val_mean_absolute_percentage_error: 122.4003\n",
      "Epoch 3/100\n",
      "35/35 [==============================] - 0s 294us/sample - loss: 1.3518 - mean_absolute_percentage_error: 117.6363 - val_loss: 1.0143 - val_mean_absolute_percentage_error: 94.3467\n",
      "Epoch 4/100\n",
      "35/35 [==============================] - 0s 444us/sample - loss: 0.6320 - mean_absolute_percentage_error: 78.5035 - val_loss: 0.4725 - val_mean_absolute_percentage_error: 68.1107\n",
      "Epoch 5/100\n",
      "35/35 [==============================] - 0s 638us/sample - loss: 0.2671 - mean_absolute_percentage_error: 50.4852 - val_loss: 0.1749 - val_mean_absolute_percentage_error: 44.6023\n",
      "Epoch 6/100\n",
      "35/35 [==============================] - 0s 386us/sample - loss: 0.0790 - mean_absolute_percentage_error: 31.7839 - val_loss: 0.0471 - val_mean_absolute_percentage_error: 27.5702\n",
      "Epoch 7/100\n",
      "35/35 [==============================] - 0s 502us/sample - loss: 0.0402 - mean_absolute_percentage_error: 36.3313 - val_loss: 0.0266 - val_mean_absolute_percentage_error: 19.1009\n",
      "Epoch 8/100\n",
      "35/35 [==============================] - 0s 295us/sample - loss: 0.0636 - mean_absolute_percentage_error: 47.6728 - val_loss: 0.0434 - val_mean_absolute_percentage_error: 19.1558\n",
      "Epoch 9/100\n",
      "35/35 [==============================] - 0s 374us/sample - loss: 0.0945 - mean_absolute_percentage_error: 54.4244 - val_loss: 0.0547 - val_mean_absolute_percentage_error: 19.4144\n",
      "Epoch 10/100\n",
      "35/35 [==============================] - 0s 455us/sample - loss: 0.1050 - mean_absolute_percentage_error: 57.4592 - val_loss: 0.0520 - val_mean_absolute_percentage_error: 19.7060\n",
      "Epoch 11/100\n",
      "35/35 [==============================] - 0s 632us/sample - loss: 0.0935 - mean_absolute_percentage_error: 55.3321 - val_loss: 0.0400 - val_mean_absolute_percentage_error: 19.8152\n",
      "Epoch 12/100\n",
      "35/35 [==============================] - 0s 561us/sample - loss: 0.0721 - mean_absolute_percentage_error: 49.2159 - val_loss: 0.0275 - val_mean_absolute_percentage_error: 19.5635\n",
      "Epoch 13/100\n",
      "35/35 [==============================] - 0s 672us/sample - loss: 0.0523 - mean_absolute_percentage_error: 42.5658 - val_loss: 0.0272 - val_mean_absolute_percentage_error: 20.3108\n",
      "Epoch 14/100\n",
      "35/35 [==============================] - 0s 995us/sample - loss: 0.0410 - mean_absolute_percentage_error: 37.4619 - val_loss: 0.0356 - val_mean_absolute_percentage_error: 23.5599\n",
      "Epoch 15/100\n",
      "35/35 [==============================] - 0s 471us/sample - loss: 0.0392 - mean_absolute_percentage_error: 35.1118 - val_loss: 0.0449 - val_mean_absolute_percentage_error: 26.5672\n",
      "Epoch 16/100\n",
      "35/35 [==============================] - 0s 485us/sample - loss: 0.0400 - mean_absolute_percentage_error: 33.6730 - val_loss: 0.0479 - val_mean_absolute_percentage_error: 29.1549\n",
      "Epoch 17/100\n",
      "35/35 [==============================] - 0s 607us/sample - loss: 0.0406 - mean_absolute_percentage_error: 35.3990 - val_loss: 0.0470 - val_mean_absolute_percentage_error: 29.9674\n",
      "Epoch 18/100\n",
      "35/35 [==============================] - 0s 309us/sample - loss: 0.0404 - mean_absolute_percentage_error: 36.7710 - val_loss: 0.0428 - val_mean_absolute_percentage_error: 29.7194\n",
      "Epoch 19/100\n",
      "35/35 [==============================] - 0s 513us/sample - loss: 0.0400 - mean_absolute_percentage_error: 38.1042 - val_loss: 0.0391 - val_mean_absolute_percentage_error: 28.3286\n",
      "Epoch 20/100\n",
      "35/35 [==============================] - 0s 316us/sample - loss: 0.0386 - mean_absolute_percentage_error: 38.0942 - val_loss: 0.0366 - val_mean_absolute_percentage_error: 26.9823\n",
      "Epoch 21/100\n",
      "35/35 [==============================] - 0s 486us/sample - loss: 0.0382 - mean_absolute_percentage_error: 37.7166 - val_loss: 0.0350 - val_mean_absolute_percentage_error: 25.1924\n",
      "Epoch 22/100\n",
      "35/35 [==============================] - 0s 315us/sample - loss: 0.0383 - mean_absolute_percentage_error: 36.7825 - val_loss: 0.0340 - val_mean_absolute_percentage_error: 23.8238\n",
      "Epoch 23/100\n",
      "35/35 [==============================] - 0s 378us/sample - loss: 0.0387 - mean_absolute_percentage_error: 37.1681 - val_loss: 0.0332 - val_mean_absolute_percentage_error: 24.0014\n",
      "Epoch 24/100\n",
      "35/35 [==============================] - 0s 434us/sample - loss: 0.0383 - mean_absolute_percentage_error: 37.0718 - val_loss: 0.0344 - val_mean_absolute_percentage_error: 24.1854\n",
      "Epoch 25/100\n",
      "35/35 [==============================] - 0s 342us/sample - loss: 0.0385 - mean_absolute_percentage_error: 36.3056 - val_loss: 0.0346 - val_mean_absolute_percentage_error: 25.2658\n",
      "Epoch 26/100\n",
      "35/35 [==============================] - 0s 374us/sample - loss: 0.0383 - mean_absolute_percentage_error: 38.0006 - val_loss: 0.0333 - val_mean_absolute_percentage_error: 26.1922\n",
      "Epoch 27/100\n",
      "35/35 [==============================] - 0s 346us/sample - loss: 0.0383 - mean_absolute_percentage_error: 39.7104 - val_loss: 0.0337 - val_mean_absolute_percentage_error: 25.8211\n",
      "Epoch 28/100\n",
      "35/35 [==============================] - 0s 430us/sample - loss: 0.0380 - mean_absolute_percentage_error: 37.4499 - val_loss: 0.0344 - val_mean_absolute_percentage_error: 25.4031\n",
      "Epoch 29/100\n",
      "35/35 [==============================] - 0s 358us/sample - loss: 0.0384 - mean_absolute_percentage_error: 38.0059 - val_loss: 0.0348 - val_mean_absolute_percentage_error: 25.0001\n",
      "Epoch 30/100\n",
      "35/35 [==============================] - 0s 390us/sample - loss: 0.0380 - mean_absolute_percentage_error: 36.9923 - val_loss: 0.0342 - val_mean_absolute_percentage_error: 25.0425\n",
      "Epoch 31/100\n",
      "35/35 [==============================] - 0s 434us/sample - loss: 0.0378 - mean_absolute_percentage_error: 37.0419 - val_loss: 0.0327 - val_mean_absolute_percentage_error: 25.3978\n",
      "Epoch 32/100\n",
      "35/35 [==============================] - 0s 643us/sample - loss: 0.0388 - mean_absolute_percentage_error: 38.7940 - val_loss: 0.0324 - val_mean_absolute_percentage_error: 26.1153\n",
      "Epoch 33/100\n",
      "35/35 [==============================] - 0s 321us/sample - loss: 0.0390 - mean_absolute_percentage_error: 40.1630 - val_loss: 0.0325 - val_mean_absolute_percentage_error: 25.6971\n",
      "Epoch 34/100\n",
      "35/35 [==============================] - 0s 515us/sample - loss: 0.0379 - mean_absolute_percentage_error: 36.4078 - val_loss: 0.0364 - val_mean_absolute_percentage_error: 24.6037\n",
      "Epoch 35/100\n",
      "35/35 [==============================] - 0s 467us/sample - loss: 0.0408 - mean_absolute_percentage_error: 35.5902 - val_loss: 0.0399 - val_mean_absolute_percentage_error: 24.1493\n",
      "Epoch 36/100\n",
      "35/35 [==============================] - 0s 340us/sample - loss: 0.0384 - mean_absolute_percentage_error: 33.4111 - val_loss: 0.0369 - val_mean_absolute_percentage_error: 25.8302\n",
      "Epoch 37/100\n",
      "35/35 [==============================] - 0s 319us/sample - loss: 0.0391 - mean_absolute_percentage_error: 35.9343 - val_loss: 0.0342 - val_mean_absolute_percentage_error: 27.1871\n",
      "Epoch 38/100\n",
      "35/35 [==============================] - 0s 489us/sample - loss: 0.0389 - mean_absolute_percentage_error: 40.0640 - val_loss: 0.0337 - val_mean_absolute_percentage_error: 26.4252\n",
      "Epoch 39/100\n",
      "35/35 [==============================] - 0s 448us/sample - loss: 0.0382 - mean_absolute_percentage_error: 35.1920 - val_loss: 0.0348 - val_mean_absolute_percentage_error: 23.8605\n",
      "Epoch 40/100\n",
      "35/35 [==============================] - 0s 427us/sample - loss: 0.0386 - mean_absolute_percentage_error: 35.7508 - val_loss: 0.0346 - val_mean_absolute_percentage_error: 23.1458\n",
      "Epoch 41/100\n",
      "35/35 [==============================] - 0s 555us/sample - loss: 0.0389 - mean_absolute_percentage_error: 35.9614 - val_loss: 0.0331 - val_mean_absolute_percentage_error: 23.8052\n",
      "Epoch 42/100\n",
      "35/35 [==============================] - 0s 791us/sample - loss: 0.0383 - mean_absolute_percentage_error: 37.4260 - val_loss: 0.0325 - val_mean_absolute_percentage_error: 25.1113\n",
      "Epoch 43/100\n"
     ]
    },
    {
     "name": "stdout",
     "output_type": "stream",
     "text": [
      "35/35 [==============================] - 0s 479us/sample - loss: 0.0387 - mean_absolute_percentage_error: 39.3884 - val_loss: 0.0336 - val_mean_absolute_percentage_error: 26.5562\n",
      "Epoch 44/100\n",
      "35/35 [==============================] - 0s 283us/sample - loss: 0.0383 - mean_absolute_percentage_error: 39.6687 - val_loss: 0.0348 - val_mean_absolute_percentage_error: 25.9312\n",
      "Epoch 45/100\n",
      "35/35 [==============================] - 0s 552us/sample - loss: 0.0385 - mean_absolute_percentage_error: 36.9558 - val_loss: 0.0391 - val_mean_absolute_percentage_error: 25.3349\n",
      "Epoch 46/100\n",
      "35/35 [==============================] - 0s 445us/sample - loss: 0.0385 - mean_absolute_percentage_error: 34.6966 - val_loss: 0.0387 - val_mean_absolute_percentage_error: 25.4161\n",
      "Epoch 47/100\n",
      "35/35 [==============================] - 0s 427us/sample - loss: 0.0387 - mean_absolute_percentage_error: 35.6790 - val_loss: 0.0381 - val_mean_absolute_percentage_error: 25.6630\n",
      "Epoch 48/100\n",
      "35/35 [==============================] - 0s 635us/sample - loss: 0.0389 - mean_absolute_percentage_error: 36.8227 - val_loss: 0.0343 - val_mean_absolute_percentage_error: 26.4606\n",
      "Epoch 49/100\n",
      "35/35 [==============================] - 0s 301us/sample - loss: 0.0385 - mean_absolute_percentage_error: 38.3192 - val_loss: 0.0338 - val_mean_absolute_percentage_error: 25.7656\n",
      "Epoch 50/100\n",
      "35/35 [==============================] - 0s 314us/sample - loss: 0.0383 - mean_absolute_percentage_error: 38.2672 - val_loss: 0.0329 - val_mean_absolute_percentage_error: 25.9059\n",
      "Epoch 51/100\n",
      "35/35 [==============================] - 0s 366us/sample - loss: 0.0386 - mean_absolute_percentage_error: 40.0281 - val_loss: 0.0335 - val_mean_absolute_percentage_error: 25.2525\n",
      "Epoch 52/100\n",
      "35/35 [==============================] - 0s 450us/sample - loss: 0.0380 - mean_absolute_percentage_error: 37.9344 - val_loss: 0.0343 - val_mean_absolute_percentage_error: 25.6456\n",
      "Epoch 53/100\n",
      "35/35 [==============================] - 0s 381us/sample - loss: 0.0381 - mean_absolute_percentage_error: 37.6608 - val_loss: 0.0344 - val_mean_absolute_percentage_error: 25.4231\n",
      "Epoch 54/100\n",
      "35/35 [==============================] - 0s 352us/sample - loss: 0.0381 - mean_absolute_percentage_error: 38.4670 - val_loss: 0.0351 - val_mean_absolute_percentage_error: 25.9096\n",
      "Epoch 55/100\n",
      "35/35 [==============================] - 0s 444us/sample - loss: 0.0378 - mean_absolute_percentage_error: 36.7248 - val_loss: 0.0367 - val_mean_absolute_percentage_error: 25.4420\n",
      "Epoch 56/100\n",
      "35/35 [==============================] - 0s 362us/sample - loss: 0.0385 - mean_absolute_percentage_error: 34.7647 - val_loss: 0.0376 - val_mean_absolute_percentage_error: 25.1381\n",
      "Epoch 57/100\n",
      "35/35 [==============================] - 0s 377us/sample - loss: 0.0383 - mean_absolute_percentage_error: 36.9552 - val_loss: 0.0355 - val_mean_absolute_percentage_error: 25.8688\n",
      "Epoch 58/100\n",
      "35/35 [==============================] - 0s 606us/sample - loss: 0.0383 - mean_absolute_percentage_error: 37.3258 - val_loss: 0.0348 - val_mean_absolute_percentage_error: 25.6932\n",
      "Epoch 59/100\n",
      "35/35 [==============================] - 0s 679us/sample - loss: 0.0378 - mean_absolute_percentage_error: 38.8731 - val_loss: 0.0339 - val_mean_absolute_percentage_error: 26.3484\n",
      "Epoch 60/100\n",
      "35/35 [==============================] - 0s 542us/sample - loss: 0.0386 - mean_absolute_percentage_error: 38.6299 - val_loss: 0.0340 - val_mean_absolute_percentage_error: 26.0864\n",
      "Epoch 61/100\n",
      "35/35 [==============================] - 0s 466us/sample - loss: 0.0382 - mean_absolute_percentage_error: 38.2498 - val_loss: 0.0358 - val_mean_absolute_percentage_error: 26.5371\n",
      "Epoch 62/100\n",
      "35/35 [==============================] - 0s 394us/sample - loss: 0.0383 - mean_absolute_percentage_error: 36.6419 - val_loss: 0.0383 - val_mean_absolute_percentage_error: 26.7915\n",
      "Epoch 63/100\n",
      "35/35 [==============================] - 0s 281us/sample - loss: 0.0386 - mean_absolute_percentage_error: 37.9064 - val_loss: 0.0372 - val_mean_absolute_percentage_error: 26.7761\n",
      "Epoch 64/100\n",
      "35/35 [==============================] - 0s 313us/sample - loss: 0.0381 - mean_absolute_percentage_error: 37.4475 - val_loss: 0.0386 - val_mean_absolute_percentage_error: 26.0508\n",
      "Epoch 65/100\n",
      "35/35 [==============================] - 0s 340us/sample - loss: 0.0385 - mean_absolute_percentage_error: 36.6396 - val_loss: 0.0381 - val_mean_absolute_percentage_error: 26.0041\n",
      "Epoch 66/100\n",
      "35/35 [==============================] - 0s 354us/sample - loss: 0.0381 - mean_absolute_percentage_error: 36.1364 - val_loss: 0.0374 - val_mean_absolute_percentage_error: 25.0330\n",
      "Epoch 67/100\n",
      "35/35 [==============================] - 0s 316us/sample - loss: 0.0394 - mean_absolute_percentage_error: 34.7753 - val_loss: 0.0359 - val_mean_absolute_percentage_error: 24.3590\n",
      "Epoch 68/100\n",
      "35/35 [==============================] - 0s 351us/sample - loss: 0.0392 - mean_absolute_percentage_error: 40.4969 - val_loss: 0.0334 - val_mean_absolute_percentage_error: 26.4004\n",
      "Epoch 69/100\n",
      "35/35 [==============================] - 0s 266us/sample - loss: 0.0385 - mean_absolute_percentage_error: 40.0774 - val_loss: 0.0350 - val_mean_absolute_percentage_error: 26.5969\n",
      "Epoch 70/100\n",
      "35/35 [==============================] - 0s 266us/sample - loss: 0.0384 - mean_absolute_percentage_error: 38.8346 - val_loss: 0.0367 - val_mean_absolute_percentage_error: 27.2208\n",
      "Epoch 71/100\n",
      "35/35 [==============================] - 0s 345us/sample - loss: 0.0381 - mean_absolute_percentage_error: 36.1510 - val_loss: 0.0382 - val_mean_absolute_percentage_error: 26.2391\n",
      "Epoch 72/100\n",
      "35/35 [==============================] - 0s 310us/sample - loss: 0.0381 - mean_absolute_percentage_error: 36.5793 - val_loss: 0.0377 - val_mean_absolute_percentage_error: 25.3729\n",
      "Epoch 73/100\n",
      "35/35 [==============================] - 0s 245us/sample - loss: 0.0382 - mean_absolute_percentage_error: 35.7739 - val_loss: 0.0356 - val_mean_absolute_percentage_error: 24.6059\n",
      "Epoch 74/100\n",
      "35/35 [==============================] - 0s 336us/sample - loss: 0.0389 - mean_absolute_percentage_error: 36.7019 - val_loss: 0.0341 - val_mean_absolute_percentage_error: 24.1758\n",
      "Epoch 75/100\n",
      "35/35 [==============================] - 0s 326us/sample - loss: 0.0389 - mean_absolute_percentage_error: 39.9806 - val_loss: 0.0321 - val_mean_absolute_percentage_error: 25.8605\n",
      "Epoch 76/100\n",
      "35/35 [==============================] - 0s 321us/sample - loss: 0.0392 - mean_absolute_percentage_error: 40.6294 - val_loss: 0.0324 - val_mean_absolute_percentage_error: 25.0096\n",
      "Epoch 77/100\n",
      "35/35 [==============================] - 0s 493us/sample - loss: 0.0384 - mean_absolute_percentage_error: 38.1012 - val_loss: 0.0324 - val_mean_absolute_percentage_error: 25.0668\n",
      "Epoch 78/100\n",
      "35/35 [==============================] - 0s 363us/sample - loss: 0.0381 - mean_absolute_percentage_error: 38.6987 - val_loss: 0.0339 - val_mean_absolute_percentage_error: 25.1934\n",
      "Epoch 79/100\n",
      "35/35 [==============================] - 0s 692us/sample - loss: 0.0380 - mean_absolute_percentage_error: 37.3189 - val_loss: 0.0368 - val_mean_absolute_percentage_error: 26.1224\n",
      "Epoch 80/100\n",
      "35/35 [==============================] - 0s 432us/sample - loss: 0.0380 - mean_absolute_percentage_error: 36.2938 - val_loss: 0.0395 - val_mean_absolute_percentage_error: 26.2295\n",
      "Epoch 81/100\n",
      "35/35 [==============================] - 0s 409us/sample - loss: 0.0392 - mean_absolute_percentage_error: 34.5371 - val_loss: 0.0399 - val_mean_absolute_percentage_error: 25.5316\n",
      "Epoch 82/100\n",
      "35/35 [==============================] - ETA: 0s - loss: 0.0324 - mean_absolute_percentage_error: 26.421 - 0s 639us/sample - loss: 0.0383 - mean_absolute_percentage_error: 35.8616 - val_loss: 0.0366 - val_mean_absolute_percentage_error: 26.7241\n",
      "Epoch 83/100\n",
      "35/35 [==============================] - 0s 330us/sample - loss: 0.0391 - mean_absolute_percentage_error: 43.0183 - val_loss: 0.0330 - val_mean_absolute_percentage_error: 27.1469\n",
      "Epoch 84/100\n",
      "35/35 [==============================] - 0s 311us/sample - loss: 0.0393 - mean_absolute_percentage_error: 38.3156 - val_loss: 0.0333 - val_mean_absolute_percentage_error: 25.4136\n",
      "Epoch 85/100\n"
     ]
    },
    {
     "name": "stdout",
     "output_type": "stream",
     "text": [
      "35/35 [==============================] - 0s 269us/sample - loss: 0.0382 - mean_absolute_percentage_error: 38.2356 - val_loss: 0.0336 - val_mean_absolute_percentage_error: 24.2955\n",
      "Epoch 86/100\n",
      "35/35 [==============================] - 0s 323us/sample - loss: 0.0383 - mean_absolute_percentage_error: 37.5582 - val_loss: 0.0322 - val_mean_absolute_percentage_error: 24.5968\n",
      "Epoch 87/100\n",
      "35/35 [==============================] - 0s 434us/sample - loss: 0.0382 - mean_absolute_percentage_error: 38.6822 - val_loss: 0.0326 - val_mean_absolute_percentage_error: 24.9256\n",
      "Epoch 88/100\n",
      "35/35 [==============================] - 0s 242us/sample - loss: 0.0383 - mean_absolute_percentage_error: 38.7822 - val_loss: 0.0335 - val_mean_absolute_percentage_error: 25.0616\n",
      "Epoch 89/100\n",
      "35/35 [==============================] - 0s 341us/sample - loss: 0.0384 - mean_absolute_percentage_error: 37.8141 - val_loss: 0.0352 - val_mean_absolute_percentage_error: 26.0367\n",
      "Epoch 90/100\n",
      "35/35 [==============================] - 0s 362us/sample - loss: 0.0380 - mean_absolute_percentage_error: 37.8495 - val_loss: 0.0355 - val_mean_absolute_percentage_error: 26.4154\n",
      "Epoch 91/100\n",
      "35/35 [==============================] - 0s 280us/sample - loss: 0.0381 - mean_absolute_percentage_error: 37.7203 - val_loss: 0.0380 - val_mean_absolute_percentage_error: 26.1092\n",
      "Epoch 92/100\n",
      "35/35 [==============================] - 0s 540us/sample - loss: 0.0383 - mean_absolute_percentage_error: 36.9738 - val_loss: 0.0367 - val_mean_absolute_percentage_error: 26.2336\n",
      "Epoch 93/100\n",
      "35/35 [==============================] - 0s 357us/sample - loss: 0.0383 - mean_absolute_percentage_error: 35.9662 - val_loss: 0.0377 - val_mean_absolute_percentage_error: 26.3990\n",
      "Epoch 94/100\n",
      "35/35 [==============================] - 0s 434us/sample - loss: 0.0383 - mean_absolute_percentage_error: 36.3477 - val_loss: 0.0347 - val_mean_absolute_percentage_error: 26.3520\n",
      "Epoch 95/100\n",
      "35/35 [==============================] - 0s 384us/sample - loss: 0.0383 - mean_absolute_percentage_error: 39.0165 - val_loss: 0.0355 - val_mean_absolute_percentage_error: 25.4411\n",
      "Epoch 96/100\n",
      "35/35 [==============================] - 0s 663us/sample - loss: 0.0382 - mean_absolute_percentage_error: 36.9817 - val_loss: 0.0333 - val_mean_absolute_percentage_error: 24.9613\n",
      "Epoch 97/100\n",
      "35/35 [==============================] - 0s 563us/sample - loss: 0.0384 - mean_absolute_percentage_error: 37.4047 - val_loss: 0.0329 - val_mean_absolute_percentage_error: 23.6953\n",
      "Epoch 98/100\n",
      "35/35 [==============================] - 0s 601us/sample - loss: 0.0398 - mean_absolute_percentage_error: 40.2231 - val_loss: 0.0306 - val_mean_absolute_percentage_error: 24.2489\n",
      "Epoch 99/100\n",
      "35/35 [==============================] - 0s 603us/sample - loss: 0.0385 - mean_absolute_percentage_error: 38.3020 - val_loss: 0.0326 - val_mean_absolute_percentage_error: 23.9428\n",
      "Epoch 100/100\n",
      "35/35 [==============================] - 0s 654us/sample - loss: 0.0395 - mean_absolute_percentage_error: 35.1806 - val_loss: 0.0346 - val_mean_absolute_percentage_error: 23.5259\n"
     ]
    },
    {
     "data": {
      "text/plain": [
       "<tensorflow.python.keras.callbacks.History at 0x1a31f71dd8>"
      ]
     },
     "execution_count": 85,
     "metadata": {},
     "output_type": "execute_result"
    }
   ],
   "source": [
    "# Training\n",
    "model.fit(x=standardized_X_train, \n",
    "          y=standardized_y_train,\n",
    "          validation_data=(standardized_X_val, standardized_y_val),\n",
    "          epochs=NUM_EPOCHS,\n",
    "          batch_size=BATCH_SIZE,\n",
    "          shuffle=SHUFFLE,\n",
    "          verbose=1)"
   ]
  },
  {
   "cell_type": "code",
   "execution_count": 86,
   "metadata": {
    "colab": {},
    "colab_type": "code",
    "collapsed": true,
    "id": "pNB5k_MIoPGv"
   },
   "outputs": [],
   "source": [
    "# Predictions\n",
    "pred_train = model.predict(standardized_X_train)\n",
    "pred_test = model.predict(standardized_X_test)"
   ]
  },
  {
   "cell_type": "code",
   "execution_count": 87,
   "metadata": {
    "colab": {
     "base_uri": "https://localhost:8080/",
     "height": 34
    },
    "colab_type": "code",
    "id": "f8jVRQhuoPEI",
    "outputId": "591d72a8-8f52-4b3d-cfa8-c6bba55f04ba"
   },
   "outputs": [
    {
     "name": "stdout",
     "output_type": "stream",
     "text": [
      "train_MSE: 0.03, test_MSE: 2.25\n"
     ]
    }
   ],
   "source": [
    "# Train and test MSE\n",
    "train_mse = np.mean((standardized_y_train - pred_train) ** 2)\n",
    "test_mse = np.mean((standardized_y_test - pred_test) ** 2)\n",
    "print (f\"train_MSE: {train_mse:.2f}, test_MSE: {test_mse:.2f}\")"
   ]
  },
  {
   "cell_type": "code",
   "execution_count": 88,
   "metadata": {
    "colab": {
     "base_uri": "https://localhost:8080/",
     "height": 51
    },
    "colab_type": "code",
    "id": "-4X3GZEdoR-8",
    "outputId": "eea237a4-a2b3-4d40-f24f-6c64082fda37"
   },
   "outputs": [
    {
     "name": "stdout",
     "output_type": "stream",
     "text": [
      "[actual] y = 3.5X + noise\n",
      "[model] y_hat = 3.4X + 8.0\n"
     ]
    }
   ],
   "source": [
    "# Unstandardize coefficients (proof is in the `From Scratch` section above)\n",
    "W = model.layers[0].get_weights()[0][0][0]\n",
    "b = model.layers[0].get_weights()[1][0]\n",
    "W_unscaled = W * (y_scaler.scale_/X_scaler.scale_)\n",
    "b_unscaled = b * y_scaler.scale_ + y_scaler.mean_ - np.sum(W_unscaled*X_scaler.mean_)\n",
    "print (\"[actual] y = 3.5X + noise\")\n",
    "print (f\"[model] y_hat = {W_unscaled[0]:.1f}X + {b_unscaled[0]:.1f}\") "
   ]
  },
  {
   "cell_type": "markdown",
   "metadata": {
    "colab_type": "text",
    "id": "mdNX2W5eh2ma"
   },
   "source": [
    "Regularization didn't help much with this specific example because our data is generated from a perfect linear equation but for large realistic data, regularization can help our model generalize well."
   ]
  },
  {
   "cell_type": "markdown",
   "metadata": {
    "colab_type": "text",
    "id": "V74lNFE5v5pQ"
   },
   "source": [
    "# Categorical variables"
   ]
  },
  {
   "cell_type": "markdown",
   "metadata": {
    "colab_type": "text",
    "id": "2r6Xhyg7v5vX"
   },
   "source": [
    "In our example, the feature was a continuous variable but what if we also have features that are categorical? One option is to treat the categorical variables as one-hot encoded variables. This is very easy to do with Pandas and once you create the dummy variables, you can use the same steps as above to train your linear model."
   ]
  },
  {
   "cell_type": "code",
   "execution_count": 0,
   "metadata": {
    "colab": {
     "base_uri": "https://localhost:8080/",
     "height": 173
    },
    "colab_type": "code",
    "id": "unhcIOfMxQEQ",
    "outputId": "458bfea8-d946-4cd6-cf1c-5943a952008c"
   },
   "outputs": [
    {
     "data": {
      "text/html": [
       "<div>\n",
       "<style scoped>\n",
       "    .dataframe tbody tr th:only-of-type {\n",
       "        vertical-align: middle;\n",
       "    }\n",
       "\n",
       "    .dataframe tbody tr th {\n",
       "        vertical-align: top;\n",
       "    }\n",
       "\n",
       "    .dataframe thead th {\n",
       "        text-align: right;\n",
       "    }\n",
       "</style>\n",
       "<table border=\"1\" class=\"dataframe\">\n",
       "  <thead>\n",
       "    <tr style=\"text-align: right;\">\n",
       "      <th></th>\n",
       "      <th>favorite_letter</th>\n",
       "    </tr>\n",
       "  </thead>\n",
       "  <tbody>\n",
       "    <tr>\n",
       "      <th>0</th>\n",
       "      <td>a</td>\n",
       "    </tr>\n",
       "    <tr>\n",
       "      <th>1</th>\n",
       "      <td>b</td>\n",
       "    </tr>\n",
       "    <tr>\n",
       "      <th>2</th>\n",
       "      <td>c</td>\n",
       "    </tr>\n",
       "    <tr>\n",
       "      <th>3</th>\n",
       "      <td>a</td>\n",
       "    </tr>\n",
       "  </tbody>\n",
       "</table>\n",
       "</div>"
      ],
      "text/plain": [
       "  favorite_letter\n",
       "0               a\n",
       "1               b\n",
       "2               c\n",
       "3               a"
      ]
     },
     "execution_count": 49,
     "metadata": {
      "tags": []
     },
     "output_type": "execute_result"
    }
   ],
   "source": [
    "# Create data with categorical features\n",
    "cat_data = pd.DataFrame(['a', 'b', 'c', 'a'], columns=['favorite_letter'])\n",
    "cat_data.head()"
   ]
  },
  {
   "cell_type": "code",
   "execution_count": 0,
   "metadata": {
    "colab": {
     "base_uri": "https://localhost:8080/",
     "height": 173
    },
    "colab_type": "code",
    "id": "m4eQmJdrxQGr",
    "outputId": "b6bf3b36-c210-4587-b73a-617c9da6f6ed"
   },
   "outputs": [
    {
     "data": {
      "text/html": [
       "<div>\n",
       "<style scoped>\n",
       "    .dataframe tbody tr th:only-of-type {\n",
       "        vertical-align: middle;\n",
       "    }\n",
       "\n",
       "    .dataframe tbody tr th {\n",
       "        vertical-align: top;\n",
       "    }\n",
       "\n",
       "    .dataframe thead th {\n",
       "        text-align: right;\n",
       "    }\n",
       "</style>\n",
       "<table border=\"1\" class=\"dataframe\">\n",
       "  <thead>\n",
       "    <tr style=\"text-align: right;\">\n",
       "      <th></th>\n",
       "      <th>favorite_letter_a</th>\n",
       "      <th>favorite_letter_b</th>\n",
       "      <th>favorite_letter_c</th>\n",
       "    </tr>\n",
       "  </thead>\n",
       "  <tbody>\n",
       "    <tr>\n",
       "      <th>0</th>\n",
       "      <td>1</td>\n",
       "      <td>0</td>\n",
       "      <td>0</td>\n",
       "    </tr>\n",
       "    <tr>\n",
       "      <th>1</th>\n",
       "      <td>0</td>\n",
       "      <td>1</td>\n",
       "      <td>0</td>\n",
       "    </tr>\n",
       "    <tr>\n",
       "      <th>2</th>\n",
       "      <td>0</td>\n",
       "      <td>0</td>\n",
       "      <td>1</td>\n",
       "    </tr>\n",
       "    <tr>\n",
       "      <th>3</th>\n",
       "      <td>1</td>\n",
       "      <td>0</td>\n",
       "      <td>0</td>\n",
       "    </tr>\n",
       "  </tbody>\n",
       "</table>\n",
       "</div>"
      ],
      "text/plain": [
       "   favorite_letter_a  favorite_letter_b  favorite_letter_c\n",
       "0                  1                  0                  0\n",
       "1                  0                  1                  0\n",
       "2                  0                  0                  1\n",
       "3                  1                  0                  0"
      ]
     },
     "execution_count": 50,
     "metadata": {
      "tags": []
     },
     "output_type": "execute_result"
    }
   ],
   "source": [
    "dummy_cat_data = pd.get_dummies(cat_data)\n",
    "dummy_cat_data.head()"
   ]
  },
  {
   "cell_type": "markdown",
   "metadata": {
    "colab_type": "text",
    "id": "B5R8x-KyiBWJ"
   },
   "source": [
    "Now you can concat this with your continuous features and train the linear model."
   ]
  },
  {
   "cell_type": "markdown",
   "metadata": {
    "colab_type": "text",
    "id": "XwSZgi_pCb3Q"
   },
   "source": [
    "---\n",
    "<div align=\"center\">\n",
    "\n",
    "Subscribe to our <a href=\"https://practicalai.me/#newsletter\">newsletter</a> and follow us on social media to get the latest updates!\n",
    "\n",
    "<a class=\"ai-header-badge\" target=\"_blank\" href=\"https://github.com/practicalAI/practicalAI\">\n",
    "              <img src=\"https://img.shields.io/github/stars/practicalAI/practicalAI.svg?style=social&label=Star\"></a>&nbsp;\n",
    "            <a class=\"ai-header-badge\" target=\"_blank\" href=\"https://www.linkedin.com/company/practicalai-me\">\n",
    "              <img src=\"https://img.shields.io/badge/style--5eba00.svg?label=LinkedIn&logo=linkedin&style=social\"></a>&nbsp;\n",
    "            <a class=\"ai-header-badge\" target=\"_blank\" href=\"https://twitter.com/practicalAIme\">\n",
    "              <img src=\"https://img.shields.io/twitter/follow/practicalAIme.svg?label=Follow&style=social\">\n",
    "            </a>\n",
    "              </div>\n",
    "\n",
    "</div>"
   ]
  }
 ],
 "metadata": {
  "colab": {
   "collapsed_sections": [
    "sdruDHf_laWg"
   ],
   "name": "04_Linear_Regression",
   "provenance": [],
   "toc_visible": true
  },
  "kernelspec": {
   "display_name": "Python 3",
   "language": "python",
   "name": "python3"
  },
  "language_info": {
   "codemirror_mode": {
    "name": "ipython",
    "version": 3
   },
   "file_extension": ".py",
   "mimetype": "text/x-python",
   "name": "python",
   "nbconvert_exporter": "python",
   "pygments_lexer": "ipython3",
   "version": "3.6.3"
  },
  "toc": {
   "base_numbering": 1,
   "nav_menu": {},
   "number_sections": true,
   "sideBar": true,
   "skip_h1_title": false,
   "title_cell": "Table of Contents",
   "title_sidebar": "Contents",
   "toc_cell": false,
   "toc_position": {
    "height": "calc(100% - 180px)",
    "left": "10px",
    "top": "150px",
    "width": "242px"
   },
   "toc_section_display": true,
   "toc_window_display": true
  }
 },
 "nbformat": 4,
 "nbformat_minor": 1
}
