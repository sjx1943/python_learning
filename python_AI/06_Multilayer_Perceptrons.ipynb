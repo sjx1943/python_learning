{
  "nbformat": 4,
  "nbformat_minor": 0,
  "metadata": {
    "colab": {
      "name": "06_Multilayer_Perceptrons",
      "provenance": [],
      "collapsed_sections": [
        "xqWpi0X2dWpe"
      ],
      "toc_visible": true
    },
    "kernelspec": {
      "name": "python3",
      "display_name": "Python 3"
    },
    "accelerator": "GPU"
  },
  "cells": [
    {
      "cell_type": "markdown",
      "metadata": {
        "id": "eTdCMVl9YAXw",
        "colab_type": "text"
      },
      "source": [
        "<a href=\"https://practicalai.me\"><img src=\"https://raw.githubusercontent.com/practicalAI/images/master/images/rounded_logo.png\" width=\"100\" align=\"left\" hspace=\"20px\" vspace=\"20px\"></a>\n",
        "\n",
        "<img src=\"https://raw.githubusercontent.com/practicalAI/images/master/basic_ml/06_Multilayer_Perceptron/nn.png\" width=\"200\" vspace=\"10px\" align=\"right\">\n",
        "\n",
        "<div align=\"left\">\n",
        "<h1>Multilayer Perceptron (MLP)</h1>\n",
        "\n",
        "In this lesson, we will explore multilayer perceptrons (MLPs) which are a basic type of neural network. We will implement them using Tensorflow with Keras."
      ]
    },
    {
      "cell_type": "markdown",
      "metadata": {
        "id": "xuabAj4PYj57",
        "colab_type": "text"
      },
      "source": [
        "<table align=\"center\">\n",
        "  <td>\n",
        "<img src=\"https://raw.githubusercontent.com/practicalAI/images/master/images/rounded_logo.png\" width=\"25\"><a target=\"_blank\" href=\"https://practicalai.me\"> View on practicalAI</a>\n",
        "  </td>\n",
        "  <td>\n",
        "<img src=\"https://raw.githubusercontent.com/practicalAI/images/master/images/colab_logo.png\" width=\"25\"><a target=\"_blank\" href=\"https://colab.research.google.com/github/practicalAI/practicalAI/blob/master/notebooks/06_Multilayer_Perceptron.ipynb\"> Run in Google Colab</a>\n",
        "  </td>\n",
        "  <td>\n",
        "<img src=\"https://raw.githubusercontent.com/practicalAI/images/master/images/github_logo.png\" width=\"22\"><a target=\"_blank\" href=\"https://github.com/practicalAI/practicalAI/blob/master/notebooks/basic_ml/06_Multilayer_Perceptron.ipynb\"> View code on GitHub</a>\n",
        "  </td>\n",
        "</table>"
      ]
    },
    {
      "cell_type": "markdown",
      "metadata": {
        "id": "VoMq0eFRvugb",
        "colab_type": "text"
      },
      "source": [
        "# Overview"
      ]
    },
    {
      "cell_type": "markdown",
      "metadata": {
        "id": "JqxyljU18hvt",
        "colab_type": "text"
      },
      "source": [
        "* **Objective:**  Predict the probability of class $y$ given the inputs $X$. Non-linearity is introduced to model the complex, non-linear data.\n",
        "* **Advantages:**\n",
        "  * Can model non-linear patterns in the data really well.\n",
        "* **Disadvantages:**\n",
        "  * Overfits easily.\n",
        "  * Computationally intensive as network increases in size.\n",
        "  * Not easily interpretable.\n",
        "* **Miscellaneous:** Future neural network architectures that we'll see use the MLP as a modular unit for feed forward operations (affine transformation (XW) followed by a non-linear operation)."
      ]
    },
    {
      "cell_type": "markdown",
      "metadata": {
        "id": "qWro5T5qTJJL",
        "colab_type": "text"
      },
      "source": [
        "Our goal is to learn a model  𝑦̂   that models  𝑦  given  𝑋 . You'll notice that neural networks are just extensions of the generalized linear methods we've seen so far but with non-linear activation functions since our data will be highly non-linear.\n",
        "\n",
        "<img src=\"https://raw.githubusercontent.com/practicalAI/images/master/basic_ml/06_Multilayer_Perceptron/nn.png\" width=\"550\">\n",
        "\n",
        "$z_1 = XW_1$\n",
        "\n",
        "$a_1 = f(z_1)$\n",
        "\n",
        "$z_2 = a_1W_2$\n",
        "\n",
        "$\\hat{y} = softmax(z_2)$ # classification\n",
        "\n",
        "* $X$ = inputs | $\\in \\mathbb{R}^{NXD}$ ($D$ is the number of features)\n",
        "* $W_1$ = 1st layer weights | $\\in \\mathbb{R}^{DXH}$ ($H$ is the number of hidden units in layer 1)\n",
        "* $z_1$ = outputs from first layer  $\\in \\mathbb{R}^{NXH}$\n",
        "* $f$ = non-linear activation function\n",
        "*nn $a_1$ = activation applied first layer's outputs | $\\in \\mathbb{R}^{NXH}$\n",
        "* $W_2$ = 2nd layer weights | $\\in \\mathbb{R}^{HXC}$ ($C$ is the number of classes)\n",
        "* $z_2$ = outputs from second layer  $\\in \\mathbb{R}^{NXH}$\n",
        "* $\\hat{y}$ = prediction | $\\in \\mathbb{R}^{NXC}$ ($N$ is the number of samples)"
      ]
    },
    {
      "cell_type": "markdown",
      "metadata": {
        "id": "3GHB1Qi3sskB",
        "colab_type": "text"
      },
      "source": [
        "**Note**: We're going to leave out the bias terms $\\beta$ to avoid further crowding the backpropagation calculations."
      ]
    },
    {
      "cell_type": "markdown",
      "metadata": {
        "id": "Jq65LZJbSpzd",
        "colab_type": "text"
      },
      "source": [
        "### Training"
      ]
    },
    {
      "cell_type": "markdown",
      "metadata": {
        "id": "kfi_YArvjzrg",
        "colab_type": "text"
      },
      "source": [
        "1. Randomly initialize the model's weights $W$ (we'll cover more effective initalization strategies later in this lesson).\n",
        "2. Feed inputs $X$ into the model to do the forward pass and receive the probabilities.\n",
        "  * $z_1 = XW_1$\n",
        "  * $a_1 = f(z_1)$\n",
        "  * $z_2 = a_1W_2$\n",
        "  * $\\hat{y} = softmax(z_2)$\n",
        "3. Compare the predictions $\\hat{y}$ (ex.  [0.3, 0.3, 0.4]]) with the actual target values $y$ (ex. class 2 would look like [0, 0, 1]) with the objective (cost) function to determine loss $J$. A common objective function for classification tasks is cross-entropy loss. \n",
        "  * $J(\\theta) = - \\sum_i y_i ln (\\hat{y_i}) $\n",
        "  * Since each input maps to exactly one class, our cross-entropy loss simplifies to: \n",
        "  * $J(\\theta) = - \\sum_i ln(\\hat{y_i}) = - \\sum_i ln (\\frac{e^{X_iW_y}}{\\sum_j e^{X_iW}}) $\n",
        "4. Calculate the gradient of loss $J(\\theta)$ w.r.t to the model weights. \n",
        " * $\\frac{\\partial{J}}{\\partial{W_{2j}}} = \\frac{\\partial{J}}{\\partial{\\hat{y}}}\\frac{\\partial{\\hat{y}}}{\\partial{W_{2j}}} = - \\frac{1}{\\hat{y}}\\frac{\\partial{\\hat{y}}}{\\partial{W_{2j}}} = - \\frac{1}{\\frac{e^{W_{2y}a_1}}{\\sum_j e^{a_1W}}}\\frac{\\sum_j e^{a_1W}e^{a_1W_{2y}}0 - e^{a_1W_{2y}}e^{a_1W_{2j}}a_1}{(\\sum_j e^{a_1W})^2} = \\frac{a_1e^{a_1W_{2j}}}{\\sum_j e^{a_1W}} = a_1\\hat{y}$\n",
        "  * $\\frac{\\partial{J}}{\\partial{W_{2y}}} = \\frac{\\partial{J}}{\\partial{\\hat{y}}}\\frac{\\partial{\\hat{y}}}{\\partial{W_{2y}}} = - \\frac{1}{\\hat{y}}\\frac{\\partial{\\hat{y}}}{\\partial{W_{2y}}} = - \\frac{1}{\\frac{e^{W_{2y}a_1}}{\\sum_j e^{a_1W}}}\\frac{\\sum_j e^{a_1W}e^{a_1W_{2y}}a_1 - e^{a_1W_{2y}}e^{a_1W_{2y}}a_1}{(\\sum_j e^{a_1W})^2} = \\frac{1}{\\hat{y}}(a_1\\hat{y} - a_1\\hat{y}^2) = a_1(\\hat{y}-1)$\n",
        "  * $ \\frac{\\partial{J}}{\\partial{W_1}} = \\frac{\\partial{J}}{\\partial{\\hat{y}}} \\frac{\\partial{\\hat{y}}}{\\partial{a_2}}  \\frac{\\partial{a_2}}{\\partial{z_2}}  \\frac{\\partial{z_2}}{\\partial{W_1}}  = W_2(\\partial{scores})(\\partial{ReLU})X $\n",
        "   \n",
        "5. Update the weights $W$ using a small learning rate $\\alpha$. The updates will penalize the probabiltiy for the incorrect classes (j) and encourage a higher probability for the correct class (y).\n",
        "  * $W_i = W_i - \\alpha\\frac{\\partial{J}}{\\partial{W_i}}$\n",
        "6. Repeat steps 2 - 4 until model performs well."
      ]
    },
    {
      "cell_type": "markdown",
      "metadata": {
        "id": "rmvSOsB-CuJb",
        "colab_type": "text"
      },
      "source": [
        "# Set up"
      ]
    },
    {
      "cell_type": "code",
      "metadata": {
        "id": "bpFe3zVoCuTD",
        "colab_type": "code",
        "outputId": "2ea0d1dd-9e5e-4c13-bb66-2859f2858ef8",
        "colab": {
          "base_uri": "https://localhost:8080/",
          "height": 34
        }
      },
      "source": [
        "# Use TensorFlow 2.x\n",
        "%tensorflow_version 2.x"
      ],
      "execution_count": 0,
      "outputs": [
        {
          "output_type": "stream",
          "text": [
            "TensorFlow 2.x selected.\n"
          ],
          "name": "stdout"
        }
      ]
    },
    {
      "cell_type": "code",
      "metadata": {
        "id": "2PXdZbDzCuRE",
        "colab_type": "code",
        "colab": {}
      },
      "source": [
        "import os\n",
        "import numpy as np\n",
        "import tensorflow as tf"
      ],
      "execution_count": 0,
      "outputs": []
    },
    {
      "cell_type": "code",
      "metadata": {
        "id": "f-NnTT8LDjf3",
        "colab_type": "code",
        "colab": {}
      },
      "source": [
        "# Arguments\n",
        "SEED = 1234\n",
        "SHUFFLE = True\n",
        "DATA_FILE = \"spiral.csv\"\n",
        "INPUT_DIM = 2\n",
        "NUM_CLASSES = 3\n",
        "NUM_SAMPLES_PER_CLASS = 500\n",
        "TRAIN_SIZE = 0.7\n",
        "VAL_SIZE = 0.15\n",
        "TEST_SIZE = 0.15\n",
        "NUM_EPOCHS = 10\n",
        "BATCH_SIZE = 32\n",
        "HIDDEN_DIM = 100\n",
        "LEARNING_RATE = 1e-2"
      ],
      "execution_count": 0,
      "outputs": []
    },
    {
      "cell_type": "code",
      "metadata": {
        "id": "nB7mfVd7Dn9e",
        "colab_type": "code",
        "colab": {}
      },
      "source": [
        "# Set seed for reproducability\n",
        "np.random.seed(SEED)\n",
        "tf.random.set_seed(SEED)"
      ],
      "execution_count": 0,
      "outputs": []
    },
    {
      "cell_type": "markdown",
      "metadata": {
        "id": "XtKqNioAayCy",
        "colab_type": "text"
      },
      "source": [
        "# Data"
      ]
    },
    {
      "cell_type": "markdown",
      "metadata": {
        "id": "X3OrtMpFayFC",
        "colab_type": "text"
      },
      "source": [
        "Download non-linear spiral data for a classification task."
      ]
    },
    {
      "cell_type": "code",
      "metadata": {
        "id": "9NfIz_4OPYpG",
        "colab_type": "code",
        "colab": {}
      },
      "source": [
        "import matplotlib.pyplot as plt\n",
        "import pandas as pd\n",
        "import urllib"
      ],
      "execution_count": 0,
      "outputs": []
    },
    {
      "cell_type": "code",
      "metadata": {
        "id": "q14QCqKxUS2v",
        "colab_type": "code",
        "colab": {}
      },
      "source": [
        "# Upload data from GitHub to notebook's local drive\n",
        "url = \"https://raw.githubusercontent.com/practicalAI/practicalAI/master/data/spiral.csv\"\n",
        "response = urllib.request.urlopen(url)\n",
        "html = response.read()\n",
        "with open(DATA_FILE, 'wb') as fp:\n",
        "    fp.write(html)"
      ],
      "execution_count": 0,
      "outputs": []
    },
    {
      "cell_type": "code",
      "metadata": {
        "id": "efS3lVYETA17",
        "colab_type": "code",
        "outputId": "d11485e5-fc58-4cc2-8220-1f955b7ab41f",
        "colab": {
          "base_uri": "https://localhost:8080/",
          "height": 204
        }
      },
      "source": [
        "# Load data\n",
        "df = pd.read_csv(DATA_FILE, header=0)\n",
        "X = df[['X1', 'X2']].values\n",
        "y = df['color'].values\n",
        "df.head(5)"
      ],
      "execution_count": 0,
      "outputs": [
        {
          "output_type": "execute_result",
          "data": {
            "text/html": [
              "<div>\n",
              "<style scoped>\n",
              "    .dataframe tbody tr th:only-of-type {\n",
              "        vertical-align: middle;\n",
              "    }\n",
              "\n",
              "    .dataframe tbody tr th {\n",
              "        vertical-align: top;\n",
              "    }\n",
              "\n",
              "    .dataframe thead th {\n",
              "        text-align: right;\n",
              "    }\n",
              "</style>\n",
              "<table border=\"1\" class=\"dataframe\">\n",
              "  <thead>\n",
              "    <tr style=\"text-align: right;\">\n",
              "      <th></th>\n",
              "      <th>X1</th>\n",
              "      <th>X2</th>\n",
              "      <th>color</th>\n",
              "    </tr>\n",
              "  </thead>\n",
              "  <tbody>\n",
              "    <tr>\n",
              "      <th>0</th>\n",
              "      <td>0.000000</td>\n",
              "      <td>0.000000</td>\n",
              "      <td>c1</td>\n",
              "    </tr>\n",
              "    <tr>\n",
              "      <th>1</th>\n",
              "      <td>-0.000457</td>\n",
              "      <td>0.001951</td>\n",
              "      <td>c1</td>\n",
              "    </tr>\n",
              "    <tr>\n",
              "      <th>2</th>\n",
              "      <td>0.001194</td>\n",
              "      <td>0.003826</td>\n",
              "      <td>c1</td>\n",
              "    </tr>\n",
              "    <tr>\n",
              "      <th>3</th>\n",
              "      <td>-0.000231</td>\n",
              "      <td>0.006008</td>\n",
              "      <td>c1</td>\n",
              "    </tr>\n",
              "    <tr>\n",
              "      <th>4</th>\n",
              "      <td>-0.000896</td>\n",
              "      <td>0.007966</td>\n",
              "      <td>c1</td>\n",
              "    </tr>\n",
              "  </tbody>\n",
              "</table>\n",
              "</div>"
            ],
            "text/plain": [
              "         X1        X2 color\n",
              "0  0.000000  0.000000    c1\n",
              "1 -0.000457  0.001951    c1\n",
              "2  0.001194  0.003826    c1\n",
              "3 -0.000231  0.006008    c1\n",
              "4 -0.000896  0.007966    c1"
            ]
          },
          "metadata": {
            "tags": []
          },
          "execution_count": 7
        }
      ]
    },
    {
      "cell_type": "code",
      "metadata": {
        "id": "jmTwuA9kHjhA",
        "colab_type": "code",
        "outputId": "4f046fb6-2eb2-4a15-aaee-186b9619ba3b",
        "colab": {
          "base_uri": "https://localhost:8080/",
          "height": 51
        }
      },
      "source": [
        "print (\"X: \", np.shape(X))\n",
        "print (\"y: \", np.shape(y))"
      ],
      "execution_count": 0,
      "outputs": [
        {
          "output_type": "stream",
          "text": [
            "X:  (1500, 2)\n",
            "y:  (1500,)\n"
          ],
          "name": "stdout"
        }
      ]
    },
    {
      "cell_type": "code",
      "metadata": {
        "id": "jgVjStv8VnX2",
        "colab_type": "code",
        "outputId": "51bfa28a-35fe-4fbf-f99e-2b1eb8ea8cbe",
        "colab": {
          "base_uri": "https://localhost:8080/",
          "height": 281
        }
      },
      "source": [
        "# Visualize data\n",
        "plt.title(\"Generated non-linear data\")\n",
        "colors = {'c1': 'red', 'c2': 'yellow', 'c3': 'blue'}\n",
        "plt.scatter(X[:, 0], X[:, 1], c=[colors[_y] for _y in y], edgecolors='k', s=25)\n",
        "plt.show()"
      ],
      "execution_count": 0,
      "outputs": [
        {
          "output_type": "display_data",
          "data": {
            "image/png": "[encoded data removed]",
            "text/plain": [
              "<Figure size 432x288 with 1 Axes>"
            ]
          },
          "metadata": {
            "tags": []
          }
        }
      ]
    },
    {
      "cell_type": "markdown",
      "metadata": {
        "id": "f01ldQXXS3lc",
        "colab_type": "text"
      },
      "source": [
        "# Split data"
      ]
    },
    {
      "cell_type": "code",
      "metadata": {
        "id": "38DagTg9S4ze",
        "colab_type": "code",
        "colab": {}
      },
      "source": [
        "import collections\n",
        "import json\n",
        "from sklearn.model_selection import train_test_split"
      ],
      "execution_count": 0,
      "outputs": []
    },
    {
      "cell_type": "markdown",
      "metadata": {
        "id": "OkayxS6pDbTm",
        "colab_type": "text"
      },
      "source": [
        "### Components"
      ]
    },
    {
      "cell_type": "code",
      "metadata": {
        "id": "wRVOgVxDDcx3",
        "colab_type": "code",
        "colab": {}
      },
      "source": [
        "def train_val_test_split(X, y, val_size, test_size, shuffle):\n",
        "    \"\"\"Split data into train/val/test datasets.\n",
        "    \"\"\"\n",
        "    X_train, X_test, y_train, y_test = train_test_split(\n",
        "        X, y, test_size=test_size, stratify=y, shuffle=shuffle)\n",
        "    X_train, X_val, y_train, y_val = train_test_split(\n",
        "        X_train, y_train, test_size=val_size, stratify=y_train, shuffle=shuffle)\n",
        "    return X_train, X_val, X_test, y_train, y_val, y_test"
      ],
      "execution_count": 0,
      "outputs": []
    },
    {
      "cell_type": "markdown",
      "metadata": {
        "id": "ouKZ4w95DdR3",
        "colab_type": "text"
      },
      "source": [
        "### Operations"
      ]
    },
    {
      "cell_type": "code",
      "metadata": {
        "id": "gGFqcqTDXhkl",
        "colab_type": "code",
        "outputId": "89bafff9-a755-449b-d1e1-4ffda1026c6b",
        "colab": {
          "base_uri": "https://localhost:8080/",
          "height": 119
        }
      },
      "source": [
        "# Create data splits\n",
        "X_train, X_val, X_test, y_train, y_val, y_test = train_val_test_split(\n",
        "    X=X, y=y, val_size=VAL_SIZE, test_size=TEST_SIZE, shuffle=SHUFFLE)\n",
        "class_counts = dict(collections.Counter(y))\n",
        "print (f\"X_train: {X_train.shape}, y_train: {y_train.shape}\")\n",
        "print (f\"X_val: {X_val.shape}, y_val: {y_val.shape}\")\n",
        "print (f\"X_test: {X_test.shape}, y_test: {y_test.shape}\")\n",
        "print (f\"X_train[0]: {X_train[0]}\")\n",
        "print (f\"y_train[0]: {y_train[0]}\")\n",
        "print (f\"Classes: {class_counts}\")"
      ],
      "execution_count": 0,
      "outputs": [
        {
          "output_type": "stream",
          "text": [
            "X_train: (1083, 2), y_train: (1083,)\n",
            "X_val: (192, 2), y_val: (192,)\n",
            "X_test: (225, 2), y_test: (225,)\n",
            "X_train[0]: [ 0.23623443 -0.59618506]\n",
            "y_train[0]: c1\n",
            "Classes: {'c1': 500, 'c3': 500, 'c2': 500}\n"
          ],
          "name": "stdout"
        }
      ]
    },
    {
      "cell_type": "markdown",
      "metadata": {
        "id": "w8EQEwO2OWfN",
        "colab_type": "text"
      },
      "source": [
        "# Label encoder"
      ]
    },
    {
      "cell_type": "code",
      "metadata": {
        "id": "0ldFOhAqObcd",
        "colab_type": "code",
        "colab": {}
      },
      "source": [
        "import json\n",
        "from sklearn.preprocessing import LabelEncoder"
      ],
      "execution_count": 0,
      "outputs": []
    },
    {
      "cell_type": "code",
      "metadata": {
        "id": "mYjAYlTdObf0",
        "colab_type": "code",
        "colab": {}
      },
      "source": [
        "# Output vectorizer\n",
        "y_tokenizer = LabelEncoder()"
      ],
      "execution_count": 0,
      "outputs": []
    },
    {
      "cell_type": "code",
      "metadata": {
        "id": "VO1uxrdgObkf",
        "colab_type": "code",
        "outputId": "d86f84ee-fd62-4f90-92f9-fc21ae4b1c97",
        "colab": {
          "base_uri": "https://localhost:8080/",
          "height": 34
        }
      },
      "source": [
        "# Fit on train data\n",
        "y_tokenizer = y_tokenizer.fit(y_train)\n",
        "classes = list(y_tokenizer.classes_)\n",
        "print (f\"classes: {classes}\")"
      ],
      "execution_count": 0,
      "outputs": [
        {
          "output_type": "stream",
          "text": [
            "classes: ['c1', 'c2', 'c3']\n"
          ],
          "name": "stdout"
        }
      ]
    },
    {
      "cell_type": "code",
      "metadata": {
        "id": "1t9vjih9Oeq9",
        "colab_type": "code",
        "outputId": "4c789e43-f940-46d7-f319-be999f6b1bd3",
        "colab": {
          "base_uri": "https://localhost:8080/",
          "height": 51
        }
      },
      "source": [
        "# Convert labels to tokens\n",
        "print (f\"y_train[0]: {y_train[0]}\")\n",
        "y_train = y_tokenizer.transform(y_train)\n",
        "y_val = y_tokenizer.transform(y_val)\n",
        "y_test = y_tokenizer.transform(y_test)\n",
        "print (f\"y_train[0]: {y_train[0]}\")"
      ],
      "execution_count": 0,
      "outputs": [
        {
          "output_type": "stream",
          "text": [
            "y_train[0]: c1\n",
            "y_train[0]: 0\n"
          ],
          "name": "stdout"
        }
      ]
    },
    {
      "cell_type": "code",
      "metadata": {
        "id": "QVgNHgSkInPE",
        "colab_type": "code",
        "outputId": "fdffc411-2b4f-4f7f-d6d7-d3ef41c5ee0a",
        "colab": {
          "base_uri": "https://localhost:8080/",
          "height": 51
        }
      },
      "source": [
        "# Class weights\n",
        "counts = collections.Counter(y_train)\n",
        "class_weights = {_class: 1.0/count for _class, count in counts.items()}\n",
        "print (f\"class counts: {counts},\\nclass weights: {class_weights}\")"
      ],
      "execution_count": 0,
      "outputs": [
        {
          "output_type": "stream",
          "text": [
            "class counts: Counter({0: 361, 2: 361, 1: 361}),\n",
            "class weights: {0: 0.002770083102493075, 2: 0.002770083102493075, 1: 0.002770083102493075}\n"
          ],
          "name": "stdout"
        }
      ]
    },
    {
      "cell_type": "markdown",
      "metadata": {
        "id": "MDFM5gQte5rQ",
        "colab_type": "text"
      },
      "source": [
        "# Standardize data"
      ]
    },
    {
      "cell_type": "markdown",
      "metadata": {
        "id": "JlmiwCUre_ZH",
        "colab_type": "text"
      },
      "source": [
        "We need to standardize our data (zero mean and unit variance) in order to optimize quickly. We're only going to standardize the inputs X because out outputs y are class values."
      ]
    },
    {
      "cell_type": "code",
      "metadata": {
        "id": "D4uCG3vMe52J",
        "colab_type": "code",
        "colab": {}
      },
      "source": [
        "from sklearn.preprocessing import StandardScaler"
      ],
      "execution_count": 0,
      "outputs": []
    },
    {
      "cell_type": "code",
      "metadata": {
        "id": "3tTbwUOme5z7",
        "colab_type": "code",
        "colab": {}
      },
      "source": [
        "# Standardize the data (mean=0, std=1) using training data\n",
        "X_scaler = StandardScaler().fit(X_train)"
      ],
      "execution_count": 0,
      "outputs": []
    },
    {
      "cell_type": "code",
      "metadata": {
        "id": "zGTQNaRie5xb",
        "colab_type": "code",
        "colab": {}
      },
      "source": [
        "# Apply scaler on training and test data (don't standardize outputs for classification)\n",
        "standardized_X_train = X_scaler.transform(X_train)\n",
        "standardized_X_val = X_scaler.transform(X_val)\n",
        "standardized_X_test = X_scaler.transform(X_test)"
      ],
      "execution_count": 0,
      "outputs": []
    },
    {
      "cell_type": "code",
      "metadata": {
        "id": "dstH0Cm-fLgK",
        "colab_type": "code",
        "outputId": "2b8ad00c-e107-448c-c651-8f9c841bce06",
        "colab": {
          "base_uri": "https://localhost:8080/",
          "height": 68
        }
      },
      "source": [
        "# Check\n",
        "print (f\"standardized_X_train: mean: {np.mean(standardized_X_train, axis=0)[0]}, std: {np.std(standardized_X_train, axis=0)[0]}\")\n",
        "print (f\"standardized_X_val: mean: {np.mean(standardized_X_val, axis=0)[0]}, std: {np.std(standardized_X_val, axis=0)[0]}\")\n",
        "print (f\"standardized_X_test: mean: {np.mean(standardized_X_test, axis=0)[0]}, std: {np.std(standardized_X_test, axis=0)[0]}\")"
      ],
      "execution_count": 0,
      "outputs": [
        {
          "output_type": "stream",
          "text": [
            "standardized_X_train: mean: 2.0051673464144102e-16, std: 1.0000000000000002\n",
            "standardized_X_val: mean: 0.10067009920283043, std: 1.020838918120433\n",
            "standardized_X_test: mean: 0.1287588265908901, std: 0.9647767079653526\n"
          ],
          "name": "stdout"
        }
      ]
    },
    {
      "cell_type": "markdown",
      "metadata": {
        "id": "IHofozO7RIiV",
        "colab_type": "text"
      },
      "source": [
        "# Linear model"
      ]
    },
    {
      "cell_type": "markdown",
      "metadata": {
        "id": "DlVmr5XkRMCf",
        "colab_type": "text"
      },
      "source": [
        "Before we get to our neural network, we're going to implement a generalized linear model (logistic regression) first to see why linear models won't suffice for our dataset. We will use Tensorflow with Keras to do this. "
      ]
    },
    {
      "cell_type": "code",
      "metadata": {
        "id": "Q0QY6jd-xHvi",
        "colab_type": "code",
        "colab": {}
      },
      "source": [
        "import itertools\n",
        "import matplotlib.pyplot as plt\n",
        "from sklearn.metrics import accuracy_score\n",
        "from sklearn.metrics import classification_report\n",
        "from sklearn.metrics import confusion_matrix\n",
        "from tensorflow.keras.layers import Dense\n",
        "from tensorflow.keras.layers import Input\n",
        "from tensorflow.keras.losses import SparseCategoricalCrossentropy\n",
        "from tensorflow.keras.models import Model\n",
        "from tensorflow.keras.optimizers import Adam"
      ],
      "execution_count": 0,
      "outputs": []
    },
    {
      "cell_type": "markdown",
      "metadata": {
        "id": "m4Y8vYNxV_L5",
        "colab_type": "text"
      },
      "source": [
        "### Components"
      ]
    },
    {
      "cell_type": "code",
      "metadata": {
        "id": "YTUJhxkcyOJb",
        "colab_type": "code",
        "colab": {}
      },
      "source": [
        "# Linear model\n",
        "class LogisticClassifier(Model):\n",
        "    def __init__(self, hidden_dim, num_classes):\n",
        "        super(LogisticClassifier, self).__init__()\n",
        "        self.fc1 = Dense(units=hidden_dim, activation='linear') # linear = no activation function\n",
        "        self.fc2 = Dense(units=num_classes, activation='softmax')\n",
        "        \n",
        "    def call(self, x_in, training=False):\n",
        "        \"\"\"Forward pass.\"\"\"\n",
        "        z = self.fc1(x_in)\n",
        "        y_pred = self.fc2(z)\n",
        "        return y_pred\n",
        "    \n",
        "    def sample(self, input_shape):\n",
        "        x_in = Input(shape=input_shape)\n",
        "        return Model(inputs=x_in, outputs=self.call(x_in)).summary()"
      ],
      "execution_count": 0,
      "outputs": []
    },
    {
      "cell_type": "code",
      "metadata": {
        "colab_type": "code",
        "id": "JcfmjyWHBKeA",
        "colab": {}
      },
      "source": [
        "def plot_confusion_matrix(y_true, y_pred, classes, cmap=plt.cm.Blues):\n",
        "    \"\"\"Plot a confusion matrix using ground truth and predictions.\"\"\"\n",
        "    # Confusion matrix\n",
        "    cm = confusion_matrix(y_true, y_pred)\n",
        "    cm_norm = cm.astype('float') / cm.sum(axis=1)[:, np.newaxis]\n",
        "\n",
        "    #  Figure\n",
        "    fig = plt.figure()\n",
        "    ax = fig.add_subplot(111)\n",
        "    cax = ax.matshow(cm, cmap=plt.cm.Blues)\n",
        "    fig.colorbar(cax)\n",
        "\n",
        "    # Axis\n",
        "    plt.title(\"Confusion matrix\")\n",
        "    plt.ylabel(\"True label\")\n",
        "    plt.xlabel(\"Predicted label\")\n",
        "    ax.set_xticklabels([''] + classes)\n",
        "    ax.set_yticklabels([''] + classes)\n",
        "    ax.xaxis.set_label_position('bottom') \n",
        "    ax.xaxis.tick_bottom()\n",
        "\n",
        "    # Values\n",
        "    thresh = cm.max() / 2.\n",
        "    for i, j in itertools.product(range(cm.shape[0]), range(cm.shape[1])):\n",
        "        plt.text(j, i, f\"{cm[i, j]:d} ({cm_norm[i, j]*100:.1f}%)\",\n",
        "                 horizontalalignment=\"center\",\n",
        "                 color=\"white\" if cm[i, j] > thresh else \"black\")\n",
        "\n",
        "    # Display\n",
        "    plt.show()"
      ],
      "execution_count": 0,
      "outputs": []
    },
    {
      "cell_type": "code",
      "metadata": {
        "id": "gdzQ8LVuGJL3",
        "colab_type": "code",
        "colab": {}
      },
      "source": [
        "def plot_multiclass_decision_boundary(model, X, y, savefig_fp=None):\n",
        "    \"\"\"Plot the multiclass decision boundary for a model that accepts 2D inputs.\n",
        "\n",
        "    Arguments:\n",
        "        model {function} -- trained model with function model.predict(x_in).\n",
        "        X {numpy.ndarray} -- 2D inputs with shape (N, 2).\n",
        "        y {numpy.ndarray} -- 1D outputs with shape (N,).\n",
        "    \"\"\"\n",
        "    # Axis boundaries\n",
        "    x_min, x_max = X[:, 0].min() - 0.1, X[:, 0].max() + 0.1\n",
        "    y_min, y_max = X[:, 1].min() - 0.1, X[:, 1].max() + 0.1\n",
        "    xx, yy = np.meshgrid(np.linspace(x_min, x_max, 101),\n",
        "                         np.linspace(y_min, y_max, 101))\n",
        "\n",
        "    # Create predictions\n",
        "    x_in = np.c_[xx.ravel(), yy.ravel()]\n",
        "    y_pred = model.predict(x_in)\n",
        "    y_pred = np.argmax(y_pred, axis=1).reshape(xx.shape)\n",
        "\n",
        "    # Plot decision boundary\n",
        "    plt.contourf(xx, yy, y_pred, cmap=plt.cm.Spectral, alpha=0.8)\n",
        "    plt.scatter(X[:, 0], X[:, 1], c=y, s=40, cmap=plt.cm.RdYlBu)\n",
        "    plt.xlim(xx.min(), xx.max())\n",
        "    plt.ylim(yy.min(), yy.max())\n",
        "\n",
        "    # Plot\n",
        "    if savefig_fp:\n",
        "        plt.savefig(savefig_fp, format='png')"
      ],
      "execution_count": 0,
      "outputs": []
    },
    {
      "cell_type": "markdown",
      "metadata": {
        "id": "uqNeggOsWEE8",
        "colab_type": "text"
      },
      "source": [
        "### Operations"
      ]
    },
    {
      "cell_type": "code",
      "metadata": {
        "id": "ApoN49qmRhl5",
        "colab_type": "code",
        "outputId": "b22092f8-c909-4edc-e1d6-814edd868ecb",
        "colab": {
          "base_uri": "https://localhost:8080/",
          "height": 255
        }
      },
      "source": [
        "# Initialize the model\n",
        "model = LogisticClassifier(hidden_dim=HIDDEN_DIM,\n",
        "                           num_classes=NUM_CLASSES)\n",
        "model.sample(input_shape=(INPUT_DIM,))"
      ],
      "execution_count": 0,
      "outputs": [
        {
          "output_type": "stream",
          "text": [
            "Model: \"model\"\n",
            "_________________________________________________________________\n",
            "Layer (type)                 Output Shape              Param #   \n",
            "=================================================================\n",
            "input_1 (InputLayer)         [(None, 2)]               0         \n",
            "_________________________________________________________________\n",
            "dense (Dense)                (None, 100)               300       \n",
            "_________________________________________________________________\n",
            "dense_1 (Dense)              (None, 3)                 303       \n",
            "=================================================================\n",
            "Total params: 603\n",
            "Trainable params: 603\n",
            "Non-trainable params: 0\n",
            "_________________________________________________________________\n"
          ],
          "name": "stdout"
        }
      ]
    },
    {
      "cell_type": "code",
      "metadata": {
        "id": "TJXjloy30PVU",
        "colab_type": "code",
        "colab": {}
      },
      "source": [
        "# Compile\n",
        "model.compile(optimizer=Adam(lr=LEARNING_RATE),\n",
        "              loss=SparseCategoricalCrossentropy(),\n",
        "              metrics=['accuracy'])"
      ],
      "execution_count": 0,
      "outputs": []
    },
    {
      "cell_type": "code",
      "metadata": {
        "id": "weDSM-VRC8NX",
        "colab_type": "code",
        "outputId": "d8b0848b-83bd-4bc9-9246-7127650b370b",
        "colab": {
          "base_uri": "https://localhost:8080/",
          "height": 391
        }
      },
      "source": [
        "# Training\n",
        "model.fit(x=standardized_X_train, \n",
        "          y=y_train,\n",
        "          validation_data=(standardized_X_val, y_val),\n",
        "          epochs=NUM_EPOCHS,\n",
        "          batch_size=BATCH_SIZE,\n",
        "          class_weight=class_weights,\n",
        "          shuffle=False,\n",
        "          verbose=1)"
      ],
      "execution_count": 0,
      "outputs": [
        {
          "output_type": "stream",
          "text": [
            "Train on 1083 samples, validate on 192 samples\n",
            "Epoch 1/10\n",
            "1083/1083 [==============================] - 2s 2ms/sample - loss: 0.0022 - accuracy: 0.5199 - val_loss: 0.0021 - val_accuracy: 0.4948\n",
            "Epoch 2/10\n",
            "1083/1083 [==============================] - 0s 143us/sample - loss: 0.0021 - accuracy: 0.5254 - val_loss: 0.0021 - val_accuracy: 0.5052\n",
            "Epoch 3/10\n",
            "1083/1083 [==============================] - 0s 138us/sample - loss: 0.0021 - accuracy: 0.5263 - val_loss: 0.0021 - val_accuracy: 0.5104\n",
            "Epoch 4/10\n",
            "1083/1083 [==============================] - 0s 143us/sample - loss: 0.0021 - accuracy: 0.5254 - val_loss: 0.0021 - val_accuracy: 0.5104\n",
            "Epoch 5/10\n",
            "1083/1083 [==============================] - 0s 138us/sample - loss: 0.0021 - accuracy: 0.5254 - val_loss: 0.0021 - val_accuracy: 0.5000\n",
            "Epoch 6/10\n",
            "1083/1083 [==============================] - 0s 163us/sample - loss: 0.0021 - accuracy: 0.5254 - val_loss: 0.0021 - val_accuracy: 0.5000\n",
            "Epoch 7/10\n",
            "1083/1083 [==============================] - 0s 140us/sample - loss: 0.0021 - accuracy: 0.5235 - val_loss: 0.0021 - val_accuracy: 0.5000\n",
            "Epoch 8/10\n",
            "1083/1083 [==============================] - 0s 138us/sample - loss: 0.0021 - accuracy: 0.5226 - val_loss: 0.0021 - val_accuracy: 0.5000\n",
            "Epoch 9/10\n",
            "1083/1083 [==============================] - 0s 143us/sample - loss: 0.0021 - accuracy: 0.5235 - val_loss: 0.0021 - val_accuracy: 0.5052\n",
            "Epoch 10/10\n",
            "1083/1083 [==============================] - 0s 143us/sample - loss: 0.0021 - accuracy: 0.5245 - val_loss: 0.0021 - val_accuracy: 0.5052\n"
          ],
          "name": "stdout"
        },
        {
          "output_type": "execute_result",
          "data": {
            "text/plain": [
              "<tensorflow.python.keras.callbacks.History at 0x7f1dc0374ef0>"
            ]
          },
          "metadata": {
            "tags": []
          },
          "execution_count": 28
        }
      ]
    },
    {
      "cell_type": "code",
      "metadata": {
        "id": "Au0tESHKC8Rj",
        "colab_type": "code",
        "outputId": "0361814b-2448-4c18-ca42-3e7ed0008398",
        "colab": {
          "base_uri": "https://localhost:8080/",
          "height": 51
        }
      },
      "source": [
        "# Predictions\n",
        "pred_train = model.predict(standardized_X_train) \n",
        "pred_test = model.predict(standardized_X_test)\n",
        "print (f\"sample probability: {pred_test[0]}\")\n",
        "pred_train = np.argmax(pred_train, axis=1)\n",
        "pred_test = np.argmax(pred_test, axis=1)\n",
        "print (f\"sample class: {pred_test[0]}\")"
      ],
      "execution_count": 0,
      "outputs": [
        {
          "output_type": "stream",
          "text": [
            "sample probability: [0.02820205 0.13940957 0.8323884 ]\n",
            "sample class: 2\n"
          ],
          "name": "stdout"
        }
      ]
    },
    {
      "cell_type": "code",
      "metadata": {
        "id": "pKE1ZfJRb1b4",
        "colab_type": "code",
        "outputId": "e50b3012-1cdd-456c-9633-7719d2a1c22a",
        "colab": {
          "base_uri": "https://localhost:8080/",
          "height": 34
        }
      },
      "source": [
        "# Accuracy\n",
        "train_acc = accuracy_score(y_train, pred_train)\n",
        "test_acc = accuracy_score(y_test, pred_test)\n",
        "print (f\"train acc: {train_acc:.2f}, test acc: {test_acc:.2f}\")"
      ],
      "execution_count": 0,
      "outputs": [
        {
          "output_type": "stream",
          "text": [
            "train acc: 0.53, test acc: 0.54\n"
          ],
          "name": "stdout"
        }
      ]
    },
    {
      "cell_type": "code",
      "metadata": {
        "id": "M3NVCzLWsCe3",
        "colab_type": "code",
        "outputId": "25a61170-24b4-4f46-ef35-979a3840b76e",
        "colab": {
          "base_uri": "https://localhost:8080/",
          "height": 476
        }
      },
      "source": [
        "# Metrics\n",
        "plot_confusion_matrix(y_test, pred_test, classes=classes)\n",
        "print (classification_report(y_test, pred_test))"
      ],
      "execution_count": 0,
      "outputs": [
        {
          "output_type": "display_data",
          "data": {
            "image/png": "[encoded data removed]",
            "text/plain": [
              "<Figure size 432x288 with 2 Axes>"
            ]
          },
          "metadata": {
            "tags": []
          }
        },
        {
          "output_type": "stream",
          "text": [
            "              precision    recall  f1-score   support\n",
            "\n",
            "           0       0.51      0.59      0.55        75\n",
            "           1       0.50      0.44      0.47        75\n",
            "           2       0.60      0.59      0.59        75\n",
            "\n",
            "    accuracy                           0.54       225\n",
            "   macro avg       0.54      0.54      0.54       225\n",
            "weighted avg       0.54      0.54      0.54       225\n",
            "\n"
          ],
          "name": "stdout"
        }
      ]
    },
    {
      "cell_type": "code",
      "metadata": {
        "id": "gGfevv1kusw8",
        "colab_type": "code",
        "outputId": "93eb89f4-ee69-4cb3-d289-d7b46d772580",
        "colab": {
          "base_uri": "https://localhost:8080/",
          "height": 336
        }
      },
      "source": [
        "# Visualize the decision boundary\n",
        "plt.figure(figsize=(12,5))\n",
        "plt.subplot(1, 2, 1)\n",
        "plt.title(\"Train\")\n",
        "plot_multiclass_decision_boundary(model=model, X=standardized_X_train, y=y_train)\n",
        "plt.subplot(1, 2, 2)\n",
        "plt.title(\"Test\")\n",
        "plot_multiclass_decision_boundary(model=model, X=standardized_X_test, y=y_test)\n",
        "plt.show()"
      ],
      "execution_count": 0,
      "outputs": [
        {
          "output_type": "display_data",
          "data": {
            "image/png": "[encoded data removed]",
            "text/plain": [
              "<Figure size 864x360 with 2 Axes>"
            ]
          },
          "metadata": {
            "tags": []
          }
        }
      ]
    },
    {
      "cell_type": "markdown",
      "metadata": {
        "id": "R3OK8p-Ng3BC",
        "colab_type": "text"
      },
      "source": [
        "# Activation functions"
      ]
    },
    {
      "cell_type": "markdown",
      "metadata": {
        "id": "ghf5uLuhg3D0",
        "colab_type": "text"
      },
      "source": [
        "Using the generalized linear method (logistic regression) yielded poor results because of the non-linearity present in our data. We need to use an activation function that can allow our model to learn and map the non-linearity in our data. There are many different options so let's explore a few."
      ]
    },
    {
      "cell_type": "code",
      "metadata": {
        "id": "3ZCBe8vOytx5",
        "colab_type": "code",
        "colab": {}
      },
      "source": [
        "from tensorflow.keras.activations import relu\n",
        "from tensorflow.keras.activations import sigmoid\n",
        "from tensorflow.keras.activations import tanh"
      ],
      "execution_count": 0,
      "outputs": []
    },
    {
      "cell_type": "code",
      "metadata": {
        "id": "ivnfSKEhg3Md",
        "colab_type": "code",
        "outputId": "0cce6254-2647-42c6-e2a1-7197cc29bb55",
        "colab": {
          "base_uri": "https://localhost:8080/",
          "height": 227
        }
      },
      "source": [
        "# Fig size\n",
        "plt.figure(figsize=(12,3))\n",
        "\n",
        "# Data\n",
        "x = np.arange(-5., 5., 0.1)\n",
        "\n",
        "# Sigmoid activation (constrain a value between 0 and 1.)\n",
        "plt.subplot(1, 3, 1)\n",
        "plt.title(\"Sigmoid activation\")\n",
        "y = sigmoid(x)\n",
        "plt.plot(x, y)\n",
        "\n",
        "# Tanh activation (constrain a value between -1 and 1.)\n",
        "plt.subplot(1, 3, 2)\n",
        "y = tanh(x)\n",
        "plt.title(\"Tanh activation\")\n",
        "plt.plot(x, y)\n",
        "\n",
        "# Relu (clip the negative values to 0)\n",
        "plt.subplot(1, 3, 3)\n",
        "y = relu(x)\n",
        "plt.title(\"ReLU activation\")\n",
        "plt.plot(x, y)\n",
        "\n",
        "# Show plots\n",
        "plt.show()"
      ],
      "execution_count": 0,
      "outputs": [
        {
          "output_type": "display_data",
          "data": {
            "image/png": "[encoded data removed]",
            "text/plain": [
              "<Figure size 864x216 with 3 Axes>"
            ]
          },
          "metadata": {
            "tags": []
          }
        }
      ]
    },
    {
      "cell_type": "markdown",
      "metadata": {
        "id": "b_yo9fwwciDY",
        "colab_type": "text"
      },
      "source": [
        "The ReLU activation function ($max(0,z)$) is by far the most widely used activation function for neural networks. But as you can see, each activation function has it's own contraints so there are circumstances where you'll want to use different ones. For example, if we need to constrain our outputs between 0 and 1, then the sigmoid activation is the best choice."
      ]
    },
    {
      "cell_type": "markdown",
      "metadata": {
        "id": "u72au7H9oHk7",
        "colab_type": "text"
      },
      "source": [
        "<img height=\"45\" src=\"http://bestanimations.com/HomeOffice/Lights/Bulbs/animated-light-bulb-gif-29.gif\" align=\"left\" vspace=\"20px\" hspace=\"10px\">\n",
        "\n",
        "In some cases, using a ReLU activation function may not be sufficient. For instance, when the outputs from our neurons are mostly negative, the activation function will produce zeros. This effectively creates a \"dying ReLU\" and a recovery is unlikely. To mitigate this effect, we could lower the learning rate or use [alternative ReLU activations](https://medium.com/tinymind/a-practical-guide-to-relu-b83ca804f1f7), ex. leaky ReLU or parametric ReLU (PReLU), which have a small slope for negative neuron outputs. "
      ]
    },
    {
      "cell_type": "markdown",
      "metadata": {
        "id": "xqWpi0X2dWpe",
        "colab_type": "text"
      },
      "source": [
        "# From scratch\n",
        "\n",
        "Now let's create our multilayer perceptron (MLP) which is going to be exactly like the logistic regression model but with the activation function to map the non-linearity in our data. Before we use TensorFlow 2.0 + Keras we will implement our neural network from scratch using NumPy so we can:\n",
        "1. Absorb the fundamental concepts by implementing from scratch\n",
        "2. Appreciate the level of abstraction TensorFlow provides\n",
        "\n",
        "<div align=\"left\">\n",
        "<img src=\"https://raw.githubusercontent.com/practicalAI/images/master/images/lightbulb.gif\" width=\"45px\" align=\"left\" hspace=\"10px\">\n",
        "</div> \n",
        "\n",
        "It's normal to find the math and code in this section slightly complex. You can still read each of the steps to build intuition for when we implement this using TensorFlow + Keras.\n"
      ]
    },
    {
      "cell_type": "code",
      "metadata": {
        "id": "5H7liW_Adr2n",
        "colab_type": "code",
        "outputId": "fca6fd7c-a16f-425a-bf82-0ecb5b47c22c",
        "colab": {
          "base_uri": "https://localhost:8080/",
          "height": 51
        }
      },
      "source": [
        "print (f\"X: {standardized_X_train.shape}\")\n",
        "print (f\"y: {y_train.shape}\")"
      ],
      "execution_count": 0,
      "outputs": [
        {
          "output_type": "stream",
          "text": [
            "X: (1083, 2)\n",
            "y: (1083,)\n"
          ],
          "name": "stdout"
        }
      ]
    },
    {
      "cell_type": "markdown",
      "metadata": {
        "id": "0prEPVOlv1F4",
        "colab_type": "text"
      },
      "source": [
        "Our goal is to learn a model  𝑦̂   that models  𝑦  given  𝑋 . You'll notice that neural networks are just extensions of the generalized linear methods we've seen so far but with non-linear activation functions since our data will be highly non-linear.\n",
        "\n",
        "$z_1 = XW_1$\n",
        "\n",
        "$a_1 = f(z_1)$\n",
        "\n",
        "$z_2 = a_1W_2$\n",
        "\n",
        "$\\hat{y} = softmax(z_2)$ # classification\n",
        "\n",
        "* $X$ = inputs | $\\in \\mathbb{R}^{NXD}$ ($D$ is the number of features)\n",
        "* $W_1$ = 1st layer weights | $\\in \\mathbb{R}^{DXH}$ ($H$ is the number of hidden units in layer 1)\n",
        "* $z_1$ = outputs from first layer  $\\in \\mathbb{R}^{NXH}$\n",
        "* $f$ = non-linear activation function\n",
        "* $a_1$ = activation applied first layer's outputs | $\\in \\mathbb{R}^{NXH}$\n",
        "* $W_2$ = 2nd layer weights | $\\in \\mathbb{R}^{HXC}$ ($C$ is the number of classes)\n",
        "* $z_2$ = outputs from second layer  $\\in \\mathbb{R}^{NXH}$\n",
        "* $\\hat{y}$ = prediction | $\\in \\mathbb{R}^{NXC}$ ($N$ is the number of samples)"
      ]
    },
    {
      "cell_type": "markdown",
      "metadata": {
        "id": "a25Zg2yyvhKL",
        "colab_type": "text"
      },
      "source": [
        "1. Randomly initialize the model's weights $W$ (we'll cover more effective initalization strategies later in this lesson)."
      ]
    },
    {
      "cell_type": "code",
      "metadata": {
        "id": "Y3udiI1Idr62",
        "colab_type": "code",
        "outputId": "f1474861-ecae-4a80-a343-f014c7490660",
        "colab": {
          "base_uri": "https://localhost:8080/",
          "height": 51
        }
      },
      "source": [
        "# Initialize first layer's weights\n",
        "W1 = 0.01 * np.random.randn(INPUT_DIM, HIDDEN_DIM)\n",
        "b1 = np.zeros((1, HIDDEN_DIM))\n",
        "print (f\"W1: {W1.shape}\")\n",
        "print (f\"b1: {b1.shape}\")"
      ],
      "execution_count": 0,
      "outputs": [
        {
          "output_type": "stream",
          "text": [
            "W1: (2, 100)\n",
            "b1: (1, 100)\n"
          ],
          "name": "stdout"
        }
      ]
    },
    {
      "cell_type": "markdown",
      "metadata": {
        "id": "CqllhIMgxGq7",
        "colab_type": "text"
      },
      "source": [
        "2. Feed inputs $X$ into the model to do the forward pass and receive the probabilities."
      ]
    },
    {
      "cell_type": "markdown",
      "metadata": {
        "id": "pH9-D8YE4pHH",
        "colab_type": "text"
      },
      "source": [
        "First we pass the inputs into the first layer.\n",
        "  * $z_1 = XW_1$"
      ]
    },
    {
      "cell_type": "code",
      "metadata": {
        "id": "TAeYeoMtdr-t",
        "colab_type": "code",
        "outputId": "976c193f-4968-4c9e-a879-261212641aae",
        "colab": {
          "base_uri": "https://localhost:8080/",
          "height": 34
        }
      },
      "source": [
        "# z1 = [NX2] · [2X100] + [1X100] = [NX100]\n",
        "z1 = np.dot(standardized_X_train, W1) + b1\n",
        "print (f\"z1: {z1.shape}\")"
      ],
      "execution_count": 0,
      "outputs": [
        {
          "output_type": "stream",
          "text": [
            "z1: (1083, 100)\n"
          ],
          "name": "stdout"
        }
      ]
    },
    {
      "cell_type": "markdown",
      "metadata": {
        "id": "15yZEt903YOO",
        "colab_type": "text"
      },
      "source": [
        "Next we apply the non-linear activation function, ReLU ($max(0,z)$) in this case.\n",
        "  * $a_1 = f(z_1)$"
      ]
    },
    {
      "cell_type": "code",
      "metadata": {
        "id": "yAFau-Zm3YVM",
        "colab_type": "code",
        "outputId": "75c8a548-26a0-4f31-b15e-83d9da2f6f13",
        "colab": {
          "base_uri": "https://localhost:8080/",
          "height": 34
        }
      },
      "source": [
        "# Apply activation function\n",
        "a1 = np.maximum(0, z1) # ReLU\n",
        "print (f\"a_1: {a1.shape}\")"
      ],
      "execution_count": 0,
      "outputs": [
        {
          "output_type": "stream",
          "text": [
            "a_1: (1083, 100)\n"
          ],
          "name": "stdout"
        }
      ]
    },
    {
      "cell_type": "markdown",
      "metadata": {
        "id": "gNHCPVa03YGB",
        "colab_type": "text"
      },
      "source": [
        "We pass the activations to the second layer to get our logits.\n",
        "  * $z_2 = a_1W_2$"
      ]
    },
    {
      "cell_type": "code",
      "metadata": {
        "id": "kyJS1y2o3YJb",
        "colab_type": "code",
        "outputId": "769e82d7-a599-49c7-a884-181594306372",
        "colab": {
          "base_uri": "https://localhost:8080/",
          "height": 51
        }
      },
      "source": [
        "# Initialize second layer's weights\n",
        "W2 = 0.01 * np.random.randn(HIDDEN_DIM, NUM_CLASSES)\n",
        "b2 = np.zeros((1, NUM_CLASSES))\n",
        "print (f\"W2: {W2.shape}\")\n",
        "print (f\"b2: {b2.shape}\")"
      ],
      "execution_count": 0,
      "outputs": [
        {
          "output_type": "stream",
          "text": [
            "W2: (100, 3)\n",
            "b2: (1, 3)\n"
          ],
          "name": "stdout"
        }
      ]
    },
    {
      "cell_type": "code",
      "metadata": {
        "id": "k_sCtbVh5DfI",
        "colab_type": "code",
        "outputId": "705486e5-09b3-47dc-d091-8f469042a27e",
        "colab": {
          "base_uri": "https://localhost:8080/",
          "height": 51
        }
      },
      "source": [
        "# z2 = logits = [NX100] · [100X3] + [1X3] = [NX3]\n",
        "logits = np.dot(a1, W2) + b2\n",
        "print (f\"logits: {logits.shape}\")\n",
        "print (f\"sample: {logits[0]}\")"
      ],
      "execution_count": 0,
      "outputs": [
        {
          "output_type": "stream",
          "text": [
            "logits: (1083, 3)\n",
            "sample: [ 0.0004134   0.0002782  -0.00118021]\n"
          ],
          "name": "stdout"
        }
      ]
    },
    {
      "cell_type": "markdown",
      "metadata": {
        "id": "6r_NhZuP3X5g",
        "colab_type": "text"
      },
      "source": [
        "We'll apply the softmax function to normalize the logits and btain class probabilities.\n",
        "  * $\\hat{y} = softmax(z_2)$"
      ]
    },
    {
      "cell_type": "code",
      "metadata": {
        "id": "wI3jpHGJ3X_i",
        "colab_type": "code",
        "outputId": "0aef6c54-614b-47ac-9ff8-63b100e21b4c",
        "colab": {
          "base_uri": "https://localhost:8080/",
          "height": 51
        }
      },
      "source": [
        "# Normalization via softmax to obtain class probabilities\n",
        "exp_logits = np.exp(logits)\n",
        "y_hat = exp_logits / np.sum(exp_logits, axis=1, keepdims=True)\n",
        "print (f\"y_hat: {y_hat.shape}\")\n",
        "print (f\"sample: {y_hat[0]}\")"
      ],
      "execution_count": 0,
      "outputs": [
        {
          "output_type": "stream",
          "text": [
            "y_hat: (1083, 3)\n",
            "sample: [0.33352539 0.3334803  0.33299431]\n"
          ],
          "name": "stdout"
        }
      ]
    },
    {
      "cell_type": "markdown",
      "metadata": {
        "id": "_VzjdcZG2h_h",
        "colab_type": "text"
      },
      "source": [
        "3. Compare the predictions $\\hat{y}$ (ex.  [0.3, 0.3, 0.4]]) with the actual target values $y$ (ex. class 2 would look like [0, 0, 1]) with the objective (cost) function to determine loss $J$. A common objective function for classification tasks is cross-entropy loss. \n",
        "  * $J(\\theta) = - \\sum_i ln(\\hat{y_i}) = - \\sum_i ln (\\frac{e^{X_iW_y}}{\\sum_j e^{X_iW}}) $"
      ]
    },
    {
      "cell_type": "code",
      "metadata": {
        "id": "0llchiDhxGGI",
        "colab_type": "code",
        "colab": {}
      },
      "source": [
        "# Loss\n",
        "correct_class_logprobs = -np.log(y_hat[range(len(y_hat)), y_train])\n",
        "loss = np.sum(correct_class_logprobs) / len(y_train)"
      ],
      "execution_count": 0,
      "outputs": []
    },
    {
      "cell_type": "markdown",
      "metadata": {
        "id": "6y4ZWFp32jd2",
        "colab_type": "text"
      },
      "source": [
        "4. Calculate the gradient of loss $J(\\theta)$ w.r.t to the model weights. \n",
        "  \n",
        "  The gradient of the loss w.r.t to W2 is the same as the gradients from logistic regression since $\\hat{y} = softmax(z_2)$.\n",
        " * $\\frac{\\partial{J}}{\\partial{W_{2j}}} = \\frac{\\partial{J}}{\\partial{\\hat{y}}}\\frac{\\partial{\\hat{y}}}{\\partial{W_{2j}}} = - \\frac{1}{\\hat{y}}\\frac{\\partial{\\hat{y}}}{\\partial{W_{2j}}} = - \\frac{1}{\\frac{e^{W_{2y}a_1}}{\\sum_j e^{a_1W}}}\\frac{\\sum_j e^{a_1W}e^{a_1W_{2y}}0 - e^{a_1W_{2y}}e^{a_1W_{2j}}a_1}{(\\sum_j e^{a_1W})^2} = \\frac{a_1e^{a_1W_{2j}}}{\\sum_j e^{a_1W}} = a_1\\hat{y}$\n",
        "  * $\\frac{\\partial{J}}{\\partial{W_{2y}}} = \\frac{\\partial{J}}{\\partial{\\hat{y}}}\\frac{\\partial{\\hat{y}}}{\\partial{W_{2y}}} = - \\frac{1}{\\hat{y}}\\frac{\\partial{\\hat{y}}}{\\partial{W_{2y}}} = - \\frac{1}{\\frac{e^{W_{2y}a_1}}{\\sum_j e^{a_1W}}}\\frac{\\sum_j e^{a_1W}e^{a_1W_{2y}}a_1 - e^{a_1W_{2y}}e^{a_1W_{2y}}a_1}{(\\sum_j e^{a_1W})^2} = \\frac{1}{\\hat{y}}(a_1\\hat{y} - a_1\\hat{y}^2) = a_1(\\hat{y}-1)$\n",
        "\n",
        "  The gradient of the loss w.r.t W1 is a bit trickier since we have to backpropagate through two sets of weights.\n",
        "  * $ \\frac{\\partial{J}}{\\partial{W_1}} = \\frac{\\partial{J}}{\\partial{\\hat{y}}} \\frac{\\partial{\\hat{y}}}{\\partial{a_1}}  \\frac{\\partial{a_1}}{\\partial{z_1}}  \\frac{\\partial{z_1}}{\\partial{W_1}}  = W_2(\\partial{scores})(\\partial{ReLU})X $"
      ]
    },
    {
      "cell_type": "code",
      "metadata": {
        "id": "9D2ujwNOxGQ1",
        "colab_type": "code",
        "colab": {}
      },
      "source": [
        "# dJ/dW2\n",
        "dscores = y_hat\n",
        "dscores[range(len(y_hat)), y_train] -= 1\n",
        "dscores /= len(y_train)\n",
        "dW2 = np.dot(a1.T, dscores)\n",
        "db2 = np.sum(dscores, axis=0, keepdims=True)"
      ],
      "execution_count": 0,
      "outputs": []
    },
    {
      "cell_type": "code",
      "metadata": {
        "id": "gEpKpAgn78h4",
        "colab_type": "code",
        "colab": {}
      },
      "source": [
        "# dJ/dW1\n",
        "dhidden = np.dot(dscores, W2.T)\n",
        "dhidden[a1 <= 0] = 0 # ReLu backprop\n",
        "dW1 = np.dot(standardized_X_train.T, dhidden)\n",
        "db1 = np.sum(dhidden, axis=0, keepdims=True)"
      ],
      "execution_count": 0,
      "outputs": []
    },
    {
      "cell_type": "markdown",
      "metadata": {
        "id": "z1j-lgGq2lb_",
        "colab_type": "text"
      },
      "source": [
        "5. Update the weights $W$ using a small learning rate $\\alpha$. The updates will penalize the probabiltiy for the incorrect classes (j) and encourage a higher probability for the correct class (y).\n",
        "  * $W_i = W_i - \\alpha\\frac{\\partial{J}}{\\partial{W_i}}$"
      ]
    },
    {
      "cell_type": "code",
      "metadata": {
        "id": "6kZoWyx-xGW8",
        "colab_type": "code",
        "colab": {}
      },
      "source": [
        "# Update weights\n",
        "W1 += -LEARNING_RATE * dW1\n",
        "b1 += -LEARNING_RATE * db1\n",
        "W2 += -LEARNING_RATE * dW2\n",
        "b2 += -LEARNING_RATE * db2"
      ],
      "execution_count": 0,
      "outputs": []
    },
    {
      "cell_type": "markdown",
      "metadata": {
        "id": "6lho6k572mge",
        "colab_type": "text"
      },
      "source": [
        "6. Repeat steps 2 - 4 until model performs well."
      ]
    },
    {
      "cell_type": "code",
      "metadata": {
        "id": "ScHz7h6OxGU_",
        "colab_type": "code",
        "outputId": "0d32ac44-52fb-4b68-a960-ecfa8fcd96d2",
        "colab": {
          "base_uri": "https://localhost:8080/",
          "height": 187
        }
      },
      "source": [
        "# Initialize random weights\n",
        "W1 = 0.01 * np.random.randn(INPUT_DIM, HIDDEN_DIM)\n",
        "b1 = np.zeros((1, HIDDEN_DIM))\n",
        "W2 = 0.01 * np.random.randn(HIDDEN_DIM, NUM_CLASSES)\n",
        "b2 = np.zeros((1, NUM_CLASSES))\n",
        "\n",
        "# Training loop\n",
        "for epoch_num in range(1000):\n",
        "\n",
        "    # First layer forward pass [NX2] · [2X100] = [NX100]\n",
        "    z1 = np.dot(standardized_X_train, W1) + b1\n",
        "\n",
        "    # Apply activation function\n",
        "    a1 = np.maximum(0, z1) # ReLU\n",
        "\n",
        "    # z2 = logits = [NX100] · [100X3] = [NX3]\n",
        "    logits = np.dot(a1, W2) + b2\n",
        "    \n",
        "    # Normalization via softmax to obtain class probabilities\n",
        "    exp_logits = np.exp(logits)\n",
        "    y_hat = exp_logits / np.sum(exp_logits, axis=1, keepdims=True)\n",
        "\n",
        "    # Loss\n",
        "    correct_class_logprobs = -np.log(y_hat[range(len(y_hat)), y_train])\n",
        "    loss = np.sum(correct_class_logprobs) / len(y_train)\n",
        "\n",
        "    # show progress\n",
        "    if epoch_num%100 == 0:\n",
        "        # Accuracy\n",
        "        y_pred = np.argmax(logits, axis=1)\n",
        "        accuracy =  np.mean(np.equal(y_train, y_pred))\n",
        "        print (f\"Epoch: {epoch_num}, loss: {loss:.3f}, accuracy: {accuracy:.3f}\")\n",
        "\n",
        "    # dJ/dW2\n",
        "    dscores = y_hat\n",
        "    dscores[range(len(y_hat)), y_train] -= 1\n",
        "    dscores /= len(y_train)\n",
        "    dW2 = np.dot(a1.T, dscores)\n",
        "    db2 = np.sum(dscores, axis=0, keepdims=True)\n",
        "\n",
        "    # dJ/dW1\n",
        "    dhidden = np.dot(dscores, W2.T)\n",
        "    dhidden[a1 <= 0] = 0 # ReLu backprop\n",
        "    dW1 = np.dot(standardized_X_train.T, dhidden)\n",
        "    db1 = np.sum(dhidden, axis=0, keepdims=True)\n",
        "\n",
        "    # Update weights\n",
        "    W1 += -1e0 * dW1\n",
        "    b1 += -1e0 * db1\n",
        "    W2 += -1e0 * dW2\n",
        "    b2 += -1e0 * db2"
      ],
      "execution_count": 0,
      "outputs": [
        {
          "output_type": "stream",
          "text": [
            "Epoch: 0, loss: 1.099, accuracy: 0.243\n",
            "Epoch: 100, loss: 0.551, accuracy: 0.680\n",
            "Epoch: 200, loss: 0.223, accuracy: 0.912\n",
            "Epoch: 300, loss: 0.131, accuracy: 0.951\n",
            "Epoch: 400, loss: 0.090, accuracy: 0.976\n",
            "Epoch: 500, loss: 0.069, accuracy: 0.985\n",
            "Epoch: 600, loss: 0.056, accuracy: 0.994\n",
            "Epoch: 700, loss: 0.048, accuracy: 0.996\n",
            "Epoch: 800, loss: 0.043, accuracy: 0.997\n",
            "Epoch: 900, loss: 0.039, accuracy: 0.997\n"
          ],
          "name": "stdout"
        }
      ]
    },
    {
      "cell_type": "code",
      "metadata": {
        "id": "2hDGiO6Ng8CI",
        "colab_type": "code",
        "colab": {}
      },
      "source": [
        "class MLPFromScratch():\n",
        "    def predict(self, x):\n",
        "        z1 = np.dot(x, W1) + b1\n",
        "        a1 = np.maximum(0, z1)\n",
        "        logits = np.dot(a1, W2) + b2\n",
        "        exp_logits = np.exp(logits)\n",
        "        y_hat = exp_logits / np.sum(exp_logits, axis=1, keepdims=True)\n",
        "        return y_hat"
      ],
      "execution_count": 0,
      "outputs": []
    },
    {
      "cell_type": "code",
      "metadata": {
        "id": "Dv5Y3-1ibuPM",
        "colab_type": "code",
        "colab": {}
      },
      "source": [
        "# Evaluation\n",
        "model = MLPFromScratch()\n",
        "logits_train = model.predict(standardized_X_train)\n",
        "pred_train = np.argmax(logits_train, axis=1)\n",
        "logits_test = model.predict(standardized_X_test)\n",
        "pred_test = np.argmax(logits_test, axis=1)"
      ],
      "execution_count": 0,
      "outputs": []
    },
    {
      "cell_type": "code",
      "metadata": {
        "id": "XfmYidNSgkcv",
        "colab_type": "code",
        "outputId": "53027197-a1af-4590-a7db-267509a7e10e",
        "colab": {
          "base_uri": "https://localhost:8080/",
          "height": 34
        }
      },
      "source": [
        "# Training and test accuracy\n",
        "train_acc =  np.mean(np.equal(y_train, pred_train))\n",
        "test_acc = np.mean(np.equal(y_test, pred_test))\n",
        "print (f\"train acc: {train_acc:.2f}, test acc: {test_acc:.2f}\")"
      ],
      "execution_count": 0,
      "outputs": [
        {
          "output_type": "stream",
          "text": [
            "train acc: 1.00, test acc: 1.00\n"
          ],
          "name": "stdout"
        }
      ]
    },
    {
      "cell_type": "code",
      "metadata": {
        "id": "I5pDl4hdgkaE",
        "colab_type": "code",
        "outputId": "8408f2d4-6372-437c-f2b8-fc985e5b1141",
        "colab": {
          "base_uri": "https://localhost:8080/",
          "height": 336
        }
      },
      "source": [
        "# Visualize the decision boundary\n",
        "plt.figure(figsize=(12,5))\n",
        "plt.subplot(1, 2, 1)\n",
        "plt.title(\"Train\")\n",
        "plot_multiclass_decision_boundary(model=model, X=standardized_X_train, y=y_train)\n",
        "plt.subplot(1, 2, 2)\n",
        "plt.title(\"Test\")\n",
        "plot_multiclass_decision_boundary(model=model, X=standardized_X_test, y=y_test)\n",
        "plt.show()"
      ],
      "execution_count": 0,
      "outputs": [
        {
          "output_type": "display_data",
          "data": {
            "image/png": "[encoded data removed]",
            "text/plain": [
              "<Figure size 864x360 with 2 Axes>"
            ]
          },
          "metadata": {
            "tags": []
          }
        }
      ]
    },
    {
      "cell_type": "markdown",
      "metadata": {
        "id": "kV2rzKCLdSEu",
        "colab_type": "text"
      },
      "source": [
        "Credit for the plotting functions and the intuition behind all this is due to [CS231n](http://cs231n.github.io/neural-networks-case-study/), one of the best courses for machine learning. Now let's implement the MLP with TensorFlow + Keras."
      ]
    },
    {
      "cell_type": "markdown",
      "metadata": {
        "id": "br_O_NUCjkwm",
        "colab_type": "text"
      },
      "source": [
        "# TensorFlow + Keras"
      ]
    },
    {
      "cell_type": "markdown",
      "metadata": {
        "id": "vjpH19aiWNFe",
        "colab_type": "text"
      },
      "source": [
        "### Components"
      ]
    },
    {
      "cell_type": "code",
      "metadata": {
        "id": "-U0_3Xco0Q4g",
        "colab_type": "code",
        "colab": {}
      },
      "source": [
        "# MLP\n",
        "class MLP(Model):\n",
        "    def __init__(self, hidden_dim, num_classes):\n",
        "        super(MLP, self).__init__()\n",
        "        self.fc1 = Dense(units=hidden_dim, activation='relu') # replaced linear with relu\n",
        "        self.fc2 = Dense(units=num_classes, activation='softmax')\n",
        "        \n",
        "    def call(self, x_in, training=False):\n",
        "        \"\"\"Forward pass.\"\"\"\n",
        "        z = self.fc1(x_in)\n",
        "        y_pred = self.fc2(z)\n",
        "        return y_pred\n",
        "    \n",
        "    def sample(self, input_shape):\n",
        "        x_in = Input(shape=input_shape)\n",
        "        return Model(inputs=x_in, outputs=self.call(x_in)).summary()"
      ],
      "execution_count": 0,
      "outputs": []
    },
    {
      "cell_type": "markdown",
      "metadata": {
        "id": "stBQV5LiWNCb",
        "colab_type": "text"
      },
      "source": [
        "### Operations"
      ]
    },
    {
      "cell_type": "code",
      "metadata": {
        "id": "V-8S6w1njkDC",
        "colab_type": "code",
        "outputId": "84c6233a-fabd-4d1d-986b-6c29bce9ce9b",
        "colab": {
          "base_uri": "https://localhost:8080/",
          "height": 255
        }
      },
      "source": [
        "# Initialize the model\n",
        "model = MLP(hidden_dim=HIDDEN_DIM,\n",
        "            num_classes=NUM_CLASSES)\n",
        "model.sample(input_shape=(INPUT_DIM,))"
      ],
      "execution_count": 0,
      "outputs": [
        {
          "output_type": "stream",
          "text": [
            "Model: \"model_1\"\n",
            "_________________________________________________________________\n",
            "Layer (type)                 Output Shape              Param #   \n",
            "=================================================================\n",
            "input_2 (InputLayer)         [(None, 2)]               0         \n",
            "_________________________________________________________________\n",
            "dense_2 (Dense)              (None, 100)               300       \n",
            "_________________________________________________________________\n",
            "dense_3 (Dense)              (None, 3)                 303       \n",
            "=================================================================\n",
            "Total params: 603\n",
            "Trainable params: 603\n",
            "Non-trainable params: 0\n",
            "_________________________________________________________________\n"
          ],
          "name": "stdout"
        }
      ]
    },
    {
      "cell_type": "code",
      "metadata": {
        "id": "YtZvQVVpvl5p",
        "colab_type": "code",
        "colab": {}
      },
      "source": [
        "# Compile\n",
        "optimizer = Adam(lr=LEARNING_RATE)\n",
        "model.compile(optimizer=optimizer,\n",
        "              loss=SparseCategoricalCrossentropy(),\n",
        "              metrics=['accuracy'])"
      ],
      "execution_count": 0,
      "outputs": []
    },
    {
      "cell_type": "code",
      "metadata": {
        "colab_type": "code",
        "id": "nmeU45XF0O-U",
        "outputId": "d1b34081-9987-46fd-a19d-61ab136b9386",
        "colab": {
          "base_uri": "https://localhost:8080/",
          "height": 391
        }
      },
      "source": [
        "# Training\n",
        "model.fit(x=standardized_X_train, \n",
        "          y=y_train,\n",
        "          validation_data=(standardized_X_val, y_val),\n",
        "          epochs=NUM_EPOCHS,\n",
        "          batch_size=BATCH_SIZE,\n",
        "          class_weight=class_weights,\n",
        "          shuffle=False,\n",
        "          verbose=1)"
      ],
      "execution_count": 0,
      "outputs": [
        {
          "output_type": "stream",
          "text": [
            "Train on 1083 samples, validate on 192 samples\n",
            "Epoch 1/10\n",
            "1083/1083 [==============================] - 1s 769us/sample - loss: 0.0021 - accuracy: 0.5540 - val_loss: 0.0017 - val_accuracy: 0.5833\n",
            "Epoch 2/10\n",
            "1083/1083 [==============================] - 0s 147us/sample - loss: 0.0014 - accuracy: 0.7470 - val_loss: 0.0012 - val_accuracy: 0.8333\n",
            "Epoch 3/10\n",
            "1083/1083 [==============================] - 0s 137us/sample - loss: 8.5693e-04 - accuracy: 0.9049 - val_loss: 7.6481e-04 - val_accuracy: 0.8906\n",
            "Epoch 4/10\n",
            "1083/1083 [==============================] - 0s 137us/sample - loss: 5.4156e-04 - accuracy: 0.9501 - val_loss: 5.5680e-04 - val_accuracy: 0.9531\n",
            "Epoch 5/10\n",
            "1083/1083 [==============================] - 0s 140us/sample - loss: 3.8934e-04 - accuracy: 0.9649 - val_loss: 4.4130e-04 - val_accuracy: 0.9635\n",
            "Epoch 6/10\n",
            "1083/1083 [==============================] - 0s 145us/sample - loss: 3.0538e-04 - accuracy: 0.9741 - val_loss: 3.6685e-04 - val_accuracy: 0.9635\n",
            "Epoch 7/10\n",
            "1083/1083 [==============================] - 0s 138us/sample - loss: 2.5231e-04 - accuracy: 0.9778 - val_loss: 3.0834e-04 - val_accuracy: 0.9792\n",
            "Epoch 8/10\n",
            "1083/1083 [==============================] - 0s 145us/sample - loss: 2.1546e-04 - accuracy: 0.9815 - val_loss: 2.6535e-04 - val_accuracy: 0.9948\n",
            "Epoch 9/10\n",
            "1083/1083 [==============================] - 0s 138us/sample - loss: 1.8842e-04 - accuracy: 0.9834 - val_loss: 2.3150e-04 - val_accuracy: 0.9948\n",
            "Epoch 10/10\n",
            "1083/1083 [==============================] - 0s 144us/sample - loss: 1.6813e-04 - accuracy: 0.9843 - val_loss: 2.0421e-04 - val_accuracy: 0.9948\n"
          ],
          "name": "stdout"
        },
        {
          "output_type": "execute_result",
          "data": {
            "text/plain": [
              "<tensorflow.python.keras.callbacks.History at 0x7f1d67d6eba8>"
            ]
          },
          "metadata": {
            "tags": []
          },
          "execution_count": 54
        }
      ]
    },
    {
      "cell_type": "code",
      "metadata": {
        "id": "Y4tI2iZ1vl8e",
        "colab_type": "code",
        "outputId": "b8a1d12a-8d9f-4500-96a3-21a5cb3a6e42",
        "colab": {
          "base_uri": "https://localhost:8080/",
          "height": 51
        }
      },
      "source": [
        "# Predictions\n",
        "pred_train = model.predict(standardized_X_train) \n",
        "pred_test = model.predict(standardized_X_test)\n",
        "print (f\"sample probability: {pred_test[0]}\")\n",
        "pred_train = np.argmax(pred_train, axis=1)\n",
        "pred_test = np.argmax(pred_test, axis=1)\n",
        "print (f\"sample class: {pred_test[0]}\")"
      ],
      "execution_count": 0,
      "outputs": [
        {
          "output_type": "stream",
          "text": [
            "sample probability: [1.2431189e-03 5.1021564e-04 9.9824667e-01]\n",
            "sample class: 2\n"
          ],
          "name": "stdout"
        }
      ]
    },
    {
      "cell_type": "code",
      "metadata": {
        "id": "Ieu55J1Gc7IK",
        "colab_type": "code",
        "outputId": "9ae74a48-6586-4d65-d17f-327e7cb6a514",
        "colab": {
          "base_uri": "https://localhost:8080/",
          "height": 34
        }
      },
      "source": [
        "# Accuracy\n",
        "train_acc = accuracy_score(y_train, pred_train)\n",
        "test_acc = accuracy_score(y_test, pred_test)\n",
        "print (f\"train acc: {train_acc:.2f}, test acc: {test_acc:.2f}\")"
      ],
      "execution_count": 0,
      "outputs": [
        {
          "output_type": "stream",
          "text": [
            "train acc: 0.99, test acc: 0.99\n"
          ],
          "name": "stdout"
        }
      ]
    },
    {
      "cell_type": "code",
      "metadata": {
        "id": "CgM4qu8I62BP",
        "colab_type": "code",
        "outputId": "d8e8fd56-ef28-4f05-9e98-4335ed284c3b",
        "colab": {
          "base_uri": "https://localhost:8080/",
          "height": 476
        }
      },
      "source": [
        "# Metrics\n",
        "plot_confusion_matrix(y_test, pred_test, classes=classes)\n",
        "print (classification_report(y_test, pred_test))"
      ],
      "execution_count": 0,
      "outputs": [
        {
          "output_type": "display_data",
          "data": {
            "image/png": "[encoded data removed]",
            "text/plain": [
              "<Figure size 432x288 with 2 Axes>"
            ]
          },
          "metadata": {
            "tags": []
          }
        },
        {
          "output_type": "stream",
          "text": [
            "              precision    recall  f1-score   support\n",
            "\n",
            "           0       0.99      0.99      0.99        75\n",
            "           1       1.00      0.99      0.99        75\n",
            "           2       0.99      1.00      0.99        75\n",
            "\n",
            "    accuracy                           0.99       225\n",
            "   macro avg       0.99      0.99      0.99       225\n",
            "weighted avg       0.99      0.99      0.99       225\n",
            "\n"
          ],
          "name": "stdout"
        }
      ]
    },
    {
      "cell_type": "code",
      "metadata": {
        "id": "Xj7cwzZ4NoVI",
        "colab_type": "code",
        "outputId": "d47fb2ab-16a1-42f5-899a-230fadbc0cb8",
        "colab": {
          "base_uri": "https://localhost:8080/",
          "height": 336
        }
      },
      "source": [
        "# Visualize the decision boundary\n",
        "plt.figure(figsize=(12,5))\n",
        "plt.subplot(1, 2, 1)\n",
        "plt.title(\"Train\")\n",
        "plot_multiclass_decision_boundary(model=model, X=standardized_X_train, y=y_train)\n",
        "plt.subplot(1, 2, 2)\n",
        "plt.title(\"Test\")\n",
        "plot_multiclass_decision_boundary(model=model, X=standardized_X_test, y=y_test)\n",
        "plt.show()"
      ],
      "execution_count": 0,
      "outputs": [
        {
          "output_type": "display_data",
          "data": {
            "image/png": "[encoded data removed]",
            "text/plain": [
              "<Figure size 864x360 with 2 Axes>"
            ]
          },
          "metadata": {
            "tags": []
          }
        }
      ]
    },
    {
      "cell_type": "markdown",
      "metadata": {
        "id": "6Cv3ev9Uo1Ii",
        "colab_type": "text"
      },
      "source": [
        "# Inference"
      ]
    },
    {
      "cell_type": "code",
      "metadata": {
        "id": "h25pUbR8o9eF",
        "colab_type": "code",
        "outputId": "c9c3a9bc-c12c-42b4-a8a6-e2bcdf42d5d1",
        "colab": {
          "base_uri": "https://localhost:8080/",
          "height": 80
        }
      },
      "source": [
        "# Inputs for inference\n",
        "X_infer = pd.DataFrame([{'X1': 0.1, 'X2': 0.1}])\n",
        "X_infer.head()"
      ],
      "execution_count": 0,
      "outputs": [
        {
          "output_type": "execute_result",
          "data": {
            "text/html": [
              "<div>\n",
              "<style scoped>\n",
              "    .dataframe tbody tr th:only-of-type {\n",
              "        vertical-align: middle;\n",
              "    }\n",
              "\n",
              "    .dataframe tbody tr th {\n",
              "        vertical-align: top;\n",
              "    }\n",
              "\n",
              "    .dataframe thead th {\n",
              "        text-align: right;\n",
              "    }\n",
              "</style>\n",
              "<table border=\"1\" class=\"dataframe\">\n",
              "  <thead>\n",
              "    <tr style=\"text-align: right;\">\n",
              "      <th></th>\n",
              "      <th>X1</th>\n",
              "      <th>X2</th>\n",
              "    </tr>\n",
              "  </thead>\n",
              "  <tbody>\n",
              "    <tr>\n",
              "      <th>0</th>\n",
              "      <td>0.1</td>\n",
              "      <td>0.1</td>\n",
              "    </tr>\n",
              "  </tbody>\n",
              "</table>\n",
              "</div>"
            ],
            "text/plain": [
              "    X1   X2\n",
              "0  0.1  0.1"
            ]
          },
          "metadata": {
            "tags": []
          },
          "execution_count": 59
        }
      ]
    },
    {
      "cell_type": "code",
      "metadata": {
        "id": "8G5lIYReo9l_",
        "colab_type": "code",
        "outputId": "3b9126d6-940a-4b8b-c847-6acbf087bc86",
        "colab": {
          "base_uri": "https://localhost:8080/",
          "height": 34
        }
      },
      "source": [
        "# Standardize\n",
        "standardized_X_infer = X_scaler.transform(X_infer)\n",
        "print (standardized_X_infer)"
      ],
      "execution_count": 0,
      "outputs": [
        {
          "output_type": "stream",
          "text": [
            "[[0.30945845 0.30761858]]\n"
          ],
          "name": "stdout"
        }
      ]
    },
    {
      "cell_type": "code",
      "metadata": {
        "id": "Uow5g2-1o9kF",
        "colab_type": "code",
        "outputId": "99b36e9e-642f-45de-8ee0-0dc0daeb3a23",
        "colab": {
          "base_uri": "https://localhost:8080/",
          "height": 34
        }
      },
      "source": [
        "# Predict\n",
        "y_infer = model.predict(standardized_X_infer)\n",
        "_class = np.argmax(y_infer)\n",
        "print (f\"The probability that you have a class {classes[_class]} is {y_infer[0][_class]*100.0:.0f}%\")"
      ],
      "execution_count": 0,
      "outputs": [
        {
          "output_type": "stream",
          "text": [
            "The probability that you have a class c1 is 97%\n"
          ],
          "name": "stdout"
        }
      ]
    },
    {
      "cell_type": "markdown",
      "metadata": {
        "id": "gWv-RU46k2UL",
        "colab_type": "text"
      },
      "source": [
        "# Initializing weights"
      ]
    },
    {
      "cell_type": "markdown",
      "metadata": {
        "id": "1hDPBE0sk2mJ",
        "colab_type": "text"
      },
      "source": [
        "So far we have been initializing weights with small random values and this isn't optimal for convergence during training. The objective is to have weights that are able to produce outputs that follow a similar distribution across all neurons. We can do this by enforcing weights to have unit variance prior the affine and non-linear operations."
      ]
    },
    {
      "cell_type": "markdown",
      "metadata": {
        "id": "YxCm7FyRFRWK",
        "colab_type": "text"
      },
      "source": [
        "<img height=\"45\" src=\"http://bestanimations.com/HomeOffice/Lights/Bulbs/animated-light-bulb-gif-29.gif\" align=\"left\" vspace=\"20px\" hspace=\"10px\">\n",
        "\n",
        "A popular method is to apply [xavier initialization](http://andyljones.tumblr.com/post/110998971763/an-explanation-of-xavier-initialization), which essentially initializes the weights to allow the signal from the data to reach deep into the network. You may be wondering why we don't do this for every forward pass and that's a great question. We'll look at more advanced strategies that help with optimization like batch/layer normalization, etc. in future lessons. Meanwhile you can check out other initializers [here](https://www.tensorflow.org/versions/r2.0/api_docs/python/tf/initializers)."
      ]
    },
    {
      "cell_type": "code",
      "metadata": {
        "id": "B7l7tg7SIgPF",
        "colab_type": "code",
        "colab": {}
      },
      "source": [
        "from tensorflow.keras.initializers import glorot_normal"
      ],
      "execution_count": 0,
      "outputs": []
    },
    {
      "cell_type": "code",
      "metadata": {
        "id": "U5lUR__TKvqA",
        "colab_type": "code",
        "colab": {}
      },
      "source": [
        "# MLP\n",
        "class MLP(Model):\n",
        "    def __init__(self, hidden_dim, num_classes):\n",
        "        super(MLP, self).__init__()\n",
        "        xavier_initializer = glorot_normal() # xavier glorot initiailization\n",
        "        self.fc1 = Dense(units=hidden_dim,\n",
        "                         kernel_initializer=xavier_initializer,\n",
        "                         activation='relu')\n",
        "        self.fc2 = Dense(units=num_classes, \n",
        "                         activation='softmax')\n",
        "        \n",
        "    def call(self, x_in, training=False):\n",
        "        \"\"\"Forward pass.\"\"\"\n",
        "        z = self.fc1(x_in)\n",
        "        y_pred = self.fc2(z)\n",
        "        return y_pred\n",
        "    \n",
        "    def sample(self, input_shape):\n",
        "        x_in = Input(shape=input_shape)\n",
        "        return Model(inputs=x_in, outputs=self.call(x_in)).summary()"
      ],
      "execution_count": 0,
      "outputs": []
    },
    {
      "cell_type": "markdown",
      "metadata": {
        "id": "FAyjh3bieLjn",
        "colab_type": "text"
      },
      "source": [
        "# Dropout"
      ]
    },
    {
      "cell_type": "markdown",
      "metadata": {
        "id": "z6kLwcBveLy5",
        "colab_type": "text"
      },
      "source": [
        "A great technique to overcome overfitting is to increase the size of your data but this isn't always an option. Fortuntely, there are methods like regularization and dropout that can help create a more robust model. \n",
        "\n",
        "Dropout is a technique (used only during training) that allows us to zero the outputs of neurons. We do this for `dropout_p`% of the total neurons in each layer and it changes every batch. Dropout prevents units from co-adapting too much to the data and acts as a sampling strategy since we drop a different set of neurons each time.\n",
        "\n",
        "<img src=\"https://raw.githubusercontent.com/practicalAI/images/master/basic_ml/06_Multilayer_Perceptron/dropout.png\" width=\"350\">\n",
        "\n",
        "* [Dropout: A Simple Way to Prevent Neural Networks from\n",
        "Overfitting](http://jmlr.org/papers/volume15/srivastava14a/srivastava14a.pdf)"
      ]
    },
    {
      "cell_type": "code",
      "metadata": {
        "id": "HT75Tnn-EVBM",
        "colab_type": "code",
        "colab": {}
      },
      "source": [
        "from tensorflow.keras.layers import Dropout\n",
        "from tensorflow.keras.regularizers import l2"
      ],
      "execution_count": 0,
      "outputs": []
    },
    {
      "cell_type": "markdown",
      "metadata": {
        "id": "Yu1E-FqbWT9b",
        "colab_type": "text"
      },
      "source": [
        "### Components"
      ]
    },
    {
      "cell_type": "code",
      "metadata": {
        "id": "R6NvhBUyf27y",
        "colab_type": "code",
        "colab": {}
      },
      "source": [
        "# MLP\n",
        "class MLP(Model):\n",
        "    def __init__(self, hidden_dim, lambda_l2, dropout_p, num_classes):\n",
        "        super(MLP, self).__init__()\n",
        "        self.fc1 = Dense(units=hidden_dim,\n",
        "                         kernel_regularizer=l2(lambda_l2), # adding L2 regularization\n",
        "                         activation='relu')\n",
        "        self.dropout = Dropout(rate=dropout_p)\n",
        "        self.fc2 = Dense(units=num_classes, \n",
        "                         activation='softmax')\n",
        "        \n",
        "    def call(self, x_in, training=False):\n",
        "        \"\"\"Forward pass.\"\"\"\n",
        "        z = self.fc1(x_in)\n",
        "        if training:\n",
        "            z = self.dropout(z, training=training) # adding dropout\n",
        "        y_pred = self.fc2(z)\n",
        "        return y_pred\n",
        "    \n",
        "    def sample(self, input_shape):\n",
        "        x_in = Input(shape=input_shape)\n",
        "        return Model(inputs=x_in, outputs=self.call(x_in)).summary()"
      ],
      "execution_count": 0,
      "outputs": []
    },
    {
      "cell_type": "markdown",
      "metadata": {
        "id": "BldBdTZGWUBM",
        "colab_type": "text"
      },
      "source": [
        "### Operations"
      ]
    },
    {
      "cell_type": "code",
      "metadata": {
        "id": "yGQq0MvcgBEG",
        "colab_type": "code",
        "colab": {}
      },
      "source": [
        "# Arguments\n",
        "DROPOUT_P = 0.1 # % of the neurons that are dropped each pass\n",
        "LAMBDA_L2 = 1e-4 # L2 regularization"
      ],
      "execution_count": 0,
      "outputs": []
    },
    {
      "cell_type": "code",
      "metadata": {
        "id": "XQK9h7BNf26K",
        "colab_type": "code",
        "outputId": "c6f78ceb-637b-4b95-b0aa-b302392b0cb0",
        "colab": {
          "base_uri": "https://localhost:8080/",
          "height": 255
        }
      },
      "source": [
        "# Initialize the model\n",
        "model = MLP(hidden_dim=HIDDEN_DIM,\n",
        "            lambda_l2=LAMBDA_L2,\n",
        "            dropout_p=DROPOUT_P,\n",
        "            num_classes=NUM_CLASSES)\n",
        "model.sample(input_shape=(INPUT_DIM,))"
      ],
      "execution_count": 0,
      "outputs": [
        {
          "output_type": "stream",
          "text": [
            "Model: \"model_2\"\n",
            "_________________________________________________________________\n",
            "Layer (type)                 Output Shape              Param #   \n",
            "=================================================================\n",
            "input_3 (InputLayer)         [(None, 2)]               0         \n",
            "_________________________________________________________________\n",
            "dense_4 (Dense)              (None, 100)               300       \n",
            "_________________________________________________________________\n",
            "dense_5 (Dense)              (None, 3)                 303       \n",
            "=================================================================\n",
            "Total params: 603\n",
            "Trainable params: 603\n",
            "Non-trainable params: 0\n",
            "_________________________________________________________________\n"
          ],
          "name": "stdout"
        }
      ]
    },
    {
      "cell_type": "markdown",
      "metadata": {
        "id": "9ijvHwcZg8mO",
        "colab_type": "text"
      },
      "source": [
        "# Overfitting"
      ]
    },
    {
      "cell_type": "markdown",
      "metadata": {
        "id": "FIhvdD_zg8os",
        "colab_type": "text"
      },
      "source": [
        "Though neural networks are great at capturing non-linear relationships they are highly susceptible to overfitting to the training data and failing to generalize on test data. Just take a look at the example below where we generate completely random data and are able to fit a model with [$2*N*C + D$](https://arxiv.org/abs/1611.03530) hidden units. The training performance is good (~70%) but the overfitting leads to very poor test performance. We'll be covering strategies to tackle overfitting in future lessons."
      ]
    },
    {
      "cell_type": "code",
      "metadata": {
        "id": "uRdM16NhazJP",
        "colab_type": "code",
        "colab": {}
      },
      "source": [
        "# Arguments\n",
        "NUM_EPOCHS = 500\n",
        "NUM_SAMPLES_PER_CLASS = 50\n",
        "LEARNING_RATE = 1e-1\n",
        "HIDDEN_DIM = 2 * NUM_SAMPLES_PER_CLASS * NUM_CLASSES + INPUT_DIM # 2*N*C + D"
      ],
      "execution_count": 0,
      "outputs": []
    },
    {
      "cell_type": "code",
      "metadata": {
        "id": "qf00Biq6g8ty",
        "colab_type": "code",
        "outputId": "a0c07bd2-9343-4197-c475-1a4ac38f1e47",
        "colab": {
          "base_uri": "https://localhost:8080/",
          "height": 51
        }
      },
      "source": [
        "# Generate random data\n",
        "X = np.random.rand(NUM_SAMPLES_PER_CLASS * NUM_CLASSES, INPUT_DIM)\n",
        "y = np.array([[i]*NUM_SAMPLES_PER_CLASS for i in range(NUM_CLASSES)]).reshape(-1)\n",
        "print (\"X: \", format(np.shape(X)))\n",
        "print (\"y: \", format(np.shape(y)))"
      ],
      "execution_count": 0,
      "outputs": [
        {
          "output_type": "stream",
          "text": [
            "X:  (150, 2)\n",
            "y:  (150,)\n"
          ],
          "name": "stdout"
        }
      ]
    },
    {
      "cell_type": "code",
      "metadata": {
        "id": "-bA9vK9SWkjh",
        "colab_type": "code",
        "outputId": "acc1bbb7-3bec-4efb-e1bf-eebfb7b6ef23",
        "colab": {
          "base_uri": "https://localhost:8080/",
          "height": 119
        }
      },
      "source": [
        "# Create data splits\n",
        "X_train, X_val, X_test, y_train, y_val, y_test = train_val_test_split(\n",
        "    X, y, val_size=VAL_SIZE, test_size=TEST_SIZE, shuffle=SHUFFLE)\n",
        "print (\"X_train:\", X_train.shape)\n",
        "print (\"y_train:\", y_train.shape)\n",
        "print (\"X_val:\", X_val.shape)\n",
        "print (\"y_val:\", y_val.shape)\n",
        "print (\"X_test:\", X_test.shape)\n",
        "print (\"y_test:\", y_test.shape)"
      ],
      "execution_count": 0,
      "outputs": [
        {
          "output_type": "stream",
          "text": [
            "X_train: (107, 2)\n",
            "y_train: (107,)\n",
            "X_val: (20, 2)\n",
            "y_val: (20,)\n",
            "X_test: (23, 2)\n",
            "y_test: (23,)\n"
          ],
          "name": "stdout"
        }
      ]
    },
    {
      "cell_type": "code",
      "metadata": {
        "id": "lYwc9mk1f5bm",
        "colab_type": "code",
        "colab": {}
      },
      "source": [
        "# Standardize the inputs (mean=0, std=1) using training data\n",
        "X_scaler = StandardScaler().fit(X_train)\n",
        "# Apply scaler on training and test data (don't standardize outputs for classification)\n",
        "standardized_X_train = X_scaler.transform(X_train)\n",
        "standardized_X_val = X_scaler.transform(X_val)\n",
        "standardized_X_test = X_scaler.transform(X_test)"
      ],
      "execution_count": 0,
      "outputs": []
    },
    {
      "cell_type": "code",
      "metadata": {
        "id": "xozz2bBoWkmq",
        "colab_type": "code",
        "outputId": "0799befa-7ce6-4aea-fddb-580f390eb8c9",
        "colab": {
          "base_uri": "https://localhost:8080/",
          "height": 255
        }
      },
      "source": [
        "# Initialize the model\n",
        "model = MLP(hidden_dim=HIDDEN_DIM,\n",
        "            lambda_l2=0.0,\n",
        "            dropout_p=0.0,\n",
        "            num_classes=NUM_CLASSES)\n",
        "model.sample(input_shape=(INPUT_DIM,))"
      ],
      "execution_count": 0,
      "outputs": [
        {
          "output_type": "stream",
          "text": [
            "Model: \"model_3\"\n",
            "_________________________________________________________________\n",
            "Layer (type)                 Output Shape              Param #   \n",
            "=================================================================\n",
            "input_4 (InputLayer)         [(None, 2)]               0         \n",
            "_________________________________________________________________\n",
            "dense_6 (Dense)              (None, 302)               906       \n",
            "_________________________________________________________________\n",
            "dense_7 (Dense)              (None, 3)                 909       \n",
            "=================================================================\n",
            "Total params: 1,815\n",
            "Trainable params: 1,815\n",
            "Non-trainable params: 0\n",
            "_________________________________________________________________\n"
          ],
          "name": "stdout"
        }
      ]
    },
    {
      "cell_type": "code",
      "metadata": {
        "id": "bXnkWoPaWkpe",
        "colab_type": "code",
        "colab": {}
      },
      "source": [
        "# Compile\n",
        "optimizer = Adam(lr=LEARNING_RATE)\n",
        "model.compile(optimizer=optimizer,\n",
        "              loss=SparseCategoricalCrossentropy(),\n",
        "              metrics=['accuracy'])"
      ],
      "execution_count": 0,
      "outputs": []
    },
    {
      "cell_type": "code",
      "metadata": {
        "id": "zgayj4E1WksH",
        "colab_type": "code",
        "outputId": "de060320-fc12-4bc5-e923-2af750ff30cb",
        "colab": {
          "base_uri": "https://localhost:8080/",
          "height": 1000
        }
      },
      "source": [
        "# Training\n",
        "model.fit(x=standardized_X_train, \n",
        "          y=y_train,\n",
        "          validation_data=(standardized_X_val, y_val),\n",
        "          epochs=NUM_EPOCHS,\n",
        "          batch_size=BATCH_SIZE,\n",
        "          class_weight=class_weights,\n",
        "          shuffle=False,\n",
        "          verbose=1)"
      ],
      "execution_count": 0,
      "outputs": [
        {
          "output_type": "stream",
          "text": [
            "Train on 107 samples, validate on 20 samples\n",
            "Epoch 1/500\n",
            "107/107 [==============================] - 1s 8ms/sample - loss: 0.0047 - accuracy: 0.2150 - val_loss: 0.0034 - val_accuracy: 0.3000\n",
            "Epoch 2/500\n",
            "107/107 [==============================] - 0s 362us/sample - loss: 0.0033 - accuracy: 0.3458 - val_loss: 0.0030 - val_accuracy: 0.3500\n",
            "Epoch 3/500\n",
            "107/107 [==============================] - 0s 341us/sample - loss: 0.0032 - accuracy: 0.4393 - val_loss: 0.0030 - val_accuracy: 0.4500\n",
            "Epoch 4/500\n",
            "107/107 [==============================] - 0s 312us/sample - loss: 0.0030 - accuracy: 0.4860 - val_loss: 0.0032 - val_accuracy: 0.3500\n",
            "Epoch 5/500\n",
            "107/107 [==============================] - 0s 315us/sample - loss: 0.0030 - accuracy: 0.4299 - val_loss: 0.0029 - val_accuracy: 0.4500\n",
            "Epoch 6/500\n",
            "107/107 [==============================] - 0s 549us/sample - loss: 0.0030 - accuracy: 0.4486 - val_loss: 0.0032 - val_accuracy: 0.3000\n",
            "Epoch 7/500\n",
            "107/107 [==============================] - 0s 323us/sample - loss: 0.0029 - accuracy: 0.4953 - val_loss: 0.0032 - val_accuracy: 0.3500\n",
            "Epoch 8/500\n",
            "107/107 [==============================] - 0s 377us/sample - loss: 0.0031 - accuracy: 0.5047 - val_loss: 0.0031 - val_accuracy: 0.4000\n",
            "Epoch 9/500\n",
            "107/107 [==============================] - 0s 347us/sample - loss: 0.0028 - accuracy: 0.5327 - val_loss: 0.0032 - val_accuracy: 0.4500\n",
            "Epoch 10/500\n",
            "107/107 [==============================] - 0s 327us/sample - loss: 0.0029 - accuracy: 0.4953 - val_loss: 0.0033 - val_accuracy: 0.4500\n",
            "Epoch 11/500\n",
            "107/107 [==============================] - 0s 345us/sample - loss: 0.0028 - accuracy: 0.5421 - val_loss: 0.0031 - val_accuracy: 0.4500\n",
            "Epoch 12/500\n",
            "107/107 [==============================] - 0s 350us/sample - loss: 0.0028 - accuracy: 0.5421 - val_loss: 0.0034 - val_accuracy: 0.4500\n",
            "Epoch 13/500\n",
            "107/107 [==============================] - 0s 340us/sample - loss: 0.0028 - accuracy: 0.5234 - val_loss: 0.0029 - val_accuracy: 0.5000\n",
            "Epoch 14/500\n",
            "107/107 [==============================] - 0s 372us/sample - loss: 0.0030 - accuracy: 0.4673 - val_loss: 0.0036 - val_accuracy: 0.3500\n",
            "Epoch 15/500\n",
            "107/107 [==============================] - 0s 371us/sample - loss: 0.0030 - accuracy: 0.4953 - val_loss: 0.0029 - val_accuracy: 0.5000\n",
            "Epoch 16/500\n",
            "107/107 [==============================] - 0s 347us/sample - loss: 0.0031 - accuracy: 0.4860 - val_loss: 0.0030 - val_accuracy: 0.4500\n",
            "Epoch 17/500\n",
            "107/107 [==============================] - 0s 338us/sample - loss: 0.0028 - accuracy: 0.4766 - val_loss: 0.0035 - val_accuracy: 0.4500\n",
            "Epoch 18/500\n",
            "107/107 [==============================] - 0s 348us/sample - loss: 0.0029 - accuracy: 0.4953 - val_loss: 0.0029 - val_accuracy: 0.4500\n",
            "Epoch 19/500\n",
            "107/107 [==============================] - 0s 351us/sample - loss: 0.0027 - accuracy: 0.5607 - val_loss: 0.0031 - val_accuracy: 0.6000\n",
            "Epoch 20/500\n",
            "107/107 [==============================] - 0s 331us/sample - loss: 0.0027 - accuracy: 0.5140 - val_loss: 0.0030 - val_accuracy: 0.5500\n",
            "Epoch 21/500\n",
            "107/107 [==============================] - 0s 312us/sample - loss: 0.0027 - accuracy: 0.5981 - val_loss: 0.0029 - val_accuracy: 0.6500\n",
            "Epoch 22/500\n",
            "107/107 [==============================] - 0s 314us/sample - loss: 0.0027 - accuracy: 0.5234 - val_loss: 0.0032 - val_accuracy: 0.4000\n",
            "Epoch 23/500\n",
            "107/107 [==============================] - 0s 311us/sample - loss: 0.0027 - accuracy: 0.5327 - val_loss: 0.0030 - val_accuracy: 0.5500\n",
            "Epoch 24/500\n",
            "107/107 [==============================] - 0s 294us/sample - loss: 0.0029 - accuracy: 0.5607 - val_loss: 0.0033 - val_accuracy: 0.3500\n",
            "Epoch 25/500\n",
            "107/107 [==============================] - 0s 322us/sample - loss: 0.0028 - accuracy: 0.4953 - val_loss: 0.0029 - val_accuracy: 0.6500\n",
            "Epoch 26/500\n",
            "107/107 [==============================] - 0s 400us/sample - loss: 0.0029 - accuracy: 0.5514 - val_loss: 0.0032 - val_accuracy: 0.4500\n",
            "Epoch 27/500\n",
            "107/107 [==============================] - 0s 313us/sample - loss: 0.0027 - accuracy: 0.5234 - val_loss: 0.0029 - val_accuracy: 0.6000\n",
            "Epoch 28/500\n",
            "107/107 [==============================] - 0s 308us/sample - loss: 0.0027 - accuracy: 0.5701 - val_loss: 0.0031 - val_accuracy: 0.6000\n",
            "Epoch 29/500\n",
            "107/107 [==============================] - 0s 273us/sample - loss: 0.0026 - accuracy: 0.5701 - val_loss: 0.0029 - val_accuracy: 0.6000\n",
            "Epoch 30/500\n",
            "107/107 [==============================] - 0s 337us/sample - loss: 0.0027 - accuracy: 0.5607 - val_loss: 0.0032 - val_accuracy: 0.4500\n",
            "Epoch 31/500\n",
            "107/107 [==============================] - 0s 337us/sample - loss: 0.0026 - accuracy: 0.5607 - val_loss: 0.0029 - val_accuracy: 0.6500\n",
            "Epoch 32/500\n",
            "107/107 [==============================] - 0s 304us/sample - loss: 0.0026 - accuracy: 0.5607 - val_loss: 0.0033 - val_accuracy: 0.4500\n",
            "Epoch 33/500\n",
            "107/107 [==============================] - 0s 313us/sample - loss: 0.0026 - accuracy: 0.5514 - val_loss: 0.0029 - val_accuracy: 0.6500\n",
            "Epoch 34/500\n",
            "107/107 [==============================] - 0s 312us/sample - loss: 0.0027 - accuracy: 0.5701 - val_loss: 0.0033 - val_accuracy: 0.4500\n",
            "Epoch 35/500\n",
            "107/107 [==============================] - 0s 312us/sample - loss: 0.0026 - accuracy: 0.5327 - val_loss: 0.0030 - val_accuracy: 0.7000\n",
            "Epoch 36/500\n",
            "107/107 [==============================] - 0s 306us/sample - loss: 0.0028 - accuracy: 0.5794 - val_loss: 0.0033 - val_accuracy: 0.5000\n",
            "Epoch 37/500\n",
            "107/107 [==============================] - 0s 306us/sample - loss: 0.0026 - accuracy: 0.5234 - val_loss: 0.0030 - val_accuracy: 0.6000\n",
            "Epoch 38/500\n",
            "107/107 [==============================] - 0s 280us/sample - loss: 0.0027 - accuracy: 0.5794 - val_loss: 0.0033 - val_accuracy: 0.6000\n",
            "Epoch 39/500\n",
            "107/107 [==============================] - 0s 290us/sample - loss: 0.0026 - accuracy: 0.5701 - val_loss: 0.0031 - val_accuracy: 0.5000\n",
            "Epoch 40/500\n",
            "107/107 [==============================] - 0s 290us/sample - loss: 0.0027 - accuracy: 0.5514 - val_loss: 0.0035 - val_accuracy: 0.5500\n",
            "Epoch 41/500\n",
            "107/107 [==============================] - 0s 292us/sample - loss: 0.0027 - accuracy: 0.5514 - val_loss: 0.0030 - val_accuracy: 0.5500\n",
            "Epoch 42/500\n",
            "107/107 [==============================] - 0s 327us/sample - loss: 0.0028 - accuracy: 0.5514 - val_loss: 0.0034 - val_accuracy: 0.5000\n",
            "Epoch 43/500\n",
            "107/107 [==============================] - 0s 310us/sample - loss: 0.0026 - accuracy: 0.5514 - val_loss: 0.0030 - val_accuracy: 0.6500\n",
            "Epoch 44/500\n",
            "107/107 [==============================] - 0s 313us/sample - loss: 0.0026 - accuracy: 0.5514 - val_loss: 0.0034 - val_accuracy: 0.5000\n",
            "Epoch 45/500\n",
            "107/107 [==============================] - 0s 311us/sample - loss: 0.0025 - accuracy: 0.5607 - val_loss: 0.0031 - val_accuracy: 0.6500\n",
            "Epoch 46/500\n",
            "107/107 [==============================] - 0s 296us/sample - loss: 0.0026 - accuracy: 0.5701 - val_loss: 0.0034 - val_accuracy: 0.6000\n",
            "Epoch 47/500\n",
            "107/107 [==============================] - 0s 312us/sample - loss: 0.0026 - accuracy: 0.5607 - val_loss: 0.0032 - val_accuracy: 0.5500\n",
            "Epoch 48/500\n",
            "107/107 [==============================] - 0s 299us/sample - loss: 0.0028 - accuracy: 0.5421 - val_loss: 0.0035 - val_accuracy: 0.5000\n",
            "Epoch 49/500\n",
            "107/107 [==============================] - 0s 326us/sample - loss: 0.0026 - accuracy: 0.5421 - val_loss: 0.0030 - val_accuracy: 0.6000\n",
            "Epoch 50/500\n",
            "107/107 [==============================] - 0s 304us/sample - loss: 0.0027 - accuracy: 0.5607 - val_loss: 0.0035 - val_accuracy: 0.5000\n",
            "Epoch 51/500\n",
            "107/107 [==============================] - 0s 281us/sample - loss: 0.0025 - accuracy: 0.5701 - val_loss: 0.0031 - val_accuracy: 0.6500\n",
            "Epoch 52/500\n",
            "107/107 [==============================] - 0s 294us/sample - loss: 0.0026 - accuracy: 0.5514 - val_loss: 0.0035 - val_accuracy: 0.4500\n",
            "Epoch 53/500\n",
            "107/107 [==============================] - 0s 305us/sample - loss: 0.0025 - accuracy: 0.5514 - val_loss: 0.0031 - val_accuracy: 0.6500\n",
            "Epoch 54/500\n",
            "107/107 [==============================] - 0s 360us/sample - loss: 0.0026 - accuracy: 0.5701 - val_loss: 0.0033 - val_accuracy: 0.6000\n",
            "Epoch 55/500\n",
            "107/107 [==============================] - 0s 378us/sample - loss: 0.0025 - accuracy: 0.5514 - val_loss: 0.0032 - val_accuracy: 0.6000\n",
            "Epoch 56/500\n",
            "107/107 [==============================] - 0s 335us/sample - loss: 0.0027 - accuracy: 0.5421 - val_loss: 0.0033 - val_accuracy: 0.5500\n",
            "Epoch 57/500\n",
            "107/107 [==============================] - 0s 330us/sample - loss: 0.0026 - accuracy: 0.5514 - val_loss: 0.0032 - val_accuracy: 0.6000\n",
            "Epoch 58/500\n",
            "107/107 [==============================] - 0s 326us/sample - loss: 0.0027 - accuracy: 0.5701 - val_loss: 0.0035 - val_accuracy: 0.5500\n",
            "Epoch 59/500\n",
            "107/107 [==============================] - 0s 359us/sample - loss: 0.0026 - accuracy: 0.5607 - val_loss: 0.0032 - val_accuracy: 0.6000\n",
            "Epoch 60/500\n",
            "107/107 [==============================] - 0s 372us/sample - loss: 0.0026 - accuracy: 0.5421 - val_loss: 0.0034 - val_accuracy: 0.6000\n",
            "Epoch 61/500\n",
            "107/107 [==============================] - 0s 378us/sample - loss: 0.0025 - accuracy: 0.5607 - val_loss: 0.0032 - val_accuracy: 0.7000\n",
            "Epoch 62/500\n",
            "107/107 [==============================] - 0s 326us/sample - loss: 0.0026 - accuracy: 0.5607 - val_loss: 0.0034 - val_accuracy: 0.5500\n",
            "Epoch 63/500\n",
            "107/107 [==============================] - 0s 387us/sample - loss: 0.0025 - accuracy: 0.5514 - val_loss: 0.0034 - val_accuracy: 0.5500\n",
            "Epoch 64/500\n",
            "107/107 [==============================] - 0s 334us/sample - loss: 0.0027 - accuracy: 0.5327 - val_loss: 0.0036 - val_accuracy: 0.6500\n",
            "Epoch 65/500\n",
            "107/107 [==============================] - 0s 333us/sample - loss: 0.0026 - accuracy: 0.5701 - val_loss: 0.0031 - val_accuracy: 0.6500\n",
            "Epoch 66/500\n",
            "107/107 [==============================] - 0s 333us/sample - loss: 0.0026 - accuracy: 0.5888 - val_loss: 0.0036 - val_accuracy: 0.6000\n",
            "Epoch 67/500\n",
            "107/107 [==============================] - 0s 372us/sample - loss: 0.0025 - accuracy: 0.5421 - val_loss: 0.0029 - val_accuracy: 0.7000\n",
            "Epoch 68/500\n",
            "107/107 [==============================] - 0s 324us/sample - loss: 0.0025 - accuracy: 0.5794 - val_loss: 0.0037 - val_accuracy: 0.4500\n",
            "Epoch 69/500\n",
            "107/107 [==============================] - 0s 341us/sample - loss: 0.0025 - accuracy: 0.5701 - val_loss: 0.0029 - val_accuracy: 0.7000\n",
            "Epoch 70/500\n",
            "107/107 [==============================] - 0s 316us/sample - loss: 0.0025 - accuracy: 0.6168 - val_loss: 0.0036 - val_accuracy: 0.4000\n",
            "Epoch 71/500\n",
            "107/107 [==============================] - 0s 301us/sample - loss: 0.0025 - accuracy: 0.5701 - val_loss: 0.0032 - val_accuracy: 0.7000\n",
            "Epoch 72/500\n",
            "107/107 [==============================] - 0s 329us/sample - loss: 0.0025 - accuracy: 0.6168 - val_loss: 0.0038 - val_accuracy: 0.4500\n",
            "Epoch 73/500\n",
            "107/107 [==============================] - 0s 312us/sample - loss: 0.0025 - accuracy: 0.5607 - val_loss: 0.0032 - val_accuracy: 0.6500\n",
            "Epoch 74/500\n",
            "107/107 [==============================] - 0s 310us/sample - loss: 0.0027 - accuracy: 0.5981 - val_loss: 0.0036 - val_accuracy: 0.5500\n",
            "Epoch 75/500\n",
            "107/107 [==============================] - 0s 303us/sample - loss: 0.0025 - accuracy: 0.5701 - val_loss: 0.0033 - val_accuracy: 0.6000\n",
            "Epoch 76/500\n",
            "107/107 [==============================] - 0s 319us/sample - loss: 0.0025 - accuracy: 0.5607 - val_loss: 0.0037 - val_accuracy: 0.6000\n",
            "Epoch 77/500\n",
            "107/107 [==============================] - 0s 306us/sample - loss: 0.0025 - accuracy: 0.5794 - val_loss: 0.0033 - val_accuracy: 0.6500\n",
            "Epoch 78/500\n",
            "107/107 [==============================] - 0s 311us/sample - loss: 0.0025 - accuracy: 0.5701 - val_loss: 0.0035 - val_accuracy: 0.6000\n",
            "Epoch 79/500\n",
            "107/107 [==============================] - 0s 323us/sample - loss: 0.0024 - accuracy: 0.5981 - val_loss: 0.0035 - val_accuracy: 0.6500\n",
            "Epoch 80/500\n",
            "107/107 [==============================] - 0s 290us/sample - loss: 0.0025 - accuracy: 0.5701 - val_loss: 0.0037 - val_accuracy: 0.5500\n",
            "Epoch 81/500\n",
            "107/107 [==============================] - 0s 293us/sample - loss: 0.0025 - accuracy: 0.5794 - val_loss: 0.0034 - val_accuracy: 0.6500\n",
            "Epoch 82/500\n",
            "107/107 [==============================] - 0s 435us/sample - loss: 0.0027 - accuracy: 0.5607 - val_loss: 0.0033 - val_accuracy: 0.6000\n",
            "Epoch 83/500\n",
            "107/107 [==============================] - 0s 352us/sample - loss: 0.0025 - accuracy: 0.5607 - val_loss: 0.0037 - val_accuracy: 0.5500\n",
            "Epoch 84/500\n",
            "107/107 [==============================] - 0s 311us/sample - loss: 0.0025 - accuracy: 0.5888 - val_loss: 0.0039 - val_accuracy: 0.7000\n",
            "Epoch 85/500\n",
            "107/107 [==============================] - 0s 389us/sample - loss: 0.0024 - accuracy: 0.5514 - val_loss: 0.0034 - val_accuracy: 0.6000\n",
            "Epoch 86/500\n",
            "107/107 [==============================] - 0s 383us/sample - loss: 0.0025 - accuracy: 0.5888 - val_loss: 0.0038 - val_accuracy: 0.6000\n",
            "Epoch 87/500\n",
            "107/107 [==============================] - 0s 342us/sample - loss: 0.0024 - accuracy: 0.5981 - val_loss: 0.0036 - val_accuracy: 0.7000\n",
            "Epoch 88/500\n",
            "107/107 [==============================] - 0s 349us/sample - loss: 0.0025 - accuracy: 0.5794 - val_loss: 0.0036 - val_accuracy: 0.5000\n",
            "Epoch 89/500\n",
            "107/107 [==============================] - 0s 326us/sample - loss: 0.0025 - accuracy: 0.5888 - val_loss: 0.0034 - val_accuracy: 0.7000\n",
            "Epoch 90/500\n",
            "107/107 [==============================] - 0s 332us/sample - loss: 0.0025 - accuracy: 0.6355 - val_loss: 0.0037 - val_accuracy: 0.5500\n",
            "Epoch 91/500\n",
            "107/107 [==============================] - 0s 325us/sample - loss: 0.0024 - accuracy: 0.5607 - val_loss: 0.0035 - val_accuracy: 0.5000\n",
            "Epoch 92/500\n",
            "107/107 [==============================] - 0s 333us/sample - loss: 0.0025 - accuracy: 0.5701 - val_loss: 0.0038 - val_accuracy: 0.6000\n",
            "Epoch 93/500\n",
            "107/107 [==============================] - 0s 340us/sample - loss: 0.0025 - accuracy: 0.5981 - val_loss: 0.0034 - val_accuracy: 0.7000\n",
            "Epoch 94/500\n",
            "107/107 [==============================] - 0s 340us/sample - loss: 0.0025 - accuracy: 0.5794 - val_loss: 0.0038 - val_accuracy: 0.6500\n",
            "Epoch 95/500\n",
            "107/107 [==============================] - 0s 324us/sample - loss: 0.0025 - accuracy: 0.5888 - val_loss: 0.0033 - val_accuracy: 0.7500\n",
            "Epoch 96/500\n",
            "107/107 [==============================] - 0s 356us/sample - loss: 0.0024 - accuracy: 0.6355 - val_loss: 0.0036 - val_accuracy: 0.5500\n",
            "Epoch 97/500\n",
            "107/107 [==============================] - 0s 329us/sample - loss: 0.0023 - accuracy: 0.5888 - val_loss: 0.0036 - val_accuracy: 0.7000\n",
            "Epoch 98/500\n",
            "107/107 [==============================] - 0s 324us/sample - loss: 0.0023 - accuracy: 0.6168 - val_loss: 0.0036 - val_accuracy: 0.7000\n",
            "Epoch 99/500\n",
            "107/107 [==============================] - 0s 327us/sample - loss: 0.0022 - accuracy: 0.5981 - val_loss: 0.0036 - val_accuracy: 0.7000\n",
            "Epoch 100/500\n",
            "107/107 [==============================] - 0s 331us/sample - loss: 0.0023 - accuracy: 0.5981 - val_loss: 0.0035 - val_accuracy: 0.7000\n",
            "Epoch 101/500\n",
            "107/107 [==============================] - 0s 325us/sample - loss: 0.0022 - accuracy: 0.6262 - val_loss: 0.0038 - val_accuracy: 0.7500\n",
            "Epoch 102/500\n",
            "107/107 [==============================] - 0s 322us/sample - loss: 0.0025 - accuracy: 0.6075 - val_loss: 0.0038 - val_accuracy: 0.4000\n",
            "Epoch 103/500\n",
            "107/107 [==============================] - 0s 328us/sample - loss: 0.0024 - accuracy: 0.6075 - val_loss: 0.0045 - val_accuracy: 0.6500\n",
            "Epoch 104/500\n",
            "107/107 [==============================] - 0s 310us/sample - loss: 0.0026 - accuracy: 0.5327 - val_loss: 0.0038 - val_accuracy: 0.5000\n",
            "Epoch 105/500\n",
            "107/107 [==============================] - 0s 286us/sample - loss: 0.0024 - accuracy: 0.5794 - val_loss: 0.0043 - val_accuracy: 0.6500\n",
            "Epoch 106/500\n",
            "107/107 [==============================] - 0s 276us/sample - loss: 0.0027 - accuracy: 0.5607 - val_loss: 0.0041 - val_accuracy: 0.7000\n",
            "Epoch 107/500\n",
            "107/107 [==============================] - 0s 277us/sample - loss: 0.0025 - accuracy: 0.5607 - val_loss: 0.0041 - val_accuracy: 0.4500\n",
            "Epoch 108/500\n",
            "107/107 [==============================] - 0s 289us/sample - loss: 0.0028 - accuracy: 0.6262 - val_loss: 0.0046 - val_accuracy: 0.6500\n",
            "Epoch 109/500\n",
            "107/107 [==============================] - 0s 391us/sample - loss: 0.0026 - accuracy: 0.5421 - val_loss: 0.0033 - val_accuracy: 0.5500\n",
            "Epoch 110/500\n",
            "107/107 [==============================] - 0s 343us/sample - loss: 0.0025 - accuracy: 0.5514 - val_loss: 0.0050 - val_accuracy: 0.6500\n",
            "Epoch 111/500\n",
            "107/107 [==============================] - 0s 298us/sample - loss: 0.0028 - accuracy: 0.5981 - val_loss: 0.0037 - val_accuracy: 0.6500\n",
            "Epoch 112/500\n",
            "107/107 [==============================] - 0s 306us/sample - loss: 0.0027 - accuracy: 0.5514 - val_loss: 0.0050 - val_accuracy: 0.4000\n",
            "Epoch 113/500\n",
            "107/107 [==============================] - 0s 304us/sample - loss: 0.0028 - accuracy: 0.5607 - val_loss: 0.0045 - val_accuracy: 0.6500\n",
            "Epoch 114/500\n",
            "107/107 [==============================] - 0s 303us/sample - loss: 0.0029 - accuracy: 0.5421 - val_loss: 0.0039 - val_accuracy: 0.6000\n",
            "Epoch 115/500\n",
            "107/107 [==============================] - 0s 323us/sample - loss: 0.0023 - accuracy: 0.6262 - val_loss: 0.0040 - val_accuracy: 0.5000\n",
            "Epoch 116/500\n",
            "107/107 [==============================] - 0s 324us/sample - loss: 0.0025 - accuracy: 0.5701 - val_loss: 0.0029 - val_accuracy: 0.6500\n",
            "Epoch 117/500\n",
            "107/107 [==============================] - 0s 299us/sample - loss: 0.0023 - accuracy: 0.6355 - val_loss: 0.0047 - val_accuracy: 0.6000\n",
            "Epoch 118/500\n",
            "107/107 [==============================] - 0s 319us/sample - loss: 0.0027 - accuracy: 0.5514 - val_loss: 0.0036 - val_accuracy: 0.5500\n",
            "Epoch 119/500\n",
            "107/107 [==============================] - 0s 275us/sample - loss: 0.0024 - accuracy: 0.6449 - val_loss: 0.0036 - val_accuracy: 0.6000\n",
            "Epoch 120/500\n",
            "107/107 [==============================] - 0s 305us/sample - loss: 0.0025 - accuracy: 0.6262 - val_loss: 0.0034 - val_accuracy: 0.5000\n",
            "Epoch 121/500\n",
            "107/107 [==============================] - 0s 285us/sample - loss: 0.0024 - accuracy: 0.5794 - val_loss: 0.0035 - val_accuracy: 0.7500\n",
            "Epoch 122/500\n",
            "107/107 [==============================] - 0s 297us/sample - loss: 0.0024 - accuracy: 0.5981 - val_loss: 0.0042 - val_accuracy: 0.6000\n",
            "Epoch 123/500\n",
            "107/107 [==============================] - 0s 270us/sample - loss: 0.0025 - accuracy: 0.6075 - val_loss: 0.0033 - val_accuracy: 0.7000\n",
            "Epoch 124/500\n",
            "107/107 [==============================] - 0s 303us/sample - loss: 0.0023 - accuracy: 0.6449 - val_loss: 0.0037 - val_accuracy: 0.5000\n",
            "Epoch 125/500\n",
            "107/107 [==============================] - 0s 338us/sample - loss: 0.0023 - accuracy: 0.6355 - val_loss: 0.0034 - val_accuracy: 0.7500\n",
            "Epoch 126/500\n",
            "107/107 [==============================] - 0s 290us/sample - loss: 0.0024 - accuracy: 0.5981 - val_loss: 0.0041 - val_accuracy: 0.6000\n",
            "Epoch 127/500\n",
            "107/107 [==============================] - 0s 317us/sample - loss: 0.0023 - accuracy: 0.6075 - val_loss: 0.0035 - val_accuracy: 0.7000\n",
            "Epoch 128/500\n",
            "107/107 [==============================] - 0s 321us/sample - loss: 0.0023 - accuracy: 0.6449 - val_loss: 0.0042 - val_accuracy: 0.5000\n",
            "Epoch 129/500\n",
            "107/107 [==============================] - 0s 310us/sample - loss: 0.0023 - accuracy: 0.5514 - val_loss: 0.0030 - val_accuracy: 0.7500\n",
            "Epoch 130/500\n",
            "107/107 [==============================] - 0s 293us/sample - loss: 0.0023 - accuracy: 0.6075 - val_loss: 0.0042 - val_accuracy: 0.6500\n",
            "Epoch 131/500\n",
            "107/107 [==============================] - 0s 338us/sample - loss: 0.0023 - accuracy: 0.5981 - val_loss: 0.0029 - val_accuracy: 0.7000\n",
            "Epoch 132/500\n",
            "107/107 [==============================] - 0s 316us/sample - loss: 0.0023 - accuracy: 0.6729 - val_loss: 0.0041 - val_accuracy: 0.6000\n",
            "Epoch 133/500\n",
            "107/107 [==============================] - 0s 305us/sample - loss: 0.0023 - accuracy: 0.6168 - val_loss: 0.0030 - val_accuracy: 0.7500\n",
            "Epoch 134/500\n",
            "107/107 [==============================] - 0s 281us/sample - loss: 0.0023 - accuracy: 0.5794 - val_loss: 0.0044 - val_accuracy: 0.7000\n",
            "Epoch 135/500\n",
            "107/107 [==============================] - 0s 303us/sample - loss: 0.0023 - accuracy: 0.6542 - val_loss: 0.0032 - val_accuracy: 0.5000\n",
            "Epoch 136/500\n",
            "107/107 [==============================] - 0s 299us/sample - loss: 0.0025 - accuracy: 0.5888 - val_loss: 0.0043 - val_accuracy: 0.6500\n",
            "Epoch 137/500\n",
            "107/107 [==============================] - 0s 332us/sample - loss: 0.0023 - accuracy: 0.6168 - val_loss: 0.0038 - val_accuracy: 0.6500\n",
            "Epoch 138/500\n",
            "107/107 [==============================] - 0s 354us/sample - loss: 0.0023 - accuracy: 0.5981 - val_loss: 0.0043 - val_accuracy: 0.7500\n",
            "Epoch 139/500\n",
            "107/107 [==============================] - 0s 343us/sample - loss: 0.0023 - accuracy: 0.6729 - val_loss: 0.0042 - val_accuracy: 0.6500\n",
            "Epoch 140/500\n",
            "107/107 [==============================] - 0s 324us/sample - loss: 0.0024 - accuracy: 0.5701 - val_loss: 0.0038 - val_accuracy: 0.6000\n",
            "Epoch 141/500\n",
            "107/107 [==============================] - 0s 294us/sample - loss: 0.0023 - accuracy: 0.6449 - val_loss: 0.0049 - val_accuracy: 0.6500\n",
            "Epoch 142/500\n",
            "107/107 [==============================] - 0s 335us/sample - loss: 0.0025 - accuracy: 0.5514 - val_loss: 0.0037 - val_accuracy: 0.5500\n",
            "Epoch 143/500\n",
            "107/107 [==============================] - 0s 345us/sample - loss: 0.0023 - accuracy: 0.6262 - val_loss: 0.0039 - val_accuracy: 0.7000\n",
            "Epoch 144/500\n",
            "107/107 [==============================] - 0s 271us/sample - loss: 0.0024 - accuracy: 0.6075 - val_loss: 0.0036 - val_accuracy: 0.6000\n",
            "Epoch 145/500\n",
            "107/107 [==============================] - 0s 279us/sample - loss: 0.0021 - accuracy: 0.6449 - val_loss: 0.0043 - val_accuracy: 0.6500\n",
            "Epoch 146/500\n",
            "107/107 [==============================] - 0s 320us/sample - loss: 0.0024 - accuracy: 0.5888 - val_loss: 0.0050 - val_accuracy: 0.5500\n",
            "Epoch 147/500\n",
            "107/107 [==============================] - 0s 363us/sample - loss: 0.0023 - accuracy: 0.6355 - val_loss: 0.0036 - val_accuracy: 0.7500\n",
            "Epoch 148/500\n",
            "107/107 [==============================] - 0s 299us/sample - loss: 0.0022 - accuracy: 0.6729 - val_loss: 0.0047 - val_accuracy: 0.5000\n",
            "Epoch 149/500\n",
            "107/107 [==============================] - 0s 301us/sample - loss: 0.0022 - accuracy: 0.5701 - val_loss: 0.0034 - val_accuracy: 0.7500\n",
            "Epoch 150/500\n",
            "107/107 [==============================] - 0s 339us/sample - loss: 0.0023 - accuracy: 0.6542 - val_loss: 0.0042 - val_accuracy: 0.6500\n",
            "Epoch 151/500\n",
            "107/107 [==============================] - 0s 309us/sample - loss: 0.0022 - accuracy: 0.6168 - val_loss: 0.0038 - val_accuracy: 0.7000\n",
            "Epoch 152/500\n",
            "107/107 [==============================] - 0s 312us/sample - loss: 0.0021 - accuracy: 0.6729 - val_loss: 0.0041 - val_accuracy: 0.6000\n",
            "Epoch 153/500\n",
            "107/107 [==============================] - 0s 342us/sample - loss: 0.0021 - accuracy: 0.6542 - val_loss: 0.0035 - val_accuracy: 0.7000\n",
            "Epoch 154/500\n",
            "107/107 [==============================] - 0s 324us/sample - loss: 0.0020 - accuracy: 0.7196 - val_loss: 0.0043 - val_accuracy: 0.6500\n",
            "Epoch 155/500\n",
            "107/107 [==============================] - 0s 309us/sample - loss: 0.0022 - accuracy: 0.6355 - val_loss: 0.0038 - val_accuracy: 0.7000\n",
            "Epoch 156/500\n",
            "107/107 [==============================] - 0s 283us/sample - loss: 0.0023 - accuracy: 0.7009 - val_loss: 0.0041 - val_accuracy: 0.5500\n",
            "Epoch 157/500\n",
            "107/107 [==============================] - 0s 306us/sample - loss: 0.0021 - accuracy: 0.6449 - val_loss: 0.0040 - val_accuracy: 0.7000\n",
            "Epoch 158/500\n",
            "107/107 [==============================] - 0s 298us/sample - loss: 0.0022 - accuracy: 0.6449 - val_loss: 0.0047 - val_accuracy: 0.6000\n",
            "Epoch 159/500\n",
            "107/107 [==============================] - 0s 292us/sample - loss: 0.0022 - accuracy: 0.6168 - val_loss: 0.0038 - val_accuracy: 0.6500\n",
            "Epoch 160/500\n",
            "107/107 [==============================] - 0s 318us/sample - loss: 0.0023 - accuracy: 0.6168 - val_loss: 0.0047 - val_accuracy: 0.6000\n",
            "Epoch 161/500\n",
            "107/107 [==============================] - 0s 284us/sample - loss: 0.0023 - accuracy: 0.6355 - val_loss: 0.0038 - val_accuracy: 0.7500\n",
            "Epoch 162/500\n",
            "107/107 [==============================] - 0s 312us/sample - loss: 0.0026 - accuracy: 0.6075 - val_loss: 0.0053 - val_accuracy: 0.5500\n",
            "Epoch 163/500\n",
            "107/107 [==============================] - 0s 289us/sample - loss: 0.0024 - accuracy: 0.6075 - val_loss: 0.0037 - val_accuracy: 0.7500\n",
            "Epoch 164/500\n",
            "107/107 [==============================] - 0s 292us/sample - loss: 0.0025 - accuracy: 0.6075 - val_loss: 0.0056 - val_accuracy: 0.5000\n",
            "Epoch 165/500\n",
            "107/107 [==============================] - 0s 295us/sample - loss: 0.0023 - accuracy: 0.5981 - val_loss: 0.0036 - val_accuracy: 0.6000\n",
            "Epoch 166/500\n",
            "107/107 [==============================] - 0s 304us/sample - loss: 0.0023 - accuracy: 0.6262 - val_loss: 0.0046 - val_accuracy: 0.6500\n",
            "Epoch 167/500\n",
            "107/107 [==============================] - 0s 334us/sample - loss: 0.0024 - accuracy: 0.6168 - val_loss: 0.0039 - val_accuracy: 0.5500\n",
            "Epoch 168/500\n",
            "107/107 [==============================] - 0s 365us/sample - loss: 0.0024 - accuracy: 0.6822 - val_loss: 0.0040 - val_accuracy: 0.7500\n",
            "Epoch 169/500\n",
            "107/107 [==============================] - 0s 298us/sample - loss: 0.0024 - accuracy: 0.6075 - val_loss: 0.0039 - val_accuracy: 0.6000\n",
            "Epoch 170/500\n",
            "107/107 [==============================] - 0s 299us/sample - loss: 0.0024 - accuracy: 0.6355 - val_loss: 0.0051 - val_accuracy: 0.5500\n",
            "Epoch 171/500\n",
            "107/107 [==============================] - 0s 301us/sample - loss: 0.0025 - accuracy: 0.6075 - val_loss: 0.0051 - val_accuracy: 0.6000\n",
            "Epoch 172/500\n",
            "107/107 [==============================] - 0s 299us/sample - loss: 0.0026 - accuracy: 0.6262 - val_loss: 0.0052 - val_accuracy: 0.6000\n",
            "Epoch 173/500\n",
            "107/107 [==============================] - 0s 354us/sample - loss: 0.0030 - accuracy: 0.6262 - val_loss: 0.0052 - val_accuracy: 0.5500\n",
            "Epoch 174/500\n",
            "107/107 [==============================] - 0s 329us/sample - loss: 0.0025 - accuracy: 0.6168 - val_loss: 0.0044 - val_accuracy: 0.6500\n",
            "Epoch 175/500\n",
            "107/107 [==============================] - 0s 382us/sample - loss: 0.0023 - accuracy: 0.6168 - val_loss: 0.0052 - val_accuracy: 0.7000\n",
            "Epoch 176/500\n",
            "107/107 [==============================] - 0s 351us/sample - loss: 0.0027 - accuracy: 0.6075 - val_loss: 0.0055 - val_accuracy: 0.7000\n",
            "Epoch 177/500\n",
            "107/107 [==============================] - 0s 359us/sample - loss: 0.0024 - accuracy: 0.6542 - val_loss: 0.0039 - val_accuracy: 0.5500\n",
            "Epoch 178/500\n",
            "107/107 [==============================] - 0s 395us/sample - loss: 0.0025 - accuracy: 0.6168 - val_loss: 0.0053 - val_accuracy: 0.4500\n",
            "Epoch 179/500\n",
            "107/107 [==============================] - 0s 336us/sample - loss: 0.0026 - accuracy: 0.5981 - val_loss: 0.0038 - val_accuracy: 0.6000\n",
            "Epoch 180/500\n",
            "107/107 [==============================] - 0s 343us/sample - loss: 0.0025 - accuracy: 0.5888 - val_loss: 0.0036 - val_accuracy: 0.7000\n",
            "Epoch 181/500\n",
            "107/107 [==============================] - 0s 354us/sample - loss: 0.0024 - accuracy: 0.6355 - val_loss: 0.0060 - val_accuracy: 0.4500\n",
            "Epoch 182/500\n",
            "107/107 [==============================] - 0s 314us/sample - loss: 0.0027 - accuracy: 0.5888 - val_loss: 0.0033 - val_accuracy: 0.7500\n",
            "Epoch 183/500\n",
            "107/107 [==============================] - 0s 319us/sample - loss: 0.0023 - accuracy: 0.6636 - val_loss: 0.0042 - val_accuracy: 0.5500\n",
            "Epoch 184/500\n",
            "107/107 [==============================] - 0s 293us/sample - loss: 0.0023 - accuracy: 0.6729 - val_loss: 0.0047 - val_accuracy: 0.6500\n",
            "Epoch 185/500\n",
            "107/107 [==============================] - 0s 289us/sample - loss: 0.0026 - accuracy: 0.6262 - val_loss: 0.0035 - val_accuracy: 0.5500\n",
            "Epoch 186/500\n",
            "107/107 [==============================] - 0s 287us/sample - loss: 0.0023 - accuracy: 0.6729 - val_loss: 0.0038 - val_accuracy: 0.7000\n",
            "Epoch 187/500\n",
            "107/107 [==============================] - 0s 318us/sample - loss: 0.0025 - accuracy: 0.6168 - val_loss: 0.0037 - val_accuracy: 0.6000\n",
            "Epoch 188/500\n",
            "107/107 [==============================] - 0s 372us/sample - loss: 0.0022 - accuracy: 0.6542 - val_loss: 0.0038 - val_accuracy: 0.7500\n",
            "Epoch 189/500\n",
            "107/107 [==============================] - 0s 354us/sample - loss: 0.0022 - accuracy: 0.6355 - val_loss: 0.0038 - val_accuracy: 0.6500\n",
            "Epoch 190/500\n",
            "107/107 [==============================] - 0s 332us/sample - loss: 0.0021 - accuracy: 0.6355 - val_loss: 0.0037 - val_accuracy: 0.7500\n",
            "Epoch 191/500\n",
            "107/107 [==============================] - 0s 321us/sample - loss: 0.0020 - accuracy: 0.6729 - val_loss: 0.0043 - val_accuracy: 0.6000\n",
            "Epoch 192/500\n",
            "107/107 [==============================] - 0s 338us/sample - loss: 0.0021 - accuracy: 0.6355 - val_loss: 0.0039 - val_accuracy: 0.7000\n",
            "Epoch 193/500\n",
            "107/107 [==============================] - 0s 316us/sample - loss: 0.0021 - accuracy: 0.7009 - val_loss: 0.0050 - val_accuracy: 0.6000\n",
            "Epoch 194/500\n",
            "107/107 [==============================] - 0s 357us/sample - loss: 0.0021 - accuracy: 0.6355 - val_loss: 0.0040 - val_accuracy: 0.7000\n",
            "Epoch 195/500\n",
            "107/107 [==============================] - 0s 381us/sample - loss: 0.0021 - accuracy: 0.7009 - val_loss: 0.0051 - val_accuracy: 0.4500\n",
            "Epoch 196/500\n",
            "107/107 [==============================] - 0s 346us/sample - loss: 0.0022 - accuracy: 0.6449 - val_loss: 0.0036 - val_accuracy: 0.7500\n",
            "Epoch 197/500\n",
            "107/107 [==============================] - 0s 326us/sample - loss: 0.0022 - accuracy: 0.6636 - val_loss: 0.0047 - val_accuracy: 0.4500\n",
            "Epoch 198/500\n",
            "107/107 [==============================] - 0s 332us/sample - loss: 0.0024 - accuracy: 0.6822 - val_loss: 0.0039 - val_accuracy: 0.6500\n",
            "Epoch 199/500\n",
            "107/107 [==============================] - 0s 305us/sample - loss: 0.0023 - accuracy: 0.6449 - val_loss: 0.0045 - val_accuracy: 0.5500\n",
            "Epoch 200/500\n",
            "107/107 [==============================] - 0s 274us/sample - loss: 0.0020 - accuracy: 0.6542 - val_loss: 0.0043 - val_accuracy: 0.7000\n",
            "Epoch 201/500\n",
            "107/107 [==============================] - 0s 291us/sample - loss: 0.0023 - accuracy: 0.5888 - val_loss: 0.0050 - val_accuracy: 0.5000\n",
            "Epoch 202/500\n",
            "107/107 [==============================] - 0s 314us/sample - loss: 0.0021 - accuracy: 0.6262 - val_loss: 0.0043 - val_accuracy: 0.6500\n",
            "Epoch 203/500\n",
            "107/107 [==============================] - 0s 387us/sample - loss: 0.0020 - accuracy: 0.6822 - val_loss: 0.0047 - val_accuracy: 0.6500\n",
            "Epoch 204/500\n",
            "107/107 [==============================] - 0s 341us/sample - loss: 0.0020 - accuracy: 0.6916 - val_loss: 0.0041 - val_accuracy: 0.7000\n",
            "Epoch 205/500\n",
            "107/107 [==============================] - 0s 287us/sample - loss: 0.0021 - accuracy: 0.6916 - val_loss: 0.0042 - val_accuracy: 0.5000\n",
            "Epoch 206/500\n",
            "107/107 [==============================] - 0s 276us/sample - loss: 0.0020 - accuracy: 0.6822 - val_loss: 0.0047 - val_accuracy: 0.6000\n",
            "Epoch 207/500\n",
            "107/107 [==============================] - 0s 296us/sample - loss: 0.0022 - accuracy: 0.6542 - val_loss: 0.0051 - val_accuracy: 0.5000\n",
            "Epoch 208/500\n",
            "107/107 [==============================] - 0s 312us/sample - loss: 0.0022 - accuracy: 0.6636 - val_loss: 0.0049 - val_accuracy: 0.6500\n",
            "Epoch 209/500\n",
            "107/107 [==============================] - 0s 330us/sample - loss: 0.0023 - accuracy: 0.6822 - val_loss: 0.0053 - val_accuracy: 0.4500\n",
            "Epoch 210/500\n",
            "107/107 [==============================] - 0s 285us/sample - loss: 0.0021 - accuracy: 0.6542 - val_loss: 0.0041 - val_accuracy: 0.7000\n",
            "Epoch 211/500\n",
            "107/107 [==============================] - 0s 314us/sample - loss: 0.0022 - accuracy: 0.6822 - val_loss: 0.0052 - val_accuracy: 0.5500\n",
            "Epoch 212/500\n",
            "107/107 [==============================] - 0s 301us/sample - loss: 0.0022 - accuracy: 0.6542 - val_loss: 0.0043 - val_accuracy: 0.6500\n",
            "Epoch 213/500\n",
            "107/107 [==============================] - 0s 294us/sample - loss: 0.0021 - accuracy: 0.6822 - val_loss: 0.0043 - val_accuracy: 0.5000\n",
            "Epoch 214/500\n",
            "107/107 [==============================] - 0s 292us/sample - loss: 0.0021 - accuracy: 0.6075 - val_loss: 0.0042 - val_accuracy: 0.7000\n",
            "Epoch 215/500\n",
            "107/107 [==============================] - 0s 326us/sample - loss: 0.0023 - accuracy: 0.5794 - val_loss: 0.0051 - val_accuracy: 0.6000\n",
            "Epoch 216/500\n",
            "107/107 [==============================] - 0s 356us/sample - loss: 0.0022 - accuracy: 0.6636 - val_loss: 0.0047 - val_accuracy: 0.6500\n",
            "Epoch 217/500\n",
            "107/107 [==============================] - 0s 333us/sample - loss: 0.0023 - accuracy: 0.6636 - val_loss: 0.0050 - val_accuracy: 0.5500\n",
            "Epoch 218/500\n",
            "107/107 [==============================] - 0s 333us/sample - loss: 0.0021 - accuracy: 0.6636 - val_loss: 0.0041 - val_accuracy: 0.6500\n",
            "Epoch 219/500\n",
            "107/107 [==============================] - 0s 312us/sample - loss: 0.0021 - accuracy: 0.6542 - val_loss: 0.0053 - val_accuracy: 0.6500\n",
            "Epoch 220/500\n",
            "107/107 [==============================] - 0s 287us/sample - loss: 0.0021 - accuracy: 0.6542 - val_loss: 0.0042 - val_accuracy: 0.6500\n",
            "Epoch 221/500\n",
            "107/107 [==============================] - 0s 282us/sample - loss: 0.0019 - accuracy: 0.7196 - val_loss: 0.0044 - val_accuracy: 0.5500\n",
            "Epoch 222/500\n",
            "107/107 [==============================] - 0s 323us/sample - loss: 0.0020 - accuracy: 0.7103 - val_loss: 0.0041 - val_accuracy: 0.6000\n",
            "Epoch 223/500\n",
            "107/107 [==============================] - 0s 412us/sample - loss: 0.0021 - accuracy: 0.6822 - val_loss: 0.0050 - val_accuracy: 0.5000\n",
            "Epoch 224/500\n",
            "107/107 [==============================] - 0s 326us/sample - loss: 0.0022 - accuracy: 0.6822 - val_loss: 0.0045 - val_accuracy: 0.6500\n",
            "Epoch 225/500\n",
            "107/107 [==============================] - 0s 315us/sample - loss: 0.0022 - accuracy: 0.7009 - val_loss: 0.0044 - val_accuracy: 0.6500\n",
            "Epoch 226/500\n",
            "107/107 [==============================] - 0s 315us/sample - loss: 0.0018 - accuracy: 0.6729 - val_loss: 0.0046 - val_accuracy: 0.7000\n",
            "Epoch 227/500\n",
            "107/107 [==============================] - 0s 354us/sample - loss: 0.0020 - accuracy: 0.5888 - val_loss: 0.0045 - val_accuracy: 0.6500\n",
            "Epoch 228/500\n",
            "107/107 [==============================] - 0s 320us/sample - loss: 0.0019 - accuracy: 0.6729 - val_loss: 0.0049 - val_accuracy: 0.6500\n",
            "Epoch 229/500\n",
            "107/107 [==============================] - 0s 302us/sample - loss: 0.0021 - accuracy: 0.6542 - val_loss: 0.0047 - val_accuracy: 0.6500\n",
            "Epoch 230/500\n",
            "107/107 [==============================] - 0s 277us/sample - loss: 0.0019 - accuracy: 0.6822 - val_loss: 0.0047 - val_accuracy: 0.6500\n",
            "Epoch 231/500\n",
            "107/107 [==============================] - 0s 315us/sample - loss: 0.0021 - accuracy: 0.6542 - val_loss: 0.0052 - val_accuracy: 0.5000\n",
            "Epoch 232/500\n",
            "107/107 [==============================] - 0s 309us/sample - loss: 0.0022 - accuracy: 0.6729 - val_loss: 0.0046 - val_accuracy: 0.6000\n",
            "Epoch 233/500\n",
            "107/107 [==============================] - 0s 277us/sample - loss: 0.0023 - accuracy: 0.6636 - val_loss: 0.0046 - val_accuracy: 0.5000\n",
            "Epoch 234/500\n",
            "107/107 [==============================] - 0s 270us/sample - loss: 0.0021 - accuracy: 0.6168 - val_loss: 0.0055 - val_accuracy: 0.6000\n",
            "Epoch 235/500\n",
            "107/107 [==============================] - 0s 316us/sample - loss: 0.0024 - accuracy: 0.6168 - val_loss: 0.0055 - val_accuracy: 0.6500\n",
            "Epoch 236/500\n",
            "107/107 [==============================] - 0s 301us/sample - loss: 0.0022 - accuracy: 0.6449 - val_loss: 0.0051 - val_accuracy: 0.6500\n",
            "Epoch 237/500\n",
            "107/107 [==============================] - 0s 314us/sample - loss: 0.0024 - accuracy: 0.6355 - val_loss: 0.0060 - val_accuracy: 0.5000\n",
            "Epoch 238/500\n",
            "107/107 [==============================] - 0s 285us/sample - loss: 0.0022 - accuracy: 0.6355 - val_loss: 0.0050 - val_accuracy: 0.6500\n",
            "Epoch 239/500\n",
            "107/107 [==============================] - 0s 283us/sample - loss: 0.0021 - accuracy: 0.6262 - val_loss: 0.0054 - val_accuracy: 0.7500\n",
            "Epoch 240/500\n",
            "107/107 [==============================] - 0s 291us/sample - loss: 0.0023 - accuracy: 0.6075 - val_loss: 0.0054 - val_accuracy: 0.6500\n",
            "Epoch 241/500\n",
            "107/107 [==============================] - 0s 289us/sample - loss: 0.0021 - accuracy: 0.6916 - val_loss: 0.0047 - val_accuracy: 0.5500\n",
            "Epoch 242/500\n",
            "107/107 [==============================] - 0s 308us/sample - loss: 0.0023 - accuracy: 0.6075 - val_loss: 0.0043 - val_accuracy: 0.6500\n",
            "Epoch 243/500\n",
            "107/107 [==============================] - 0s 316us/sample - loss: 0.0019 - accuracy: 0.7196 - val_loss: 0.0055 - val_accuracy: 0.7000\n",
            "Epoch 244/500\n",
            "107/107 [==============================] - 0s 276us/sample - loss: 0.0020 - accuracy: 0.6449 - val_loss: 0.0052 - val_accuracy: 0.5000\n",
            "Epoch 245/500\n",
            "107/107 [==============================] - 0s 293us/sample - loss: 0.0023 - accuracy: 0.6729 - val_loss: 0.0045 - val_accuracy: 0.7000\n",
            "Epoch 246/500\n",
            "107/107 [==============================] - 0s 276us/sample - loss: 0.0023 - accuracy: 0.6449 - val_loss: 0.0045 - val_accuracy: 0.5000\n",
            "Epoch 247/500\n",
            "107/107 [==============================] - 0s 305us/sample - loss: 0.0020 - accuracy: 0.6542 - val_loss: 0.0053 - val_accuracy: 0.7000\n",
            "Epoch 248/500\n",
            "107/107 [==============================] - 0s 323us/sample - loss: 0.0022 - accuracy: 0.6636 - val_loss: 0.0058 - val_accuracy: 0.6500\n",
            "Epoch 249/500\n",
            "107/107 [==============================] - 0s 304us/sample - loss: 0.0022 - accuracy: 0.6542 - val_loss: 0.0052 - val_accuracy: 0.6500\n",
            "Epoch 250/500\n",
            "107/107 [==============================] - 0s 320us/sample - loss: 0.0022 - accuracy: 0.6729 - val_loss: 0.0056 - val_accuracy: 0.5500\n",
            "Epoch 251/500\n",
            "107/107 [==============================] - 0s 321us/sample - loss: 0.0021 - accuracy: 0.6075 - val_loss: 0.0047 - val_accuracy: 0.6000\n",
            "Epoch 252/500\n",
            "107/107 [==============================] - 0s 449us/sample - loss: 0.0021 - accuracy: 0.6729 - val_loss: 0.0064 - val_accuracy: 0.6500\n",
            "Epoch 253/500\n",
            "107/107 [==============================] - 0s 345us/sample - loss: 0.0024 - accuracy: 0.6168 - val_loss: 0.0053 - val_accuracy: 0.7000\n",
            "Epoch 254/500\n",
            "107/107 [==============================] - 0s 400us/sample - loss: 0.0020 - accuracy: 0.7103 - val_loss: 0.0053 - val_accuracy: 0.5000\n",
            "Epoch 255/500\n",
            "107/107 [==============================] - 0s 339us/sample - loss: 0.0020 - accuracy: 0.6542 - val_loss: 0.0047 - val_accuracy: 0.6500\n",
            "Epoch 256/500\n",
            "107/107 [==============================] - 0s 338us/sample - loss: 0.0019 - accuracy: 0.7009 - val_loss: 0.0054 - val_accuracy: 0.6500\n",
            "Epoch 257/500\n",
            "107/107 [==============================] - 0s 315us/sample - loss: 0.0021 - accuracy: 0.6262 - val_loss: 0.0051 - val_accuracy: 0.7000\n",
            "Epoch 258/500\n",
            "107/107 [==============================] - 0s 371us/sample - loss: 0.0021 - accuracy: 0.6822 - val_loss: 0.0051 - val_accuracy: 0.5500\n",
            "Epoch 259/500\n",
            "107/107 [==============================] - 0s 391us/sample - loss: 0.0021 - accuracy: 0.6449 - val_loss: 0.0046 - val_accuracy: 0.6500\n",
            "Epoch 260/500\n",
            "107/107 [==============================] - 0s 341us/sample - loss: 0.0022 - accuracy: 0.6636 - val_loss: 0.0060 - val_accuracy: 0.5500\n",
            "Epoch 261/500\n",
            "107/107 [==============================] - 0s 347us/sample - loss: 0.0022 - accuracy: 0.6355 - val_loss: 0.0050 - val_accuracy: 0.6500\n",
            "Epoch 262/500\n",
            "107/107 [==============================] - 0s 351us/sample - loss: 0.0022 - accuracy: 0.6636 - val_loss: 0.0077 - val_accuracy: 0.4500\n",
            "Epoch 263/500\n",
            "107/107 [==============================] - 0s 350us/sample - loss: 0.0024 - accuracy: 0.6449 - val_loss: 0.0043 - val_accuracy: 0.6500\n",
            "Epoch 264/500\n",
            "107/107 [==============================] - 0s 367us/sample - loss: 0.0023 - accuracy: 0.6542 - val_loss: 0.0062 - val_accuracy: 0.5000\n",
            "Epoch 265/500\n",
            "107/107 [==============================] - 0s 372us/sample - loss: 0.0023 - accuracy: 0.6542 - val_loss: 0.0053 - val_accuracy: 0.6000\n",
            "Epoch 266/500\n",
            "107/107 [==============================] - 0s 383us/sample - loss: 0.0023 - accuracy: 0.6822 - val_loss: 0.0051 - val_accuracy: 0.5500\n",
            "Epoch 267/500\n",
            "107/107 [==============================] - 0s 351us/sample - loss: 0.0021 - accuracy: 0.6729 - val_loss: 0.0054 - val_accuracy: 0.6000\n",
            "Epoch 268/500\n",
            "107/107 [==============================] - 0s 338us/sample - loss: 0.0021 - accuracy: 0.6636 - val_loss: 0.0052 - val_accuracy: 0.7000\n",
            "Epoch 269/500\n",
            "107/107 [==============================] - 0s 364us/sample - loss: 0.0019 - accuracy: 0.6916 - val_loss: 0.0055 - val_accuracy: 0.6000\n",
            "Epoch 270/500\n",
            "107/107 [==============================] - 0s 458us/sample - loss: 0.0020 - accuracy: 0.6822 - val_loss: 0.0045 - val_accuracy: 0.6500\n",
            "Epoch 271/500\n",
            "107/107 [==============================] - 0s 359us/sample - loss: 0.0019 - accuracy: 0.7103 - val_loss: 0.0054 - val_accuracy: 0.6000\n",
            "Epoch 272/500\n",
            "107/107 [==============================] - 0s 354us/sample - loss: 0.0019 - accuracy: 0.7103 - val_loss: 0.0051 - val_accuracy: 0.5500\n",
            "Epoch 273/500\n",
            "107/107 [==============================] - 0s 365us/sample - loss: 0.0020 - accuracy: 0.7290 - val_loss: 0.0053 - val_accuracy: 0.6000\n",
            "Epoch 274/500\n",
            "107/107 [==============================] - 0s 354us/sample - loss: 0.0021 - accuracy: 0.7009 - val_loss: 0.0050 - val_accuracy: 0.5500\n",
            "Epoch 275/500\n",
            "107/107 [==============================] - 0s 360us/sample - loss: 0.0019 - accuracy: 0.7196 - val_loss: 0.0053 - val_accuracy: 0.6000\n",
            "Epoch 276/500\n",
            "107/107 [==============================] - 0s 460us/sample - loss: 0.0020 - accuracy: 0.7009 - val_loss: 0.0049 - val_accuracy: 0.6500\n",
            "Epoch 277/500\n",
            "107/107 [==============================] - 0s 394us/sample - loss: 0.0018 - accuracy: 0.7103 - val_loss: 0.0052 - val_accuracy: 0.6500\n",
            "Epoch 278/500\n",
            "107/107 [==============================] - 0s 397us/sample - loss: 0.0019 - accuracy: 0.7290 - val_loss: 0.0050 - val_accuracy: 0.6500\n",
            "Epoch 279/500\n",
            "107/107 [==============================] - 0s 350us/sample - loss: 0.0019 - accuracy: 0.7196 - val_loss: 0.0049 - val_accuracy: 0.7000\n",
            "Epoch 280/500\n",
            "107/107 [==============================] - 0s 331us/sample - loss: 0.0020 - accuracy: 0.7009 - val_loss: 0.0053 - val_accuracy: 0.4500\n",
            "Epoch 281/500\n",
            "107/107 [==============================] - 0s 360us/sample - loss: 0.0021 - accuracy: 0.6636 - val_loss: 0.0051 - val_accuracy: 0.6000\n",
            "Epoch 282/500\n",
            "107/107 [==============================] - 0s 358us/sample - loss: 0.0022 - accuracy: 0.6542 - val_loss: 0.0056 - val_accuracy: 0.5500\n",
            "Epoch 283/500\n",
            "107/107 [==============================] - 0s 421us/sample - loss: 0.0020 - accuracy: 0.6729 - val_loss: 0.0053 - val_accuracy: 0.6500\n",
            "Epoch 284/500\n",
            "107/107 [==============================] - 0s 353us/sample - loss: 0.0022 - accuracy: 0.6729 - val_loss: 0.0064 - val_accuracy: 0.6000\n",
            "Epoch 285/500\n",
            "107/107 [==============================] - 0s 366us/sample - loss: 0.0020 - accuracy: 0.6822 - val_loss: 0.0047 - val_accuracy: 0.6000\n",
            "Epoch 286/500\n",
            "107/107 [==============================] - 0s 375us/sample - loss: 0.0020 - accuracy: 0.7009 - val_loss: 0.0063 - val_accuracy: 0.7000\n",
            "Epoch 287/500\n",
            "107/107 [==============================] - 0s 355us/sample - loss: 0.0024 - accuracy: 0.6449 - val_loss: 0.0052 - val_accuracy: 0.6000\n",
            "Epoch 288/500\n",
            "107/107 [==============================] - 0s 349us/sample - loss: 0.0018 - accuracy: 0.6822 - val_loss: 0.0054 - val_accuracy: 0.5500\n",
            "Epoch 289/500\n",
            "107/107 [==============================] - 0s 357us/sample - loss: 0.0021 - accuracy: 0.7009 - val_loss: 0.0047 - val_accuracy: 0.6000\n",
            "Epoch 290/500\n",
            "107/107 [==============================] - 0s 342us/sample - loss: 0.0019 - accuracy: 0.6636 - val_loss: 0.0052 - val_accuracy: 0.6000\n",
            "Epoch 291/500\n",
            "107/107 [==============================] - 0s 354us/sample - loss: 0.0023 - accuracy: 0.6822 - val_loss: 0.0052 - val_accuracy: 0.6000\n",
            "Epoch 292/500\n",
            "107/107 [==============================] - 0s 366us/sample - loss: 0.0024 - accuracy: 0.6729 - val_loss: 0.0055 - val_accuracy: 0.5500\n",
            "Epoch 293/500\n",
            "107/107 [==============================] - 0s 385us/sample - loss: 0.0025 - accuracy: 0.6355 - val_loss: 0.0051 - val_accuracy: 0.5500\n",
            "Epoch 294/500\n",
            "107/107 [==============================] - 0s 347us/sample - loss: 0.0023 - accuracy: 0.6262 - val_loss: 0.0059 - val_accuracy: 0.4500\n",
            "Epoch 295/500\n",
            "107/107 [==============================] - 0s 336us/sample - loss: 0.0022 - accuracy: 0.6355 - val_loss: 0.0057 - val_accuracy: 0.5500\n",
            "Epoch 296/500\n",
            "107/107 [==============================] - 0s 416us/sample - loss: 0.0024 - accuracy: 0.6636 - val_loss: 0.0052 - val_accuracy: 0.6000\n",
            "Epoch 297/500\n",
            "107/107 [==============================] - 0s 361us/sample - loss: 0.0021 - accuracy: 0.7009 - val_loss: 0.0051 - val_accuracy: 0.5500\n",
            "Epoch 298/500\n",
            "107/107 [==============================] - 0s 397us/sample - loss: 0.0021 - accuracy: 0.6916 - val_loss: 0.0052 - val_accuracy: 0.4500\n",
            "Epoch 299/500\n",
            "107/107 [==============================] - 0s 371us/sample - loss: 0.0020 - accuracy: 0.6916 - val_loss: 0.0050 - val_accuracy: 0.7000\n",
            "Epoch 300/500\n",
            "107/107 [==============================] - 0s 420us/sample - loss: 0.0020 - accuracy: 0.6449 - val_loss: 0.0052 - val_accuracy: 0.6000\n",
            "Epoch 301/500\n",
            "107/107 [==============================] - 0s 479us/sample - loss: 0.0019 - accuracy: 0.7383 - val_loss: 0.0061 - val_accuracy: 0.5500\n",
            "Epoch 302/500\n",
            "107/107 [==============================] - 0s 361us/sample - loss: 0.0023 - accuracy: 0.6449 - val_loss: 0.0052 - val_accuracy: 0.5000\n",
            "Epoch 303/500\n",
            "107/107 [==============================] - 0s 343us/sample - loss: 0.0021 - accuracy: 0.7196 - val_loss: 0.0050 - val_accuracy: 0.6500\n",
            "Epoch 304/500\n",
            "107/107 [==============================] - 0s 338us/sample - loss: 0.0020 - accuracy: 0.7103 - val_loss: 0.0055 - val_accuracy: 0.6500\n",
            "Epoch 305/500\n",
            "107/107 [==============================] - 0s 389us/sample - loss: 0.0018 - accuracy: 0.7009 - val_loss: 0.0051 - val_accuracy: 0.6500\n",
            "Epoch 306/500\n",
            "107/107 [==============================] - 0s 369us/sample - loss: 0.0019 - accuracy: 0.6916 - val_loss: 0.0052 - val_accuracy: 0.6500\n",
            "Epoch 307/500\n",
            "107/107 [==============================] - 0s 357us/sample - loss: 0.0018 - accuracy: 0.7196 - val_loss: 0.0053 - val_accuracy: 0.6000\n",
            "Epoch 308/500\n",
            "107/107 [==============================] - 0s 422us/sample - loss: 0.0017 - accuracy: 0.7196 - val_loss: 0.0050 - val_accuracy: 0.6500\n",
            "Epoch 309/500\n",
            "107/107 [==============================] - 0s 408us/sample - loss: 0.0018 - accuracy: 0.7103 - val_loss: 0.0046 - val_accuracy: 0.6000\n",
            "Epoch 310/500\n",
            "107/107 [==============================] - 0s 345us/sample - loss: 0.0017 - accuracy: 0.7383 - val_loss: 0.0055 - val_accuracy: 0.6500\n",
            "Epoch 311/500\n",
            "107/107 [==============================] - 0s 330us/sample - loss: 0.0018 - accuracy: 0.7290 - val_loss: 0.0052 - val_accuracy: 0.6000\n",
            "Epoch 312/500\n",
            "107/107 [==============================] - 0s 387us/sample - loss: 0.0018 - accuracy: 0.7383 - val_loss: 0.0057 - val_accuracy: 0.5500\n",
            "Epoch 313/500\n",
            "107/107 [==============================] - 0s 368us/sample - loss: 0.0019 - accuracy: 0.7196 - val_loss: 0.0056 - val_accuracy: 0.6000\n",
            "Epoch 314/500\n",
            "107/107 [==============================] - 0s 387us/sample - loss: 0.0019 - accuracy: 0.7196 - val_loss: 0.0055 - val_accuracy: 0.6000\n",
            "Epoch 315/500\n",
            "107/107 [==============================] - 0s 307us/sample - loss: 0.0018 - accuracy: 0.7196 - val_loss: 0.0050 - val_accuracy: 0.6000\n",
            "Epoch 316/500\n",
            "107/107 [==============================] - 0s 368us/sample - loss: 0.0018 - accuracy: 0.7477 - val_loss: 0.0054 - val_accuracy: 0.6500\n",
            "Epoch 317/500\n",
            "107/107 [==============================] - 0s 395us/sample - loss: 0.0018 - accuracy: 0.7196 - val_loss: 0.0056 - val_accuracy: 0.6000\n",
            "Epoch 318/500\n",
            "107/107 [==============================] - 0s 374us/sample - loss: 0.0018 - accuracy: 0.7290 - val_loss: 0.0060 - val_accuracy: 0.6500\n",
            "Epoch 319/500\n",
            "107/107 [==============================] - 0s 345us/sample - loss: 0.0017 - accuracy: 0.7196 - val_loss: 0.0057 - val_accuracy: 0.6000\n",
            "Epoch 320/500\n",
            "107/107 [==============================] - 0s 339us/sample - loss: 0.0017 - accuracy: 0.7290 - val_loss: 0.0056 - val_accuracy: 0.6500\n",
            "Epoch 321/500\n",
            "107/107 [==============================] - 0s 331us/sample - loss: 0.0016 - accuracy: 0.7477 - val_loss: 0.0057 - val_accuracy: 0.6000\n",
            "Epoch 322/500\n",
            "107/107 [==============================] - 0s 371us/sample - loss: 0.0018 - accuracy: 0.7477 - val_loss: 0.0056 - val_accuracy: 0.6500\n",
            "Epoch 323/500\n",
            "107/107 [==============================] - 0s 402us/sample - loss: 0.0017 - accuracy: 0.7477 - val_loss: 0.0059 - val_accuracy: 0.6000\n",
            "Epoch 324/500\n",
            "107/107 [==============================] - 0s 362us/sample - loss: 0.0019 - accuracy: 0.7196 - val_loss: 0.0054 - val_accuracy: 0.5500\n",
            "Epoch 325/500\n",
            "107/107 [==============================] - 0s 393us/sample - loss: 0.0017 - accuracy: 0.7196 - val_loss: 0.0063 - val_accuracy: 0.6000\n",
            "Epoch 326/500\n",
            "107/107 [==============================] - 0s 475us/sample - loss: 0.0020 - accuracy: 0.6822 - val_loss: 0.0052 - val_accuracy: 0.6500\n",
            "Epoch 327/500\n",
            "107/107 [==============================] - 0s 377us/sample - loss: 0.0017 - accuracy: 0.7103 - val_loss: 0.0060 - val_accuracy: 0.6000\n",
            "Epoch 328/500\n",
            "107/107 [==============================] - 0s 353us/sample - loss: 0.0019 - accuracy: 0.7103 - val_loss: 0.0054 - val_accuracy: 0.6500\n",
            "Epoch 329/500\n",
            "107/107 [==============================] - 0s 377us/sample - loss: 0.0017 - accuracy: 0.7290 - val_loss: 0.0058 - val_accuracy: 0.6000\n",
            "Epoch 330/500\n",
            "107/107 [==============================] - 0s 404us/sample - loss: 0.0018 - accuracy: 0.7570 - val_loss: 0.0059 - val_accuracy: 0.6500\n",
            "Epoch 331/500\n",
            "107/107 [==============================] - 0s 364us/sample - loss: 0.0017 - accuracy: 0.7383 - val_loss: 0.0057 - val_accuracy: 0.6000\n",
            "Epoch 332/500\n",
            "107/107 [==============================] - 0s 362us/sample - loss: 0.0018 - accuracy: 0.7383 - val_loss: 0.0051 - val_accuracy: 0.6500\n",
            "Epoch 333/500\n",
            "107/107 [==============================] - 0s 355us/sample - loss: 0.0016 - accuracy: 0.7757 - val_loss: 0.0063 - val_accuracy: 0.6000\n",
            "Epoch 334/500\n",
            "107/107 [==============================] - 0s 356us/sample - loss: 0.0019 - accuracy: 0.7196 - val_loss: 0.0052 - val_accuracy: 0.6000\n",
            "Epoch 335/500\n",
            "107/107 [==============================] - 0s 356us/sample - loss: 0.0018 - accuracy: 0.7290 - val_loss: 0.0068 - val_accuracy: 0.6000\n",
            "Epoch 336/500\n",
            "107/107 [==============================] - 0s 361us/sample - loss: 0.0020 - accuracy: 0.6916 - val_loss: 0.0051 - val_accuracy: 0.6000\n",
            "Epoch 337/500\n",
            "107/107 [==============================] - 0s 397us/sample - loss: 0.0019 - accuracy: 0.7290 - val_loss: 0.0064 - val_accuracy: 0.6000\n",
            "Epoch 338/500\n",
            "107/107 [==============================] - 0s 349us/sample - loss: 0.0020 - accuracy: 0.6822 - val_loss: 0.0056 - val_accuracy: 0.6000\n",
            "Epoch 339/500\n",
            "107/107 [==============================] - 0s 362us/sample - loss: 0.0018 - accuracy: 0.7383 - val_loss: 0.0053 - val_accuracy: 0.6000\n",
            "Epoch 340/500\n",
            "107/107 [==============================] - 0s 361us/sample - loss: 0.0018 - accuracy: 0.7196 - val_loss: 0.0059 - val_accuracy: 0.6500\n",
            "Epoch 341/500\n",
            "107/107 [==============================] - 0s 338us/sample - loss: 0.0017 - accuracy: 0.7196 - val_loss: 0.0055 - val_accuracy: 0.6500\n",
            "Epoch 342/500\n",
            "107/107 [==============================] - 0s 334us/sample - loss: 0.0017 - accuracy: 0.7664 - val_loss: 0.0056 - val_accuracy: 0.6500\n",
            "Epoch 343/500\n",
            "107/107 [==============================] - 0s 354us/sample - loss: 0.0016 - accuracy: 0.7103 - val_loss: 0.0061 - val_accuracy: 0.6000\n",
            "Epoch 344/500\n",
            "107/107 [==============================] - 0s 386us/sample - loss: 0.0017 - accuracy: 0.7290 - val_loss: 0.0051 - val_accuracy: 0.6000\n",
            "Epoch 345/500\n",
            "107/107 [==============================] - 0s 380us/sample - loss: 0.0017 - accuracy: 0.7290 - val_loss: 0.0058 - val_accuracy: 0.6000\n",
            "Epoch 346/500\n",
            "107/107 [==============================] - 0s 362us/sample - loss: 0.0019 - accuracy: 0.6822 - val_loss: 0.0058 - val_accuracy: 0.5500\n",
            "Epoch 347/500\n",
            "107/107 [==============================] - 0s 363us/sample - loss: 0.0020 - accuracy: 0.6916 - val_loss: 0.0065 - val_accuracy: 0.6500\n",
            "Epoch 348/500\n",
            "107/107 [==============================] - 0s 356us/sample - loss: 0.0020 - accuracy: 0.6916 - val_loss: 0.0067 - val_accuracy: 0.5500\n",
            "Epoch 349/500\n",
            "107/107 [==============================] - 0s 459us/sample - loss: 0.0018 - accuracy: 0.6729 - val_loss: 0.0046 - val_accuracy: 0.7000\n",
            "Epoch 350/500\n",
            "107/107 [==============================] - 0s 473us/sample - loss: 0.0018 - accuracy: 0.6916 - val_loss: 0.0059 - val_accuracy: 0.6000\n",
            "Epoch 351/500\n",
            "107/107 [==============================] - 0s 380us/sample - loss: 0.0017 - accuracy: 0.6636 - val_loss: 0.0055 - val_accuracy: 0.6000\n",
            "Epoch 352/500\n",
            "107/107 [==============================] - 0s 375us/sample - loss: 0.0019 - accuracy: 0.7196 - val_loss: 0.0066 - val_accuracy: 0.6000\n",
            "Epoch 353/500\n",
            "107/107 [==============================] - 0s 368us/sample - loss: 0.0019 - accuracy: 0.6636 - val_loss: 0.0065 - val_accuracy: 0.5500\n",
            "Epoch 354/500\n",
            "107/107 [==============================] - 0s 352us/sample - loss: 0.0022 - accuracy: 0.7196 - val_loss: 0.0058 - val_accuracy: 0.5500\n",
            "Epoch 355/500\n",
            "107/107 [==============================] - 0s 379us/sample - loss: 0.0018 - accuracy: 0.6916 - val_loss: 0.0045 - val_accuracy: 0.6500\n",
            "Epoch 356/500\n",
            "107/107 [==============================] - 0s 363us/sample - loss: 0.0020 - accuracy: 0.6542 - val_loss: 0.0060 - val_accuracy: 0.6000\n",
            "Epoch 357/500\n",
            "107/107 [==============================] - 0s 454us/sample - loss: 0.0024 - accuracy: 0.7196 - val_loss: 0.0058 - val_accuracy: 0.5500\n",
            "Epoch 358/500\n",
            "107/107 [==============================] - 0s 355us/sample - loss: 0.0024 - accuracy: 0.6262 - val_loss: 0.0055 - val_accuracy: 0.6500\n",
            "Epoch 359/500\n",
            "107/107 [==============================] - 0s 371us/sample - loss: 0.0020 - accuracy: 0.6916 - val_loss: 0.0056 - val_accuracy: 0.7000\n",
            "Epoch 360/500\n",
            "107/107 [==============================] - 0s 410us/sample - loss: 0.0020 - accuracy: 0.7009 - val_loss: 0.0055 - val_accuracy: 0.6000\n",
            "Epoch 361/500\n",
            "107/107 [==============================] - 0s 359us/sample - loss: 0.0020 - accuracy: 0.7103 - val_loss: 0.0051 - val_accuracy: 0.6000\n",
            "Epoch 362/500\n",
            "107/107 [==============================] - 0s 354us/sample - loss: 0.0018 - accuracy: 0.6916 - val_loss: 0.0051 - val_accuracy: 0.6000\n",
            "Epoch 363/500\n",
            "107/107 [==============================] - 0s 353us/sample - loss: 0.0019 - accuracy: 0.7196 - val_loss: 0.0070 - val_accuracy: 0.5500\n",
            "Epoch 364/500\n",
            "107/107 [==============================] - 0s 343us/sample - loss: 0.0021 - accuracy: 0.6542 - val_loss: 0.0051 - val_accuracy: 0.6500\n",
            "Epoch 365/500\n",
            "107/107 [==============================] - 0s 390us/sample - loss: 0.0020 - accuracy: 0.7290 - val_loss: 0.0070 - val_accuracy: 0.5500\n",
            "Epoch 366/500\n",
            "107/107 [==============================] - 0s 383us/sample - loss: 0.0024 - accuracy: 0.6542 - val_loss: 0.0056 - val_accuracy: 0.6000\n",
            "Epoch 367/500\n",
            "107/107 [==============================] - 0s 353us/sample - loss: 0.0020 - accuracy: 0.6729 - val_loss: 0.0066 - val_accuracy: 0.6000\n",
            "Epoch 368/500\n",
            "107/107 [==============================] - 0s 348us/sample - loss: 0.0025 - accuracy: 0.6542 - val_loss: 0.0075 - val_accuracy: 0.5500\n",
            "Epoch 369/500\n",
            "107/107 [==============================] - 0s 391us/sample - loss: 0.0019 - accuracy: 0.7009 - val_loss: 0.0054 - val_accuracy: 0.7000\n",
            "Epoch 370/500\n",
            "107/107 [==============================] - 0s 380us/sample - loss: 0.0018 - accuracy: 0.7290 - val_loss: 0.0063 - val_accuracy: 0.6000\n",
            "Epoch 371/500\n",
            "107/107 [==============================] - 0s 340us/sample - loss: 0.0020 - accuracy: 0.6916 - val_loss: 0.0052 - val_accuracy: 0.5500\n",
            "Epoch 372/500\n",
            "107/107 [==============================] - 0s 403us/sample - loss: 0.0017 - accuracy: 0.7477 - val_loss: 0.0066 - val_accuracy: 0.6500\n",
            "Epoch 373/500\n",
            "107/107 [==============================] - 0s 350us/sample - loss: 0.0025 - accuracy: 0.6636 - val_loss: 0.0044 - val_accuracy: 0.7000\n",
            "Epoch 374/500\n",
            "107/107 [==============================] - 0s 337us/sample - loss: 0.0019 - accuracy: 0.7196 - val_loss: 0.0068 - val_accuracy: 0.5500\n",
            "Epoch 375/500\n",
            "107/107 [==============================] - 0s 502us/sample - loss: 0.0019 - accuracy: 0.6729 - val_loss: 0.0054 - val_accuracy: 0.6500\n",
            "Epoch 376/500\n",
            "107/107 [==============================] - 0s 413us/sample - loss: 0.0020 - accuracy: 0.7290 - val_loss: 0.0063 - val_accuracy: 0.5500\n",
            "Epoch 377/500\n",
            "107/107 [==============================] - 0s 379us/sample - loss: 0.0017 - accuracy: 0.7290 - val_loss: 0.0056 - val_accuracy: 0.6500\n",
            "Epoch 378/500\n",
            "107/107 [==============================] - 0s 348us/sample - loss: 0.0019 - accuracy: 0.7009 - val_loss: 0.0065 - val_accuracy: 0.5500\n",
            "Epoch 379/500\n",
            "107/107 [==============================] - 0s 355us/sample - loss: 0.0020 - accuracy: 0.6636 - val_loss: 0.0048 - val_accuracy: 0.6500\n",
            "Epoch 380/500\n",
            "107/107 [==============================] - 0s 348us/sample - loss: 0.0020 - accuracy: 0.6916 - val_loss: 0.0066 - val_accuracy: 0.6000\n",
            "Epoch 381/500\n",
            "107/107 [==============================] - 0s 371us/sample - loss: 0.0019 - accuracy: 0.6822 - val_loss: 0.0050 - val_accuracy: 0.6500\n",
            "Epoch 382/500\n",
            "107/107 [==============================] - 0s 357us/sample - loss: 0.0018 - accuracy: 0.7383 - val_loss: 0.0063 - val_accuracy: 0.5500\n",
            "Epoch 383/500\n",
            "107/107 [==============================] - 0s 385us/sample - loss: 0.0017 - accuracy: 0.7196 - val_loss: 0.0060 - val_accuracy: 0.6000\n",
            "Epoch 384/500\n",
            "107/107 [==============================] - 0s 370us/sample - loss: 0.0017 - accuracy: 0.7383 - val_loss: 0.0065 - val_accuracy: 0.6000\n",
            "Epoch 385/500\n",
            "107/107 [==============================] - 0s 383us/sample - loss: 0.0020 - accuracy: 0.6916 - val_loss: 0.0058 - val_accuracy: 0.7000\n",
            "Epoch 386/500\n",
            "107/107 [==============================] - 0s 375us/sample - loss: 0.0019 - accuracy: 0.6916 - val_loss: 0.0064 - val_accuracy: 0.6000\n",
            "Epoch 387/500\n",
            "107/107 [==============================] - 0s 363us/sample - loss: 0.0019 - accuracy: 0.7103 - val_loss: 0.0067 - val_accuracy: 0.6000\n",
            "Epoch 388/500\n",
            "107/107 [==============================] - 0s 352us/sample - loss: 0.0021 - accuracy: 0.7103 - val_loss: 0.0059 - val_accuracy: 0.6000\n",
            "Epoch 389/500\n",
            "107/107 [==============================] - 0s 365us/sample - loss: 0.0021 - accuracy: 0.7290 - val_loss: 0.0081 - val_accuracy: 0.5000\n",
            "Epoch 390/500\n",
            "107/107 [==============================] - 0s 339us/sample - loss: 0.0021 - accuracy: 0.6729 - val_loss: 0.0055 - val_accuracy: 0.5500\n",
            "Epoch 391/500\n",
            "107/107 [==============================] - 0s 373us/sample - loss: 0.0022 - accuracy: 0.6729 - val_loss: 0.0065 - val_accuracy: 0.6500\n",
            "Epoch 392/500\n",
            "107/107 [==============================] - 0s 374us/sample - loss: 0.0026 - accuracy: 0.6542 - val_loss: 0.0072 - val_accuracy: 0.5500\n",
            "Epoch 393/500\n",
            "107/107 [==============================] - 0s 373us/sample - loss: 0.0020 - accuracy: 0.6916 - val_loss: 0.0064 - val_accuracy: 0.5500\n",
            "Epoch 394/500\n",
            "107/107 [==============================] - 0s 376us/sample - loss: 0.0022 - accuracy: 0.6729 - val_loss: 0.0085 - val_accuracy: 0.5000\n",
            "Epoch 395/500\n",
            "107/107 [==============================] - 0s 386us/sample - loss: 0.0021 - accuracy: 0.6916 - val_loss: 0.0055 - val_accuracy: 0.6500\n",
            "Epoch 396/500\n",
            "107/107 [==============================] - 0s 383us/sample - loss: 0.0021 - accuracy: 0.7383 - val_loss: 0.0066 - val_accuracy: 0.6000\n",
            "Epoch 397/500\n",
            "107/107 [==============================] - 0s 410us/sample - loss: 0.0020 - accuracy: 0.7290 - val_loss: 0.0065 - val_accuracy: 0.6000\n",
            "Epoch 398/500\n",
            "107/107 [==============================] - 0s 357us/sample - loss: 0.0022 - accuracy: 0.7103 - val_loss: 0.0055 - val_accuracy: 0.5000\n",
            "Epoch 399/500\n",
            "107/107 [==============================] - 0s 495us/sample - loss: 0.0019 - accuracy: 0.7290 - val_loss: 0.0062 - val_accuracy: 0.6000\n",
            "Epoch 400/500\n",
            "107/107 [==============================] - 0s 382us/sample - loss: 0.0018 - accuracy: 0.6916 - val_loss: 0.0057 - val_accuracy: 0.5500\n",
            "Epoch 401/500\n",
            "107/107 [==============================] - 0s 369us/sample - loss: 0.0018 - accuracy: 0.7196 - val_loss: 0.0065 - val_accuracy: 0.6500\n",
            "Epoch 402/500\n",
            "107/107 [==============================] - 0s 379us/sample - loss: 0.0019 - accuracy: 0.6916 - val_loss: 0.0059 - val_accuracy: 0.5000\n",
            "Epoch 403/500\n",
            "107/107 [==============================] - 0s 361us/sample - loss: 0.0020 - accuracy: 0.7196 - val_loss: 0.0056 - val_accuracy: 0.6000\n",
            "Epoch 404/500\n",
            "107/107 [==============================] - 0s 360us/sample - loss: 0.0019 - accuracy: 0.7196 - val_loss: 0.0063 - val_accuracy: 0.5500\n",
            "Epoch 405/500\n",
            "107/107 [==============================] - 0s 381us/sample - loss: 0.0019 - accuracy: 0.6916 - val_loss: 0.0070 - val_accuracy: 0.5500\n",
            "Epoch 406/500\n",
            "107/107 [==============================] - 0s 407us/sample - loss: 0.0021 - accuracy: 0.6729 - val_loss: 0.0074 - val_accuracy: 0.5500\n",
            "Epoch 407/500\n",
            "107/107 [==============================] - 0s 346us/sample - loss: 0.0021 - accuracy: 0.6822 - val_loss: 0.0055 - val_accuracy: 0.6000\n",
            "Epoch 408/500\n",
            "107/107 [==============================] - 0s 338us/sample - loss: 0.0020 - accuracy: 0.7103 - val_loss: 0.0060 - val_accuracy: 0.5500\n",
            "Epoch 409/500\n",
            "107/107 [==============================] - 0s 347us/sample - loss: 0.0021 - accuracy: 0.7009 - val_loss: 0.0058 - val_accuracy: 0.5500\n",
            "Epoch 410/500\n",
            "107/107 [==============================] - 0s 365us/sample - loss: 0.0018 - accuracy: 0.7290 - val_loss: 0.0071 - val_accuracy: 0.5500\n",
            "Epoch 411/500\n",
            "107/107 [==============================] - 0s 327us/sample - loss: 0.0019 - accuracy: 0.7383 - val_loss: 0.0060 - val_accuracy: 0.6000\n",
            "Epoch 412/500\n",
            "107/107 [==============================] - 0s 398us/sample - loss: 0.0020 - accuracy: 0.7009 - val_loss: 0.0057 - val_accuracy: 0.6500\n",
            "Epoch 413/500\n",
            "107/107 [==============================] - 0s 369us/sample - loss: 0.0017 - accuracy: 0.7664 - val_loss: 0.0067 - val_accuracy: 0.6500\n",
            "Epoch 414/500\n",
            "107/107 [==============================] - 0s 342us/sample - loss: 0.0020 - accuracy: 0.7009 - val_loss: 0.0059 - val_accuracy: 0.6000\n",
            "Epoch 415/500\n",
            "107/107 [==============================] - 0s 375us/sample - loss: 0.0019 - accuracy: 0.7196 - val_loss: 0.0064 - val_accuracy: 0.6000\n",
            "Epoch 416/500\n",
            "107/107 [==============================] - 0s 402us/sample - loss: 0.0019 - accuracy: 0.7383 - val_loss: 0.0065 - val_accuracy: 0.6000\n",
            "Epoch 417/500\n",
            "107/107 [==============================] - 0s 401us/sample - loss: 0.0017 - accuracy: 0.7196 - val_loss: 0.0057 - val_accuracy: 0.6000\n",
            "Epoch 418/500\n",
            "107/107 [==============================] - 0s 368us/sample - loss: 0.0017 - accuracy: 0.7383 - val_loss: 0.0063 - val_accuracy: 0.6500\n",
            "Epoch 419/500\n",
            "107/107 [==============================] - 0s 378us/sample - loss: 0.0016 - accuracy: 0.7850 - val_loss: 0.0058 - val_accuracy: 0.6000\n",
            "Epoch 420/500\n",
            "107/107 [==============================] - 0s 378us/sample - loss: 0.0018 - accuracy: 0.7290 - val_loss: 0.0055 - val_accuracy: 0.6500\n",
            "Epoch 421/500\n",
            "107/107 [==============================] - 0s 410us/sample - loss: 0.0016 - accuracy: 0.7383 - val_loss: 0.0063 - val_accuracy: 0.6000\n",
            "Epoch 422/500\n",
            "107/107 [==============================] - 0s 352us/sample - loss: 0.0018 - accuracy: 0.7196 - val_loss: 0.0059 - val_accuracy: 0.6500\n",
            "Epoch 423/500\n",
            "107/107 [==============================] - 0s 446us/sample - loss: 0.0016 - accuracy: 0.7570 - val_loss: 0.0062 - val_accuracy: 0.6000\n",
            "Epoch 424/500\n",
            "107/107 [==============================] - 0s 358us/sample - loss: 0.0017 - accuracy: 0.7290 - val_loss: 0.0058 - val_accuracy: 0.6500\n",
            "Epoch 425/500\n",
            "107/107 [==============================] - 0s 339us/sample - loss: 0.0016 - accuracy: 0.7664 - val_loss: 0.0057 - val_accuracy: 0.6000\n",
            "Epoch 426/500\n",
            "107/107 [==============================] - 0s 346us/sample - loss: 0.0017 - accuracy: 0.7477 - val_loss: 0.0057 - val_accuracy: 0.6000\n",
            "Epoch 427/500\n",
            "107/107 [==============================] - 0s 360us/sample - loss: 0.0016 - accuracy: 0.7290 - val_loss: 0.0062 - val_accuracy: 0.6000\n",
            "Epoch 428/500\n",
            "107/107 [==============================] - 0s 341us/sample - loss: 0.0017 - accuracy: 0.7383 - val_loss: 0.0058 - val_accuracy: 0.6000\n",
            "Epoch 429/500\n",
            "107/107 [==============================] - 0s 382us/sample - loss: 0.0017 - accuracy: 0.7383 - val_loss: 0.0060 - val_accuracy: 0.6000\n",
            "Epoch 430/500\n",
            "107/107 [==============================] - 0s 400us/sample - loss: 0.0018 - accuracy: 0.7290 - val_loss: 0.0064 - val_accuracy: 0.6500\n",
            "Epoch 431/500\n",
            "107/107 [==============================] - 0s 375us/sample - loss: 0.0016 - accuracy: 0.7290 - val_loss: 0.0063 - val_accuracy: 0.6000\n",
            "Epoch 432/500\n",
            "107/107 [==============================] - 0s 353us/sample - loss: 0.0018 - accuracy: 0.7477 - val_loss: 0.0059 - val_accuracy: 0.6500\n",
            "Epoch 433/500\n",
            "107/107 [==============================] - 0s 369us/sample - loss: 0.0016 - accuracy: 0.7477 - val_loss: 0.0056 - val_accuracy: 0.6000\n",
            "Epoch 434/500\n",
            "107/107 [==============================] - 0s 350us/sample - loss: 0.0017 - accuracy: 0.7383 - val_loss: 0.0063 - val_accuracy: 0.6500\n",
            "Epoch 435/500\n",
            "107/107 [==============================] - 0s 345us/sample - loss: 0.0016 - accuracy: 0.7477 - val_loss: 0.0058 - val_accuracy: 0.6000\n",
            "Epoch 436/500\n",
            "107/107 [==============================] - 0s 343us/sample - loss: 0.0016 - accuracy: 0.7757 - val_loss: 0.0066 - val_accuracy: 0.6500\n",
            "Epoch 437/500\n",
            "107/107 [==============================] - 0s 360us/sample - loss: 0.0016 - accuracy: 0.7477 - val_loss: 0.0061 - val_accuracy: 0.6000\n",
            "Epoch 438/500\n",
            "107/107 [==============================] - 0s 356us/sample - loss: 0.0016 - accuracy: 0.7570 - val_loss: 0.0064 - val_accuracy: 0.6000\n",
            "Epoch 439/500\n",
            "107/107 [==============================] - 0s 375us/sample - loss: 0.0018 - accuracy: 0.7477 - val_loss: 0.0054 - val_accuracy: 0.6000\n",
            "Epoch 440/500\n",
            "107/107 [==============================] - 0s 359us/sample - loss: 0.0017 - accuracy: 0.7383 - val_loss: 0.0059 - val_accuracy: 0.6000\n",
            "Epoch 441/500\n",
            "107/107 [==============================] - 0s 373us/sample - loss: 0.0018 - accuracy: 0.7477 - val_loss: 0.0057 - val_accuracy: 0.6000\n",
            "Epoch 442/500\n",
            "107/107 [==============================] - 0s 386us/sample - loss: 0.0017 - accuracy: 0.7383 - val_loss: 0.0064 - val_accuracy: 0.6000\n",
            "Epoch 443/500\n",
            "107/107 [==============================] - 0s 350us/sample - loss: 0.0017 - accuracy: 0.7290 - val_loss: 0.0065 - val_accuracy: 0.6000\n",
            "Epoch 444/500\n",
            "107/107 [==============================] - 0s 361us/sample - loss: 0.0020 - accuracy: 0.7196 - val_loss: 0.0069 - val_accuracy: 0.6000\n",
            "Epoch 445/500\n",
            "107/107 [==============================] - 0s 361us/sample - loss: 0.0017 - accuracy: 0.7196 - val_loss: 0.0055 - val_accuracy: 0.6000\n",
            "Epoch 446/500\n",
            "107/107 [==============================] - 0s 314us/sample - loss: 0.0018 - accuracy: 0.7290 - val_loss: 0.0065 - val_accuracy: 0.6000\n",
            "Epoch 447/500\n",
            "107/107 [==============================] - 0s 327us/sample - loss: 0.0017 - accuracy: 0.7196 - val_loss: 0.0056 - val_accuracy: 0.6000\n",
            "Epoch 448/500\n",
            "107/107 [==============================] - 0s 346us/sample - loss: 0.0016 - accuracy: 0.7570 - val_loss: 0.0060 - val_accuracy: 0.6000\n",
            "Epoch 449/500\n",
            "107/107 [==============================] - 0s 438us/sample - loss: 0.0016 - accuracy: 0.7664 - val_loss: 0.0066 - val_accuracy: 0.5500\n",
            "Epoch 450/500\n",
            "107/107 [==============================] - 0s 345us/sample - loss: 0.0019 - accuracy: 0.6822 - val_loss: 0.0060 - val_accuracy: 0.6000\n",
            "Epoch 451/500\n",
            "107/107 [==============================] - 0s 336us/sample - loss: 0.0017 - accuracy: 0.7850 - val_loss: 0.0062 - val_accuracy: 0.6000\n",
            "Epoch 452/500\n",
            "107/107 [==============================] - 0s 313us/sample - loss: 0.0018 - accuracy: 0.7290 - val_loss: 0.0057 - val_accuracy: 0.6500\n",
            "Epoch 453/500\n",
            "107/107 [==============================] - 0s 342us/sample - loss: 0.0016 - accuracy: 0.7944 - val_loss: 0.0061 - val_accuracy: 0.5500\n",
            "Epoch 454/500\n",
            "107/107 [==============================] - 0s 333us/sample - loss: 0.0016 - accuracy: 0.7664 - val_loss: 0.0060 - val_accuracy: 0.6000\n",
            "Epoch 455/500\n",
            "107/107 [==============================] - 0s 350us/sample - loss: 0.0016 - accuracy: 0.7757 - val_loss: 0.0070 - val_accuracy: 0.6000\n",
            "Epoch 456/500\n",
            "107/107 [==============================] - 0s 362us/sample - loss: 0.0016 - accuracy: 0.7383 - val_loss: 0.0057 - val_accuracy: 0.7000\n",
            "Epoch 457/500\n",
            "107/107 [==============================] - 0s 319us/sample - loss: 0.0016 - accuracy: 0.7570 - val_loss: 0.0066 - val_accuracy: 0.6000\n",
            "Epoch 458/500\n",
            "107/107 [==============================] - 0s 325us/sample - loss: 0.0018 - accuracy: 0.7196 - val_loss: 0.0059 - val_accuracy: 0.6500\n",
            "Epoch 459/500\n",
            "107/107 [==============================] - 0s 317us/sample - loss: 0.0018 - accuracy: 0.7664 - val_loss: 0.0071 - val_accuracy: 0.5500\n",
            "Epoch 460/500\n",
            "107/107 [==============================] - 0s 308us/sample - loss: 0.0018 - accuracy: 0.7009 - val_loss: 0.0061 - val_accuracy: 0.6500\n",
            "Epoch 461/500\n",
            "107/107 [==============================] - 0s 311us/sample - loss: 0.0016 - accuracy: 0.7757 - val_loss: 0.0069 - val_accuracy: 0.6000\n",
            "Epoch 462/500\n",
            "107/107 [==============================] - 0s 303us/sample - loss: 0.0017 - accuracy: 0.7290 - val_loss: 0.0061 - val_accuracy: 0.7000\n",
            "Epoch 463/500\n",
            "107/107 [==============================] - 0s 329us/sample - loss: 0.0017 - accuracy: 0.7664 - val_loss: 0.0064 - val_accuracy: 0.6000\n",
            "Epoch 464/500\n",
            "107/107 [==============================] - 0s 299us/sample - loss: 0.0017 - accuracy: 0.7664 - val_loss: 0.0065 - val_accuracy: 0.6500\n",
            "Epoch 465/500\n",
            "107/107 [==============================] - 0s 288us/sample - loss: 0.0015 - accuracy: 0.8037 - val_loss: 0.0061 - val_accuracy: 0.6000\n",
            "Epoch 466/500\n",
            "107/107 [==============================] - 0s 307us/sample - loss: 0.0016 - accuracy: 0.7850 - val_loss: 0.0061 - val_accuracy: 0.6000\n",
            "Epoch 467/500\n",
            "107/107 [==============================] - 0s 300us/sample - loss: 0.0015 - accuracy: 0.7944 - val_loss: 0.0068 - val_accuracy: 0.6000\n",
            "Epoch 468/500\n",
            "107/107 [==============================] - 0s 275us/sample - loss: 0.0017 - accuracy: 0.7383 - val_loss: 0.0062 - val_accuracy: 0.6500\n",
            "Epoch 469/500\n",
            "107/107 [==============================] - 0s 309us/sample - loss: 0.0017 - accuracy: 0.7757 - val_loss: 0.0065 - val_accuracy: 0.6000\n",
            "Epoch 470/500\n",
            "107/107 [==============================] - 0s 319us/sample - loss: 0.0019 - accuracy: 0.7103 - val_loss: 0.0061 - val_accuracy: 0.6500\n",
            "Epoch 471/500\n",
            "107/107 [==============================] - 0s 278us/sample - loss: 0.0017 - accuracy: 0.7570 - val_loss: 0.0060 - val_accuracy: 0.6000\n",
            "Epoch 472/500\n",
            "107/107 [==============================] - 0s 284us/sample - loss: 0.0017 - accuracy: 0.7664 - val_loss: 0.0066 - val_accuracy: 0.6000\n",
            "Epoch 473/500\n",
            "107/107 [==============================] - 0s 302us/sample - loss: 0.0019 - accuracy: 0.7477 - val_loss: 0.0064 - val_accuracy: 0.5000\n",
            "Epoch 474/500\n",
            "107/107 [==============================] - 0s 297us/sample - loss: 0.0016 - accuracy: 0.7290 - val_loss: 0.0060 - val_accuracy: 0.6000\n",
            "Epoch 475/500\n",
            "107/107 [==============================] - 0s 296us/sample - loss: 0.0017 - accuracy: 0.7664 - val_loss: 0.0061 - val_accuracy: 0.6000\n",
            "Epoch 476/500\n",
            "107/107 [==============================] - 0s 330us/sample - loss: 0.0018 - accuracy: 0.7383 - val_loss: 0.0062 - val_accuracy: 0.7000\n",
            "Epoch 477/500\n",
            "107/107 [==============================] - 0s 350us/sample - loss: 0.0017 - accuracy: 0.7290 - val_loss: 0.0062 - val_accuracy: 0.5500\n",
            "Epoch 478/500\n",
            "107/107 [==============================] - 0s 311us/sample - loss: 0.0018 - accuracy: 0.7103 - val_loss: 0.0060 - val_accuracy: 0.6000\n",
            "Epoch 479/500\n",
            "107/107 [==============================] - 0s 300us/sample - loss: 0.0017 - accuracy: 0.7850 - val_loss: 0.0069 - val_accuracy: 0.6000\n",
            "Epoch 480/500\n",
            "107/107 [==============================] - 0s 271us/sample - loss: 0.0017 - accuracy: 0.7477 - val_loss: 0.0058 - val_accuracy: 0.6000\n",
            "Epoch 481/500\n",
            "107/107 [==============================] - 0s 282us/sample - loss: 0.0015 - accuracy: 0.7477 - val_loss: 0.0068 - val_accuracy: 0.5500\n",
            "Epoch 482/500\n",
            "107/107 [==============================] - 0s 282us/sample - loss: 0.0018 - accuracy: 0.7570 - val_loss: 0.0062 - val_accuracy: 0.6000\n",
            "Epoch 483/500\n",
            "107/107 [==============================] - 0s 398us/sample - loss: 0.0017 - accuracy: 0.7570 - val_loss: 0.0061 - val_accuracy: 0.6500\n",
            "Epoch 484/500\n",
            "107/107 [==============================] - 0s 345us/sample - loss: 0.0019 - accuracy: 0.7570 - val_loss: 0.0061 - val_accuracy: 0.6000\n",
            "Epoch 485/500\n",
            "107/107 [==============================] - 0s 321us/sample - loss: 0.0019 - accuracy: 0.7290 - val_loss: 0.0069 - val_accuracy: 0.6000\n",
            "Epoch 486/500\n",
            "107/107 [==============================] - 0s 299us/sample - loss: 0.0019 - accuracy: 0.7664 - val_loss: 0.0074 - val_accuracy: 0.6000\n",
            "Epoch 487/500\n",
            "107/107 [==============================] - 0s 302us/sample - loss: 0.0017 - accuracy: 0.7383 - val_loss: 0.0057 - val_accuracy: 0.6000\n",
            "Epoch 488/500\n",
            "107/107 [==============================] - 0s 293us/sample - loss: 0.0018 - accuracy: 0.7103 - val_loss: 0.0068 - val_accuracy: 0.6000\n",
            "Epoch 489/500\n",
            "107/107 [==============================] - 0s 297us/sample - loss: 0.0021 - accuracy: 0.6822 - val_loss: 0.0063 - val_accuracy: 0.5500\n",
            "Epoch 490/500\n",
            "107/107 [==============================] - 0s 287us/sample - loss: 0.0017 - accuracy: 0.7757 - val_loss: 0.0066 - val_accuracy: 0.6000\n",
            "Epoch 491/500\n",
            "107/107 [==============================] - 0s 300us/sample - loss: 0.0019 - accuracy: 0.7103 - val_loss: 0.0063 - val_accuracy: 0.5000\n",
            "Epoch 492/500\n",
            "107/107 [==============================] - 0s 318us/sample - loss: 0.0015 - accuracy: 0.7664 - val_loss: 0.0062 - val_accuracy: 0.6000\n",
            "Epoch 493/500\n",
            "107/107 [==============================] - 0s 315us/sample - loss: 0.0016 - accuracy: 0.7477 - val_loss: 0.0060 - val_accuracy: 0.5500\n",
            "Epoch 494/500\n",
            "107/107 [==============================] - 0s 309us/sample - loss: 0.0015 - accuracy: 0.7944 - val_loss: 0.0054 - val_accuracy: 0.6000\n",
            "Epoch 495/500\n",
            "107/107 [==============================] - 0s 330us/sample - loss: 0.0016 - accuracy: 0.7383 - val_loss: 0.0063 - val_accuracy: 0.6000\n",
            "Epoch 496/500\n",
            "107/107 [==============================] - 0s 299us/sample - loss: 0.0017 - accuracy: 0.7477 - val_loss: 0.0063 - val_accuracy: 0.6000\n",
            "Epoch 497/500\n",
            "107/107 [==============================] - 0s 308us/sample - loss: 0.0017 - accuracy: 0.7477 - val_loss: 0.0067 - val_accuracy: 0.6000\n",
            "Epoch 498/500\n",
            "107/107 [==============================] - 0s 291us/sample - loss: 0.0016 - accuracy: 0.7477 - val_loss: 0.0063 - val_accuracy: 0.6000\n",
            "Epoch 499/500\n",
            "107/107 [==============================] - 0s 294us/sample - loss: 0.0016 - accuracy: 0.7570 - val_loss: 0.0064 - val_accuracy: 0.5500\n",
            "Epoch 500/500\n",
            "107/107 [==============================] - 0s 366us/sample - loss: 0.0017 - accuracy: 0.7383 - val_loss: 0.0060 - val_accuracy: 0.6000\n"
          ],
          "name": "stdout"
        },
        {
          "output_type": "execute_result",
          "data": {
            "text/plain": [
              "<tensorflow.python.keras.callbacks.History at 0x7f1d6d3e7940>"
            ]
          },
          "metadata": {
            "tags": []
          },
          "execution_count": 74
        }
      ]
    },
    {
      "cell_type": "code",
      "metadata": {
        "id": "p3OJLNwuZxtk",
        "colab_type": "code",
        "outputId": "475bf29b-c0e6-45ad-afb2-595d784bfa82",
        "colab": {
          "base_uri": "https://localhost:8080/",
          "height": 51
        }
      },
      "source": [
        "# Predictions\n",
        "pred_train = model.predict(standardized_X_train) \n",
        "pred_test = model.predict(standardized_X_test)\n",
        "print (f\"sample probability: {pred_test[0]}\")\n",
        "pred_train = np.argmax(pred_train, axis=1)\n",
        "pred_test = np.argmax(pred_test, axis=1)\n",
        "print (f\"sample class: {pred_test[0]}\")"
      ],
      "execution_count": 0,
      "outputs": [
        {
          "output_type": "stream",
          "text": [
            "sample probability: [0.00588787 0.7134166  0.28069556]\n",
            "sample class: 1\n"
          ],
          "name": "stdout"
        }
      ]
    },
    {
      "cell_type": "code",
      "metadata": {
        "id": "bDoiOTgxdgLd",
        "colab_type": "code",
        "outputId": "607c171c-ec66-491f-b019-33941374b986",
        "colab": {
          "base_uri": "https://localhost:8080/",
          "height": 34
        }
      },
      "source": [
        "# Accuracy\n",
        "train_acc = accuracy_score(y_train, pred_train)\n",
        "test_acc = accuracy_score(y_test, pred_test)\n",
        "print (f\"train acc: {train_acc:.2f}, test acc: {test_acc:.2f}\")"
      ],
      "execution_count": 0,
      "outputs": [
        {
          "output_type": "stream",
          "text": [
            "train acc: 0.78, test acc: 0.26\n"
          ],
          "name": "stdout"
        }
      ]
    },
    {
      "cell_type": "code",
      "metadata": {
        "id": "_LU9Wzt0ZxwI",
        "colab_type": "code",
        "outputId": "0f319956-83d3-4ce3-cdf9-b0fe07fb9025",
        "colab": {
          "base_uri": "https://localhost:8080/",
          "height": 476
        }
      },
      "source": [
        "# Classification report\n",
        "plot_confusion_matrix(y_true=y_test, y_pred=pred_test, classes=classes)\n",
        "print (classification_report(y_test, pred_test))"
      ],
      "execution_count": 0,
      "outputs": [
        {
          "output_type": "display_data",
          "data": {
            "image/png": "[encoded data removed]",
            "text/plain": [
              "<Figure size 432x288 with 2 Axes>"
            ]
          },
          "metadata": {
            "tags": []
          }
        },
        {
          "output_type": "stream",
          "text": [
            "              precision    recall  f1-score   support\n",
            "\n",
            "           0       0.50      0.25      0.33         8\n",
            "           1       0.25      0.25      0.25         8\n",
            "           2       0.18      0.29      0.22         7\n",
            "\n",
            "    accuracy                           0.26        23\n",
            "   macro avg       0.31      0.26      0.27        23\n",
            "weighted avg       0.32      0.26      0.27        23\n",
            "\n"
          ],
          "name": "stdout"
        }
      ]
    },
    {
      "cell_type": "code",
      "metadata": {
        "id": "rpSoAEdGWku5",
        "colab_type": "code",
        "outputId": "530074c9-40ad-4899-9ea4-bbdaebfe2d6c",
        "colab": {
          "base_uri": "https://localhost:8080/",
          "height": 336
        }
      },
      "source": [
        "# Visualize the decision boundary\n",
        "plt.figure(figsize=(12,5))\n",
        "plt.subplot(1, 2, 1)\n",
        "plt.title(\"Train\")\n",
        "plot_multiclass_decision_boundary(model=model, X=standardized_X_train, y=y_train)\n",
        "plt.subplot(1, 2, 2)\n",
        "plt.title(\"Test\")\n",
        "plot_multiclass_decision_boundary(model=model, X=standardized_X_test, y=y_test)\n",
        "plt.show()"
      ],
      "execution_count": 0,
      "outputs": [
        {
          "output_type": "display_data",
          "data": {
            "image/png": "[encoded data removed]",
            "text/plain": [
              "<Figure size 864x360 with 2 Axes>"
            ]
          },
          "metadata": {
            "tags": []
          }
        }
      ]
    },
    {
      "cell_type": "markdown",
      "metadata": {
        "id": "yppKnFIL6Vv7",
        "colab_type": "text"
      },
      "source": [
        "It's important that we experiment, starting with simple models that underfit (high bias) and improve it towards a good fit. Starting with simple models (linear/logistic regression) let's us catch errors without the added complexity of more sophisticated models (neural networks). "
      ]
    },
    {
      "cell_type": "markdown",
      "metadata": {
        "id": "WC0m-lMnE4Jp",
        "colab_type": "text"
      },
      "source": [
        "<img src=\"https://raw.githubusercontent.com/practicalAI/images/master/basic_ml/06_Multilayer_Perceptron/fit.png\" width=\"700\">"
      ]
    },
    {
      "cell_type": "markdown",
      "metadata": {
        "id": "xk5RXmKtFfD1",
        "colab_type": "text"
      },
      "source": [
        "---\n",
        "<div align=\"center\">\n",
        "\n",
        "Subscribe to our <a href=\"https://practicalai.me/#newsletter\">newsletter</a> and follow us on social media to get the latest updates!\n",
        "\n",
        "<a class=\"ai-header-badge\" target=\"_blank\" href=\"https://github.com/practicalAI/practicalAI\">\n",
        "              <img src=\"https://img.shields.io/github/stars/practicalAI/practicalAI.svg?style=social&label=Star\"></a>&nbsp;\n",
        "            <a class=\"ai-header-badge\" target=\"_blank\" href=\"https://www.linkedin.com/company/practicalai-me\">\n",
        "              <img src=\"https://img.shields.io/badge/style--5eba00.svg?label=LinkedIn&logo=linkedin&style=social\"></a>&nbsp;\n",
        "            <a class=\"ai-header-badge\" target=\"_blank\" href=\"https://twitter.com/practicalAIme\">\n",
        "              <img src=\"https://img.shields.io/twitter/follow/practicalAIme.svg?label=Follow&style=social\">\n",
        "            </a>\n",
        "              </div>\n",
        "\n",
        "</div>"
      ]
    }
  ]
}