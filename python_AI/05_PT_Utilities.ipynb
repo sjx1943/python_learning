{
 "cells": [
  {
   "cell_type": "markdown",
   "metadata": {
    "colab_type": "text",
    "id": "TrBW0-pg7W4-"
   },
   "source": [
    "# Utilities\n",
    "\n",
    "In this lesson, we will explore useful utilities in PyTorch like [Data Loaders](https://pytorch.org/docs/stable/data.html), [LR Schedulers](https://pytorch.org/docs/stable/optim.html#how-to-adjust-learning-rate), Model Checkpoints, Early Stopping, [TensorBoard](https://www.tensorflow.org/tensorboard) and hyperparameter tuning."
   ]
  },
  {
   "cell_type": "markdown",
   "metadata": {
    "colab_type": "text",
    "id": "xuabAj4PYj57"
   },
   "source": [
    "<div align=\"left\">\n",
    "<a href=\"https://github.com/madewithml/lessons/blob/master/notebooks/02_Basics/05_Utilities/05_PT_Utilities.ipynb\" role=\"button\"><img class=\"notebook-badge-image\" src=\"https://img.shields.io/static/v1?label=&amp;message=View%20On%20GitHub&amp;color=586069&amp;logo=github&amp;labelColor=2f363d\"></a>&nbsp;\n",
    "<a href=\"https://colab.research.google.com/github/madewithml/lessons/blob/master/notebooks/02_Basics/05_Utilities/05_PT_Utilities.ipynb\"><img class=\"notebook-badge-image\" src=\"https://colab.research.google.com/assets/colab-badge.svg\" alt=\"Open In Colab\"></a>\n",
    "</div>"
   ]
  },
  {
   "cell_type": "markdown",
   "metadata": {
    "colab_type": "text",
    "id": "Cq81DUu57fA7"
   },
   "source": [
    "# Overview"
   ]
  },
  {
   "cell_type": "markdown",
   "metadata": {
    "colab_type": "text",
    "id": "JqxyljU18hvt"
   },
   "source": [
    "* **Data Loaders**: create custom datasets and loaders to use during training.\n",
    "* **LR Schedulers**: adjust the learning rate while training.\n",
    "* **Model Checkpoints**: saving our model when a certain performance metric (ex. validation loss) improves.\n",
    "* **Early Stopping**: ending training early if a certain metric (ex. validation loss) get worse for a certain # number of epochs. \n",
    "* **TensorBoard**: tool to visualize metrics, weights, gradients, model architecture, hyperparameter optimization, etc.\n",
    "* **Hyperparameter tuning**: experimenting with different hyperparameter to see what combination yields the best validation performance."
   ]
  },
  {
   "cell_type": "markdown",
   "metadata": {
    "colab_type": "text",
    "id": "ojMlImKrkj2O"
   },
   "source": [
    "# Data"
   ]
  },
  {
   "cell_type": "markdown",
   "metadata": {
    "colab_type": "text",
    "id": "XS_MtCM4VvnX"
   },
   "source": [
    "## Load data"
   ]
  },
  {
   "cell_type": "markdown",
   "metadata": {
    "colab_type": "text",
    "id": "X3OrtMpFayFC"
   },
   "source": [
    "Let's download and process our non-linear spiral data for a classification task."
   ]
  },
  {
   "cell_type": "code",
   "execution_count": 1,
   "metadata": {
    "colab": {},
    "colab_type": "code",
    "id": "9NfIz_4OPYpG"
   },
   "outputs": [],
   "source": [
    "import matplotlib.pyplot as plt\n",
    "import numpy as np\n",
    "import pandas as pd\n",
    "import urllib"
   ]
  },
  {
   "cell_type": "code",
   "execution_count": 2,
   "metadata": {
    "colab": {},
    "colab_type": "code",
    "id": "VHToXXKGSy7o"
   },
   "outputs": [],
   "source": [
    "SEED = 1234\n",
    "DATA_FILE = \"spiral.csv\""
   ]
  },
  {
   "cell_type": "code",
   "execution_count": 3,
   "metadata": {
    "colab": {},
    "colab_type": "code",
    "id": "NVG7fcLZS0y0"
   },
   "outputs": [],
   "source": [
    "# Set seed for reproducibility\n",
    "np.random.seed(SEED)"
   ]
  },
  {
   "cell_type": "code",
   "execution_count": 13,
   "metadata": {
    "colab": {},
    "colab_type": "code",
    "id": "q14QCqKxUS2v"
   },
   "outputs": [
    {
     "ename": "URLError",
     "evalue": "<urlopen error [Errno 61] Connection refused>",
     "output_type": "error",
     "traceback": [
      "\u001b[0;31m---------------------------------------------------------------------------\u001b[0m",
      "\u001b[0;31mConnectionRefusedError\u001b[0m                    Traceback (most recent call last)",
      "\u001b[0;32m~/anaconda3/lib/python3.7/urllib/request.py\u001b[0m in \u001b[0;36mdo_open\u001b[0;34m(self, http_class, req, **http_conn_args)\u001b[0m\n\u001b[1;32m   1318\u001b[0m                 h.request(req.get_method(), req.selector, req.data, headers,\n\u001b[0;32m-> 1319\u001b[0;31m                           encode_chunked=req.has_header('Transfer-encoding'))\n\u001b[0m\u001b[1;32m   1320\u001b[0m             \u001b[0;32mexcept\u001b[0m \u001b[0mOSError\u001b[0m \u001b[0;32mas\u001b[0m \u001b[0merr\u001b[0m\u001b[0;34m:\u001b[0m \u001b[0;31m# timeout error\u001b[0m\u001b[0;34m\u001b[0m\u001b[0;34m\u001b[0m\u001b[0m\n",
      "\u001b[0;32m~/anaconda3/lib/python3.7/http/client.py\u001b[0m in \u001b[0;36mrequest\u001b[0;34m(self, method, url, body, headers, encode_chunked)\u001b[0m\n\u001b[1;32m   1251\u001b[0m         \u001b[0;34m\"\"\"Send a complete request to the server.\"\"\"\u001b[0m\u001b[0;34m\u001b[0m\u001b[0;34m\u001b[0m\u001b[0m\n\u001b[0;32m-> 1252\u001b[0;31m         \u001b[0mself\u001b[0m\u001b[0;34m.\u001b[0m\u001b[0m_send_request\u001b[0m\u001b[0;34m(\u001b[0m\u001b[0mmethod\u001b[0m\u001b[0;34m,\u001b[0m \u001b[0murl\u001b[0m\u001b[0;34m,\u001b[0m \u001b[0mbody\u001b[0m\u001b[0;34m,\u001b[0m \u001b[0mheaders\u001b[0m\u001b[0;34m,\u001b[0m \u001b[0mencode_chunked\u001b[0m\u001b[0;34m)\u001b[0m\u001b[0;34m\u001b[0m\u001b[0;34m\u001b[0m\u001b[0m\n\u001b[0m\u001b[1;32m   1253\u001b[0m \u001b[0;34m\u001b[0m\u001b[0m\n",
      "\u001b[0;32m~/anaconda3/lib/python3.7/http/client.py\u001b[0m in \u001b[0;36m_send_request\u001b[0;34m(self, method, url, body, headers, encode_chunked)\u001b[0m\n\u001b[1;32m   1297\u001b[0m             \u001b[0mbody\u001b[0m \u001b[0;34m=\u001b[0m \u001b[0m_encode\u001b[0m\u001b[0;34m(\u001b[0m\u001b[0mbody\u001b[0m\u001b[0;34m,\u001b[0m \u001b[0;34m'body'\u001b[0m\u001b[0;34m)\u001b[0m\u001b[0;34m\u001b[0m\u001b[0;34m\u001b[0m\u001b[0m\n\u001b[0;32m-> 1298\u001b[0;31m         \u001b[0mself\u001b[0m\u001b[0;34m.\u001b[0m\u001b[0mendheaders\u001b[0m\u001b[0;34m(\u001b[0m\u001b[0mbody\u001b[0m\u001b[0;34m,\u001b[0m \u001b[0mencode_chunked\u001b[0m\u001b[0;34m=\u001b[0m\u001b[0mencode_chunked\u001b[0m\u001b[0;34m)\u001b[0m\u001b[0;34m\u001b[0m\u001b[0;34m\u001b[0m\u001b[0m\n\u001b[0m\u001b[1;32m   1299\u001b[0m \u001b[0;34m\u001b[0m\u001b[0m\n",
      "\u001b[0;32m~/anaconda3/lib/python3.7/http/client.py\u001b[0m in \u001b[0;36mendheaders\u001b[0;34m(self, message_body, encode_chunked)\u001b[0m\n\u001b[1;32m   1246\u001b[0m             \u001b[0;32mraise\u001b[0m \u001b[0mCannotSendHeader\u001b[0m\u001b[0;34m(\u001b[0m\u001b[0;34m)\u001b[0m\u001b[0;34m\u001b[0m\u001b[0;34m\u001b[0m\u001b[0m\n\u001b[0;32m-> 1247\u001b[0;31m         \u001b[0mself\u001b[0m\u001b[0;34m.\u001b[0m\u001b[0m_send_output\u001b[0m\u001b[0;34m(\u001b[0m\u001b[0mmessage_body\u001b[0m\u001b[0;34m,\u001b[0m \u001b[0mencode_chunked\u001b[0m\u001b[0;34m=\u001b[0m\u001b[0mencode_chunked\u001b[0m\u001b[0;34m)\u001b[0m\u001b[0;34m\u001b[0m\u001b[0;34m\u001b[0m\u001b[0m\n\u001b[0m\u001b[1;32m   1248\u001b[0m \u001b[0;34m\u001b[0m\u001b[0m\n",
      "\u001b[0;32m~/anaconda3/lib/python3.7/http/client.py\u001b[0m in \u001b[0;36m_send_output\u001b[0;34m(self, message_body, encode_chunked)\u001b[0m\n\u001b[1;32m   1025\u001b[0m         \u001b[0;32mdel\u001b[0m \u001b[0mself\u001b[0m\u001b[0;34m.\u001b[0m\u001b[0m_buffer\u001b[0m\u001b[0;34m[\u001b[0m\u001b[0;34m:\u001b[0m\u001b[0;34m]\u001b[0m\u001b[0;34m\u001b[0m\u001b[0;34m\u001b[0m\u001b[0m\n\u001b[0;32m-> 1026\u001b[0;31m         \u001b[0mself\u001b[0m\u001b[0;34m.\u001b[0m\u001b[0msend\u001b[0m\u001b[0;34m(\u001b[0m\u001b[0mmsg\u001b[0m\u001b[0;34m)\u001b[0m\u001b[0;34m\u001b[0m\u001b[0;34m\u001b[0m\u001b[0m\n\u001b[0m\u001b[1;32m   1027\u001b[0m \u001b[0;34m\u001b[0m\u001b[0m\n",
      "\u001b[0;32m~/anaconda3/lib/python3.7/http/client.py\u001b[0m in \u001b[0;36msend\u001b[0;34m(self, data)\u001b[0m\n\u001b[1;32m    965\u001b[0m             \u001b[0;32mif\u001b[0m \u001b[0mself\u001b[0m\u001b[0;34m.\u001b[0m\u001b[0mauto_open\u001b[0m\u001b[0;34m:\u001b[0m\u001b[0;34m\u001b[0m\u001b[0;34m\u001b[0m\u001b[0m\n\u001b[0;32m--> 966\u001b[0;31m                 \u001b[0mself\u001b[0m\u001b[0;34m.\u001b[0m\u001b[0mconnect\u001b[0m\u001b[0;34m(\u001b[0m\u001b[0;34m)\u001b[0m\u001b[0;34m\u001b[0m\u001b[0;34m\u001b[0m\u001b[0m\n\u001b[0m\u001b[1;32m    967\u001b[0m             \u001b[0;32melse\u001b[0m\u001b[0;34m:\u001b[0m\u001b[0;34m\u001b[0m\u001b[0;34m\u001b[0m\u001b[0m\n",
      "\u001b[0;32m~/anaconda3/lib/python3.7/http/client.py\u001b[0m in \u001b[0;36mconnect\u001b[0;34m(self)\u001b[0m\n\u001b[1;32m   1413\u001b[0m \u001b[0;34m\u001b[0m\u001b[0m\n\u001b[0;32m-> 1414\u001b[0;31m             \u001b[0msuper\u001b[0m\u001b[0;34m(\u001b[0m\u001b[0;34m)\u001b[0m\u001b[0;34m.\u001b[0m\u001b[0mconnect\u001b[0m\u001b[0;34m(\u001b[0m\u001b[0;34m)\u001b[0m\u001b[0;34m\u001b[0m\u001b[0;34m\u001b[0m\u001b[0m\n\u001b[0m\u001b[1;32m   1415\u001b[0m \u001b[0;34m\u001b[0m\u001b[0m\n",
      "\u001b[0;32m~/anaconda3/lib/python3.7/http/client.py\u001b[0m in \u001b[0;36mconnect\u001b[0;34m(self)\u001b[0m\n\u001b[1;32m    937\u001b[0m         self.sock = self._create_connection(\n\u001b[0;32m--> 938\u001b[0;31m             (self.host,self.port), self.timeout, self.source_address)\n\u001b[0m\u001b[1;32m    939\u001b[0m         \u001b[0mself\u001b[0m\u001b[0;34m.\u001b[0m\u001b[0msock\u001b[0m\u001b[0;34m.\u001b[0m\u001b[0msetsockopt\u001b[0m\u001b[0;34m(\u001b[0m\u001b[0msocket\u001b[0m\u001b[0;34m.\u001b[0m\u001b[0mIPPROTO_TCP\u001b[0m\u001b[0;34m,\u001b[0m \u001b[0msocket\u001b[0m\u001b[0;34m.\u001b[0m\u001b[0mTCP_NODELAY\u001b[0m\u001b[0;34m,\u001b[0m \u001b[0;36m1\u001b[0m\u001b[0;34m)\u001b[0m\u001b[0;34m\u001b[0m\u001b[0;34m\u001b[0m\u001b[0m\n",
      "\u001b[0;32m~/anaconda3/lib/python3.7/socket.py\u001b[0m in \u001b[0;36mcreate_connection\u001b[0;34m(address, timeout, source_address)\u001b[0m\n\u001b[1;32m    727\u001b[0m         \u001b[0;32mtry\u001b[0m\u001b[0;34m:\u001b[0m\u001b[0;34m\u001b[0m\u001b[0;34m\u001b[0m\u001b[0m\n\u001b[0;32m--> 728\u001b[0;31m             \u001b[0;32mraise\u001b[0m \u001b[0merr\u001b[0m\u001b[0;34m\u001b[0m\u001b[0;34m\u001b[0m\u001b[0m\n\u001b[0m\u001b[1;32m    729\u001b[0m         \u001b[0;32mfinally\u001b[0m\u001b[0;34m:\u001b[0m\u001b[0;34m\u001b[0m\u001b[0;34m\u001b[0m\u001b[0m\n",
      "\u001b[0;32m~/anaconda3/lib/python3.7/socket.py\u001b[0m in \u001b[0;36mcreate_connection\u001b[0;34m(address, timeout, source_address)\u001b[0m\n\u001b[1;32m    715\u001b[0m                 \u001b[0msock\u001b[0m\u001b[0;34m.\u001b[0m\u001b[0mbind\u001b[0m\u001b[0;34m(\u001b[0m\u001b[0msource_address\u001b[0m\u001b[0;34m)\u001b[0m\u001b[0;34m\u001b[0m\u001b[0;34m\u001b[0m\u001b[0m\n\u001b[0;32m--> 716\u001b[0;31m             \u001b[0msock\u001b[0m\u001b[0;34m.\u001b[0m\u001b[0mconnect\u001b[0m\u001b[0;34m(\u001b[0m\u001b[0msa\u001b[0m\u001b[0;34m)\u001b[0m\u001b[0;34m\u001b[0m\u001b[0;34m\u001b[0m\u001b[0m\n\u001b[0m\u001b[1;32m    717\u001b[0m             \u001b[0;31m# Break explicitly a reference cycle\u001b[0m\u001b[0;34m\u001b[0m\u001b[0;34m\u001b[0m\u001b[0;34m\u001b[0m\u001b[0m\n",
      "\u001b[0;31mConnectionRefusedError\u001b[0m: [Errno 61] Connection refused",
      "\nDuring handling of the above exception, another exception occurred:\n",
      "\u001b[0;31mURLError\u001b[0m                                  Traceback (most recent call last)",
      "\u001b[0;32m<ipython-input-13-95b6fa4f4d5d>\u001b[0m in \u001b[0;36m<module>\u001b[0;34m\u001b[0m\n\u001b[1;32m      1\u001b[0m \u001b[0;31m# Load data from GitHub to this notebook's local drive\u001b[0m\u001b[0;34m\u001b[0m\u001b[0;34m\u001b[0m\u001b[0;34m\u001b[0m\u001b[0m\n\u001b[1;32m      2\u001b[0m \u001b[0murl\u001b[0m \u001b[0;34m=\u001b[0m \u001b[0;34m\"https://raw.githubusercontent.com/madewithml/lessons/master/data/spiral.csv\"\u001b[0m\u001b[0;34m\u001b[0m\u001b[0;34m\u001b[0m\u001b[0m\n\u001b[0;32m----> 3\u001b[0;31m \u001b[0mresponse\u001b[0m \u001b[0;34m=\u001b[0m \u001b[0murllib\u001b[0m\u001b[0;34m.\u001b[0m\u001b[0mrequest\u001b[0m\u001b[0;34m.\u001b[0m\u001b[0murlopen\u001b[0m\u001b[0;34m(\u001b[0m\u001b[0murl\u001b[0m\u001b[0;34m)\u001b[0m\u001b[0;34m\u001b[0m\u001b[0;34m\u001b[0m\u001b[0m\n\u001b[0m\u001b[1;32m      4\u001b[0m \u001b[0mhtml\u001b[0m \u001b[0;34m=\u001b[0m \u001b[0mresponse\u001b[0m\u001b[0;34m.\u001b[0m\u001b[0mread\u001b[0m\u001b[0;34m(\u001b[0m\u001b[0;34m)\u001b[0m\u001b[0;34m\u001b[0m\u001b[0;34m\u001b[0m\u001b[0m\n\u001b[1;32m      5\u001b[0m \u001b[0;32mwith\u001b[0m \u001b[0mopen\u001b[0m\u001b[0;34m(\u001b[0m\u001b[0mDATA_FILE\u001b[0m\u001b[0;34m,\u001b[0m \u001b[0;34m'wb'\u001b[0m\u001b[0;34m)\u001b[0m \u001b[0;32mas\u001b[0m \u001b[0mfp\u001b[0m\u001b[0;34m:\u001b[0m\u001b[0;34m\u001b[0m\u001b[0;34m\u001b[0m\u001b[0m\n",
      "\u001b[0;32m~/anaconda3/lib/python3.7/urllib/request.py\u001b[0m in \u001b[0;36murlopen\u001b[0;34m(url, data, timeout, cafile, capath, cadefault, context)\u001b[0m\n\u001b[1;32m    220\u001b[0m     \u001b[0;32melse\u001b[0m\u001b[0;34m:\u001b[0m\u001b[0;34m\u001b[0m\u001b[0;34m\u001b[0m\u001b[0m\n\u001b[1;32m    221\u001b[0m         \u001b[0mopener\u001b[0m \u001b[0;34m=\u001b[0m \u001b[0m_opener\u001b[0m\u001b[0;34m\u001b[0m\u001b[0;34m\u001b[0m\u001b[0m\n\u001b[0;32m--> 222\u001b[0;31m     \u001b[0;32mreturn\u001b[0m \u001b[0mopener\u001b[0m\u001b[0;34m.\u001b[0m\u001b[0mopen\u001b[0m\u001b[0;34m(\u001b[0m\u001b[0murl\u001b[0m\u001b[0;34m,\u001b[0m \u001b[0mdata\u001b[0m\u001b[0;34m,\u001b[0m \u001b[0mtimeout\u001b[0m\u001b[0;34m)\u001b[0m\u001b[0;34m\u001b[0m\u001b[0;34m\u001b[0m\u001b[0m\n\u001b[0m\u001b[1;32m    223\u001b[0m \u001b[0;34m\u001b[0m\u001b[0m\n\u001b[1;32m    224\u001b[0m \u001b[0;32mdef\u001b[0m \u001b[0minstall_opener\u001b[0m\u001b[0;34m(\u001b[0m\u001b[0mopener\u001b[0m\u001b[0;34m)\u001b[0m\u001b[0;34m:\u001b[0m\u001b[0;34m\u001b[0m\u001b[0;34m\u001b[0m\u001b[0m\n",
      "\u001b[0;32m~/anaconda3/lib/python3.7/urllib/request.py\u001b[0m in \u001b[0;36mopen\u001b[0;34m(self, fullurl, data, timeout)\u001b[0m\n\u001b[1;32m    523\u001b[0m             \u001b[0mreq\u001b[0m \u001b[0;34m=\u001b[0m \u001b[0mmeth\u001b[0m\u001b[0;34m(\u001b[0m\u001b[0mreq\u001b[0m\u001b[0;34m)\u001b[0m\u001b[0;34m\u001b[0m\u001b[0;34m\u001b[0m\u001b[0m\n\u001b[1;32m    524\u001b[0m \u001b[0;34m\u001b[0m\u001b[0m\n\u001b[0;32m--> 525\u001b[0;31m         \u001b[0mresponse\u001b[0m \u001b[0;34m=\u001b[0m \u001b[0mself\u001b[0m\u001b[0;34m.\u001b[0m\u001b[0m_open\u001b[0m\u001b[0;34m(\u001b[0m\u001b[0mreq\u001b[0m\u001b[0;34m,\u001b[0m \u001b[0mdata\u001b[0m\u001b[0;34m)\u001b[0m\u001b[0;34m\u001b[0m\u001b[0;34m\u001b[0m\u001b[0m\n\u001b[0m\u001b[1;32m    526\u001b[0m \u001b[0;34m\u001b[0m\u001b[0m\n\u001b[1;32m    527\u001b[0m         \u001b[0;31m# post-process response\u001b[0m\u001b[0;34m\u001b[0m\u001b[0;34m\u001b[0m\u001b[0;34m\u001b[0m\u001b[0m\n",
      "\u001b[0;32m~/anaconda3/lib/python3.7/urllib/request.py\u001b[0m in \u001b[0;36m_open\u001b[0;34m(self, req, data)\u001b[0m\n\u001b[1;32m    541\u001b[0m         \u001b[0mprotocol\u001b[0m \u001b[0;34m=\u001b[0m \u001b[0mreq\u001b[0m\u001b[0;34m.\u001b[0m\u001b[0mtype\u001b[0m\u001b[0;34m\u001b[0m\u001b[0;34m\u001b[0m\u001b[0m\n\u001b[1;32m    542\u001b[0m         result = self._call_chain(self.handle_open, protocol, protocol +\n\u001b[0;32m--> 543\u001b[0;31m                                   '_open', req)\n\u001b[0m\u001b[1;32m    544\u001b[0m         \u001b[0;32mif\u001b[0m \u001b[0mresult\u001b[0m\u001b[0;34m:\u001b[0m\u001b[0;34m\u001b[0m\u001b[0;34m\u001b[0m\u001b[0m\n\u001b[1;32m    545\u001b[0m             \u001b[0;32mreturn\u001b[0m \u001b[0mresult\u001b[0m\u001b[0;34m\u001b[0m\u001b[0;34m\u001b[0m\u001b[0m\n",
      "\u001b[0;32m~/anaconda3/lib/python3.7/urllib/request.py\u001b[0m in \u001b[0;36m_call_chain\u001b[0;34m(self, chain, kind, meth_name, *args)\u001b[0m\n\u001b[1;32m    501\u001b[0m         \u001b[0;32mfor\u001b[0m \u001b[0mhandler\u001b[0m \u001b[0;32min\u001b[0m \u001b[0mhandlers\u001b[0m\u001b[0;34m:\u001b[0m\u001b[0;34m\u001b[0m\u001b[0;34m\u001b[0m\u001b[0m\n\u001b[1;32m    502\u001b[0m             \u001b[0mfunc\u001b[0m \u001b[0;34m=\u001b[0m \u001b[0mgetattr\u001b[0m\u001b[0;34m(\u001b[0m\u001b[0mhandler\u001b[0m\u001b[0;34m,\u001b[0m \u001b[0mmeth_name\u001b[0m\u001b[0;34m)\u001b[0m\u001b[0;34m\u001b[0m\u001b[0;34m\u001b[0m\u001b[0m\n\u001b[0;32m--> 503\u001b[0;31m             \u001b[0mresult\u001b[0m \u001b[0;34m=\u001b[0m \u001b[0mfunc\u001b[0m\u001b[0;34m(\u001b[0m\u001b[0;34m*\u001b[0m\u001b[0margs\u001b[0m\u001b[0;34m)\u001b[0m\u001b[0;34m\u001b[0m\u001b[0;34m\u001b[0m\u001b[0m\n\u001b[0m\u001b[1;32m    504\u001b[0m             \u001b[0;32mif\u001b[0m \u001b[0mresult\u001b[0m \u001b[0;32mis\u001b[0m \u001b[0;32mnot\u001b[0m \u001b[0;32mNone\u001b[0m\u001b[0;34m:\u001b[0m\u001b[0;34m\u001b[0m\u001b[0;34m\u001b[0m\u001b[0m\n\u001b[1;32m    505\u001b[0m                 \u001b[0;32mreturn\u001b[0m \u001b[0mresult\u001b[0m\u001b[0;34m\u001b[0m\u001b[0;34m\u001b[0m\u001b[0m\n",
      "\u001b[0;32m~/anaconda3/lib/python3.7/urllib/request.py\u001b[0m in \u001b[0;36mhttps_open\u001b[0;34m(self, req)\u001b[0m\n\u001b[1;32m   1360\u001b[0m         \u001b[0;32mdef\u001b[0m \u001b[0mhttps_open\u001b[0m\u001b[0;34m(\u001b[0m\u001b[0mself\u001b[0m\u001b[0;34m,\u001b[0m \u001b[0mreq\u001b[0m\u001b[0;34m)\u001b[0m\u001b[0;34m:\u001b[0m\u001b[0;34m\u001b[0m\u001b[0;34m\u001b[0m\u001b[0m\n\u001b[1;32m   1361\u001b[0m             return self.do_open(http.client.HTTPSConnection, req,\n\u001b[0;32m-> 1362\u001b[0;31m                 context=self._context, check_hostname=self._check_hostname)\n\u001b[0m\u001b[1;32m   1363\u001b[0m \u001b[0;34m\u001b[0m\u001b[0m\n\u001b[1;32m   1364\u001b[0m         \u001b[0mhttps_request\u001b[0m \u001b[0;34m=\u001b[0m \u001b[0mAbstractHTTPHandler\u001b[0m\u001b[0;34m.\u001b[0m\u001b[0mdo_request_\u001b[0m\u001b[0;34m\u001b[0m\u001b[0;34m\u001b[0m\u001b[0m\n",
      "\u001b[0;32m~/anaconda3/lib/python3.7/urllib/request.py\u001b[0m in \u001b[0;36mdo_open\u001b[0;34m(self, http_class, req, **http_conn_args)\u001b[0m\n\u001b[1;32m   1319\u001b[0m                           encode_chunked=req.has_header('Transfer-encoding'))\n\u001b[1;32m   1320\u001b[0m             \u001b[0;32mexcept\u001b[0m \u001b[0mOSError\u001b[0m \u001b[0;32mas\u001b[0m \u001b[0merr\u001b[0m\u001b[0;34m:\u001b[0m \u001b[0;31m# timeout error\u001b[0m\u001b[0;34m\u001b[0m\u001b[0;34m\u001b[0m\u001b[0m\n\u001b[0;32m-> 1321\u001b[0;31m                 \u001b[0;32mraise\u001b[0m \u001b[0mURLError\u001b[0m\u001b[0;34m(\u001b[0m\u001b[0merr\u001b[0m\u001b[0;34m)\u001b[0m\u001b[0;34m\u001b[0m\u001b[0;34m\u001b[0m\u001b[0m\n\u001b[0m\u001b[1;32m   1322\u001b[0m             \u001b[0mr\u001b[0m \u001b[0;34m=\u001b[0m \u001b[0mh\u001b[0m\u001b[0;34m.\u001b[0m\u001b[0mgetresponse\u001b[0m\u001b[0;34m(\u001b[0m\u001b[0;34m)\u001b[0m\u001b[0;34m\u001b[0m\u001b[0;34m\u001b[0m\u001b[0m\n\u001b[1;32m   1323\u001b[0m         \u001b[0;32mexcept\u001b[0m\u001b[0;34m:\u001b[0m\u001b[0;34m\u001b[0m\u001b[0;34m\u001b[0m\u001b[0m\n",
      "\u001b[0;31mURLError\u001b[0m: <urlopen error [Errno 61] Connection refused>"
     ]
    }
   ],
   "source": [
    "# Load data from GitHub to this notebook's local drive\n",
    "url = \"https://raw.githubusercontent.com/madewithml/lessons/master/data/spiral.csv\"\n",
    "response = urllib.request.urlopen(url)\n",
    "html = response.read()\n",
    "with open(DATA_FILE, 'wb') as fp:\n",
    "    fp.write(html)"
   ]
  },
  {
   "cell_type": "code",
   "execution_count": 14,
   "metadata": {
    "colab": {
     "base_uri": "https://localhost:8080/",
     "height": 204
    },
    "colab_type": "code",
    "id": "qkmi0OWoUvZR",
    "outputId": "6b7cff1c-ac74-4f5c-ee34-196ef6f166e0"
   },
   "outputs": [
    {
     "data": {
      "text/html": [
       "<div>\n",
       "<style scoped>\n",
       "    .dataframe tbody tr th:only-of-type {\n",
       "        vertical-align: middle;\n",
       "    }\n",
       "\n",
       "    .dataframe tbody tr th {\n",
       "        vertical-align: top;\n",
       "    }\n",
       "\n",
       "    .dataframe thead th {\n",
       "        text-align: right;\n",
       "    }\n",
       "</style>\n",
       "<table border=\"1\" class=\"dataframe\">\n",
       "  <thead>\n",
       "    <tr style=\"text-align: right;\">\n",
       "      <th></th>\n",
       "      <th>X1</th>\n",
       "      <th>X2</th>\n",
       "      <th>color</th>\n",
       "    </tr>\n",
       "  </thead>\n",
       "  <tbody>\n",
       "    <tr>\n",
       "      <th>0</th>\n",
       "      <td>0.000000</td>\n",
       "      <td>0.000000</td>\n",
       "      <td>c1</td>\n",
       "    </tr>\n",
       "    <tr>\n",
       "      <th>1</th>\n",
       "      <td>-0.000457</td>\n",
       "      <td>0.001951</td>\n",
       "      <td>c1</td>\n",
       "    </tr>\n",
       "    <tr>\n",
       "      <th>2</th>\n",
       "      <td>0.001194</td>\n",
       "      <td>0.003826</td>\n",
       "      <td>c1</td>\n",
       "    </tr>\n",
       "    <tr>\n",
       "      <th>3</th>\n",
       "      <td>-0.000231</td>\n",
       "      <td>0.006008</td>\n",
       "      <td>c1</td>\n",
       "    </tr>\n",
       "    <tr>\n",
       "      <th>4</th>\n",
       "      <td>-0.000896</td>\n",
       "      <td>0.007966</td>\n",
       "      <td>c1</td>\n",
       "    </tr>\n",
       "  </tbody>\n",
       "</table>\n",
       "</div>"
      ],
      "text/plain": [
       "         X1        X2 color\n",
       "0  0.000000  0.000000    c1\n",
       "1 -0.000457  0.001951    c1\n",
       "2  0.001194  0.003826    c1\n",
       "3 -0.000231  0.006008    c1\n",
       "4 -0.000896  0.007966    c1"
      ]
     },
     "execution_count": 14,
     "metadata": {},
     "output_type": "execute_result"
    }
   ],
   "source": [
    "# Load data\n",
    "df = pd.read_csv('spiral.csv', header=0)\n",
    "X = df[['X1', 'X2']].values\n",
    "y = df['color'].values\n",
    "df.head(5)"
   ]
  },
  {
   "cell_type": "code",
   "execution_count": 15,
   "metadata": {
    "colab": {
     "base_uri": "https://localhost:8080/",
     "height": 51
    },
    "colab_type": "code",
    "id": "u1O_0HG3VP-g",
    "outputId": "1e9f2e3c-5dd3-43c1-a18f-b8aa4f94c4b7"
   },
   "outputs": [
    {
     "name": "stdout",
     "output_type": "stream",
     "text": [
      "X:  (1500, 2)\n",
      "y:  (1500,)\n"
     ]
    }
   ],
   "source": [
    "print (\"X: \", np.shape(X))\n",
    "print (\"y: \", np.shape(y))"
   ]
  },
  {
   "cell_type": "code",
   "execution_count": 16,
   "metadata": {
    "colab": {
     "base_uri": "https://localhost:8080/",
     "height": 281
    },
    "colab_type": "code",
    "id": "jgVjStv8VnX2",
    "outputId": "4f37703d-fda9-4287-955f-5fc659de7dc3"
   },
   "outputs": [
    {
     "data": {
      "image/png": "[encoded data removed]",
      "text/plain": [
       "<Figure size 432x288 with 1 Axes>"
      ]
     },
     "metadata": {
      "needs_background": "light"
     },
     "output_type": "display_data"
    }
   ],
   "source": [
    "# Visualize data\n",
    "plt.title(\"Generated non-linear data\")\n",
    "colors = {'c1': 'red', 'c2': 'yellow', 'c3': 'blue'}\n",
    "plt.scatter(X[:, 0], X[:, 1], c=[colors[_y] for _y in y], edgecolors='k', s=25)\n",
    "plt.show()"
   ]
  },
  {
   "cell_type": "markdown",
   "metadata": {
    "colab_type": "text",
    "id": "KOBvDZMjVskA"
   },
   "source": [
    "## Split data"
   ]
  },
  {
   "cell_type": "code",
   "execution_count": 17,
   "metadata": {
    "colab": {},
    "colab_type": "code",
    "id": "x69eRj2CXcqO"
   },
   "outputs": [],
   "source": [
    "import collections\n",
    "from sklearn.model_selection import train_test_split"
   ]
  },
  {
   "cell_type": "code",
   "execution_count": 18,
   "metadata": {
    "colab": {},
    "colab_type": "code",
    "id": "19wiklNCS7rn"
   },
   "outputs": [],
   "source": [
    "TRAIN_SIZE = 0.7\n",
    "VAL_SIZE = 0.15\n",
    "TEST_SIZE = 0.15\n",
    "SHUFFLE = True"
   ]
  },
  {
   "cell_type": "code",
   "execution_count": 19,
   "metadata": {
    "colab": {},
    "colab_type": "code",
    "id": "2OfwXCsdPlds"
   },
   "outputs": [],
   "source": [
    "def train_val_test_split(X, y, val_size, test_size, shuffle):\n",
    "    \"\"\"Split data into train/val/test datasets.\n",
    "    \"\"\"\n",
    "    X_train, X_test, y_train, y_test = train_test_split(\n",
    "        X, y, test_size=test_size, stratify=y, shuffle=shuffle)\n",
    "    X_train, X_val, y_train, y_val = train_test_split(\n",
    "        X_train, y_train, test_size=val_size, stratify=y_train, shuffle=shuffle)\n",
    "    return X_train, X_val, X_test, y_train, y_val, y_test"
   ]
  },
  {
   "cell_type": "code",
   "execution_count": 20,
   "metadata": {
    "colab": {
     "base_uri": "https://localhost:8080/",
     "height": 102
    },
    "colab_type": "code",
    "id": "gGFqcqTDXhkl",
    "outputId": "8fd0a66c-8b6e-498e-ad93-a1083b3eb0ec"
   },
   "outputs": [
    {
     "name": "stdout",
     "output_type": "stream",
     "text": [
      "X_train: (1083, 2), y_train: (1083,)\n",
      "X_val: (192, 2), y_val: (192,)\n",
      "X_test: (225, 2), y_test: (225,)\n",
      "Sample point: [ 0.23623443 -0.59618506] → c1\n",
      "Classes: {'c1': 500, 'c3': 500, 'c2': 500}\n"
     ]
    }
   ],
   "source": [
    "# Create data splits\n",
    "X_train, X_val, X_test, y_train, y_val, y_test = train_val_test_split(\n",
    "    X=X, y=y, val_size=VAL_SIZE, test_size=TEST_SIZE, shuffle=SHUFFLE)\n",
    "class_counts = dict(collections.Counter(y))\n",
    "print (f\"X_train: {X_train.shape}, y_train: {y_train.shape}\")\n",
    "print (f\"X_val: {X_val.shape}, y_val: {y_val.shape}\")\n",
    "print (f\"X_test: {X_test.shape}, y_test: {y_test.shape}\")\n",
    "print (f\"Sample point: {X_train[0]} → {y_train[0]}\")\n",
    "print (f\"Classes: {class_counts}\")"
   ]
  },
  {
   "cell_type": "markdown",
   "metadata": {
    "colab_type": "text",
    "id": "yoEY-6yrv4VA"
   },
   "source": [
    "## Label encoder"
   ]
  },
  {
   "cell_type": "code",
   "execution_count": 21,
   "metadata": {
    "colab": {},
    "colab_type": "code",
    "id": "OSHNy3sZv4pW"
   },
   "outputs": [],
   "source": [
    "import json\n",
    "from sklearn.preprocessing import LabelEncoder"
   ]
  },
  {
   "cell_type": "code",
   "execution_count": 22,
   "metadata": {
    "colab": {},
    "colab_type": "code",
    "id": "63MK6TnMv4xf"
   },
   "outputs": [],
   "source": [
    "# Output vectorizer\n",
    "y_tokenizer = LabelEncoder()"
   ]
  },
  {
   "cell_type": "code",
   "execution_count": 23,
   "metadata": {
    "colab": {
     "base_uri": "https://localhost:8080/",
     "height": 34
    },
    "colab_type": "code",
    "id": "RJqz_4X_v461",
    "outputId": "15f14c8f-7595-4879-c0eb-151567460f3e"
   },
   "outputs": [
    {
     "name": "stdout",
     "output_type": "stream",
     "text": [
      "classes: ['c1', 'c2', 'c3']\n"
     ]
    }
   ],
   "source": [
    "# Fit on train data\n",
    "y_tokenizer = y_tokenizer.fit(y_train)\n",
    "classes = list(y_tokenizer.classes_)\n",
    "print (f\"classes: {classes}\")"
   ]
  },
  {
   "cell_type": "code",
   "execution_count": 24,
   "metadata": {
    "colab": {
     "base_uri": "https://localhost:8080/",
     "height": 51
    },
    "colab_type": "code",
    "id": "sDP2Khh_v9eZ",
    "outputId": "bec581ac-bda8-4aae-be49-fac6e0cf661b"
   },
   "outputs": [
    {
     "name": "stdout",
     "output_type": "stream",
     "text": [
      "y_train[0]: c1\n",
      "y_train[0]: 0\n"
     ]
    }
   ],
   "source": [
    "# Convert labels to tokens\n",
    "print (f\"y_train[0]: {y_train[0]}\")\n",
    "y_train = y_tokenizer.transform(y_train)\n",
    "y_val = y_tokenizer.transform(y_val)\n",
    "y_test = y_tokenizer.transform(y_test)\n",
    "print (f\"y_train[0]: {y_train[0]}\")"
   ]
  },
  {
   "cell_type": "code",
   "execution_count": 25,
   "metadata": {
    "colab": {
     "base_uri": "https://localhost:8080/",
     "height": 51
    },
    "colab_type": "code",
    "id": "Ooec7spCMnjo",
    "outputId": "74d0dd92-3a00-4578-e92c-b785283850c8"
   },
   "outputs": [
    {
     "name": "stdout",
     "output_type": "stream",
     "text": [
      "class counts: Counter({0: 361, 2: 361, 1: 361}),\n",
      "class weights: {0: 0.002770083102493075, 2: 0.002770083102493075, 1: 0.002770083102493075}\n"
     ]
    }
   ],
   "source": [
    "# Class weights\n",
    "counts = collections.Counter(y_train)\n",
    "class_weights = {_class: 1.0/count for _class, count in counts.items()}\n",
    "print (f\"class counts: {counts},\\nclass weights: {class_weights}\")"
   ]
  },
  {
   "cell_type": "markdown",
   "metadata": {
    "colab_type": "text",
    "id": "Xyib_OejwEeI"
   },
   "source": [
    "## Standardize data"
   ]
  },
  {
   "cell_type": "code",
   "execution_count": 26,
   "metadata": {
    "colab": {},
    "colab_type": "code",
    "id": "QxwQiTzbwEls"
   },
   "outputs": [],
   "source": [
    "from sklearn.preprocessing import StandardScaler"
   ]
  },
  {
   "cell_type": "code",
   "execution_count": 27,
   "metadata": {
    "colab": {},
    "colab_type": "code",
    "id": "HTC2G6AXwEq8"
   },
   "outputs": [],
   "source": [
    "# Standardize the data (mean=0, std=1) using training data\n",
    "X_scaler = StandardScaler().fit(X_train)"
   ]
  },
  {
   "cell_type": "code",
   "execution_count": 28,
   "metadata": {
    "colab": {},
    "colab_type": "code",
    "id": "DP_aKC_dwEyA"
   },
   "outputs": [],
   "source": [
    "# Apply scaler on training and test data (don't standardize outputs for classification)\n",
    "X_train = X_scaler.transform(X_train)\n",
    "X_val = X_scaler.transform(X_val)\n",
    "X_test = X_scaler.transform(X_test)"
   ]
  },
  {
   "cell_type": "code",
   "execution_count": 29,
   "metadata": {
    "colab": {
     "base_uri": "https://localhost:8080/",
     "height": 119
    },
    "colab_type": "code",
    "id": "hE_w7YYywJZx",
    "outputId": "76ae48df-8f0d-4448-ad06-032618e89523"
   },
   "outputs": [
    {
     "name": "stdout",
     "output_type": "stream",
     "text": [
      "X_train[0]: mean: 0.0, std: 1.0\n",
      "X_train[1]: mean: 0.0, std: 1.0\n",
      "X_val[0]: mean: 0.1, std: 1.0\n",
      "X_val[1]: mean: 0.0, std: 1.0\n",
      "X_test[0]: mean: 0.1, std: 1.0\n",
      "X_test[1]: mean: -0.1, std: 0.9\n"
     ]
    }
   ],
   "source": [
    "# Check (means should be ~0 and std should be ~1)\n",
    "print (f\"X_train[0]: mean: {np.mean(X_train[:, 0], axis=0):.1f}, std: {np.std(X_train[:, 0], axis=0):.1f}\")\n",
    "print (f\"X_train[1]: mean: {np.mean(X_train[:, 1], axis=0):.1f}, std: {np.std(X_train[:, 1], axis=0):.1f}\")\n",
    "print (f\"X_val[0]: mean: {np.mean(X_val[:, 0], axis=0):.1f}, std: {np.std(X_val[:, 0], axis=0):.1f}\")\n",
    "print (f\"X_val[1]: mean: {np.mean(X_val[:, 1], axis=0):.1f}, std: {np.std(X_val[:, 1], axis=0):.1f}\")\n",
    "print (f\"X_test[0]: mean: {np.mean(X_test[:, 0], axis=0):.1f}, std: {np.std(X_test[:, 0], axis=0):.1f}\")\n",
    "print (f\"X_test[1]: mean: {np.mean(X_test[:, 1], axis=0):.1f}, std: {np.std(X_test[:, 1], axis=0):.1f}\")"
   ]
  },
  {
   "cell_type": "markdown",
   "metadata": {
    "colab_type": "text",
    "id": "i7eOGNSGYZR5"
   },
   "source": [
    "# Data Loaders"
   ]
  },
  {
   "cell_type": "markdown",
   "metadata": {
    "colab_type": "text",
    "id": "eBcTjKxoY3MA"
   },
   "source": [
    "[Dataset Loaders](https://pytorch.org/docs/stable/data.html) will allow us to create batches for training, validation and testing. These loaders become very useful when we want to apply batch-specific operations on our data."
   ]
  },
  {
   "cell_type": "code",
   "execution_count": 30,
   "metadata": {
    "colab": {},
    "colab_type": "code",
    "id": "m-xBVRgfkv08"
   },
   "outputs": [],
   "source": [
    "import torch\n",
    "from torch.utils.data import DataLoader\n",
    "from torch.utils.data import Dataset"
   ]
  },
  {
   "cell_type": "code",
   "execution_count": 31,
   "metadata": {
    "colab": {
     "base_uri": "https://localhost:8080/",
     "height": 34
    },
    "colab_type": "code",
    "id": "DgTXEcT4kv51",
    "outputId": "21f3edbe-e8a4-403b-85f3-ccef373527f0"
   },
   "outputs": [
    {
     "data": {
      "text/plain": [
       "<torch._C.Generator at 0x119a99fd0>"
      ]
     },
     "execution_count": 31,
     "metadata": {},
     "output_type": "execute_result"
    }
   ],
   "source": [
    "# Set seed for reproducibility\n",
    "torch.manual_seed(SEED)"
   ]
  },
  {
   "cell_type": "code",
   "execution_count": 32,
   "metadata": {
    "colab": {},
    "colab_type": "code",
    "id": "KGqY703tTmKX"
   },
   "outputs": [],
   "source": [
    "BATCH_SIZE = 32"
   ]
  },
  {
   "cell_type": "code",
   "execution_count": 33,
   "metadata": {
    "colab": {},
    "colab_type": "code",
    "id": "G49TjZQcY5pk"
   },
   "outputs": [],
   "source": [
    "class SpiralDataset(Dataset):\n",
    "    \"\"\"Spiral dataset.\"\"\"\n",
    "    def __init__(self, X, y):\n",
    "        self.X = X.astype(np.float32)\n",
    "        self.y = y\n",
    "    \n",
    "    def __str__(self):\n",
    "        return f\"<Dataset(N={len(self)})>\"\n",
    "\n",
    "    def __len__(self):\n",
    "        return len(self.y)\n",
    "\n",
    "    def __getitem__(self, index):\n",
    "        X = self.X[index]\n",
    "        y = self.y[index]\n",
    "        return X, y"
   ]
  },
  {
   "cell_type": "code",
   "execution_count": 34,
   "metadata": {
    "colab": {
     "base_uri": "https://localhost:8080/",
     "height": 51
    },
    "colab_type": "code",
    "id": "OlCvh5rfz8kB",
    "outputId": "c5529729-80ea-4c15-86c0-d1d6c3311e2a"
   },
   "outputs": [
    {
     "name": "stdout",
     "output_type": "stream",
     "text": [
      "<Dataset(N=1083)>\n",
      "(array([ 0.6392495, -1.3974285], dtype=float32), 0)\n"
     ]
    }
   ],
   "source": [
    "# Create datasets\n",
    "train_set = SpiralDataset(X=X_train, y=y_train)\n",
    "val_set = SpiralDataset(X=X_val, y=y_val)\n",
    "test_set = SpiralDataset(X=X_test, y=y_test)\n",
    "print (train_set)\n",
    "print (train_set[0])"
   ]
  },
  {
   "cell_type": "code",
   "execution_count": 35,
   "metadata": {
    "colab": {},
    "colab_type": "code",
    "id": "T_tFkdt0Y5tL"
   },
   "outputs": [],
   "source": [
    "# Data Loaders\n",
    "train_loader = DataLoader(dataset=train_set, batch_size=BATCH_SIZE, shuffle=False) \n",
    "val_loader = DataLoader(dataset=val_set, batch_size=BATCH_SIZE, shuffle=False) \n",
    "test_loader = DataLoader(dataset=test_set, batch_size=BATCH_SIZE, shuffle=False) "
   ]
  },
  {
   "cell_type": "code",
   "execution_count": 36,
   "metadata": {
    "colab": {
     "base_uri": "https://localhost:8080/",
     "height": 153
    },
    "colab_type": "code",
    "id": "6wSXzthaY_RT",
    "outputId": "c95226e8-7176-408f-cb05-983ec42cfc03"
   },
   "outputs": [
    {
     "name": "stdout",
     "output_type": "stream",
     "text": [
      "batch 0 | X [torch.FloatTensor]: torch.Size([32, 2]), y [torch.LongTensor]: torch.Size([32])\n",
      "batch 1 | X [torch.FloatTensor]: torch.Size([32, 2]), y [torch.LongTensor]: torch.Size([32])\n",
      "batch 2 | X [torch.FloatTensor]: torch.Size([32, 2]), y [torch.LongTensor]: torch.Size([32])\n",
      "batch 3 | X [torch.FloatTensor]: torch.Size([32, 2]), y [torch.LongTensor]: torch.Size([32])\n",
      "batch 4 | X [torch.FloatTensor]: torch.Size([32, 2]), y [torch.LongTensor]: torch.Size([32])\n",
      "batch 5 | X [torch.FloatTensor]: torch.Size([32, 2]), y [torch.LongTensor]: torch.Size([32])\n",
      "batch 6 | X [torch.FloatTensor]: torch.Size([32, 2]), y [torch.LongTensor]: torch.Size([32])\n",
      "batch 7 | X [torch.FloatTensor]: torch.Size([1, 2]), y [torch.LongTensor]: torch.Size([1])\n"
     ]
    }
   ],
   "source": [
    "# Iterating through a data loader\n",
    "for i, (X, y) in enumerate(test_loader):\n",
    "    print (f\"batch {i} | X [{X.type()}]: {X.shape}, y [{y.type()}]: {y.shape}\")"
   ]
  },
  {
   "cell_type": "markdown",
   "metadata": {
    "colab_type": "text",
    "id": "3H9ZShrT3UkT"
   },
   "source": [
    "**NOTE**: So far, we used batch gradient descent to update our weights. This means that we calculated the gradients using the entire training dataset. We also could've updated our weights using stochastic gradient descent (SGD) where we pass in one training example one at a time. The current standard is mini-batch gradient descent, which strikes a balance between batch and stochastic GD, where we update the weights using a mini-batch of n (`BATCH_SIZE`) samples."
   ]
  },
  {
   "cell_type": "markdown",
   "metadata": {
    "colab_type": "text",
    "id": "0JzFdBPCV3PF"
   },
   "source": [
    "# Device configuration"
   ]
  },
  {
   "cell_type": "markdown",
   "metadata": {
    "colab_type": "text",
    "id": "i5pjtsyQV53v"
   },
   "source": [
    "So far we've been running our operations on the CPU but when we have large datasets and larger models to train, we can benefit by parallelzing tensor operations on a GPU. In this notebook, you can use a GPU by going to `Runtime` > `Change runtime type` > Select `GPU` in the `Hardware accelerator` dropdown. We can what device we're using with the following line of code:"
   ]
  },
  {
   "cell_type": "code",
   "execution_count": 37,
   "metadata": {
    "colab": {
     "base_uri": "https://localhost:8080/",
     "height": 34
    },
    "colab_type": "code",
    "id": "l2fLhvBcV5SG",
    "outputId": "334ea99e-041e-444c-850f-f12b93bb5ba2"
   },
   "outputs": [
    {
     "name": "stdout",
     "output_type": "stream",
     "text": [
      "cpu\n"
     ]
    }
   ],
   "source": [
    "# Device configuration\n",
    "device = torch.device('cuda' if torch.cuda.is_available() else 'cpu')\n",
    "print (device)"
   ]
  },
  {
   "cell_type": "markdown",
   "metadata": {
    "colab_type": "text",
    "id": "-5ja0Cqhy3Ur"
   },
   "source": [
    "# Model"
   ]
  },
  {
   "cell_type": "code",
   "execution_count": 42,
   "metadata": {
    "colab": {},
    "colab_type": "code",
    "id": "E_A1RYWzzVWr"
   },
   "outputs": [],
   "source": [
    "import math\n",
    "from torch import nn\n",
    "import torch.nn.functional as F\n",
    "from torchsummary import summary"
   ]
  },
  {
   "cell_type": "code",
   "execution_count": 41,
   "metadata": {},
   "outputs": [
    {
     "name": "stdout",
     "output_type": "stream",
     "text": [
      "/Users/SJX/anaconda3/bin/python\r\n"
     ]
    }
   ],
   "source": [
    "!which python"
   ]
  },
  {
   "cell_type": "code",
   "execution_count": 43,
   "metadata": {
    "colab": {},
    "colab_type": "code",
    "id": "IleT9uKMzESz"
   },
   "outputs": [],
   "source": [
    "INPUT_DIM = X_train.shape[1] # X is 2-dimensional\n",
    "HIDDEN_DIM = 100\n",
    "DROPOUT_P = 0.1\n",
    "NUM_CLASSES = len(classes)\n",
    "NUM_EPOCHS = 10"
   ]
  },
  {
   "cell_type": "code",
   "execution_count": 44,
   "metadata": {
    "colab": {},
    "colab_type": "code",
    "id": "8zd4_zPY2xdu"
   },
   "outputs": [],
   "source": [
    "class MLP(nn.Module):\n",
    "    def __init__(self, input_dim, hidden_dim, dropout_p, num_classes):\n",
    "        super(MLP, self).__init__()\n",
    "        self.fc1 = nn.Linear(input_dim, hidden_dim)\n",
    "        self.dropout = nn.Dropout(dropout_p)\n",
    "        self.fc2 = nn.Linear(hidden_dim, num_classes)\n",
    "        \n",
    "    def forward(self, x_in, apply_softmax=False):\n",
    "        z = F.relu(self.fc1(x_in))\n",
    "        z = self.dropout(z)\n",
    "        y_pred = self.fc2(z)\n",
    "        if apply_softmax:\n",
    "            y_pred = F.softmax(y_pred, dim=1) \n",
    "        return y_pred"
   ]
  },
  {
   "cell_type": "code",
   "execution_count": 45,
   "metadata": {
    "colab": {
     "base_uri": "https://localhost:8080/",
     "height": 374
    },
    "colab_type": "code",
    "id": "zJXxtuMA20lS",
    "outputId": "3f45493e-87f9-4d2c-edf9-35d048b60d11"
   },
   "outputs": [
    {
     "name": "stdout",
     "output_type": "stream",
     "text": [
      "<bound method Module.named_parameters of MLP(\n",
      "  (fc1): Linear(in_features=2, out_features=100, bias=True)\n",
      "  (dropout): Dropout(p=0.1, inplace=False)\n",
      "  (fc2): Linear(in_features=100, out_features=3, bias=True)\n",
      ")>\n",
      "----------------------------------------------------------------\n",
      "        Layer (type)               Output Shape         Param #\n",
      "================================================================\n",
      "            Linear-1                  [-1, 100]             300\n",
      "           Dropout-2                  [-1, 100]               0\n",
      "            Linear-3                    [-1, 3]             303\n",
      "================================================================\n",
      "Total params: 603\n",
      "Trainable params: 603\n",
      "Non-trainable params: 0\n",
      "----------------------------------------------------------------\n",
      "Input size (MB): 0.00\n",
      "Forward/backward pass size (MB): 0.00\n",
      "Params size (MB): 0.00\n",
      "Estimated Total Size (MB): 0.00\n",
      "----------------------------------------------------------------\n"
     ]
    }
   ],
   "source": [
    "# Initialize model (and set device)\n",
    "model = MLP(input_dim=INPUT_DIM, hidden_dim=HIDDEN_DIM, dropout_p=DROPOUT_P, num_classes=NUM_CLASSES).to(device)\n",
    "print (model.named_parameters)\n",
    "summary(model, input_size=(INPUT_DIM,))"
   ]
  },
  {
   "cell_type": "code",
   "execution_count": 46,
   "metadata": {
    "colab": {},
    "colab_type": "code",
    "id": "wVkowdRZzI5P"
   },
   "outputs": [],
   "source": [
    "# Loss\n",
    "weights = torch.Tensor([class_weights[key] for key in sorted(class_weights.keys())]).to(device)\n",
    "loss_fn = nn.CrossEntropyLoss(weight=weights)"
   ]
  },
  {
   "cell_type": "code",
   "execution_count": 47,
   "metadata": {
    "colab": {},
    "colab_type": "code",
    "id": "KgKsQHLtzQQq"
   },
   "outputs": [],
   "source": [
    "# Accuracy\n",
    "def accuracy_fn(y_pred, y_true):\n",
    "    n_correct = torch.eq(y_pred, y_true).sum().item()\n",
    "    accuracy = (n_correct / len(y_pred)) * 100\n",
    "    return accuracy"
   ]
  },
  {
   "cell_type": "markdown",
   "metadata": {
    "colab_type": "text",
    "id": "ESshMCDrUcaO"
   },
   "source": [
    "# LR scheduler"
   ]
  },
  {
   "cell_type": "markdown",
   "metadata": {
    "colab_type": "text",
    "id": "zIWCdPz8UGdQ"
   },
   "source": [
    "We're going to add a learning rate scheduler to our optimizer to adjust our learning rate during training. There are [many](https://pytorch.org/docs/stable/optim.html#how-to-adjust-learning-rate) schedulers to choose from but a popular one is `ReduceLROnPlateau` - reduce the learning rate when a metric (ex. validation loss) stops improving. In the example below we'll reduce the learning rate by a factor of 0.1 (`factor=0.1`) when our metrics stops decreasing (`mode='min'`) for 3 (`patience=3`) straight epochs. In our trainig loop, we'll add the line `scheduler.step(running_val_loss)` to make validation loss the metric to focus on."
   ]
  },
  {
   "cell_type": "code",
   "execution_count": 48,
   "metadata": {
    "colab": {},
    "colab_type": "code",
    "id": "X6oM_3Bv6Fim"
   },
   "outputs": [],
   "source": [
    "from torch.optim import Adam\n",
    "from torch.optim.lr_scheduler import ReduceLROnPlateau"
   ]
  },
  {
   "cell_type": "code",
   "execution_count": 49,
   "metadata": {
    "colab": {},
    "colab_type": "code",
    "id": "90IpDDP66NkV"
   },
   "outputs": [],
   "source": [
    "LEARNING_RATE = 1e-2"
   ]
  },
  {
   "cell_type": "code",
   "execution_count": 50,
   "metadata": {
    "colab": {},
    "colab_type": "code",
    "id": "nGnvlHkJb5zx"
   },
   "outputs": [],
   "source": [
    "# Optimizer\n",
    "optimizer = Adam(model.parameters(), lr=LEARNING_RATE) \n",
    "scheduler = ReduceLROnPlateau(optimizer, mode='min', factor=0.1, patience=3)"
   ]
  },
  {
   "cell_type": "markdown",
   "metadata": {
    "colab_type": "text",
    "id": "qtmC66WUNuNs"
   },
   "source": [
    "# Model checkpoints"
   ]
  },
  {
   "cell_type": "markdown",
   "metadata": {
    "colab_type": "text",
    "id": "sBBhCUgONuU0"
   },
   "source": [
    "We don't want to train our model and only save it at the end but instead we want to check the performance (ex. validation loss) after every epoch and save the model is performance is better than all the previous runs. This is important since performance can degrade during subsequent epochs."
   ]
  },
  {
   "cell_type": "markdown",
   "metadata": {
    "colab_type": "text",
    "id": "TUZst-s-Oobg"
   },
   "source": [
    "```python\n",
    "# Save model\n",
    "torch.save(model.state_dict(), PATH)\n",
    "```"
   ]
  },
  {
   "cell_type": "markdown",
   "metadata": {
    "colab_type": "text",
    "id": "aLZeWQTxPe7z"
   },
   "source": [
    "```python\n",
    "# Load model\n",
    "model = TheModelClass(*args, **kwargs)\n",
    "model.load_state_dict(torch.load(PATH))\n",
    "model.eval()\n",
    "```"
   ]
  },
  {
   "cell_type": "markdown",
   "metadata": {
    "colab_type": "text",
    "id": "8VOVbTavJSTr"
   },
   "source": [
    "# Early stopping"
   ]
  },
  {
   "cell_type": "markdown",
   "metadata": {
    "colab_type": "text",
    "id": "m64AFvkdJScV"
   },
   "source": [
    "Sometimes we don't want to train our model for `NUM_EPOCHS` and we'll want to stop early when performance no longer continue to improve. This is know as early stopping and we stop training by monitoring a specific metric (ex. validation loss) and seeing if it continues to get worse for a certain number of epochs (patience). "
   ]
  },
  {
   "cell_type": "code",
   "execution_count": 51,
   "metadata": {
    "colab": {},
    "colab_type": "code",
    "id": "9GUrho5GLcAw"
   },
   "outputs": [],
   "source": [
    "PATIENCE = 3 "
   ]
  },
  {
   "cell_type": "markdown",
   "metadata": {
    "colab_type": "text",
    "id": "bQQFWiLtJS1j"
   },
   "source": [
    "```python\n",
    "best_val_loss = np.inf\n",
    "\n",
    "for epoch in range(NUM_EPOCHS):\n",
    "\n",
    "    train_batch()\n",
    "    validation_batch()\n",
    "\n",
    "    ...\n",
    "\n",
    "    # Early stopping\n",
    "    if running_val_loss < best_val_loss:\n",
    "        best_val_loss = running_val_loss\n",
    "        patience = PATIENCE # reset patience\n",
    "        save_model() # save model\n",
    "    else:\n",
    "        patience -= 1\n",
    "    if not patience: # 0\n",
    "        print (\"Stopping early!\")\n",
    "        break\n",
    "```"
   ]
  },
  {
   "cell_type": "markdown",
   "metadata": {
    "colab_type": "text",
    "id": "WA7m7gcWBk8g"
   },
   "source": [
    "# TensorBoard"
   ]
  },
  {
   "cell_type": "markdown",
   "metadata": {
    "colab_type": "text",
    "id": "mztLtOdPBq6V"
   },
   "source": [
    "TensorBoard is a tool to visualize models, data and training."
   ]
  },
  {
   "cell_type": "code",
   "execution_count": 52,
   "metadata": {
    "colab": {},
    "colab_type": "code",
    "id": "drHOI9O5BlW7"
   },
   "outputs": [],
   "source": [
    "from torch.utils.tensorboard import SummaryWriter\n",
    "%load_ext tensorboard"
   ]
  },
  {
   "cell_type": "code",
   "execution_count": 53,
   "metadata": {
    "colab": {
     "base_uri": "https://localhost:8080/",
     "height": 63
    },
    "colab_type": "code",
    "id": "0pPWYuv-Bla1",
    "outputId": "3c20b49c-c57a-4224-da0c-303696a89dd6"
   },
   "outputs": [],
   "source": [
    "# Create writer to store values \n",
    "log_dir = 'tensorboard/spiral_MLP'\n",
    "!rm -rf log_dir # remove if it already exists\n",
    "writer = SummaryWriter(log_dir=log_dir)"
   ]
  },
  {
   "cell_type": "code",
   "execution_count": 54,
   "metadata": {
    "colab": {},
    "colab_type": "code",
    "id": "WF9Gkoz3COg4"
   },
   "outputs": [],
   "source": [
    "# Write model\n",
    "inputs, outputs = next(iter(train_loader))\n",
    "writer.add_graph(model, inputs.to(device))"
   ]
  },
  {
   "cell_type": "markdown",
   "metadata": {
    "colab_type": "text",
    "id": "5DOYGhxCDoPt"
   },
   "source": [
    "In the training section below, we'll see how to write scalars (loss, accuracy, etc.), historgram (model weight distributions), hyperparameters, etc.\n",
    "\n",
    "```python\n",
    "# Scalars\n",
    "writer.add_scalar(tag='training loss', scalar_value=running_train_loss, global_step=epoch)\n",
    "\n",
    "# Histograms\n",
    "writer.add_histogram(tag=\"fc1\", values=model.fc1.weight, global_step=epoch)\n",
    "\n",
    "# Hyperparamters\n",
    "hparams = {\n",
    "    'batch_size': BATCH_SIZE, \n",
    "    'hidden_dim': HIDDEN_DIM, \n",
    "    'dropout_p': DROPOUT_P, \n",
    "    'learning_rate': LEARNING_RATE\n",
    "}\n",
    "writer.add_hparams(hparam_dict=hparams, metric_dict={'val_loss': val_loss})\n",
    "```"
   ]
  },
  {
   "cell_type": "markdown",
   "metadata": {
    "colab_type": "text",
    "id": "wlF44aypDEoj"
   },
   "source": [
    "# Training"
   ]
  },
  {
   "cell_type": "markdown",
   "metadata": {
    "colab_type": "text",
    "id": "q81TAqikDT3N"
   },
   "source": [
    "We're going to create functions in a trainer class to do all of the training, validation and testing."
   ]
  },
  {
   "cell_type": "code",
   "execution_count": 55,
   "metadata": {
    "colab": {},
    "colab_type": "code",
    "id": "JgBC4GOjSeQ5"
   },
   "outputs": [],
   "source": [
    "MODEL_PATH = 'model.pth'"
   ]
  },
  {
   "cell_type": "code",
   "execution_count": 56,
   "metadata": {
    "colab": {},
    "colab_type": "code",
    "id": "m3cMHcV6jA0r"
   },
   "outputs": [],
   "source": [
    "class Trainer(object):\n",
    "\n",
    "    def __init__(self, **kwargs):\n",
    "        self.__dict__ = kwargs\n",
    "\n",
    "    def train_loop(self, num_epochs):\n",
    "        \"\"\"Training and validation steps.\"\"\"\n",
    "        # Metrics\n",
    "        self.train_loss = []\n",
    "        self.train_acc = []\n",
    "        self.val_loss = []\n",
    "        self.val_acc = []\n",
    "        best_val_loss = np.inf\n",
    "\n",
    "        # Epochs\n",
    "        for epoch in range(num_epochs):\n",
    "            # Steps\n",
    "            self.train_step(epoch)\n",
    "            self.val_step(epoch)\n",
    "            print (f\"Epoch: {epoch} | train_loss: {self.train_loss[-1]:.2f}, train_acc: {self.train_acc[-1]:.1f}, val_loss: {self.val_loss[-1]:.2f}, val_acc: {self.val_acc[-1]:.1f}\")\n",
    "\n",
    "            # Early stopping\n",
    "            if self.val_loss[-1] < best_val_loss:\n",
    "                best_val_loss = self.val_loss[-1]\n",
    "                patience = self.patience # reset patience\n",
    "\n",
    "                # Save model\n",
    "                torch.save(model.state_dict(), self.model_path)\n",
    "                \n",
    "            else:\n",
    "                patience -= 1\n",
    "            if not patience: # 0\n",
    "                print (\"Stopping early!\")\n",
    "                break\n",
    "\n",
    "        return self.train_loss, self.train_acc, self.val_loss, self.val_acc, best_val_loss\n",
    "\n",
    "    def train_step(self, epoch):\n",
    "        \"\"\"Training one epoch.\"\"\"\n",
    "        # Set model to train mode\n",
    "        self.model.train()\n",
    "\n",
    "        # Reset batch metrics\n",
    "        running_train_loss = 0.0\n",
    "        running_train_acc = 0.0\n",
    "\n",
    "        # Iterate over train batches\n",
    "        for i, (X, y) in enumerate(self.train_loader):\n",
    "\n",
    "            # Cast\n",
    "            X = X.to(self.device)\n",
    "            y = y.to(self.device)\n",
    "\n",
    "            # Forward pass\n",
    "            y_pred = self.model(X)\n",
    "            loss = self.loss_fn(y_pred, y)\n",
    "\n",
    "            # Backward pass + optimize\n",
    "            self.optimizer.zero_grad()\n",
    "            loss.backward()\n",
    "            self.optimizer.step()\n",
    "\n",
    "            # Metrics\n",
    "            predictions = y_pred.max(dim=1)[1] # class\n",
    "            accuracy = self.accuracy_fn(y_pred=predictions, y_true=y)\n",
    "\n",
    "            # Update batch metrics\n",
    "            running_train_loss += (loss - running_train_loss) / (i + 1)\n",
    "            running_train_acc += (accuracy - running_train_acc) / (i + 1)\n",
    "        \n",
    "        # Update epoch metrics\n",
    "        self.train_loss.append(running_train_loss)\n",
    "        self.train_acc.append(running_train_acc)\n",
    "\n",
    "        # Write to TensorBoard\n",
    "        self.writer.add_scalar(tag='training loss', scalar_value=running_train_loss, global_step=epoch)\n",
    "        self.writer.add_scalar(tag='training accuracy', scalar_value=running_train_acc, global_step=epoch)\n",
    "        self.writer.add_histogram(tag=\"fc1\", values=self.model.fc1.weight, global_step=epoch)\n",
    "\n",
    "    def val_step(self, epoch):\n",
    "        \"\"\"Validate one epoch.\"\"\"\n",
    "        # Set model to eval mode\n",
    "        self.model.eval()\n",
    "\n",
    "        # Reset batch metrics\n",
    "        running_val_loss = 0.0\n",
    "        running_val_acc = 0.0\n",
    "\n",
    "        # Iterate over val batches\n",
    "        for i, (X, y) in enumerate(self.val_loader):\n",
    "            \n",
    "            # Cast\n",
    "            X = X.to(self.device)\n",
    "            y = y.to(self.device)\n",
    "\n",
    "            # Forward pass\n",
    "            with torch.no_grad():\n",
    "                y_pred = self.model(X)\n",
    "                loss = self.loss_fn(y_pred, y)\n",
    "\n",
    "            # Metrics\n",
    "            predictions = y_pred.max(dim=1)[1] # class\n",
    "            accuracy = self.accuracy_fn(y_pred=predictions, y_true=y)\n",
    "\n",
    "            # Update batch metrics\n",
    "            running_val_loss += (loss - running_val_loss) / (i + 1)\n",
    "            running_val_acc += (accuracy - running_val_acc) / (i + 1)\n",
    "\n",
    "        # Update epoch metrics\n",
    "        self.val_loss.append(running_val_loss)\n",
    "        self.val_acc.append(running_val_acc)\n",
    "\n",
    "        # Write to TensorBoard\n",
    "        self.writer.add_scalar(tag='validation loss', scalar_value=running_val_loss, global_step=epoch)\n",
    "        self.writer.add_scalar(tag='validation accuracy', scalar_value=running_val_acc, global_step=epoch)\n",
    "\n",
    "        # Adjust learning rate\n",
    "        self.scheduler.step(running_val_loss)\n",
    "\n",
    "    def test_loop(self):\n",
    "        \"\"\"Evalution of the test set.\"\"\"\n",
    "        # Metrics\n",
    "        running_test_loss = 0.0\n",
    "        running_test_acc = 0.0\n",
    "\n",
    "        # Iterate over val batches\n",
    "        for i, (X, y) in enumerate(self.test_loader):\n",
    "            \n",
    "            # Cast\n",
    "            X = X.to(self.device)\n",
    "            y = y.to(self.device)\n",
    "\n",
    "            # Forward pass\n",
    "            with torch.no_grad():\n",
    "                y_pred = self.model(X)\n",
    "                loss = self.loss_fn(y_pred, y)\n",
    "\n",
    "            # Metrics\n",
    "            predictions = y_pred.max(dim=1)[1] # class\n",
    "            accuracy = self.accuracy_fn(y_pred=predictions, y_true=y)\n",
    "\n",
    "            # Update batch metrics\n",
    "            running_test_loss += (loss - running_test_loss) / (i + 1)\n",
    "            running_test_acc += (accuracy - running_test_acc) / (i + 1)\n",
    "\n",
    "        return running_test_loss, running_test_acc"
   ]
  },
  {
   "cell_type": "code",
   "execution_count": 57,
   "metadata": {
    "colab": {},
    "colab_type": "code",
    "id": "otaHdi7ssYfm"
   },
   "outputs": [],
   "source": [
    "# Initialize\n",
    "model = MLP(input_dim=INPUT_DIM, hidden_dim=HIDDEN_DIM, \n",
    "            dropout_p=DROPOUT_P, num_classes=NUM_CLASSES).to(device)\n",
    "optimizer = Adam(model.parameters(), lr=LEARNING_RATE) \n",
    "scheduler = ReduceLROnPlateau(optimizer, mode='min', factor=0.1, patience=3)"
   ]
  },
  {
   "cell_type": "code",
   "execution_count": 58,
   "metadata": {
    "colab": {
     "base_uri": "https://localhost:8080/",
     "height": 187
    },
    "colab_type": "code",
    "id": "PM1aZ1P6q6M4",
    "outputId": "13aeea3c-3212-4cee-da18-65870d131ef9"
   },
   "outputs": [
    {
     "name": "stdout",
     "output_type": "stream",
     "text": [
      "Epoch: 0 | train_loss: 0.69, train_acc: 58.8, val_loss: 0.54, val_acc: 68.8\n",
      "Epoch: 1 | train_loss: 0.42, train_acc: 82.5, val_loss: 0.35, val_acc: 84.9\n",
      "Epoch: 2 | train_loss: 0.26, train_acc: 91.4, val_loss: 0.25, val_acc: 90.1\n",
      "Epoch: 3 | train_loss: 0.19, train_acc: 94.1, val_loss: 0.20, val_acc: 92.2\n",
      "Epoch: 4 | train_loss: 0.15, train_acc: 95.8, val_loss: 0.16, val_acc: 96.4\n",
      "Epoch: 5 | train_loss: 0.14, train_acc: 95.7, val_loss: 0.13, val_acc: 96.9\n",
      "Epoch: 6 | train_loss: 0.11, train_acc: 96.1, val_loss: 0.13, val_acc: 99.0\n",
      "Epoch: 7 | train_loss: 0.10, train_acc: 97.2, val_loss: 0.11, val_acc: 97.9\n",
      "Epoch: 8 | train_loss: 0.09, train_acc: 97.4, val_loss: 0.11, val_acc: 96.4\n",
      "Epoch: 9 | train_loss: 0.08, train_acc: 97.5, val_loss: 0.09, val_acc: 99.5\n"
     ]
    }
   ],
   "source": [
    "# Train\n",
    "trainer = Trainer(train_loader=train_loader, val_loader=val_loader, test_loader=test_loader, \n",
    "                  model=model, optimizer=optimizer, scheduler=scheduler, \n",
    "                  loss_fn=loss_fn, accuracy_fn=accuracy_fn, patience=PATIENCE, \n",
    "                  model_path=MODEL_PATH, writer=writer, device=device)\n",
    "train_loss, train_acc, val_loss, val_acc, best_val_loss = trainer.train_loop(num_epochs=NUM_EPOCHS)"
   ]
  },
  {
   "cell_type": "code",
   "execution_count": 59,
   "metadata": {
    "colab": {
     "base_uri": "https://localhost:8080/",
     "height": 336
    },
    "colab_type": "code",
    "id": "k0mfKVCnK_Le",
    "outputId": "0da71109-04f2-4005-b533-bd560f414e23"
   },
   "outputs": [
    {
     "data": {
      "image/png": "[encoded data removed]",
      "text/plain": [
       "<Figure size 1080x360 with 2 Axes>"
      ]
     },
     "metadata": {
      "needs_background": "light"
     },
     "output_type": "display_data"
    }
   ],
   "source": [
    "# Plot performance\n",
    "plt.figure(figsize=(15,5))\n",
    "\n",
    "# Plot Loss\n",
    "plt.subplot(1, 2, 1)\n",
    "plt.title(\"Loss\")\n",
    "plt.plot(train_loss, label=\"train\")\n",
    "plt.plot(val_loss, label=\"val\")\n",
    "plt.legend(loc='upper right')\n",
    "\n",
    "# Plot Accuracy\n",
    "plt.subplot(1, 2, 2)\n",
    "plt.title(\"Accuracy\")\n",
    "plt.plot(train_acc, label=\"train\")\n",
    "plt.plot(val_acc, label=\"val\")\n",
    "plt.legend(loc='lower right')\n",
    "\n",
    "# Show plots\n",
    "plt.show()"
   ]
  },
  {
   "cell_type": "code",
   "execution_count": 60,
   "metadata": {
    "colab": {
     "base_uri": "https://localhost:8080/",
     "height": 34
    },
    "colab_type": "code",
    "id": "h0JJEbDgC-Tj",
    "outputId": "1911c891-7c70-47b8-bda6-00215ed1168f"
   },
   "outputs": [
    {
     "name": "stdout",
     "output_type": "stream",
     "text": [
      "test_loss: 0.07, test_acc: 99.6\n"
     ]
    }
   ],
   "source": [
    "# Evaluation\n",
    "test_loss, test_acc = trainer.test_loop()\n",
    "print (f\"test_loss: {test_loss:.2f}, test_acc: {test_acc:.1f}\")"
   ]
  },
  {
   "cell_type": "code",
   "execution_count": 61,
   "metadata": {
    "colab": {
     "base_uri": "https://localhost:8080/",
     "height": 817
    },
    "colab_type": "code",
    "id": "9207QmpjG4LR",
    "outputId": "aed8a163-b44a-413e-db7f-7388c425729c"
   },
   "outputs": [
    {
     "data": {
      "text/html": [
       "\n",
       "      <iframe id=\"tensorboard-frame-5c63a90f0553c5cb\" width=\"100%\" height=\"800\" frameborder=\"0\">\n",
       "      </iframe>\n",
       "      <script>\n",
       "        (function() {\n",
       "          const frame = document.getElementById(\"tensorboard-frame-5c63a90f0553c5cb\");\n",
       "          const url = new URL(\"/\", window.location);\n",
       "          url.port = 6006;\n",
       "          frame.src = url;\n",
       "        })();\n",
       "      </script>\n",
       "  "
      ],
      "text/plain": [
       "<IPython.core.display.HTML object>"
      ]
     },
     "metadata": {},
     "output_type": "display_data"
    }
   ],
   "source": [
    "# Visualize performance on tensorboard\n",
    "%tensorboard --logdir tensorboard"
   ]
  },
  {
   "cell_type": "code",
   "execution_count": 64,
   "metadata": {
    "colab": {
     "base_uri": "https://localhost:8080/",
     "height": 34
    },
    "colab_type": "code",
    "id": "0B2-n0yJ4nZV",
    "outputId": "b8b403a6-a70d-4a7b-8a13-92c4f902b581"
   },
   "outputs": [
    {
     "name": "stdout",
     "output_type": "stream",
     "text": [
      "02_NumPy.ipynb\r\n",
      "03_Pandas-checkpoint.ipynb\r\n",
      "04_Linear_Regression.ipynb\r\n",
      "05_Logistic_Regression.ipynb\r\n",
      "05_PT_Utilities.ipynb\r\n",
      "06_Multilayer_Perceptrons.ipynb\r\n",
      "06_PT_Preprocessing.ipynb\r\n",
      "06_TF_Preprocessing.ipynb\r\n",
      "07_Data_and_Models.ipynb\r\n",
      "08_Utilities.ipynb\r\n",
      "\u001b[34mdatasets\u001b[m\u001b[m\r\n",
      "dentalFormulas.txt\r\n",
      "model.hdf5\r\n",
      "model.pth\r\n",
      "spiral.csv\r\n",
      "\u001b[34mtensorboard\u001b[m\u001b[m\r\n",
      "tumors.csv\r\n",
      "tumors_reduced.csv\r\n",
      "机器学习（无监督类）案例.ipynb\r\n"
     ]
    }
   ],
   "source": [
    "# Let's see our saved model\n",
    "!ls"
   ]
  },
  {
   "cell_type": "code",
   "execution_count": 63,
   "metadata": {
    "colab": {
     "base_uri": "https://localhost:8080/",
     "height": 102
    },
    "colab_type": "code",
    "id": "K1Iku7ks4ndK",
    "outputId": "87d9db32-4b94-49b5-d8aa-cf3be1ffe602"
   },
   "outputs": [
    {
     "data": {
      "text/plain": [
       "MLP(\n",
       "  (fc1): Linear(in_features=2, out_features=100, bias=True)\n",
       "  (dropout): Dropout(p=0.1, inplace=False)\n",
       "  (fc2): Linear(in_features=100, out_features=3, bias=True)\n",
       ")"
      ]
     },
     "execution_count": 63,
     "metadata": {},
     "output_type": "execute_result"
    }
   ],
   "source": [
    "# Load model\n",
    "model = MLP(input_dim=INPUT_DIM, hidden_dim=HIDDEN_DIM, dropout_p=DROPOUT_P, num_classes=NUM_CLASSES).to(device)\n",
    "model.load_state_dict(torch.load(MODEL_PATH))\n",
    "model.eval()"
   ]
  },
  {
   "cell_type": "markdown",
   "metadata": {
    "colab_type": "text",
    "id": "VGxKQB5nNfZY"
   },
   "source": [
    "# Hyperparameter Optimization"
   ]
  },
  {
   "cell_type": "markdown",
   "metadata": {
    "colab_type": "text",
    "id": "YJpO17hYqEP_"
   },
   "source": [
    "How do we know that the parameters (like *HIDDEN_DIM*, *DROPOUT_P*, *LEARNING_RATE*, etc.) we chose for our model are the best? We can empirically validate by doing hyperparameter optimization with TensorBoard. We will just try a few hyperparameter values but you can see the results and fine tune ever more."
   ]
  },
  {
   "cell_type": "code",
   "execution_count": 65,
   "metadata": {
    "colab": {},
    "colab_type": "code",
    "id": "Mr5GQOlEWiXL"
   },
   "outputs": [],
   "source": [
    "hidden_dim_list = [50, 100, 200]\n",
    "dropout_p_list = [0.0, 0.1, 0.2]\n",
    "learning_rate_list = [1e-1, 1e-2, 1e-3]"
   ]
  },
  {
   "cell_type": "code",
   "execution_count": 66,
   "metadata": {
    "colab": {
     "base_uri": "https://localhost:8080/",
     "height": 1000
    },
    "colab_type": "code",
    "id": "x0cVgZl4WiUZ",
    "outputId": "0d9d9ad6-318e-4ec9-941c-82a79c9cea49"
   },
   "outputs": [
    {
     "name": "stdout",
     "output_type": "stream",
     "text": [
      "\n",
      "MODEL_NUM: 0, hidden_dim: 50, dropout_p: 0.0, learning_rate: 0.1\n",
      "Epoch: 0 | train_loss: 0.49, train_acc: 78.5, val_loss: 0.24, val_acc: 87.0\n",
      "Epoch: 1 | train_loss: 0.18, train_acc: 92.9, val_loss: 0.16, val_acc: 94.3\n",
      "Epoch: 2 | train_loss: 0.15, train_acc: 93.7, val_loss: 0.26, val_acc: 93.8\n",
      "Epoch: 3 | train_loss: 0.15, train_acc: 95.4, val_loss: 0.13, val_acc: 96.9\n",
      "Epoch: 4 | train_loss: 0.11, train_acc: 95.7, val_loss: 0.07, val_acc: 98.4\n",
      "Epoch: 5 | train_loss: 0.14, train_acc: 94.9, val_loss: 0.07, val_acc: 97.9\n",
      "Epoch: 6 | train_loss: 0.11, train_acc: 96.3, val_loss: 0.07, val_acc: 99.5\n",
      "Epoch: 7 | train_loss: 0.12, train_acc: 95.4, val_loss: 0.07, val_acc: 98.4\n",
      "Epoch: 8 | train_loss: 0.09, train_acc: 96.9, val_loss: 0.05, val_acc: 100.0\n",
      "Epoch: 9 | train_loss: 0.09, train_acc: 96.9, val_loss: 0.05, val_acc: 98.4\n",
      "\n",
      "MODEL_NUM: 1, hidden_dim: 50, dropout_p: 0.0, learning_rate: 0.01\n",
      "Epoch: 0 | train_loss: 0.75, train_acc: 53.7, val_loss: 0.62, val_acc: 58.3\n",
      "Epoch: 1 | train_loss: 0.54, train_acc: 70.9, val_loss: 0.47, val_acc: 81.2\n",
      "Epoch: 2 | train_loss: 0.39, train_acc: 86.2, val_loss: 0.35, val_acc: 85.9\n",
      "Epoch: 3 | train_loss: 0.31, train_acc: 91.7, val_loss: 0.28, val_acc: 90.1\n",
      "Epoch: 4 | train_loss: 0.24, train_acc: 92.8, val_loss: 0.23, val_acc: 91.1\n",
      "Epoch: 5 | train_loss: 0.20, train_acc: 94.7, val_loss: 0.20, val_acc: 93.2\n",
      "Epoch: 6 | train_loss: 0.17, train_acc: 94.7, val_loss: 0.18, val_acc: 96.4\n",
      "Epoch: 7 | train_loss: 0.15, train_acc: 95.0, val_loss: 0.16, val_acc: 96.4\n",
      "Epoch: 8 | train_loss: 0.15, train_acc: 95.8, val_loss: 0.15, val_acc: 95.8\n",
      "Epoch: 9 | train_loss: 0.14, train_acc: 95.6, val_loss: 0.14, val_acc: 95.8\n",
      "\n",
      "MODEL_NUM: 2, hidden_dim: 50, dropout_p: 0.0, learning_rate: 0.001\n",
      "Epoch: 0 | train_loss: 1.04, train_acc: 35.0, val_loss: 0.95, val_acc: 53.1\n",
      "Epoch: 1 | train_loss: 0.89, train_acc: 55.4, val_loss: 0.84, val_acc: 55.2\n",
      "Epoch: 2 | train_loss: 0.79, train_acc: 57.9, val_loss: 0.76, val_acc: 57.8\n",
      "Epoch: 3 | train_loss: 0.73, train_acc: 58.8, val_loss: 0.72, val_acc: 58.3\n",
      "Epoch: 4 | train_loss: 0.68, train_acc: 59.8, val_loss: 0.68, val_acc: 58.9\n",
      "Epoch: 5 | train_loss: 0.66, train_acc: 59.3, val_loss: 0.65, val_acc: 61.5\n",
      "Epoch: 6 | train_loss: 0.63, train_acc: 62.0, val_loss: 0.63, val_acc: 62.0\n",
      "Epoch: 7 | train_loss: 0.60, train_acc: 64.0, val_loss: 0.61, val_acc: 62.5\n",
      "Epoch: 8 | train_loss: 0.58, train_acc: 65.8, val_loss: 0.58, val_acc: 66.1\n",
      "Epoch: 9 | train_loss: 0.55, train_acc: 69.8, val_loss: 0.56, val_acc: 68.8\n",
      "\n",
      "MODEL_NUM: 3, hidden_dim: 50, dropout_p: 0.1, learning_rate: 0.1\n",
      "Epoch: 0 | train_loss: 0.52, train_acc: 76.6, val_loss: 0.28, val_acc: 83.9\n",
      "Epoch: 1 | train_loss: 0.18, train_acc: 93.9, val_loss: 0.14, val_acc: 93.2\n",
      "Epoch: 2 | train_loss: 0.14, train_acc: 94.6, val_loss: 0.14, val_acc: 92.7\n",
      "Epoch: 3 | train_loss: 0.16, train_acc: 94.6, val_loss: 0.19, val_acc: 93.8\n",
      "Epoch: 4 | train_loss: 0.16, train_acc: 94.0, val_loss: 0.13, val_acc: 95.3\n",
      "Epoch: 5 | train_loss: 0.19, train_acc: 92.7, val_loss: 0.10, val_acc: 94.8\n",
      "Epoch: 6 | train_loss: 0.09, train_acc: 95.9, val_loss: 0.12, val_acc: 98.4\n",
      "Epoch: 7 | train_loss: 0.12, train_acc: 96.0, val_loss: 0.13, val_acc: 97.9\n",
      "Epoch: 8 | train_loss: 0.19, train_acc: 93.5, val_loss: 0.16, val_acc: 95.8\n",
      "Stopping early!\n",
      "\n",
      "MODEL_NUM: 4, hidden_dim: 50, dropout_p: 0.1, learning_rate: 0.01\n",
      "Epoch: 0 | train_loss: 0.74, train_acc: 55.8, val_loss: 0.61, val_acc: 61.5\n",
      "Epoch: 1 | train_loss: 0.53, train_acc: 70.2, val_loss: 0.47, val_acc: 75.5\n",
      "Epoch: 2 | train_loss: 0.40, train_acc: 84.6, val_loss: 0.35, val_acc: 84.9\n",
      "Epoch: 3 | train_loss: 0.31, train_acc: 89.6, val_loss: 0.28, val_acc: 88.5\n",
      "Epoch: 4 | train_loss: 0.25, train_acc: 92.6, val_loss: 0.24, val_acc: 91.1\n",
      "Epoch: 5 | train_loss: 0.22, train_acc: 92.5, val_loss: 0.21, val_acc: 91.7\n",
      "Epoch: 6 | train_loss: 0.20, train_acc: 93.4, val_loss: 0.19, val_acc: 93.2\n",
      "Epoch: 7 | train_loss: 0.17, train_acc: 94.4, val_loss: 0.17, val_acc: 95.8\n",
      "Epoch: 8 | train_loss: 0.17, train_acc: 94.9, val_loss: 0.16, val_acc: 95.8\n",
      "Epoch: 9 | train_loss: 0.15, train_acc: 95.2, val_loss: 0.15, val_acc: 94.8\n",
      "\n",
      "MODEL_NUM: 5, hidden_dim: 50, dropout_p: 0.1, learning_rate: 0.001\n",
      "Epoch: 0 | train_loss: 1.03, train_acc: 48.8, val_loss: 0.93, val_acc: 59.4\n",
      "Epoch: 1 | train_loss: 0.86, train_acc: 60.3, val_loss: 0.82, val_acc: 55.7\n",
      "Epoch: 2 | train_loss: 0.78, train_acc: 56.7, val_loss: 0.75, val_acc: 54.2\n",
      "Epoch: 3 | train_loss: 0.72, train_acc: 57.5, val_loss: 0.71, val_acc: 55.7\n",
      "Epoch: 4 | train_loss: 0.69, train_acc: 58.2, val_loss: 0.68, val_acc: 57.3\n",
      "Epoch: 5 | train_loss: 0.67, train_acc: 58.6, val_loss: 0.66, val_acc: 58.3\n",
      "Epoch: 6 | train_loss: 0.64, train_acc: 60.2, val_loss: 0.64, val_acc: 59.4\n",
      "Epoch: 7 | train_loss: 0.62, train_acc: 60.6, val_loss: 0.62, val_acc: 62.0\n",
      "Epoch: 8 | train_loss: 0.61, train_acc: 63.0, val_loss: 0.60, val_acc: 66.1\n",
      "Epoch: 9 | train_loss: 0.58, train_acc: 66.3, val_loss: 0.58, val_acc: 65.6\n",
      "\n",
      "MODEL_NUM: 6, hidden_dim: 50, dropout_p: 0.2, learning_rate: 0.1\n",
      "Epoch: 0 | train_loss: 0.52, train_acc: 75.9, val_loss: 0.29, val_acc: 83.9\n",
      "Epoch: 1 | train_loss: 0.20, train_acc: 92.6, val_loss: 0.19, val_acc: 90.1\n",
      "Epoch: 2 | train_loss: 0.23, train_acc: 91.6, val_loss: 0.26, val_acc: 87.0\n",
      "Epoch: 3 | train_loss: 0.15, train_acc: 94.0, val_loss: 0.10, val_acc: 99.5\n",
      "Epoch: 4 | train_loss: 0.13, train_acc: 95.3, val_loss: 0.13, val_acc: 97.9\n",
      "Epoch: 5 | train_loss: 0.13, train_acc: 94.7, val_loss: 0.13, val_acc: 94.3\n",
      "Epoch: 6 | train_loss: 0.12, train_acc: 94.9, val_loss: 0.08, val_acc: 97.9\n",
      "Epoch: 7 | train_loss: 0.15, train_acc: 95.7, val_loss: 0.10, val_acc: 96.4\n",
      "Epoch: 8 | train_loss: 0.12, train_acc: 96.0, val_loss: 0.07, val_acc: 100.0\n",
      "Epoch: 9 | train_loss: 0.09, train_acc: 96.6, val_loss: 0.09, val_acc: 96.9\n",
      "\n",
      "MODEL_NUM: 7, hidden_dim: 50, dropout_p: 0.2, learning_rate: 0.01\n",
      "Epoch: 0 | train_loss: 0.75, train_acc: 55.5, val_loss: 0.65, val_acc: 58.3\n",
      "Epoch: 1 | train_loss: 0.57, train_acc: 68.8, val_loss: 0.51, val_acc: 72.9\n",
      "Epoch: 2 | train_loss: 0.43, train_acc: 81.4, val_loss: 0.39, val_acc: 85.9\n",
      "Epoch: 3 | train_loss: 0.33, train_acc: 90.3, val_loss: 0.31, val_acc: 87.5\n",
      "Epoch: 4 | train_loss: 0.26, train_acc: 91.0, val_loss: 0.25, val_acc: 91.1\n",
      "Epoch: 5 | train_loss: 0.23, train_acc: 93.1, val_loss: 0.22, val_acc: 91.7\n",
      "Epoch: 6 | train_loss: 0.19, train_acc: 93.8, val_loss: 0.21, val_acc: 92.2\n",
      "Epoch: 7 | train_loss: 0.18, train_acc: 94.6, val_loss: 0.18, val_acc: 93.2\n",
      "Epoch: 8 | train_loss: 0.18, train_acc: 94.7, val_loss: 0.17, val_acc: 94.8\n",
      "Epoch: 9 | train_loss: 0.15, train_acc: 95.0, val_loss: 0.16, val_acc: 95.8\n",
      "\n",
      "MODEL_NUM: 8, hidden_dim: 50, dropout_p: 0.2, learning_rate: 0.001\n",
      "Epoch: 0 | train_loss: 0.99, train_acc: 48.8, val_loss: 0.92, val_acc: 49.5\n",
      "Epoch: 1 | train_loss: 0.86, train_acc: 55.6, val_loss: 0.83, val_acc: 55.7\n",
      "Epoch: 2 | train_loss: 0.79, train_acc: 57.3, val_loss: 0.77, val_acc: 56.2\n",
      "Epoch: 3 | train_loss: 0.74, train_acc: 56.0, val_loss: 0.73, val_acc: 57.3\n",
      "Epoch: 4 | train_loss: 0.70, train_acc: 57.6, val_loss: 0.70, val_acc: 57.8\n",
      "Epoch: 5 | train_loss: 0.67, train_acc: 59.7, val_loss: 0.67, val_acc: 58.9\n",
      "Epoch: 6 | train_loss: 0.65, train_acc: 61.0, val_loss: 0.65, val_acc: 59.9\n",
      "Epoch: 7 | train_loss: 0.62, train_acc: 61.8, val_loss: 0.63, val_acc: 62.0\n",
      "Epoch: 8 | train_loss: 0.60, train_acc: 64.1, val_loss: 0.60, val_acc: 65.1\n",
      "Epoch: 9 | train_loss: 0.58, train_acc: 65.9, val_loss: 0.58, val_acc: 65.1\n",
      "\n",
      "MODEL_NUM: 9, hidden_dim: 100, dropout_p: 0.0, learning_rate: 0.1\n",
      "Epoch: 0 | train_loss: 0.51, train_acc: 79.8, val_loss: 0.24, val_acc: 90.1\n",
      "Epoch: 1 | train_loss: 0.19, train_acc: 92.9, val_loss: 0.15, val_acc: 94.3\n",
      "Epoch: 2 | train_loss: 0.15, train_acc: 93.9, val_loss: 0.11, val_acc: 97.9\n",
      "Epoch: 3 | train_loss: 0.09, train_acc: 96.5, val_loss: 0.06, val_acc: 99.5\n",
      "Epoch: 4 | train_loss: 0.08, train_acc: 97.2, val_loss: 0.05, val_acc: 98.4\n",
      "Epoch: 5 | train_loss: 0.08, train_acc: 96.4, val_loss: 0.04, val_acc: 99.5\n",
      "Epoch: 6 | train_loss: 0.08, train_acc: 97.3, val_loss: 0.13, val_acc: 98.4\n",
      "Epoch: 7 | train_loss: 0.12, train_acc: 96.1, val_loss: 0.28, val_acc: 96.9\n",
      "Epoch: 8 | train_loss: 0.15, train_acc: 94.9, val_loss: 0.06, val_acc: 97.9\n",
      "Stopping early!\n",
      "\n",
      "MODEL_NUM: 10, hidden_dim: 100, dropout_p: 0.0, learning_rate: 0.01\n",
      "Epoch: 0 | train_loss: 0.67, train_acc: 60.1, val_loss: 0.48, val_acc: 74.0\n",
      "Epoch: 1 | train_loss: 0.37, train_acc: 87.5, val_loss: 0.32, val_acc: 85.9\n"
     ]
    },
    {
     "name": "stdout",
     "output_type": "stream",
     "text": [
      "Epoch: 2 | train_loss: 0.24, train_acc: 92.1, val_loss: 0.23, val_acc: 91.1\n",
      "Epoch: 3 | train_loss: 0.18, train_acc: 94.6, val_loss: 0.19, val_acc: 92.2\n",
      "Epoch: 4 | train_loss: 0.14, train_acc: 96.2, val_loss: 0.15, val_acc: 96.4\n",
      "Epoch: 5 | train_loss: 0.12, train_acc: 96.4, val_loss: 0.13, val_acc: 96.4\n",
      "Epoch: 6 | train_loss: 0.10, train_acc: 97.2, val_loss: 0.11, val_acc: 96.4\n",
      "Epoch: 7 | train_loss: 0.09, train_acc: 96.8, val_loss: 0.11, val_acc: 96.4\n",
      "Epoch: 8 | train_loss: 0.09, train_acc: 97.5, val_loss: 0.11, val_acc: 99.0\n",
      "Epoch: 9 | train_loss: 0.09, train_acc: 97.2, val_loss: 0.09, val_acc: 97.4\n",
      "\n",
      "MODEL_NUM: 11, hidden_dim: 100, dropout_p: 0.0, learning_rate: 0.001\n",
      "Epoch: 0 | train_loss: 0.97, train_acc: 46.5, val_loss: 0.85, val_acc: 54.7\n",
      "Epoch: 1 | train_loss: 0.78, train_acc: 55.5, val_loss: 0.75, val_acc: 56.2\n",
      "Epoch: 2 | train_loss: 0.71, train_acc: 58.0, val_loss: 0.70, val_acc: 55.2\n",
      "Epoch: 3 | train_loss: 0.66, train_acc: 60.7, val_loss: 0.66, val_acc: 57.8\n",
      "Epoch: 4 | train_loss: 0.62, train_acc: 60.9, val_loss: 0.62, val_acc: 61.5\n",
      "Epoch: 5 | train_loss: 0.58, train_acc: 65.3, val_loss: 0.59, val_acc: 64.6\n",
      "Epoch: 6 | train_loss: 0.56, train_acc: 68.2, val_loss: 0.56, val_acc: 69.8\n",
      "Epoch: 7 | train_loss: 0.53, train_acc: 71.7, val_loss: 0.53, val_acc: 71.9\n",
      "Epoch: 8 | train_loss: 0.49, train_acc: 76.6, val_loss: 0.50, val_acc: 75.5\n",
      "Epoch: 9 | train_loss: 0.47, train_acc: 78.5, val_loss: 0.47, val_acc: 78.1\n",
      "\n",
      "MODEL_NUM: 12, hidden_dim: 100, dropout_p: 0.1, learning_rate: 0.1\n",
      "Epoch: 0 | train_loss: 0.53, train_acc: 78.9, val_loss: 0.25, val_acc: 87.0\n",
      "Epoch: 1 | train_loss: 0.18, train_acc: 93.8, val_loss: 0.14, val_acc: 94.3\n",
      "Epoch: 2 | train_loss: 0.12, train_acc: 96.1, val_loss: 0.10, val_acc: 95.3\n",
      "Epoch: 3 | train_loss: 0.12, train_acc: 95.6, val_loss: 0.13, val_acc: 96.9\n",
      "Epoch: 4 | train_loss: 0.19, train_acc: 93.3, val_loss: 0.13, val_acc: 92.2\n",
      "Epoch: 5 | train_loss: 0.10, train_acc: 96.1, val_loss: 0.06, val_acc: 97.9\n",
      "Epoch: 6 | train_loss: 0.06, train_acc: 97.6, val_loss: 0.04, val_acc: 99.5\n",
      "Epoch: 7 | train_loss: 0.09, train_acc: 96.7, val_loss: 0.06, val_acc: 97.9\n",
      "Epoch: 8 | train_loss: 0.12, train_acc: 95.9, val_loss: 0.06, val_acc: 98.4\n",
      "Epoch: 9 | train_loss: 0.08, train_acc: 96.9, val_loss: 0.07, val_acc: 99.0\n",
      "Stopping early!\n",
      "\n",
      "MODEL_NUM: 13, hidden_dim: 100, dropout_p: 0.1, learning_rate: 0.01\n",
      "Epoch: 0 | train_loss: 0.67, train_acc: 61.8, val_loss: 0.50, val_acc: 73.4\n",
      "Epoch: 1 | train_loss: 0.37, train_acc: 87.4, val_loss: 0.31, val_acc: 87.5\n",
      "Epoch: 2 | train_loss: 0.24, train_acc: 92.4, val_loss: 0.23, val_acc: 91.7\n",
      "Epoch: 3 | train_loss: 0.18, train_acc: 95.5, val_loss: 0.18, val_acc: 93.8\n",
      "Epoch: 4 | train_loss: 0.15, train_acc: 95.7, val_loss: 0.15, val_acc: 95.8\n",
      "Epoch: 5 | train_loss: 0.12, train_acc: 96.3, val_loss: 0.13, val_acc: 95.8\n",
      "Epoch: 6 | train_loss: 0.11, train_acc: 96.4, val_loss: 0.11, val_acc: 98.4\n",
      "Epoch: 7 | train_loss: 0.10, train_acc: 97.4, val_loss: 0.11, val_acc: 96.4\n",
      "Epoch: 8 | train_loss: 0.08, train_acc: 97.3, val_loss: 0.10, val_acc: 99.0\n",
      "Epoch: 9 | train_loss: 0.08, train_acc: 97.4, val_loss: 0.08, val_acc: 100.0\n",
      "\n",
      "MODEL_NUM: 14, hidden_dim: 100, dropout_p: 0.1, learning_rate: 0.001\n",
      "Epoch: 0 | train_loss: 0.94, train_acc: 52.0, val_loss: 0.81, val_acc: 55.2\n",
      "Epoch: 1 | train_loss: 0.75, train_acc: 58.5, val_loss: 0.72, val_acc: 54.7\n",
      "Epoch: 2 | train_loss: 0.68, train_acc: 58.2, val_loss: 0.67, val_acc: 56.2\n",
      "Epoch: 3 | train_loss: 0.64, train_acc: 61.2, val_loss: 0.64, val_acc: 60.9\n",
      "Epoch: 4 | train_loss: 0.60, train_acc: 62.9, val_loss: 0.61, val_acc: 64.1\n",
      "Epoch: 5 | train_loss: 0.57, train_acc: 66.2, val_loss: 0.58, val_acc: 66.7\n",
      "Epoch: 6 | train_loss: 0.55, train_acc: 69.2, val_loss: 0.55, val_acc: 68.2\n",
      "Epoch: 7 | train_loss: 0.51, train_acc: 74.3, val_loss: 0.53, val_acc: 71.4\n",
      "Epoch: 8 | train_loss: 0.49, train_acc: 77.9, val_loss: 0.50, val_acc: 74.5\n",
      "Epoch: 9 | train_loss: 0.47, train_acc: 79.8, val_loss: 0.48, val_acc: 77.1\n",
      "\n",
      "MODEL_NUM: 15, hidden_dim: 100, dropout_p: 0.2, learning_rate: 0.1\n",
      "Epoch: 0 | train_loss: 0.61, train_acc: 75.5, val_loss: 0.30, val_acc: 88.5\n",
      "Epoch: 1 | train_loss: 0.18, train_acc: 93.1, val_loss: 0.14, val_acc: 96.4\n",
      "Epoch: 2 | train_loss: 0.15, train_acc: 94.0, val_loss: 0.17, val_acc: 92.7\n",
      "Epoch: 3 | train_loss: 0.17, train_acc: 94.2, val_loss: 0.08, val_acc: 97.4\n",
      "Epoch: 4 | train_loss: 0.09, train_acc: 96.3, val_loss: 0.08, val_acc: 98.4\n",
      "Epoch: 5 | train_loss: 0.12, train_acc: 96.1, val_loss: 0.10, val_acc: 95.3\n",
      "Epoch: 6 | train_loss: 0.14, train_acc: 94.6, val_loss: 0.13, val_acc: 95.3\n",
      "Epoch: 7 | train_loss: 0.17, train_acc: 94.2, val_loss: 0.07, val_acc: 97.9\n",
      "Epoch: 8 | train_loss: 0.15, train_acc: 95.2, val_loss: 0.10, val_acc: 96.4\n",
      "Epoch: 9 | train_loss: 0.07, train_acc: 97.2, val_loss: 0.06, val_acc: 99.0\n",
      "\n",
      "MODEL_NUM: 16, hidden_dim: 100, dropout_p: 0.2, learning_rate: 0.01\n",
      "Epoch: 0 | train_loss: 0.70, train_acc: 58.0, val_loss: 0.50, val_acc: 71.9\n",
      "Epoch: 1 | train_loss: 0.39, train_acc: 85.4, val_loss: 0.32, val_acc: 86.5\n",
      "Epoch: 2 | train_loss: 0.25, train_acc: 92.5, val_loss: 0.23, val_acc: 92.7\n",
      "Epoch: 3 | train_loss: 0.18, train_acc: 94.8, val_loss: 0.19, val_acc: 94.8\n",
      "Epoch: 4 | train_loss: 0.15, train_acc: 95.4, val_loss: 0.17, val_acc: 95.8\n",
      "Epoch: 5 | train_loss: 0.13, train_acc: 95.8, val_loss: 0.14, val_acc: 96.4\n",
      "Epoch: 6 | train_loss: 0.11, train_acc: 96.7, val_loss: 0.12, val_acc: 96.9\n",
      "Epoch: 7 | train_loss: 0.10, train_acc: 96.9, val_loss: 0.12, val_acc: 96.9\n",
      "Epoch: 8 | train_loss: 0.09, train_acc: 97.2, val_loss: 0.10, val_acc: 99.0\n",
      "Epoch: 9 | train_loss: 0.08, train_acc: 97.7, val_loss: 0.08, val_acc: 100.0\n",
      "\n",
      "MODEL_NUM: 17, hidden_dim: 100, dropout_p: 0.2, learning_rate: 0.001\n",
      "Epoch: 0 | train_loss: 0.94, train_acc: 48.5, val_loss: 0.82, val_acc: 52.6\n",
      "Epoch: 1 | train_loss: 0.76, train_acc: 55.9, val_loss: 0.74, val_acc: 54.2\n",
      "Epoch: 2 | train_loss: 0.71, train_acc: 56.9, val_loss: 0.70, val_acc: 56.2\n",
      "Epoch: 3 | train_loss: 0.66, train_acc: 59.0, val_loss: 0.66, val_acc: 58.3\n",
      "Epoch: 4 | train_loss: 0.62, train_acc: 60.8, val_loss: 0.63, val_acc: 63.5\n",
      "Epoch: 5 | train_loss: 0.59, train_acc: 63.9, val_loss: 0.59, val_acc: 65.1\n",
      "Epoch: 6 | train_loss: 0.56, train_acc: 67.9, val_loss: 0.56, val_acc: 68.2\n",
      "Epoch: 7 | train_loss: 0.53, train_acc: 71.6, val_loss: 0.53, val_acc: 71.4\n",
      "Epoch: 8 | train_loss: 0.50, train_acc: 77.0, val_loss: 0.50, val_acc: 75.0\n",
      "Epoch: 9 | train_loss: 0.47, train_acc: 79.8, val_loss: 0.48, val_acc: 76.6\n",
      "\n",
      "MODEL_NUM: 18, hidden_dim: 200, dropout_p: 0.0, learning_rate: 0.1\n",
      "Epoch: 0 | train_loss: 0.63, train_acc: 80.2, val_loss: 0.18, val_acc: 90.6\n",
      "Epoch: 1 | train_loss: 0.14, train_acc: 93.9, val_loss: 0.09, val_acc: 97.9\n",
      "Epoch: 2 | train_loss: 0.08, train_acc: 96.5, val_loss: 0.07, val_acc: 97.9\n",
      "Epoch: 3 | train_loss: 0.12, train_acc: 95.2, val_loss: 0.14, val_acc: 94.3\n",
      "Epoch: 4 | train_loss: 0.11, train_acc: 95.6, val_loss: 0.11, val_acc: 97.4\n",
      "Epoch: 5 | train_loss: 0.27, train_acc: 92.8, val_loss: 0.14, val_acc: 95.8\n",
      "Stopping early!\n",
      "\n",
      "MODEL_NUM: 19, hidden_dim: 200, dropout_p: 0.0, learning_rate: 0.01\n",
      "Epoch: 0 | train_loss: 0.62, train_acc: 66.1, val_loss: 0.42, val_acc: 84.4\n",
      "Epoch: 1 | train_loss: 0.28, train_acc: 92.0, val_loss: 0.24, val_acc: 90.6\n",
      "Epoch: 2 | train_loss: 0.17, train_acc: 95.8, val_loss: 0.16, val_acc: 96.4\n",
      "Epoch: 3 | train_loss: 0.12, train_acc: 96.4, val_loss: 0.13, val_acc: 96.4\n",
      "Epoch: 4 | train_loss: 0.10, train_acc: 97.0, val_loss: 0.11, val_acc: 99.0\n",
      "Epoch: 5 | train_loss: 0.08, train_acc: 97.4, val_loss: 0.09, val_acc: 97.4\n",
      "Epoch: 6 | train_loss: 0.07, train_acc: 98.2, val_loss: 0.08, val_acc: 99.5\n",
      "Epoch: 7 | train_loss: 0.06, train_acc: 98.3, val_loss: 0.08, val_acc: 99.5\n",
      "Epoch: 8 | train_loss: 0.06, train_acc: 98.3, val_loss: 0.06, val_acc: 100.0\n",
      "Epoch: 9 | train_loss: 0.06, train_acc: 98.1, val_loss: 0.06, val_acc: 99.0\n",
      "\n",
      "MODEL_NUM: 20, hidden_dim: 200, dropout_p: 0.0, learning_rate: 0.001\n",
      "Epoch: 0 | train_loss: 0.91, train_acc: 52.2, val_loss: 0.76, val_acc: 54.7\n",
      "Epoch: 1 | train_loss: 0.70, train_acc: 58.0, val_loss: 0.68, val_acc: 56.2\n",
      "Epoch: 2 | train_loss: 0.63, train_acc: 60.6, val_loss: 0.62, val_acc: 61.5\n",
      "Epoch: 3 | train_loss: 0.57, train_acc: 67.2, val_loss: 0.56, val_acc: 67.7\n",
      "Epoch: 4 | train_loss: 0.52, train_acc: 72.3, val_loss: 0.51, val_acc: 72.9\n"
     ]
    },
    {
     "name": "stdout",
     "output_type": "stream",
     "text": [
      "Epoch: 5 | train_loss: 0.46, train_acc: 78.5, val_loss: 0.46, val_acc: 75.0\n",
      "Epoch: 6 | train_loss: 0.42, train_acc: 83.9, val_loss: 0.42, val_acc: 78.6\n",
      "Epoch: 7 | train_loss: 0.37, train_acc: 86.5, val_loss: 0.38, val_acc: 81.2\n",
      "Epoch: 8 | train_loss: 0.35, train_acc: 88.7, val_loss: 0.35, val_acc: 83.3\n",
      "Epoch: 9 | train_loss: 0.31, train_acc: 91.0, val_loss: 0.33, val_acc: 85.4\n",
      "\n",
      "MODEL_NUM: 21, hidden_dim: 200, dropout_p: 0.1, learning_rate: 0.1\n",
      "Epoch: 0 | train_loss: 0.57, train_acc: 82.6, val_loss: 0.17, val_acc: 91.7\n",
      "Epoch: 1 | train_loss: 0.17, train_acc: 93.2, val_loss: 0.16, val_acc: 91.1\n",
      "Epoch: 2 | train_loss: 0.10, train_acc: 96.4, val_loss: 0.07, val_acc: 99.5\n",
      "Epoch: 3 | train_loss: 0.12, train_acc: 95.7, val_loss: 0.06, val_acc: 98.4\n",
      "Epoch: 4 | train_loss: 0.12, train_acc: 95.2, val_loss: 0.05, val_acc: 99.0\n",
      "Epoch: 5 | train_loss: 0.09, train_acc: 96.6, val_loss: 0.21, val_acc: 95.8\n",
      "Epoch: 6 | train_loss: 0.16, train_acc: 94.3, val_loss: 0.19, val_acc: 95.3\n",
      "Epoch: 7 | train_loss: 0.11, train_acc: 96.4, val_loss: 0.08, val_acc: 99.0\n",
      "Stopping early!\n",
      "\n",
      "MODEL_NUM: 22, hidden_dim: 200, dropout_p: 0.1, learning_rate: 0.01\n",
      "Epoch: 0 | train_loss: 0.60, train_acc: 67.1, val_loss: 0.40, val_acc: 85.4\n",
      "Epoch: 1 | train_loss: 0.29, train_acc: 90.8, val_loss: 0.24, val_acc: 90.6\n",
      "Epoch: 2 | train_loss: 0.17, train_acc: 94.7, val_loss: 0.17, val_acc: 96.4\n",
      "Epoch: 3 | train_loss: 0.12, train_acc: 96.3, val_loss: 0.14, val_acc: 96.4\n",
      "Epoch: 4 | train_loss: 0.10, train_acc: 97.5, val_loss: 0.11, val_acc: 96.9\n",
      "Epoch: 5 | train_loss: 0.09, train_acc: 98.3, val_loss: 0.09, val_acc: 98.4\n",
      "Epoch: 6 | train_loss: 0.08, train_acc: 97.7, val_loss: 0.09, val_acc: 99.0\n",
      "Epoch: 7 | train_loss: 0.07, train_acc: 97.7, val_loss: 0.08, val_acc: 99.0\n",
      "Epoch: 8 | train_loss: 0.06, train_acc: 98.2, val_loss: 0.06, val_acc: 99.0\n",
      "Epoch: 9 | train_loss: 0.06, train_acc: 98.2, val_loss: 0.06, val_acc: 99.5\n",
      "\n",
      "MODEL_NUM: 23, hidden_dim: 200, dropout_p: 0.1, learning_rate: 0.001\n",
      "Epoch: 0 | train_loss: 0.91, train_acc: 52.1, val_loss: 0.74, val_acc: 56.8\n",
      "Epoch: 1 | train_loss: 0.68, train_acc: 59.0, val_loss: 0.66, val_acc: 57.8\n",
      "Epoch: 2 | train_loss: 0.61, train_acc: 62.1, val_loss: 0.60, val_acc: 63.0\n",
      "Epoch: 3 | train_loss: 0.55, train_acc: 67.9, val_loss: 0.55, val_acc: 68.2\n",
      "Epoch: 4 | train_loss: 0.50, train_acc: 74.8, val_loss: 0.50, val_acc: 72.9\n",
      "Epoch: 5 | train_loss: 0.45, train_acc: 80.9, val_loss: 0.46, val_acc: 78.6\n",
      "Epoch: 6 | train_loss: 0.41, train_acc: 84.2, val_loss: 0.42, val_acc: 82.8\n",
      "Epoch: 7 | train_loss: 0.37, train_acc: 86.8, val_loss: 0.39, val_acc: 83.9\n",
      "Epoch: 8 | train_loss: 0.34, train_acc: 89.0, val_loss: 0.36, val_acc: 84.9\n",
      "Epoch: 9 | train_loss: 0.31, train_acc: 90.8, val_loss: 0.33, val_acc: 86.5\n",
      "\n",
      "MODEL_NUM: 24, hidden_dim: 200, dropout_p: 0.2, learning_rate: 0.1\n",
      "Epoch: 0 | train_loss: 0.62, train_acc: 81.3, val_loss: 0.19, val_acc: 90.6\n",
      "Epoch: 1 | train_loss: 0.15, train_acc: 94.2, val_loss: 0.16, val_acc: 91.7\n",
      "Epoch: 2 | train_loss: 0.12, train_acc: 95.6, val_loss: 0.09, val_acc: 98.4\n",
      "Epoch: 3 | train_loss: 0.14, train_acc: 95.7, val_loss: 0.14, val_acc: 93.8\n",
      "Epoch: 4 | train_loss: 0.16, train_acc: 93.7, val_loss: 0.27, val_acc: 90.6\n",
      "Epoch: 5 | train_loss: 0.11, train_acc: 96.0, val_loss: 0.09, val_acc: 98.4\n",
      "Stopping early!\n",
      "\n",
      "MODEL_NUM: 25, hidden_dim: 200, dropout_p: 0.2, learning_rate: 0.01\n",
      "Epoch: 0 | train_loss: 0.62, train_acc: 67.3, val_loss: 0.41, val_acc: 81.2\n",
      "Epoch: 1 | train_loss: 0.29, train_acc: 90.9, val_loss: 0.24, val_acc: 90.1\n",
      "Epoch: 2 | train_loss: 0.17, train_acc: 94.5, val_loss: 0.18, val_acc: 94.8\n",
      "Epoch: 3 | train_loss: 0.13, train_acc: 96.4, val_loss: 0.14, val_acc: 96.9\n",
      "Epoch: 4 | train_loss: 0.10, train_acc: 97.6, val_loss: 0.12, val_acc: 95.8\n",
      "Epoch: 5 | train_loss: 0.09, train_acc: 97.5, val_loss: 0.09, val_acc: 98.4\n",
      "Epoch: 6 | train_loss: 0.08, train_acc: 97.2, val_loss: 0.09, val_acc: 99.0\n",
      "Epoch: 7 | train_loss: 0.07, train_acc: 97.7, val_loss: 0.08, val_acc: 99.5\n",
      "Epoch: 8 | train_loss: 0.06, train_acc: 98.0, val_loss: 0.08, val_acc: 99.0\n",
      "Epoch: 9 | train_loss: 0.06, train_acc: 97.8, val_loss: 0.06, val_acc: 99.5\n",
      "\n",
      "MODEL_NUM: 26, hidden_dim: 200, dropout_p: 0.2, learning_rate: 0.001\n",
      "Epoch: 0 | train_loss: 0.86, train_acc: 54.1, val_loss: 0.73, val_acc: 55.2\n",
      "Epoch: 1 | train_loss: 0.67, train_acc: 58.5, val_loss: 0.65, val_acc: 59.4\n",
      "Epoch: 2 | train_loss: 0.61, train_acc: 62.3, val_loss: 0.59, val_acc: 64.1\n",
      "Epoch: 3 | train_loss: 0.55, train_acc: 67.8, val_loss: 0.54, val_acc: 67.7\n",
      "Epoch: 4 | train_loss: 0.49, train_acc: 75.1, val_loss: 0.49, val_acc: 74.5\n",
      "Epoch: 5 | train_loss: 0.44, train_acc: 80.9, val_loss: 0.44, val_acc: 78.1\n",
      "Epoch: 6 | train_loss: 0.40, train_acc: 85.8, val_loss: 0.41, val_acc: 80.7\n",
      "Epoch: 7 | train_loss: 0.36, train_acc: 87.8, val_loss: 0.37, val_acc: 83.9\n",
      "Epoch: 8 | train_loss: 0.33, train_acc: 89.8, val_loss: 0.34, val_acc: 87.0\n",
      "Epoch: 9 | train_loss: 0.30, train_acc: 91.1, val_loss: 0.32, val_acc: 87.5\n"
     ]
    }
   ],
   "source": [
    "model_num = 0\n",
    "for hidden_dim in hidden_dim_list:\n",
    "    for dropout_p in dropout_p_list:\n",
    "        for learning_rate in learning_rate_list:\n",
    "\n",
    "            # Create writer to store values \n",
    "            log_dir = f'tensorboard/hparam_tuning/spiral_MLP_{model_num}'\n",
    "            print (f\"\\nMODEL_NUM: {model_num}, hidden_dim: {hidden_dim}, dropout_p: {dropout_p}, learning_rate: {learning_rate}\")\n",
    "            model_num += 1\n",
    "            writer = SummaryWriter(log_dir=log_dir)\n",
    "\n",
    "            # Initialize\n",
    "            model = MLP(input_dim=INPUT_DIM, hidden_dim=hidden_dim, \n",
    "                        dropout_p=DROPOUT_P, num_classes=NUM_CLASSES).to(device)\n",
    "            optimizer = Adam(model.parameters(), lr=learning_rate) \n",
    "            scheduler = ReduceLROnPlateau(optimizer, mode='min', factor=0.1, patience=3)\n",
    "\n",
    "            # Train\n",
    "            trainer = Trainer(train_loader=train_loader, val_loader=val_loader, test_loader=test_loader, \n",
    "                              model=model, optimizer=optimizer, scheduler=scheduler, \n",
    "                              loss_fn=loss_fn, accuracy_fn=accuracy_fn, patience=PATIENCE, \n",
    "                              model_path=MODEL_PATH, writer=writer, device=device)\n",
    "            train_loss, train_acc, val_loss, val_acc, best_val_loss = trainer.train_loop(num_epochs=NUM_EPOCHS)\n",
    "\n",
    "\n",
    "            # Write hyperparamters to TensorBoard\n",
    "            hparams = {\n",
    "                'hidden_dim': hidden_dim, \n",
    "                'dropout_p': dropout_p, \n",
    "                'learning_rate': learning_rate\n",
    "            }\n",
    "            writer.add_hparams(hparam_dict=hparams, metric_dict={'val_loss': best_val_loss})"
   ]
  },
  {
   "cell_type": "code",
   "execution_count": 67,
   "metadata": {
    "colab": {
     "base_uri": "https://localhost:8080/",
     "height": 800
    },
    "colab_type": "code",
    "id": "kKCNTXS5sgK7",
    "outputId": "7350b3c4-a710-4843-f202-91ad401d7b3a"
   },
   "outputs": [
    {
     "data": {
      "text/html": [
       "\n",
       "      <iframe id=\"tensorboard-frame-225828b8c8244a89\" width=\"100%\" height=\"800\" frameborder=\"0\">\n",
       "      </iframe>\n",
       "      <script>\n",
       "        (function() {\n",
       "          const frame = document.getElementById(\"tensorboard-frame-225828b8c8244a89\");\n",
       "          const url = new URL(\"/\", window.location);\n",
       "          url.port = 6007;\n",
       "          frame.src = url;\n",
       "        })();\n",
       "      </script>\n",
       "  "
      ],
      "text/plain": [
       "<IPython.core.display.HTML object>"
      ]
     },
     "metadata": {},
     "output_type": "display_data"
    }
   ],
   "source": [
    "%tensorboard --logdir tensorboard/hparam_tuning"
   ]
  },
  {
   "cell_type": "markdown",
   "metadata": {
    "colab_type": "text",
    "id": "12v5INxIXHtr"
   },
   "source": [
    "Go to `HPARAMS` > `PARALLEL COORDINATES VIEW` to see the best combinations of hyperparameters against the validation loss. The best hyperparameters seem to be `hidden_dim`=100, `dropout_p`=0.2, `learning_rate`=1e-1."
   ]
  },
  {
   "cell_type": "markdown",
   "metadata": {
    "colab_type": "text",
    "id": "4hgPIZ7vGvR9"
   },
   "source": [
    "---\n",
    "Share and discover ML projects at <a href=\"https://madewithml.com/\">Made With ML</a>.\n",
    "\n",
    "<div align=\"left\">\n",
    "<a class=\"ai-header-badge\" target=\"_blank\" href=\"https://github.com/madewithml/lessons\"><img src=\"https://img.shields.io/github/stars/madewithml/lessons.svg?style=social&label=Star\"></a>&nbsp;\n",
    "<a class=\"ai-header-badge\" target=\"_blank\" href=\"https://www.linkedin.com/company/madewithml\"><img src=\"https://img.shields.io/badge/style--5eba00.svg?label=LinkedIn&logo=linkedin&style=social\"></a>&nbsp;\n",
    "<a class=\"ai-header-badge\" target=\"_blank\" href=\"https://twitter.com/madewithml\"><img src=\"https://img.shields.io/twitter/follow/madewithml.svg?label=Follow&style=social\"></a>\n",
    "</div>\n",
    "             "
   ]
  }
 ],
 "metadata": {
  "accelerator": "GPU",
  "colab": {
   "collapsed_sections": [],
   "machine_shape": "hm",
   "name": "05_PT_Utilities",
   "provenance": [],
   "toc_visible": true
  },
  "kernelspec": {
   "display_name": "Python 3",
   "language": "python",
   "name": "python3"
  },
  "language_info": {
   "codemirror_mode": {
    "name": "ipython",
    "version": 3
   },
   "file_extension": ".py",
   "mimetype": "text/x-python",
   "name": "python",
   "nbconvert_exporter": "python",
   "pygments_lexer": "ipython3",
   "version": "3.7.6"
  },
  "toc": {
   "base_numbering": 1,
   "nav_menu": {},
   "number_sections": true,
   "sideBar": true,
   "skip_h1_title": false,
   "title_cell": "Table of Contents",
   "title_sidebar": "Contents",
   "toc_cell": false,
   "toc_position": {},
   "toc_section_display": true,
   "toc_window_display": false
  }
 },
 "nbformat": 4,
 "nbformat_minor": 1
}
