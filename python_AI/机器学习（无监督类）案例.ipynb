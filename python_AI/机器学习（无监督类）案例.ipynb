{
 "cells": [
  {
   "cell_type": "markdown",
   "metadata": {
    "toc": true
   },
   "source": [
    "<h1>Table of Contents<span class=\"tocSkip\"></span></h1>\n",
    "<div class=\"toc\"><ul class=\"toc-item\"><li><span><a href=\"#类型示例和聚类\" data-toc-modified-id=\"类型示例和聚类-1\"><span class=\"toc-item-num\">1&nbsp;&nbsp;</span>类型示例和聚类</a></span></li><li><span><a href=\"#k-means聚类\" data-toc-modified-id=\"k-means聚类-2\"><span class=\"toc-item-num\">2&nbsp;&nbsp;</span>k-means聚类</a></span></li><li><span><a href=\"#实际案例：给动物们分类\" data-toc-modified-id=\"实际案例：给动物们分类-3\"><span class=\"toc-item-num\">3&nbsp;&nbsp;</span>实际案例：给动物们分类</a></span></li><li><span><a href=\"#结论：\" data-toc-modified-id=\"结论：-4\"><span class=\"toc-item-num\">4&nbsp;&nbsp;</span>结论：</a></span></li></ul></div>"
   ]
  },
  {
   "cell_type": "code",
   "execution_count": 76,
   "metadata": {
    "cell_style": "center"
   },
   "outputs": [],
   "source": [
    "import pylab\n",
    "import random"
   ]
  },
  {
   "cell_type": "code",
   "execution_count": 77,
   "metadata": {},
   "outputs": [],
   "source": [
    "#闵可夫斯基距离度量函数\n",
    "def minknowskiDist(v1, v2, p):\n",
    "    dist = 0.0\n",
    "    for i in range(len(v1)):\n",
    "        dist += abs(v1[i] - v2[i]) ** p\n",
    "\n",
    "    return dist ** (1.0 / p)"
   ]
  },
  {
   "cell_type": "markdown",
   "metadata": {},
   "source": [
    "# 类型示例和聚类"
   ]
  },
  {
   "cell_type": "code",
   "execution_count": 78,
   "metadata": {},
   "outputs": [],
   "source": [
    "#用Example来构建聚类实例，每个实例有一个名字、一个特征向量和一个可选的标签，distance方法返回两个实例之间的欧氏距离。\n",
    "class Example(object):\n",
    "    \n",
    "    def __init__(self, name, features, label = None):\n",
    "        #假设特征值为一个数值序列\n",
    "        self.name = name\n",
    "        self.features = features\n",
    "        self.label = label\n",
    "        \n",
    "    def dimensionality(self):#返回特征向量长度\n",
    "        return len(self.features)\n",
    "    \n",
    "    def getFeatures(self): #返回特征向量值\n",
    "        return self.features[:]\n",
    "    \n",
    "    def getLabel(self): #返回标签\n",
    "        return self.label\n",
    "    \n",
    "    def getName(self): #返回实例名字\n",
    "        return self.name\n",
    "    \n",
    "    def distance(self, other): #返回两个实例的欧式距离\n",
    "        return minknowskiDist(self.features, other.getFeatures(), 2)\n",
    "    \n",
    "    def __str__(self):\n",
    "        return self.name +':'+ str(self.features) + ':' + str(self.label)"
   ]
  },
  {
   "cell_type": "code",
   "execution_count": 79,
   "metadata": {},
   "outputs": [],
   "source": [
    "\"\"\"\n",
    "一个簇就是一组实例，质心（centroid）可以看作是簇的质心，computeCentroid方法会返回质心实例。\n",
    "它的特征向量等于簇中所有实例特征向量的欧式平均值\n",
    "\"\"\"\n",
    "\n",
    "class Cluster(object):\n",
    "    \n",
    "    def __init__(self, examples, exampleType):\n",
    "        \"\"\"Assumes examples is a list of example of type exampleType\"\"\"\n",
    "        self.examples = examples\n",
    "        self.exampleType = exampleType\n",
    "        self.centroid = self.computeCentroid()#质心的特征向量通过computeCentroid计算\n",
    "        \n",
    "    def update(self, examples):\n",
    "        \"\"\"Replace the examples in the cluster by new examples\n",
    "           Return how much the centroid has changed\"\"\"\n",
    "        oldCentroid = self.centroid\n",
    "        self.examples = examples\n",
    "        if len(examples) > 0:\n",
    "            self.centroid = self.computeCentroid()\n",
    "            return oldCentroid.distance(self.centroid)\n",
    "        else:\n",
    "            return 0.0\n",
    "        \n",
    "    def members(self):#簇中实例举例\n",
    "        for e in self.examples:\n",
    "            yield e\n",
    "        \n",
    "    def size(self):#实例表大小\n",
    "        return len(self.examples)\n",
    "    \n",
    "    def getCentroid(self):\n",
    "        return self.centroid\n",
    "    \n",
    "    def computeCentroid(self):\n",
    "        dim = self.examples[0].dimensionality()\n",
    "        totVals = pylab.array([0.0]*dim)\n",
    "        for e in self.examples:\n",
    "            totVals += e.getFeatures()\n",
    "        centroid = self.exampleType('centroid',\n",
    "                              totVals/float(len(self.examples)))#所有特征向量的欧式平均值\n",
    "        return centroid\n",
    "    \n",
    "    def variance(self):#本簇方差\n",
    "        totDist = 0.0\n",
    "        for e in self.examples:\n",
    "            totDist += (e.distance(self.centroid))**2\n",
    "        return totDist**0.5\n",
    "    \n",
    "    def __str__(self):\n",
    "        names = []\n",
    "        for e in self.examples:\n",
    "            names.append(e.getName())\n",
    "        names.sort()\n",
    "        result = 'Cluster with centroid '\\\n",
    "                 + str(self.centroid.getFeatures()) + ' contains:\\n  '\n",
    "        for e in names:\n",
    "            result = result + e + ', '\n",
    "        return result[:-2]"
   ]
  },
  {
   "cell_type": "markdown",
   "metadata": {},
   "source": [
    "# k-means聚类"
   ]
  },
  {
   "cell_type": "code",
   "execution_count": 80,
   "metadata": {},
   "outputs": [],
   "source": [
    "\"\"\"\n",
    "聚类方式有分层聚类、EM聚类和K-means等\n",
    "K-means聚类，可能是最常用的聚类方法，目标是把一组实例分割成K个簇，满足：\n",
    "（1）每个实例都处在质心距离实例质心最近的簇中，并且\n",
    "（2）所有簇的差异总和最小。\n",
    "\n",
    "算法（贪心算法）：\n",
    "1.随机选择K个实例作为初始质量心\n",
    "2.无线循环（while true）\n",
    "    （1）每个实例分配给最近的质量心，从而创建k个簇\n",
    "    （2）通过平均每个簇的实例来得到k个新质心\n",
    "    （3）若所有质心都和计算之前相同，返回当前的簇集合\n",
    "\"\"\"\n",
    "def kmeans(examples, exampleType, k, verbose):\n",
    "    \"\"\"Assumes examples is a list of examples of type exampleType,\n",
    "         k is a positive int, verbose is a Boolean\n",
    "       Returns a list containing k clusters. If verbose is\n",
    "         True it prints result of each iteration of k-means\"\"\"\n",
    "    #Get k randomly chosen initial centroids\n",
    "    initialCentroids = random.sample(examples, k)\n",
    "    \n",
    "    #Create a singleton cluster for each centroid\n",
    "    clusters = []\n",
    "    for e in initialCentroids:\n",
    "        clusters.append(Cluster([e], exampleType))\n",
    "        \n",
    "    #Iterate until centroids do not change\n",
    "    converged = False\n",
    "    numIterations = 0\n",
    "    while not converged:\n",
    "        numIterations += 1\n",
    "        #Create a list containing k distinct empty lists\n",
    "        newClusters = []\n",
    "        for i in range(k):\n",
    "            newClusters.append([])\n",
    "\n",
    "        #Associate each example with closest centroid\n",
    "        for e in examples:\n",
    "            #Find the centroid closest to e\n",
    "            smallestDistance = e.distance(clusters[0].getCentroid())\n",
    "            index = 0\n",
    "            for i in range(1, k):\n",
    "                distance = e.distance(clusters[i].getCentroid())\n",
    "                if distance < smallestDistance:\n",
    "                    smallestDistance = distance\n",
    "                    index = i\n",
    "            #Add e to the list of examples for the appropriate cluster\n",
    "            newClusters[index].append(e)\n",
    "            \n",
    "        #Upate each cluster; check if a centroid has changed\n",
    "        converged = True\n",
    "        for i in range(len(clusters)):\n",
    "            if clusters[i].update(newClusters[i]) > 0.0:\n",
    "                converged = False\n",
    "        if verbose:\n",
    "            print ('Iteration #' + str(numIterations))\n",
    "            for c in clusters:\n",
    "                print (c)\n",
    "            print ('') #add blank line\n",
    "    return clusters\n",
    "\n",
    "#计算一组簇的方差和\n",
    "def dissimilarity(clusters):\n",
    "    totDist = 0.0\n",
    "    for c in clusters:\n",
    "        totDist += c.variance()\n",
    "    return totDist"
   ]
  },
  {
   "cell_type": "code",
   "execution_count": 81,
   "metadata": {},
   "outputs": [],
   "source": [
    "#寻找最佳K-means聚类\n",
    "def trykmeans(examples, exampleType, numClusters, numTrials,\n",
    "              verbose = False):\n",
    "    \"\"\"Calls kmeans numTrials times and returns the result with the\n",
    "          lowest dissimilarity\"\"\"\n",
    "    best = kmeans(examples, exampleType, numClusters, verbose)\n",
    "    minDissimilarity = dissimilarity(best)\n",
    "    for trial in range(1, numTrials):\n",
    "        clusters = kmeans(examples, exampleType, numClusters, verbose)\n",
    "        currDissimilarity = dissimilarity(clusters)\n",
    "        if currDissimilarity < minDissimilarity:\n",
    "            best = clusters\n",
    "            minDissimilarity = currDissimilarity\n",
    "    return best"
   ]
  },
  {
   "cell_type": "markdown",
   "metadata": {},
   "source": [
    "# 实际案例：给动物们分类"
   ]
  },
  {
   "cell_type": "code",
   "execution_count": 82,
   "metadata": {},
   "outputs": [],
   "source": [
    "\"\"\"\n",
    "该函数会读入示例文件并生成一组实例。\n",
    "首先处理文件开头信息，从而得到每个实例的特征数量；然后会使用下面的内容生成三个列表：\n",
    "（1）speciesNames包含所有哺乳动物的名称\n",
    "（2）labelList包含每个动物对应的标签（食草、食肉和杂食）\n",
    "（3）featureVals中的每个元素都是一个列表，这个列表包含所有哺乳动物在某个特征上的值。\n",
    "    featuresVals[i][j]表示第j个哺乳动物第i个特征值。\n",
    "\"\"\"\n",
    "def readMammalData(fName):\n",
    "    dataFile = open(fName, 'r')\n",
    "    numFeatures = 0\n",
    "    #Process lines at top of file\n",
    "    for line in dataFile: #Find number of features\n",
    "        if line[0:6] == '#Label': #indicates end of features\n",
    "            break\n",
    "        if line[0:5] != '#Name':\n",
    "            numFeatures += 1\n",
    "    featureVals = []\n",
    "    \n",
    "    #Produce featureVals, speciesNames, and labelList\n",
    "    featureVals, speciesNames, labelList = [], [], []\n",
    "    for i in range(numFeatures):\n",
    "        featureVals.append([])\n",
    "        \n",
    "    #Continue processing lines in file, starting after comments\n",
    "    for line in dataFile:\n",
    "#         dataLine = string.split(line[:-1], ',') #remove newline; then split\n",
    "        dataLine=line[:-1].split(',')\n",
    "        speciesNames.append(dataLine[0])\n",
    "        classLabel = float(dataLine[-1])\n",
    "        labelList.append(classLabel)\n",
    "        for i in range(numFeatures):\n",
    "            featureVals[i].append(float(dataLine[i+1]))\n",
    "            \n",
    "    #Use featureVals to build list containing the feature vectors\n",
    "    #for each mammal\n",
    "    featureVectorList = []\n",
    "    for mammal in range(len(speciesNames)):\n",
    "        featureVector = []\n",
    "        for feature in range(numFeatures):\n",
    "            featureVector.append(featureVals[feature][mammal])\n",
    "        featureVectorList.append(featureVector)\n",
    "    return featureVectorList, labelList, speciesNames"
   ]
  },
  {
   "cell_type": "code",
   "execution_count": 86,
   "metadata": {},
   "outputs": [],
   "source": [
    "\"\"\"函数testTeeth会使用trymeans来聚类\n",
    "   buildMammalExamples生成的实例，接着会输出每个簇中食草、食肉和杂食动物的数量\"\"\"\n",
    "def buildMammalExamples(featureList, labelList, speciesNames):\n",
    "    examples = []\n",
    "    for i in range(len(speciesNames)):\n",
    "        features = pylab.array(featureList[i])\n",
    "        example = Example(speciesNames[i], features, labelList[i])\n",
    "        examples.append(example)\n",
    "    return examples\n",
    "\n",
    "def testTeeth(numClusters, numTrials):\n",
    "    features, labels, species = readMammalData('dentalFormulas.txt')\n",
    "    examples = buildMammalExamples(features, labels, species)\n",
    "    bestClustering =\\\n",
    "                   trykmeans(examples, Example, numClusters, numTrials)\n",
    "    for c in bestClustering:\n",
    "        names = ''\n",
    "        for p in c.members():\n",
    "            names += p.getName() + ', '\n",
    "        print ('\\n', names[:-2]) #remove trailing comma and space\n",
    "        herbivores, carnivores, omnivores = 0, 0, 0\n",
    "        for p in c.members():\n",
    "            if p.getLabel() == 0:\n",
    "                herbivores += 1\n",
    "            elif p.getLabel() == 1:\n",
    "                carnivores += 1\n",
    "            else:\n",
    "                omnivores += 1\n",
    "        print (herbivores, '食草动物,', carnivores, '食肉动物,',\\\n",
    "              omnivores, '杂食动物')"
   ]
  },
  {
   "cell_type": "code",
   "execution_count": 89,
   "metadata": {},
   "outputs": [
    {
     "name": "stdout",
     "output_type": "stream",
     "text": [
      "\n",
      " 獾, 美洲狮, 狗, 狐狸, 豚鼠, 人, 美洲虎, 袋鼠, 貂, 鼹鼠, 老鼠, 豪猪, 猪, 兔子, 浣熊, 鼠, 红蝙蝠, 臭鼬, 松鼠, 土拨鼠, 狼\n",
      "4 食草动物, 9 食肉动物, 8 杂食动物\n",
      "\n",
      " 熊, 牛, 鹿, 海狗, 海豹, 麋鹿, 狮子, 海狮\n",
      "3 食草动物, 4 食肉动物, 1 杂食动物\n",
      "\n",
      " 驼鹿\n",
      "1 食草动物, 0 食肉动物, 0 杂食动物\n"
     ]
    }
   ],
   "source": [
    "testTeeth(3,20)"
   ]
  },
  {
   "cell_type": "markdown",
   "metadata": {},
   "source": [
    "# 聚类受到了部分特征向量取值范围过大的影响"
   ]
  },
  {
   "cell_type": "markdown",
   "metadata": {},
   "source": [
    "# 特征值标准化"
   ]
  },
  {
   "cell_type": "code",
   "execution_count": 90,
   "metadata": {
    "cell_style": "center"
   },
   "outputs": [],
   "source": [
    "#特征调整函数，让每个特征的平均值为0，标准差为1。\n",
    "def scaleFeatures(vals):\n",
    "    \"\"\"Assumes vals is a sequence of numbers\"\"\"\n",
    "    result = pylab.array(vals)\n",
    "    mean = sum(result)/float(len(result))\n",
    "    result = result - mean\n",
    "    sd = stdDev(result)\n",
    "    result = result/sd\n",
    "    return result"
   ]
  },
  {
   "cell_type": "code",
   "execution_count": 91,
   "metadata": {},
   "outputs": [],
   "source": [
    "def stdDev(X):\n",
    "    mean = float(sum(X))/len(X)\n",
    "    tot = 0.0\n",
    "    for x in X:\n",
    "        tot += (x-mean)**2\n",
    "    return (tot/len(X))**0.5"
   ]
  },
  {
   "cell_type": "code",
   "execution_count": 92,
   "metadata": {},
   "outputs": [
    {
     "name": "stdout",
     "output_type": "stream",
     "text": [
      "v1 mean = 99.944 v1 standard deviation 4.8953\n",
      "v2 mean = 50.1868 v1 standard deviation 10.1379\n",
      "v1 mean = -0.0 v1 standard deviation 1.0\n",
      "v2 mean = -0.0 v1 standard deviation 1.0\n"
     ]
    }
   ],
   "source": [
    "v1, v2 = [], []\n",
    "for i in range(1000):\n",
    "    v1.append(random.gauss(100, 5))\n",
    "    v2.append(random.gauss(50, 10))\n",
    "print ('v1 mean =', round(sum(v1)/len(v1), 4),\\\n",
    "      'v1 standard deviation', round(stdDev(v1), 4))\n",
    "print ('v2 mean =', round(sum(v2)/len(v2), 4),\\\n",
    "      'v1 standard deviation', round(stdDev(v2), 4))  \n",
    "v1 = scaleFeatures(v1)\n",
    "v2 = scaleFeatures(v2)\n",
    "print ('v1 mean =', round(sum(v1)/len(v1), 4),\\\n",
    "      'v1 standard deviation', round(stdDev(v1), 4))\n",
    "print ('v2 mean =', round(sum(v2)/len(v2), 4),\\\n",
    "      'v1 standard deviation', round(stdDev(v2), 4))"
   ]
  },
  {
   "cell_type": "code",
   "execution_count": 93,
   "metadata": {},
   "outputs": [],
   "source": [
    "def readMammalData(fName, scale):\n",
    "    \"\"\"Assumes scale is a Boolean.  If True, features are scaled\"\"\"\n",
    "    dataFile = open(fName, 'r')\n",
    "    numFeatures = 0\n",
    "    #Process lines at top of file\n",
    "    for line in dataFile: #Find number of features\n",
    "        if line[0:6] == '#Label': #indicates end of features\n",
    "            break\n",
    "        if line[0:5] != '#名称':\n",
    "            numFeatures += 1\n",
    "    featureVals = []\n",
    "    \n",
    "    #Produce featureVals, speciesNames, and labelList\n",
    "    featureVals, speciesNames, labelList = [], [], []\n",
    "    for i in range(numFeatures):\n",
    "        featureVals.append([])\n",
    "        \n",
    "    #Continue processing lines in file, starting after comments\n",
    "    for line in dataFile:\n",
    "        dataLine=line[:-1].split(',')\n",
    "        \n",
    "        speciesNames.append(dataLine[0])\n",
    "        classLabel = float(dataLine[-1])\n",
    "        labelList.append(classLabel)\n",
    "        for i in range(numFeatures):\n",
    "            featureVals[i].append(float(dataLine[i+1]))\n",
    "            \n",
    "    #Use featureVals to build list containing the feature vectors\n",
    "    #for each mammal scale features, if needed\n",
    "    if scale:\n",
    "        for i in range(numFeatures):\n",
    "            featureVals[i] = scaleFeatures(featureVals[i])\n",
    "    featureVectorList = []\n",
    "    for mammal in range(len(speciesNames)):\n",
    "        featureVector = []\n",
    "        for feature in range(numFeatures):\n",
    "            featureVector.append(featureVals[feature][mammal])\n",
    "        featureVectorList.append(featureVector)\n",
    "    return featureVectorList, labelList, speciesNames"
   ]
  },
  {
   "cell_type": "code",
   "execution_count": 100,
   "metadata": {},
   "outputs": [],
   "source": [
    "def testTeeth(numClusters, numTrials, scale):\n",
    "    features,classes,species=\\\n",
    "            readMammalData('dentalFormulas.txt',scale)\n",
    "    examples=buildMammalExamples(features,classes,species)\n",
    "    bestClustering =\\\n",
    "                   trykmeans(examples, Example, numClusters, numTrials)\n",
    "    for c in bestClustering:\n",
    "        names = ''\n",
    "        for p in c.members():\n",
    "            names += p.getName() + ', '\n",
    "        print ('\\n', names[:-2]) #remove trailing comma and space\n",
    "        herbivores, carnivores, omnivores = 0, 0, 0\n",
    "        for p in c.members():\n",
    "            if p.getLabel() == 0:\n",
    "                herbivores += 1\n",
    "            elif p.getLabel() == 1:\n",
    "                carnivores += 1\n",
    "            else:\n",
    "                omnivores += 1\n",
    "        print (herbivores, '食草动物,', carnivores, '食肉动物,',\\\n",
    "              omnivores, '杂食动物')\n",
    "    "
   ]
  },
  {
   "cell_type": "code",
   "execution_count": 101,
   "metadata": {},
   "outputs": [
    {
     "name": "stdout",
     "output_type": "stream",
     "text": [
      "Cluster without scaleing\n",
      "\n",
      " 驼鹿\n",
      "1 食草动物, 0 食肉动物, 0 杂食动物\n",
      "\n",
      " 獾, 美洲狮, 鹿, 狗, 狐狸, 海狗, 豚鼠, 人, 美洲虎, 袋鼠, 狮子, 貂, 鼹鼠, 老鼠, 豪猪, 猪, 兔子, 浣熊, 鼠, 红蝙蝠, 臭鼬, 松鼠, 土拨鼠, 狼\n",
      "5 食草动物, 11 食肉动物, 8 杂食动物\n",
      "\n",
      " 熊, 牛, 海豹, 麋鹿, 海狮\n",
      "2 食草动物, 2 食肉动物, 1 杂食动物\n"
     ]
    }
   ],
   "source": [
    "print('Cluster without scaleing')\n",
    "testTeeth(3,20,False)"
   ]
  },
  {
   "cell_type": "code",
   "execution_count": 106,
   "metadata": {},
   "outputs": [
    {
     "name": "stdout",
     "output_type": "stream",
     "text": [
      "Cluster with scaleing\n",
      "\n",
      " 獾, 熊, 美洲狮, 狗, 狐狸, 海狗, 海豹, 麋鹿, 人, 美洲虎, 狮子, 貂, 鼹鼠, 猪, 浣熊, 红蝙蝠, 海狮, 臭鼬, 狼\n",
      "1 食草动物, 13 食肉动物, 5 杂食动物\n",
      "\n",
      " 牛, 鹿, 豚鼠, 驼鹿, 老鼠, 豪猪, 兔子, 鼠, 松鼠, 土拨鼠\n",
      "6 食草动物, 0 食肉动物, 4 杂食动物\n",
      "\n",
      " 袋鼠\n",
      "1 食草动物, 0 食肉动物, 0 杂食动物\n"
     ]
    }
   ],
   "source": [
    "print('Cluster with scaleing')\n",
    "testTeeth(3,20,True)"
   ]
  },
  {
   "cell_type": "markdown",
   "metadata": {},
   "source": [
    "# 结论：\n",
    "    理想结果是完全分为三类（食草、食肉、杂食），但从上述结果看出仅仅基于齿类信息，不足以完善杂食动物的分类规律，或许应当加入牙列和重量以外的特征值对杂食动物进行进一步区分。"
   ]
  },
  {
   "cell_type": "code",
   "execution_count": null,
   "metadata": {},
   "outputs": [],
   "source": []
  }
 ],
 "metadata": {
  "kernelspec": {
   "display_name": "Python 3",
   "language": "python",
   "name": "python3"
  },
  "language_info": {
   "codemirror_mode": {
    "name": "ipython",
    "version": 3
   },
   "file_extension": ".py",
   "mimetype": "text/x-python",
   "name": "python",
   "nbconvert_exporter": "python",
   "pygments_lexer": "ipython3",
   "version": "3.7.6"
  },
  "toc": {
   "base_numbering": 1,
   "nav_menu": {},
   "number_sections": true,
   "sideBar": true,
   "skip_h1_title": false,
   "title_cell": "Table of Contents",
   "title_sidebar": "Contents",
   "toc_cell": true,
   "toc_position": {
    "height": "812px",
    "left": "42px",
    "top": "252px",
    "width": "165px"
   },
   "toc_section_display": true,
   "toc_window_display": true
  }
 },
 "nbformat": 4,
 "nbformat_minor": 4
}
