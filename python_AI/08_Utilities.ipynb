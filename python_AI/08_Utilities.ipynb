{
 "cells": [
  {
   "cell_type": "markdown",
   "metadata": {
    "colab_type": "text",
    "id": "TrBW0-pg7W4-"
   },
   "source": [
    "# Utilities\n",
    "\n",
    "In this lesson, we will explore useful utilities in TensorFlow + Keras like [Generators](https://www.tensorflow.org/versions/r2.0/api_docs/python/tf/data/Dataset), [Callbacks](https://www.tensorflow.org/versions/r2.0/api_docs/python/tf/keras/callbacks), [TensorBoard](https://www.tensorflow.org/guide/summaries_and_tensorboard), [GradientTape](https://www.tensorflow.org/api_docs/python/tf/GradientTape), and hyperparameter tuning."
   ]
  },
  {
   "cell_type": "markdown",
   "metadata": {
    "colab_type": "text",
    "id": "xuabAj4PYj57"
   },
   "source": [
    "<a href=\"https://github.com/madewithml/practicalAI/blob/master/notebooks/basic_ml/08_Utilities.ipynb\" role=\"button\"><img class=\"notebook-badge-image\" src=\"https://img.shields.io/static/v1?label=&amp;message=View%20On%20GitHub&amp;color=586069&amp;logo=github&amp;labelColor=2f363d\"></a>&nbsp;\n",
    "<a href=\"https://colab.research.google.com/github/madewithml/practicalAI/blob/master/notebooks/basic_ml/08_Utilities.ipynb\"><img class=\"notebook-badge-image\" src=\"https://colab.research.google.com/assets/colab-badge.svg\" alt=\"Open In Colab\"></a>"
   ]
  },
  {
   "cell_type": "markdown",
   "metadata": {
    "colab_type": "text",
    "id": "Cq81DUu57fA7"
   },
   "source": [
    "# Overview"
   ]
  },
  {
   "cell_type": "markdown",
   "metadata": {
    "colab_type": "text",
    "id": "JqxyljU18hvt"
   },
   "source": [
    "* **Generators**: generate batches of processed data\n",
    "* **Callbacks**: Utility functions that are called at specific points during training/evaluation/inference. Very useful to customize the underlying operations during `model.fit()`.\n",
    "* **TensorBoard**: tool to visualize metrics, weights, gradients, model architecture, hyperparameter optimization, etc.\n",
    "* **GradientTape**: class that allows us to define operations for a highly customized training loop.\n",
    "* **Hyperparameter tuning**: experimenting with different hyperparameter to see what combination yields the best validation performance."
   ]
  },
  {
   "cell_type": "markdown",
   "metadata": {
    "colab_type": "text",
    "id": "ojMlImKrkj2O"
   },
   "source": [
    "# Data"
   ]
  },
  {
   "cell_type": "markdown",
   "metadata": {
    "colab_type": "text",
    "id": "XS_MtCM4VvnX"
   },
   "source": [
    "## Load data"
   ]
  },
  {
   "cell_type": "markdown",
   "metadata": {
    "colab_type": "text",
    "id": "X3OrtMpFayFC"
   },
   "source": [
    "Let's download and process our non-linear spiral data for a classification task."
   ]
  },
  {
   "cell_type": "code",
   "execution_count": 1,
   "metadata": {
    "colab": {},
    "colab_type": "code",
    "id": "9NfIz_4OPYpG"
   },
   "outputs": [],
   "source": [
    "import matplotlib.pyplot as plt\n",
    "import numpy as np\n",
    "import pandas as pd\n",
    "import urllib"
   ]
  },
  {
   "cell_type": "code",
   "execution_count": 2,
   "metadata": {
    "colab": {},
    "colab_type": "code",
    "id": "VHToXXKGSy7o"
   },
   "outputs": [],
   "source": [
    "SEED = 1234\n",
    "DATA_FILE = \"spiral.csv\""
   ]
  },
  {
   "cell_type": "code",
   "execution_count": 3,
   "metadata": {
    "colab": {},
    "colab_type": "code",
    "id": "NVG7fcLZS0y0"
   },
   "outputs": [],
   "source": [
    "# Set seed for reproducibility\n",
    "np.random.seed(SEED)"
   ]
  },
  {
   "cell_type": "code",
   "execution_count": 5,
   "metadata": {
    "colab": {},
    "colab_type": "code",
    "id": "q14QCqKxUS2v"
   },
   "outputs": [
    {
     "ename": "URLError",
     "evalue": "<urlopen error [Errno 61] Connection refused>",
     "output_type": "error",
     "traceback": [
      "\u001b[0;31m---------------------------------------------------------------------------\u001b[0m",
      "\u001b[0;31mConnectionRefusedError\u001b[0m                    Traceback (most recent call last)",
      "\u001b[0;32m~/anaconda3/lib/python3.7/urllib/request.py\u001b[0m in \u001b[0;36mdo_open\u001b[0;34m(self, http_class, req, **http_conn_args)\u001b[0m\n\u001b[1;32m   1318\u001b[0m                 h.request(req.get_method(), req.selector, req.data, headers,\n\u001b[0;32m-> 1319\u001b[0;31m                           encode_chunked=req.has_header('Transfer-encoding'))\n\u001b[0m\u001b[1;32m   1320\u001b[0m             \u001b[0;32mexcept\u001b[0m \u001b[0mOSError\u001b[0m \u001b[0;32mas\u001b[0m \u001b[0merr\u001b[0m\u001b[0;34m:\u001b[0m \u001b[0;31m# timeout error\u001b[0m\u001b[0;34m\u001b[0m\u001b[0;34m\u001b[0m\u001b[0m\n",
      "\u001b[0;32m~/anaconda3/lib/python3.7/http/client.py\u001b[0m in \u001b[0;36mrequest\u001b[0;34m(self, method, url, body, headers, encode_chunked)\u001b[0m\n\u001b[1;32m   1251\u001b[0m         \u001b[0;34m\"\"\"Send a complete request to the server.\"\"\"\u001b[0m\u001b[0;34m\u001b[0m\u001b[0;34m\u001b[0m\u001b[0m\n\u001b[0;32m-> 1252\u001b[0;31m         \u001b[0mself\u001b[0m\u001b[0;34m.\u001b[0m\u001b[0m_send_request\u001b[0m\u001b[0;34m(\u001b[0m\u001b[0mmethod\u001b[0m\u001b[0;34m,\u001b[0m \u001b[0murl\u001b[0m\u001b[0;34m,\u001b[0m \u001b[0mbody\u001b[0m\u001b[0;34m,\u001b[0m \u001b[0mheaders\u001b[0m\u001b[0;34m,\u001b[0m \u001b[0mencode_chunked\u001b[0m\u001b[0;34m)\u001b[0m\u001b[0;34m\u001b[0m\u001b[0;34m\u001b[0m\u001b[0m\n\u001b[0m\u001b[1;32m   1253\u001b[0m \u001b[0;34m\u001b[0m\u001b[0m\n",
      "\u001b[0;32m~/anaconda3/lib/python3.7/http/client.py\u001b[0m in \u001b[0;36m_send_request\u001b[0;34m(self, method, url, body, headers, encode_chunked)\u001b[0m\n\u001b[1;32m   1297\u001b[0m             \u001b[0mbody\u001b[0m \u001b[0;34m=\u001b[0m \u001b[0m_encode\u001b[0m\u001b[0;34m(\u001b[0m\u001b[0mbody\u001b[0m\u001b[0;34m,\u001b[0m \u001b[0;34m'body'\u001b[0m\u001b[0;34m)\u001b[0m\u001b[0;34m\u001b[0m\u001b[0;34m\u001b[0m\u001b[0m\n\u001b[0;32m-> 1298\u001b[0;31m         \u001b[0mself\u001b[0m\u001b[0;34m.\u001b[0m\u001b[0mendheaders\u001b[0m\u001b[0;34m(\u001b[0m\u001b[0mbody\u001b[0m\u001b[0;34m,\u001b[0m \u001b[0mencode_chunked\u001b[0m\u001b[0;34m=\u001b[0m\u001b[0mencode_chunked\u001b[0m\u001b[0;34m)\u001b[0m\u001b[0;34m\u001b[0m\u001b[0;34m\u001b[0m\u001b[0m\n\u001b[0m\u001b[1;32m   1299\u001b[0m \u001b[0;34m\u001b[0m\u001b[0m\n",
      "\u001b[0;32m~/anaconda3/lib/python3.7/http/client.py\u001b[0m in \u001b[0;36mendheaders\u001b[0;34m(self, message_body, encode_chunked)\u001b[0m\n\u001b[1;32m   1246\u001b[0m             \u001b[0;32mraise\u001b[0m \u001b[0mCannotSendHeader\u001b[0m\u001b[0;34m(\u001b[0m\u001b[0;34m)\u001b[0m\u001b[0;34m\u001b[0m\u001b[0;34m\u001b[0m\u001b[0m\n\u001b[0;32m-> 1247\u001b[0;31m         \u001b[0mself\u001b[0m\u001b[0;34m.\u001b[0m\u001b[0m_send_output\u001b[0m\u001b[0;34m(\u001b[0m\u001b[0mmessage_body\u001b[0m\u001b[0;34m,\u001b[0m \u001b[0mencode_chunked\u001b[0m\u001b[0;34m=\u001b[0m\u001b[0mencode_chunked\u001b[0m\u001b[0;34m)\u001b[0m\u001b[0;34m\u001b[0m\u001b[0;34m\u001b[0m\u001b[0m\n\u001b[0m\u001b[1;32m   1248\u001b[0m \u001b[0;34m\u001b[0m\u001b[0m\n",
      "\u001b[0;32m~/anaconda3/lib/python3.7/http/client.py\u001b[0m in \u001b[0;36m_send_output\u001b[0;34m(self, message_body, encode_chunked)\u001b[0m\n\u001b[1;32m   1025\u001b[0m         \u001b[0;32mdel\u001b[0m \u001b[0mself\u001b[0m\u001b[0;34m.\u001b[0m\u001b[0m_buffer\u001b[0m\u001b[0;34m[\u001b[0m\u001b[0;34m:\u001b[0m\u001b[0;34m]\u001b[0m\u001b[0;34m\u001b[0m\u001b[0;34m\u001b[0m\u001b[0m\n\u001b[0;32m-> 1026\u001b[0;31m         \u001b[0mself\u001b[0m\u001b[0;34m.\u001b[0m\u001b[0msend\u001b[0m\u001b[0;34m(\u001b[0m\u001b[0mmsg\u001b[0m\u001b[0;34m)\u001b[0m\u001b[0;34m\u001b[0m\u001b[0;34m\u001b[0m\u001b[0m\n\u001b[0m\u001b[1;32m   1027\u001b[0m \u001b[0;34m\u001b[0m\u001b[0m\n",
      "\u001b[0;32m~/anaconda3/lib/python3.7/http/client.py\u001b[0m in \u001b[0;36msend\u001b[0;34m(self, data)\u001b[0m\n\u001b[1;32m    965\u001b[0m             \u001b[0;32mif\u001b[0m \u001b[0mself\u001b[0m\u001b[0;34m.\u001b[0m\u001b[0mauto_open\u001b[0m\u001b[0;34m:\u001b[0m\u001b[0;34m\u001b[0m\u001b[0;34m\u001b[0m\u001b[0m\n\u001b[0;32m--> 966\u001b[0;31m                 \u001b[0mself\u001b[0m\u001b[0;34m.\u001b[0m\u001b[0mconnect\u001b[0m\u001b[0;34m(\u001b[0m\u001b[0;34m)\u001b[0m\u001b[0;34m\u001b[0m\u001b[0;34m\u001b[0m\u001b[0m\n\u001b[0m\u001b[1;32m    967\u001b[0m             \u001b[0;32melse\u001b[0m\u001b[0;34m:\u001b[0m\u001b[0;34m\u001b[0m\u001b[0;34m\u001b[0m\u001b[0m\n",
      "\u001b[0;32m~/anaconda3/lib/python3.7/http/client.py\u001b[0m in \u001b[0;36mconnect\u001b[0;34m(self)\u001b[0m\n\u001b[1;32m   1413\u001b[0m \u001b[0;34m\u001b[0m\u001b[0m\n\u001b[0;32m-> 1414\u001b[0;31m             \u001b[0msuper\u001b[0m\u001b[0;34m(\u001b[0m\u001b[0;34m)\u001b[0m\u001b[0;34m.\u001b[0m\u001b[0mconnect\u001b[0m\u001b[0;34m(\u001b[0m\u001b[0;34m)\u001b[0m\u001b[0;34m\u001b[0m\u001b[0;34m\u001b[0m\u001b[0m\n\u001b[0m\u001b[1;32m   1415\u001b[0m \u001b[0;34m\u001b[0m\u001b[0m\n",
      "\u001b[0;32m~/anaconda3/lib/python3.7/http/client.py\u001b[0m in \u001b[0;36mconnect\u001b[0;34m(self)\u001b[0m\n\u001b[1;32m    937\u001b[0m         self.sock = self._create_connection(\n\u001b[0;32m--> 938\u001b[0;31m             (self.host,self.port), self.timeout, self.source_address)\n\u001b[0m\u001b[1;32m    939\u001b[0m         \u001b[0mself\u001b[0m\u001b[0;34m.\u001b[0m\u001b[0msock\u001b[0m\u001b[0;34m.\u001b[0m\u001b[0msetsockopt\u001b[0m\u001b[0;34m(\u001b[0m\u001b[0msocket\u001b[0m\u001b[0;34m.\u001b[0m\u001b[0mIPPROTO_TCP\u001b[0m\u001b[0;34m,\u001b[0m \u001b[0msocket\u001b[0m\u001b[0;34m.\u001b[0m\u001b[0mTCP_NODELAY\u001b[0m\u001b[0;34m,\u001b[0m \u001b[0;36m1\u001b[0m\u001b[0;34m)\u001b[0m\u001b[0;34m\u001b[0m\u001b[0;34m\u001b[0m\u001b[0m\n",
      "\u001b[0;32m~/anaconda3/lib/python3.7/socket.py\u001b[0m in \u001b[0;36mcreate_connection\u001b[0;34m(address, timeout, source_address)\u001b[0m\n\u001b[1;32m    727\u001b[0m         \u001b[0;32mtry\u001b[0m\u001b[0;34m:\u001b[0m\u001b[0;34m\u001b[0m\u001b[0;34m\u001b[0m\u001b[0m\n\u001b[0;32m--> 728\u001b[0;31m             \u001b[0;32mraise\u001b[0m \u001b[0merr\u001b[0m\u001b[0;34m\u001b[0m\u001b[0;34m\u001b[0m\u001b[0m\n\u001b[0m\u001b[1;32m    729\u001b[0m         \u001b[0;32mfinally\u001b[0m\u001b[0;34m:\u001b[0m\u001b[0;34m\u001b[0m\u001b[0;34m\u001b[0m\u001b[0m\n",
      "\u001b[0;32m~/anaconda3/lib/python3.7/socket.py\u001b[0m in \u001b[0;36mcreate_connection\u001b[0;34m(address, timeout, source_address)\u001b[0m\n\u001b[1;32m    715\u001b[0m                 \u001b[0msock\u001b[0m\u001b[0;34m.\u001b[0m\u001b[0mbind\u001b[0m\u001b[0;34m(\u001b[0m\u001b[0msource_address\u001b[0m\u001b[0;34m)\u001b[0m\u001b[0;34m\u001b[0m\u001b[0;34m\u001b[0m\u001b[0m\n\u001b[0;32m--> 716\u001b[0;31m             \u001b[0msock\u001b[0m\u001b[0;34m.\u001b[0m\u001b[0mconnect\u001b[0m\u001b[0;34m(\u001b[0m\u001b[0msa\u001b[0m\u001b[0;34m)\u001b[0m\u001b[0;34m\u001b[0m\u001b[0;34m\u001b[0m\u001b[0m\n\u001b[0m\u001b[1;32m    717\u001b[0m             \u001b[0;31m# Break explicitly a reference cycle\u001b[0m\u001b[0;34m\u001b[0m\u001b[0;34m\u001b[0m\u001b[0;34m\u001b[0m\u001b[0m\n",
      "\u001b[0;31mConnectionRefusedError\u001b[0m: [Errno 61] Connection refused",
      "\nDuring handling of the above exception, another exception occurred:\n",
      "\u001b[0;31mURLError\u001b[0m                                  Traceback (most recent call last)",
      "\u001b[0;32m<ipython-input-5-8eda62a8674a>\u001b[0m in \u001b[0;36m<module>\u001b[0;34m\u001b[0m\n\u001b[1;32m      1\u001b[0m \u001b[0;31m# Load data from GitHub to this notebook's local drive\u001b[0m\u001b[0;34m\u001b[0m\u001b[0;34m\u001b[0m\u001b[0;34m\u001b[0m\u001b[0m\n\u001b[1;32m      2\u001b[0m \u001b[0murl\u001b[0m \u001b[0;34m=\u001b[0m \u001b[0;34m\"https://raw.githubusercontent.com/madewithml/practicalAI/master/data/spiral.csv\"\u001b[0m\u001b[0;34m\u001b[0m\u001b[0;34m\u001b[0m\u001b[0m\n\u001b[0;32m----> 3\u001b[0;31m \u001b[0mresponse\u001b[0m \u001b[0;34m=\u001b[0m \u001b[0murllib\u001b[0m\u001b[0;34m.\u001b[0m\u001b[0mrequest\u001b[0m\u001b[0;34m.\u001b[0m\u001b[0murlopen\u001b[0m\u001b[0;34m(\u001b[0m\u001b[0murl\u001b[0m\u001b[0;34m)\u001b[0m\u001b[0;34m\u001b[0m\u001b[0;34m\u001b[0m\u001b[0m\n\u001b[0m\u001b[1;32m      4\u001b[0m \u001b[0mhtml\u001b[0m \u001b[0;34m=\u001b[0m \u001b[0mresponse\u001b[0m\u001b[0;34m.\u001b[0m\u001b[0mread\u001b[0m\u001b[0;34m(\u001b[0m\u001b[0;34m)\u001b[0m\u001b[0;34m\u001b[0m\u001b[0;34m\u001b[0m\u001b[0m\n\u001b[1;32m      5\u001b[0m \u001b[0;32mwith\u001b[0m \u001b[0mopen\u001b[0m\u001b[0;34m(\u001b[0m\u001b[0mDATA_FILE\u001b[0m\u001b[0;34m,\u001b[0m \u001b[0;34m'wb'\u001b[0m\u001b[0;34m)\u001b[0m \u001b[0;32mas\u001b[0m \u001b[0mfp\u001b[0m\u001b[0;34m:\u001b[0m\u001b[0;34m\u001b[0m\u001b[0;34m\u001b[0m\u001b[0m\n",
      "\u001b[0;32m~/anaconda3/lib/python3.7/urllib/request.py\u001b[0m in \u001b[0;36murlopen\u001b[0;34m(url, data, timeout, cafile, capath, cadefault, context)\u001b[0m\n\u001b[1;32m    220\u001b[0m     \u001b[0;32melse\u001b[0m\u001b[0;34m:\u001b[0m\u001b[0;34m\u001b[0m\u001b[0;34m\u001b[0m\u001b[0m\n\u001b[1;32m    221\u001b[0m         \u001b[0mopener\u001b[0m \u001b[0;34m=\u001b[0m \u001b[0m_opener\u001b[0m\u001b[0;34m\u001b[0m\u001b[0;34m\u001b[0m\u001b[0m\n\u001b[0;32m--> 222\u001b[0;31m     \u001b[0;32mreturn\u001b[0m \u001b[0mopener\u001b[0m\u001b[0;34m.\u001b[0m\u001b[0mopen\u001b[0m\u001b[0;34m(\u001b[0m\u001b[0murl\u001b[0m\u001b[0;34m,\u001b[0m \u001b[0mdata\u001b[0m\u001b[0;34m,\u001b[0m \u001b[0mtimeout\u001b[0m\u001b[0;34m)\u001b[0m\u001b[0;34m\u001b[0m\u001b[0;34m\u001b[0m\u001b[0m\n\u001b[0m\u001b[1;32m    223\u001b[0m \u001b[0;34m\u001b[0m\u001b[0m\n\u001b[1;32m    224\u001b[0m \u001b[0;32mdef\u001b[0m \u001b[0minstall_opener\u001b[0m\u001b[0;34m(\u001b[0m\u001b[0mopener\u001b[0m\u001b[0;34m)\u001b[0m\u001b[0;34m:\u001b[0m\u001b[0;34m\u001b[0m\u001b[0;34m\u001b[0m\u001b[0m\n",
      "\u001b[0;32m~/anaconda3/lib/python3.7/urllib/request.py\u001b[0m in \u001b[0;36mopen\u001b[0;34m(self, fullurl, data, timeout)\u001b[0m\n\u001b[1;32m    523\u001b[0m             \u001b[0mreq\u001b[0m \u001b[0;34m=\u001b[0m \u001b[0mmeth\u001b[0m\u001b[0;34m(\u001b[0m\u001b[0mreq\u001b[0m\u001b[0;34m)\u001b[0m\u001b[0;34m\u001b[0m\u001b[0;34m\u001b[0m\u001b[0m\n\u001b[1;32m    524\u001b[0m \u001b[0;34m\u001b[0m\u001b[0m\n\u001b[0;32m--> 525\u001b[0;31m         \u001b[0mresponse\u001b[0m \u001b[0;34m=\u001b[0m \u001b[0mself\u001b[0m\u001b[0;34m.\u001b[0m\u001b[0m_open\u001b[0m\u001b[0;34m(\u001b[0m\u001b[0mreq\u001b[0m\u001b[0;34m,\u001b[0m \u001b[0mdata\u001b[0m\u001b[0;34m)\u001b[0m\u001b[0;34m\u001b[0m\u001b[0;34m\u001b[0m\u001b[0m\n\u001b[0m\u001b[1;32m    526\u001b[0m \u001b[0;34m\u001b[0m\u001b[0m\n\u001b[1;32m    527\u001b[0m         \u001b[0;31m# post-process response\u001b[0m\u001b[0;34m\u001b[0m\u001b[0;34m\u001b[0m\u001b[0;34m\u001b[0m\u001b[0m\n",
      "\u001b[0;32m~/anaconda3/lib/python3.7/urllib/request.py\u001b[0m in \u001b[0;36m_open\u001b[0;34m(self, req, data)\u001b[0m\n\u001b[1;32m    541\u001b[0m         \u001b[0mprotocol\u001b[0m \u001b[0;34m=\u001b[0m \u001b[0mreq\u001b[0m\u001b[0;34m.\u001b[0m\u001b[0mtype\u001b[0m\u001b[0;34m\u001b[0m\u001b[0;34m\u001b[0m\u001b[0m\n\u001b[1;32m    542\u001b[0m         result = self._call_chain(self.handle_open, protocol, protocol +\n\u001b[0;32m--> 543\u001b[0;31m                                   '_open', req)\n\u001b[0m\u001b[1;32m    544\u001b[0m         \u001b[0;32mif\u001b[0m \u001b[0mresult\u001b[0m\u001b[0;34m:\u001b[0m\u001b[0;34m\u001b[0m\u001b[0;34m\u001b[0m\u001b[0m\n\u001b[1;32m    545\u001b[0m             \u001b[0;32mreturn\u001b[0m \u001b[0mresult\u001b[0m\u001b[0;34m\u001b[0m\u001b[0;34m\u001b[0m\u001b[0m\n",
      "\u001b[0;32m~/anaconda3/lib/python3.7/urllib/request.py\u001b[0m in \u001b[0;36m_call_chain\u001b[0;34m(self, chain, kind, meth_name, *args)\u001b[0m\n\u001b[1;32m    501\u001b[0m         \u001b[0;32mfor\u001b[0m \u001b[0mhandler\u001b[0m \u001b[0;32min\u001b[0m \u001b[0mhandlers\u001b[0m\u001b[0;34m:\u001b[0m\u001b[0;34m\u001b[0m\u001b[0;34m\u001b[0m\u001b[0m\n\u001b[1;32m    502\u001b[0m             \u001b[0mfunc\u001b[0m \u001b[0;34m=\u001b[0m \u001b[0mgetattr\u001b[0m\u001b[0;34m(\u001b[0m\u001b[0mhandler\u001b[0m\u001b[0;34m,\u001b[0m \u001b[0mmeth_name\u001b[0m\u001b[0;34m)\u001b[0m\u001b[0;34m\u001b[0m\u001b[0;34m\u001b[0m\u001b[0m\n\u001b[0;32m--> 503\u001b[0;31m             \u001b[0mresult\u001b[0m \u001b[0;34m=\u001b[0m \u001b[0mfunc\u001b[0m\u001b[0;34m(\u001b[0m\u001b[0;34m*\u001b[0m\u001b[0margs\u001b[0m\u001b[0;34m)\u001b[0m\u001b[0;34m\u001b[0m\u001b[0;34m\u001b[0m\u001b[0m\n\u001b[0m\u001b[1;32m    504\u001b[0m             \u001b[0;32mif\u001b[0m \u001b[0mresult\u001b[0m \u001b[0;32mis\u001b[0m \u001b[0;32mnot\u001b[0m \u001b[0;32mNone\u001b[0m\u001b[0;34m:\u001b[0m\u001b[0;34m\u001b[0m\u001b[0;34m\u001b[0m\u001b[0m\n\u001b[1;32m    505\u001b[0m                 \u001b[0;32mreturn\u001b[0m \u001b[0mresult\u001b[0m\u001b[0;34m\u001b[0m\u001b[0;34m\u001b[0m\u001b[0m\n",
      "\u001b[0;32m~/anaconda3/lib/python3.7/urllib/request.py\u001b[0m in \u001b[0;36mhttps_open\u001b[0;34m(self, req)\u001b[0m\n\u001b[1;32m   1360\u001b[0m         \u001b[0;32mdef\u001b[0m \u001b[0mhttps_open\u001b[0m\u001b[0;34m(\u001b[0m\u001b[0mself\u001b[0m\u001b[0;34m,\u001b[0m \u001b[0mreq\u001b[0m\u001b[0;34m)\u001b[0m\u001b[0;34m:\u001b[0m\u001b[0;34m\u001b[0m\u001b[0;34m\u001b[0m\u001b[0m\n\u001b[1;32m   1361\u001b[0m             return self.do_open(http.client.HTTPSConnection, req,\n\u001b[0;32m-> 1362\u001b[0;31m                 context=self._context, check_hostname=self._check_hostname)\n\u001b[0m\u001b[1;32m   1363\u001b[0m \u001b[0;34m\u001b[0m\u001b[0m\n\u001b[1;32m   1364\u001b[0m         \u001b[0mhttps_request\u001b[0m \u001b[0;34m=\u001b[0m \u001b[0mAbstractHTTPHandler\u001b[0m\u001b[0;34m.\u001b[0m\u001b[0mdo_request_\u001b[0m\u001b[0;34m\u001b[0m\u001b[0;34m\u001b[0m\u001b[0m\n",
      "\u001b[0;32m~/anaconda3/lib/python3.7/urllib/request.py\u001b[0m in \u001b[0;36mdo_open\u001b[0;34m(self, http_class, req, **http_conn_args)\u001b[0m\n\u001b[1;32m   1319\u001b[0m                           encode_chunked=req.has_header('Transfer-encoding'))\n\u001b[1;32m   1320\u001b[0m             \u001b[0;32mexcept\u001b[0m \u001b[0mOSError\u001b[0m \u001b[0;32mas\u001b[0m \u001b[0merr\u001b[0m\u001b[0;34m:\u001b[0m \u001b[0;31m# timeout error\u001b[0m\u001b[0;34m\u001b[0m\u001b[0;34m\u001b[0m\u001b[0m\n\u001b[0;32m-> 1321\u001b[0;31m                 \u001b[0;32mraise\u001b[0m \u001b[0mURLError\u001b[0m\u001b[0;34m(\u001b[0m\u001b[0merr\u001b[0m\u001b[0;34m)\u001b[0m\u001b[0;34m\u001b[0m\u001b[0;34m\u001b[0m\u001b[0m\n\u001b[0m\u001b[1;32m   1322\u001b[0m             \u001b[0mr\u001b[0m \u001b[0;34m=\u001b[0m \u001b[0mh\u001b[0m\u001b[0;34m.\u001b[0m\u001b[0mgetresponse\u001b[0m\u001b[0;34m(\u001b[0m\u001b[0;34m)\u001b[0m\u001b[0;34m\u001b[0m\u001b[0;34m\u001b[0m\u001b[0m\n\u001b[1;32m   1323\u001b[0m         \u001b[0;32mexcept\u001b[0m\u001b[0;34m:\u001b[0m\u001b[0;34m\u001b[0m\u001b[0;34m\u001b[0m\u001b[0m\n",
      "\u001b[0;31mURLError\u001b[0m: <urlopen error [Errno 61] Connection refused>"
     ]
    }
   ],
   "source": [
    "# Load data from GitHub to this notebook's local drive\n",
    "url = \"https://raw.githubusercontent.com/madewithml/practicalAI/master/data/spiral.csv\"\n",
    "response = urllib.request.urlopen(url)\n",
    "html = response.read()\n",
    "with open(DATA_FILE, 'wb') as fp:\n",
    "    fp.write(html)"
   ]
  },
  {
   "cell_type": "code",
   "execution_count": 4,
   "metadata": {
    "colab": {
     "base_uri": "https://localhost:8080/",
     "height": 204
    },
    "colab_type": "code",
    "id": "qkmi0OWoUvZR",
    "outputId": "3886749b-f48b-4640-d772-3904d67cb64f"
   },
   "outputs": [
    {
     "data": {
      "text/html": [
       "<div>\n",
       "<style scoped>\n",
       "    .dataframe tbody tr th:only-of-type {\n",
       "        vertical-align: middle;\n",
       "    }\n",
       "\n",
       "    .dataframe tbody tr th {\n",
       "        vertical-align: top;\n",
       "    }\n",
       "\n",
       "    .dataframe thead th {\n",
       "        text-align: right;\n",
       "    }\n",
       "</style>\n",
       "<table border=\"1\" class=\"dataframe\">\n",
       "  <thead>\n",
       "    <tr style=\"text-align: right;\">\n",
       "      <th></th>\n",
       "      <th>X1</th>\n",
       "      <th>X2</th>\n",
       "      <th>color</th>\n",
       "    </tr>\n",
       "  </thead>\n",
       "  <tbody>\n",
       "    <tr>\n",
       "      <th>0</th>\n",
       "      <td>0.000000</td>\n",
       "      <td>0.000000</td>\n",
       "      <td>c1</td>\n",
       "    </tr>\n",
       "    <tr>\n",
       "      <th>1</th>\n",
       "      <td>-0.000457</td>\n",
       "      <td>0.001951</td>\n",
       "      <td>c1</td>\n",
       "    </tr>\n",
       "    <tr>\n",
       "      <th>2</th>\n",
       "      <td>0.001194</td>\n",
       "      <td>0.003826</td>\n",
       "      <td>c1</td>\n",
       "    </tr>\n",
       "    <tr>\n",
       "      <th>3</th>\n",
       "      <td>-0.000231</td>\n",
       "      <td>0.006008</td>\n",
       "      <td>c1</td>\n",
       "    </tr>\n",
       "    <tr>\n",
       "      <th>4</th>\n",
       "      <td>-0.000896</td>\n",
       "      <td>0.007966</td>\n",
       "      <td>c1</td>\n",
       "    </tr>\n",
       "  </tbody>\n",
       "</table>\n",
       "</div>"
      ],
      "text/plain": [
       "         X1        X2 color\n",
       "0  0.000000  0.000000    c1\n",
       "1 -0.000457  0.001951    c1\n",
       "2  0.001194  0.003826    c1\n",
       "3 -0.000231  0.006008    c1\n",
       "4 -0.000896  0.007966    c1"
      ]
     },
     "execution_count": 4,
     "metadata": {},
     "output_type": "execute_result"
    }
   ],
   "source": [
    "# Load data\n",
    "df = pd.read_csv(\"spiral.csv\", header=0)\n",
    "X = df[['X1', 'X2']].values\n",
    "y = df['color'].values\n",
    "df.head(5)"
   ]
  },
  {
   "cell_type": "code",
   "execution_count": 6,
   "metadata": {
    "colab": {
     "base_uri": "https://localhost:8080/",
     "height": 51
    },
    "colab_type": "code",
    "id": "u1O_0HG3VP-g",
    "outputId": "ab03e16f-11e7-44d8-c76f-a6b98d812436"
   },
   "outputs": [
    {
     "name": "stdout",
     "output_type": "stream",
     "text": [
      "X:  (1500, 2)\n",
      "y:  (1500,)\n"
     ]
    }
   ],
   "source": [
    "print (\"X: \", np.shape(X))\n",
    "print (\"y: \", np.shape(y))"
   ]
  },
  {
   "cell_type": "code",
   "execution_count": 7,
   "metadata": {
    "colab": {
     "base_uri": "https://localhost:8080/",
     "height": 281
    },
    "colab_type": "code",
    "id": "jgVjStv8VnX2",
    "outputId": "a12b89fd-2faf-47e6-db21-3a0a0b8fa466"
   },
   "outputs": [
    {
     "data": {
      "image/png": "[encoded data removed]",
      "text/plain": [
       "<Figure size 432x288 with 1 Axes>"
      ]
     },
     "metadata": {
      "needs_background": "light"
     },
     "output_type": "display_data"
    }
   ],
   "source": [
    "# Visualize data\n",
    "plt.title(\"Generated non-linear data\")\n",
    "colors = {'c1': 'red', 'c2': 'yellow', 'c3': 'blue'}\n",
    "plt.scatter(X[:, 0], X[:, 1], c=[colors[_y] for _y in y], edgecolors='k', s=25)\n",
    "plt.show()"
   ]
  },
  {
   "cell_type": "markdown",
   "metadata": {
    "colab_type": "text",
    "id": "KOBvDZMjVskA"
   },
   "source": [
    "## Split data"
   ]
  },
  {
   "cell_type": "code",
   "execution_count": 10,
   "metadata": {
    "colab": {},
    "colab_type": "code",
    "id": "x69eRj2CXcqO"
   },
   "outputs": [],
   "source": [
    "import collections\n",
    "from sklearn.model_selection import train_test_split"
   ]
  },
  {
   "cell_type": "code",
   "execution_count": 12,
   "metadata": {
    "colab": {},
    "colab_type": "code",
    "id": "19wiklNCS7rn"
   },
   "outputs": [],
   "source": [
    "TRAIN_SIZE = 0.7\n",
    "VAL_SIZE = 0.15\n",
    "TEST_SIZE = 0.15\n",
    "SHUFFLE = True"
   ]
  },
  {
   "cell_type": "code",
   "execution_count": 13,
   "metadata": {
    "colab": {},
    "colab_type": "code",
    "id": "2OfwXCsdPlds"
   },
   "outputs": [],
   "source": [
    "def train_val_test_split(X, y, val_size, test_size, shuffle):\n",
    "    \"\"\"Split data into train/val/test datasets.\n",
    "    \"\"\"\n",
    "    X_train, X_test, y_train, y_test = train_test_split(\n",
    "        X, y, test_size=test_size, stratify=y, shuffle=shuffle)\n",
    "    X_train, X_val, y_train, y_val = train_test_split(\n",
    "        X_train, y_train, test_size=val_size, stratify=y_train, shuffle=shuffle)\n",
    "    return X_train, X_val, X_test, y_train, y_val, y_test"
   ]
  },
  {
   "cell_type": "code",
   "execution_count": 14,
   "metadata": {
    "colab": {
     "base_uri": "https://localhost:8080/",
     "height": 102
    },
    "colab_type": "code",
    "id": "gGFqcqTDXhkl",
    "outputId": "14c81b13-e7fd-488b-85ef-341558c198c2"
   },
   "outputs": [
    {
     "name": "stdout",
     "output_type": "stream",
     "text": [
      "X_train: (1083, 2), y_train: (1083,)\n",
      "X_val: (192, 2), y_val: (192,)\n",
      "X_test: (225, 2), y_test: (225,)\n",
      "Sample point: [ 0.23623443 -0.59618506] → c1\n",
      "Classes: {'c1': 500, 'c3': 500, 'c2': 500}\n"
     ]
    }
   ],
   "source": [
    "# Create data splits\n",
    "X_train, X_val, X_test, y_train, y_val, y_test = train_val_test_split(\n",
    "    X=X, y=y, val_size=VAL_SIZE, test_size=TEST_SIZE, shuffle=SHUFFLE)\n",
    "class_counts = dict(collections.Counter(y))\n",
    "print (f\"X_train: {X_train.shape}, y_train: {y_train.shape}\")\n",
    "print (f\"X_val: {X_val.shape}, y_val: {y_val.shape}\")\n",
    "print (f\"X_test: {X_test.shape}, y_test: {y_test.shape}\")\n",
    "print (f\"Sample point: {X_train[0]} → {y_train[0]}\")\n",
    "print (f\"Classes: {class_counts}\")"
   ]
  },
  {
   "cell_type": "markdown",
   "metadata": {
    "colab_type": "text",
    "id": "yoEY-6yrv4VA"
   },
   "source": [
    "## Label encoder"
   ]
  },
  {
   "cell_type": "code",
   "execution_count": 15,
   "metadata": {
    "colab": {},
    "colab_type": "code",
    "id": "OSHNy3sZv4pW"
   },
   "outputs": [],
   "source": [
    "import json\n",
    "from sklearn.preprocessing import LabelEncoder"
   ]
  },
  {
   "cell_type": "code",
   "execution_count": 16,
   "metadata": {
    "colab": {},
    "colab_type": "code",
    "id": "63MK6TnMv4xf"
   },
   "outputs": [],
   "source": [
    "# Output vectorizer\n",
    "y_tokenizer = LabelEncoder()"
   ]
  },
  {
   "cell_type": "code",
   "execution_count": 17,
   "metadata": {
    "colab": {
     "base_uri": "https://localhost:8080/",
     "height": 34
    },
    "colab_type": "code",
    "id": "RJqz_4X_v461",
    "outputId": "83feb662-8c21-42cc-b452-68de4ad95263"
   },
   "outputs": [
    {
     "name": "stdout",
     "output_type": "stream",
     "text": [
      "classes: ['c1', 'c2', 'c3']\n"
     ]
    }
   ],
   "source": [
    "# Fit on train data\n",
    "y_tokenizer = y_tokenizer.fit(y_train)\n",
    "classes = list(y_tokenizer.classes_)\n",
    "print (f\"classes: {classes}\")"
   ]
  },
  {
   "cell_type": "code",
   "execution_count": 18,
   "metadata": {
    "colab": {
     "base_uri": "https://localhost:8080/",
     "height": 51
    },
    "colab_type": "code",
    "id": "sDP2Khh_v9eZ",
    "outputId": "1a76a251-2322-4eb2-e8e9-a3080f84fee5"
   },
   "outputs": [
    {
     "name": "stdout",
     "output_type": "stream",
     "text": [
      "y_train[0]: c1\n",
      "y_train[0]: 0\n"
     ]
    }
   ],
   "source": [
    "# Convert labels to tokens\n",
    "print (f\"y_train[0]: {y_train[0]}\")\n",
    "y_train = y_tokenizer.transform(y_train)\n",
    "y_val = y_tokenizer.transform(y_val)\n",
    "y_test = y_tokenizer.transform(y_test)\n",
    "print (f\"y_train[0]: {y_train[0]}\")"
   ]
  },
  {
   "cell_type": "code",
   "execution_count": 43,
   "metadata": {
    "colab": {
     "base_uri": "https://localhost:8080/",
     "height": 51
    },
    "colab_type": "code",
    "id": "Ooec7spCMnjo",
    "outputId": "5c8a6d77-8ea0-4c36-dcbf-f45abe30bd07"
   },
   "outputs": [
    {
     "name": "stdout",
     "output_type": "stream",
     "text": [
      "class counts: Counter({0: 361, 2: 361, 1: 361}),\n",
      "class weights: {0: 0.002770083102493075, 2: 0.002770083102493075, 1: 0.002770083102493075}\n"
     ]
    }
   ],
   "source": [
    "# Class weights\n",
    "counts = collections.Counter(y_train)\n",
    "class_weights = {_class: 1.0/count for _class, count in counts.items()}\n",
    "print (f\"class counts: {counts},\\nclass weights: {class_weights}\")"
   ]
  },
  {
   "cell_type": "markdown",
   "metadata": {
    "colab_type": "text",
    "id": "Xyib_OejwEeI"
   },
   "source": [
    "## Standardize data"
   ]
  },
  {
   "cell_type": "code",
   "execution_count": 19,
   "metadata": {
    "colab": {},
    "colab_type": "code",
    "id": "QxwQiTzbwEls"
   },
   "outputs": [],
   "source": [
    "from sklearn.preprocessing import StandardScaler"
   ]
  },
  {
   "cell_type": "code",
   "execution_count": 20,
   "metadata": {
    "colab": {},
    "colab_type": "code",
    "id": "HTC2G6AXwEq8"
   },
   "outputs": [],
   "source": [
    "# Standardize the data (mean=0, std=1) using training data\n",
    "X_scaler = StandardScaler().fit(X_train)"
   ]
  },
  {
   "cell_type": "code",
   "execution_count": 21,
   "metadata": {
    "colab": {},
    "colab_type": "code",
    "id": "DP_aKC_dwEyA"
   },
   "outputs": [],
   "source": [
    "# Apply scaler on training and test data (don't standardize outputs for classification)\n",
    "X_train = X_scaler.transform(X_train)\n",
    "X_val = X_scaler.transform(X_val)\n",
    "X_test = X_scaler.transform(X_test)"
   ]
  },
  {
   "cell_type": "code",
   "execution_count": 22,
   "metadata": {
    "colab": {
     "base_uri": "https://localhost:8080/",
     "height": 119
    },
    "colab_type": "code",
    "id": "hE_w7YYywJZx",
    "outputId": "a6746fd3-7d53-4c77-8675-0c266f66907e"
   },
   "outputs": [
    {
     "name": "stdout",
     "output_type": "stream",
     "text": [
      "X_train[0]: mean: 0.0, std: 1.0\n",
      "X_train[1]: mean: 0.0, std: 1.0\n",
      "X_val[0]: mean: 0.1, std: 1.0\n",
      "X_val[1]: mean: 0.0, std: 1.0\n",
      "X_test[0]: mean: 0.1, std: 1.0\n",
      "X_test[1]: mean: -0.1, std: 0.9\n"
     ]
    }
   ],
   "source": [
    "# Check (means should be ~0 and std should be ~1)\n",
    "print (f\"X_train[0]: mean: {np.mean(X_train[:, 0], axis=0):.1f}, std: {np.std(X_train[:, 0], axis=0):.1f}\")\n",
    "print (f\"X_train[1]: mean: {np.mean(X_train[:, 1], axis=0):.1f}, std: {np.std(X_train[:, 1], axis=0):.1f}\")\n",
    "print (f\"X_val[0]: mean: {np.mean(X_val[:, 0], axis=0):.1f}, std: {np.std(X_val[:, 0], axis=0):.1f}\")\n",
    "print (f\"X_val[1]: mean: {np.mean(X_val[:, 1], axis=0):.1f}, std: {np.std(X_val[:, 1], axis=0):.1f}\")\n",
    "print (f\"X_test[0]: mean: {np.mean(X_test[:, 0], axis=0):.1f}, std: {np.std(X_test[:, 0], axis=0):.1f}\")\n",
    "print (f\"X_test[1]: mean: {np.mean(X_test[:, 1], axis=0):.1f}, std: {np.std(X_test[:, 1], axis=0):.1f}\")"
   ]
  },
  {
   "cell_type": "markdown",
   "metadata": {
    "colab_type": "text",
    "id": "i7eOGNSGYZR5"
   },
   "source": [
    "# Generators"
   ]
  },
  {
   "cell_type": "markdown",
   "metadata": {
    "colab_type": "text",
    "id": "eBcTjKxoY3MA"
   },
   "source": [
    "Generators will allow us to create batches for training, validation and testing. Generators become very useful when we want to apply batch-specific operations on our data."
   ]
  },
  {
   "cell_type": "code",
   "execution_count": 21,
   "metadata": {
    "colab": {},
    "colab_type": "code",
    "id": "m-xBVRgfkv08"
   },
   "outputs": [
    {
     "name": "stderr",
     "output_type": "stream",
     "text": [
      "UsageError: Line magic function `%tensorflow_version` not found.\n"
     ]
    }
   ],
   "source": [
    "# Use TensorFlow 2.x\n",
    "%tensorflow_version 2.x\n"
   ]
  },
  {
   "cell_type": "code",
   "execution_count": 23,
   "metadata": {},
   "outputs": [],
   "source": [
    "import tensorflow as tf"
   ]
  },
  {
   "cell_type": "code",
   "execution_count": 24,
   "metadata": {
    "colab": {},
    "colab_type": "code",
    "id": "DgTXEcT4kv51"
   },
   "outputs": [],
   "source": [
    "# Set seed for reproducability\n",
    "tf.random.set_seed(SEED)"
   ]
  },
  {
   "cell_type": "code",
   "execution_count": 25,
   "metadata": {
    "colab": {},
    "colab_type": "code",
    "id": "5EjHKZfHY5jL"
   },
   "outputs": [],
   "source": [
    "import math\n",
    "from tensorflow.keras.utils import Sequence"
   ]
  },
  {
   "cell_type": "code",
   "execution_count": 26,
   "metadata": {
    "colab": {},
    "colab_type": "code",
    "id": "KGqY703tTmKX"
   },
   "outputs": [],
   "source": [
    "BATCH_SIZE = 32"
   ]
  },
  {
   "cell_type": "code",
   "execution_count": 27,
   "metadata": {
    "colab": {},
    "colab_type": "code",
    "id": "G49TjZQcY5pk"
   },
   "outputs": [],
   "source": [
    "class DataGenerator(Sequence):\n",
    "    \"\"\"Custom data loader.\"\"\"\n",
    "    def __init__(self, X, y, batch_size, shuffle=True):\n",
    "        self.X = X\n",
    "        self.y = y\n",
    "        self.batch_size = batch_size\n",
    "        self.shuffle = shuffle\n",
    "        self.on_epoch_end()\n",
    "\n",
    "    def __len__(self):\n",
    "        \"\"\"# of batches.\"\"\"\n",
    "        return math.ceil(len(self.X) / self.batch_size)\n",
    "\n",
    "    def __str__(self):\n",
    "        return (f\"<DataGenerator(\" \\\n",
    "                f\"batch_size={self.batch_size}, \" \\\n",
    "                f\"batches={len(self)}, \" \\\n",
    "                f\"shuffle={self.shuffle})>\")\n",
    "\n",
    "    def __getitem__(self, index):\n",
    "        \"\"\"Generate a batch.\"\"\"\n",
    "        # Gather indices for this batch\n",
    "        batch_indices = self.epoch_indices[\n",
    "            index * self.batch_size:(index+1)*self.batch_size]\n",
    "\n",
    "        # Generate batch data\n",
    "        X, y = self.create_batch(batch_indices=batch_indices)\n",
    "\n",
    "        return X, y\n",
    "\n",
    "    def on_epoch_end(self):\n",
    "        \"\"\"Create indices after each epoch.\"\"\"\n",
    "        self.epoch_indices = np.arange(len(self.X))\n",
    "        if self.shuffle == True:\n",
    "            np.random.shuffle(self.epoch_indices)\n",
    "\n",
    "    def create_batch(self, batch_indices):\n",
    "        \"\"\"Generate batch from indices.\"\"\"\n",
    "        # Get batch data\n",
    "        X = self.X[batch_indices]\n",
    "        y = self.y[batch_indices]\n",
    "\n",
    "        return X, y"
   ]
  },
  {
   "cell_type": "code",
   "execution_count": 28,
   "metadata": {
    "colab": {},
    "colab_type": "code",
    "id": "T_tFkdt0Y5tL"
   },
   "outputs": [],
   "source": [
    "# Dataset generator\n",
    "training_generator = DataGenerator(X=X_train,\n",
    "                                   y=y_train,\n",
    "                                   batch_size=BATCH_SIZE,\n",
    "                                   shuffle=SHUFFLE)\n",
    "validation_generator = DataGenerator(X=X_val,\n",
    "                                     y=y_val,\n",
    "                                     batch_size=BATCH_SIZE,\n",
    "                                     shuffle=False)\n",
    "testing_generator = DataGenerator(X=X_test,\n",
    "                                  y=y_test,\n",
    "                                  batch_size=BATCH_SIZE,\n",
    "                                  shuffle=False)"
   ]
  },
  {
   "cell_type": "code",
   "execution_count": 29,
   "metadata": {
    "colab": {
     "base_uri": "https://localhost:8080/",
     "height": 68
    },
    "colab_type": "code",
    "id": "6wSXzthaY_RT",
    "outputId": "166234c0-3668-4a07-fe28-b570b0242f68"
   },
   "outputs": [
    {
     "name": "stdout",
     "output_type": "stream",
     "text": [
      "training_generator: <DataGenerator(batch_size=32, batches=34, shuffle=True)>\n",
      "validation_generator: <DataGenerator(batch_size=32, batches=6, shuffle=False)>\n",
      "testing_generator: <DataGenerator(batch_size=32, batches=8, shuffle=False)>\n"
     ]
    }
   ],
   "source": [
    "print (f\"training_generator: {training_generator}\")\n",
    "print (f\"validation_generator: {validation_generator}\")\n",
    "print (f\"testing_generator: {testing_generator}\")"
   ]
  },
  {
   "cell_type": "code",
   "execution_count": 30,
   "metadata": {
    "colab": {
     "base_uri": "https://localhost:8080/",
     "height": 170
    },
    "colab_type": "code",
    "id": "b0Svr0bCUrI5",
    "outputId": "8df4b425-71b9-49e5-eac0-542b7e5e645b"
   },
   "outputs": [
    {
     "name": "stdout",
     "output_type": "stream",
     "text": [
      "num test batches: 8\n",
      "batch 0 | X: (32, 2), y: (32,)\n",
      "batch 1 | X: (32, 2), y: (32,)\n",
      "batch 2 | X: (32, 2), y: (32,)\n",
      "batch 3 | X: (32, 2), y: (32,)\n",
      "batch 4 | X: (32, 2), y: (32,)\n",
      "batch 5 | X: (32, 2), y: (32,)\n",
      "batch 6 | X: (32, 2), y: (32,)\n",
      "batch 7 | X: (1, 2), y: (1,)\n"
     ]
    }
   ],
   "source": [
    "# Iterating through a generator\n",
    "print (f\"num test batches: {len(testing_generator)}\")\n",
    "for i, batch in enumerate(testing_generator):\n",
    "    \n",
    "    print (f\"batch {i} | X: {batch[0].shape}, y: {batch[1].shape}\")"
   ]
  },
  {
   "cell_type": "code",
   "execution_count": 31,
   "metadata": {},
   "outputs": [
    {
     "name": "stdout",
     "output_type": "stream",
     "text": [
      "num test batches: 6\n",
      "batch 0 | X: (32, 2), y: (32,)\n",
      "batch 1 | X: (32, 2), y: (32,)\n",
      "batch 2 | X: (32, 2), y: (32,)\n",
      "batch 3 | X: (32, 2), y: (32,)\n",
      "batch 4 | X: (32, 2), y: (32,)\n",
      "batch 5 | X: (32, 2), y: (32,)\n"
     ]
    }
   ],
   "source": [
    "print (f\"num test batches: {len(validation_generator)}\")\n",
    "for i, batch in enumerate(validation_generator):\n",
    "    \n",
    "    print (f\"batch {i} | X: {batch[0].shape}, y: {batch[1].shape}\")"
   ]
  },
  {
   "cell_type": "markdown",
   "metadata": {
    "colab_type": "text",
    "id": "-5ja0Cqhy3Ur"
   },
   "source": [
    "## Model"
   ]
  },
  {
   "cell_type": "code",
   "execution_count": 32,
   "metadata": {
    "colab": {},
    "colab_type": "code",
    "id": "E_A1RYWzzVWr"
   },
   "outputs": [],
   "source": [
    "from tensorflow.keras.layers import Dense\n",
    "from tensorflow.keras.layers import Dropout\n",
    "from tensorflow.keras.layers import Input\n",
    "from tensorflow.keras.initializers import glorot_normal\n",
    "from tensorflow.keras.losses import SparseCategoricalCrossentropy\n",
    "from tensorflow.keras.metrics import SparseCategoricalAccuracy\n",
    "from tensorflow.keras.models import Model\n",
    "from tensorflow.keras.optimizers import Adam\n",
    "from tensorflow.keras.utils import plot_model"
   ]
  },
  {
   "cell_type": "code",
   "execution_count": 33,
   "metadata": {
    "colab": {},
    "colab_type": "code",
    "id": "IleT9uKMzESz"
   },
   "outputs": [],
   "source": [
    "INPUT_DIM = X_train.shape[1] # X is 2-dimensional\n",
    "HIDDEN_DIM = 100\n",
    "DROPOUT_P = 0.1\n",
    "NUM_CLASSES = len(classes)\n",
    "LEARNING_RATE = 1e-2"
   ]
  },
  {
   "cell_type": "code",
   "execution_count": 34,
   "metadata": {},
   "outputs": [
    {
     "data": {
      "text/plain": [
       "(1083, 2)"
      ]
     },
     "execution_count": 34,
     "metadata": {},
     "output_type": "execute_result"
    }
   ],
   "source": [
    "X_train.shape"
   ]
  },
  {
   "cell_type": "code",
   "execution_count": 35,
   "metadata": {
    "colab": {},
    "colab_type": "code",
    "id": "wVkowdRZzI5P"
   },
   "outputs": [],
   "source": [
    "class MLP(Model):\n",
    "    def __init__(self, hidden_dim, dropout_p, num_classes):\n",
    "        super(MLP, self).__init__(name='mlp_with_dropout')\n",
    "        self.fc1 = Dense(units=hidden_dim, activation='relu', \n",
    "                         kernel_initializer=glorot_normal(),\n",
    "                         name='W1')\n",
    "        self.dropout = Dropout(rate=dropout_p, name='dropout')\n",
    "        self.fc2 = Dense(units=num_classes, activation='softmax', name='W2')\n",
    "        \n",
    "    def call(self, x_in, training=False):\n",
    "        z = self.fc1(x_in)\n",
    "        z = self.dropout(z, training=training)\n",
    "        y_pred = self.fc2(z)\n",
    "        return y_pred\n",
    "    \n",
    "    def summary(self, input_shape):\n",
    "        x_in = Input(shape=input_shape, name='X')\n",
    "        summary = Model(inputs=x_in, outputs=self.call(x_in), name=self.name)\n",
    "        summary.summary() # parameter summary\n",
    "        print (\"\\n\\nWEIGHTS:\") # weights summary\n",
    "        for layer in self.layers:\n",
    "            print (\"_\"*50)\n",
    "            print (layer.name)\n",
    "            for w in layer.weights:\n",
    "                print (f\"\\t{w.name} → {w.shape}\")\n",
    "        print (\"\\n\\nFORWARD PASS:\")\n",
    "        return plot_model(summary, show_shapes=True) # forward pass"
   ]
  },
  {
   "cell_type": "code",
   "execution_count": 36,
   "metadata": {
    "colab": {},
    "colab_type": "code",
    "id": "KgKsQHLtzQQq"
   },
   "outputs": [],
   "source": [
    "# Initialize model\n",
    "model = MLP(hidden_dim=HIDDEN_DIM, dropout_p=DROPOUT_P, num_classes=NUM_CLASSES)"
   ]
  },
  {
   "cell_type": "code",
   "execution_count": 37,
   "metadata": {
    "colab": {
     "base_uri": "https://localhost:8080/",
     "height": 694
    },
    "colab_type": "code",
    "id": "nGnvlHkJb5zx",
    "outputId": "f1830467-c1ed-49af-80cd-16a332a593d4"
   },
   "outputs": [
    {
     "name": "stdout",
     "output_type": "stream",
     "text": [
      "Model: \"mlp_with_dropout\"\n",
      "_________________________________________________________________\n",
      "Layer (type)                 Output Shape              Param #   \n",
      "=================================================================\n",
      "X (InputLayer)               [(None, 2)]               0         \n",
      "_________________________________________________________________\n",
      "W1 (Dense)                   (None, 100)               300       \n",
      "_________________________________________________________________\n",
      "dropout (Dropout)            (None, 100)               0         \n",
      "_________________________________________________________________\n",
      "W2 (Dense)                   (None, 3)                 303       \n",
      "=================================================================\n",
      "Total params: 603\n",
      "Trainable params: 603\n",
      "Non-trainable params: 0\n",
      "_________________________________________________________________\n",
      "\n",
      "\n",
      "WEIGHTS:\n",
      "__________________________________________________\n",
      "W1\n",
      "\tW1/kernel:0 → (2, 100)\n",
      "\tW1/bias:0 → (100,)\n",
      "__________________________________________________\n",
      "dropout\n",
      "__________________________________________________\n",
      "W2\n",
      "\tW2/kernel:0 → (100, 3)\n",
      "\tW2/bias:0 → (3,)\n",
      "\n",
      "\n",
      "FORWARD PASS:\n",
      "Failed to import pydot. You must install pydot and graphviz for `pydotprint` to work.\n"
     ]
    }
   ],
   "source": [
    "# Summary\n",
    "model.summary(input_shape=(INPUT_DIM,))"
   ]
  },
  {
   "cell_type": "code",
   "execution_count": 38,
   "metadata": {
    "colab": {},
    "colab_type": "code",
    "id": "jhPEkr6c7Ywt"
   },
   "outputs": [],
   "source": [
    "# Compile\n",
    "model.compile(optimizer=Adam(lr=LEARNING_RATE),\n",
    "              loss=SparseCategoricalCrossentropy(),\n",
    "              metrics=[SparseCategoricalAccuracy()])"
   ]
  },
  {
   "cell_type": "markdown",
   "metadata": {
    "colab_type": "text",
    "id": "ExBt1YgtV62m"
   },
   "source": [
    "# Callbacks"
   ]
  },
  {
   "cell_type": "markdown",
   "metadata": {
    "colab_type": "text",
    "id": "_fAkF0ftnAmD"
   },
   "source": [
    "Callbacks are a great way to customize your training, evaluation and inference loops by defining operations to occur at certain points. View the full list of available callbacks in the [official documentation](https://www.tensorflow.org/versions/r2.0/api_docs/python/tf/keras/callbacks). We will also be implementing a custom callback in the next section."
   ]
  },
  {
   "cell_type": "markdown",
   "metadata": {
    "colab_type": "text",
    "id": "JvPgzpZ82U9P"
   },
   "source": [
    "We'll be using the following callbacks in the examples below:\n",
    "\n",
    "* [EarlyStopping](https://www.tensorflow.org/versions/r2.0/api_docs/python/tf/keras/callbacks/EarlyStopping): early stopping criteria will monitor a metric and stop training early if performance degrades for a certain number of epochs (patience). \n",
    "\n",
    "* [ModelCheckpoint](https://www.tensorflow.org/versions/r2.0/api_docs/python/tf/keras/callbacks/ModelCheckpoint): model checkpoint will save a model to a file path based on monitoring a metric.\n",
    "\n",
    "* [ReduceLROnPlateau](https://www.tensorflow.org/versions/r2.0/api_docs/python/tf/keras/callbacks/ReduceLROnPlateau): reduce the learning rate when a monitored metric stops improving for a certain number of epochs (patience).\n",
    "\n",
    "* [TensorBoard](https://www.tensorflow.org/versions/r2.0/api_docs/python/tf/keras/callbacks/TensorBoard): visualize metrics, weight values and histograms (we'll use this in the tensorboard section)"
   ]
  },
  {
   "cell_type": "code",
   "execution_count": 39,
   "metadata": {
    "colab": {},
    "colab_type": "code",
    "id": "WV79_3Bg2UT8"
   },
   "outputs": [],
   "source": [
    "from datetime import datetime\n",
    "from tensorflow.keras.callbacks import EarlyStopping\n",
    "from tensorflow.keras.callbacks import ModelCheckpoint\n",
    "from tensorflow.keras.callbacks import ReduceLROnPlateau\n",
    "from tensorflow.keras.callbacks import TensorBoard\n",
    "%load_ext tensorboard"
   ]
  },
  {
   "cell_type": "code",
   "execution_count": 40,
   "metadata": {
    "colab": {},
    "colab_type": "code",
    "id": "FNMshcPF5e85"
   },
   "outputs": [],
   "source": [
    "EARLY_STOPPING_CRITERIA = 3\n",
    "MODEL_FILE = 'model.hdf5'\n",
    "NUM_EPOCHS = 10"
   ]
  },
  {
   "cell_type": "code",
   "execution_count": 41,
   "metadata": {
    "colab": {},
    "colab_type": "code",
    "id": "NRJL0zSCV6a4"
   },
   "outputs": [],
   "source": [
    "# Define callbacks\n",
    "run_dir = 'tensorboard/callback_run'\n",
    "callbacks = [EarlyStopping(monitor='val_loss', mode='min', patience=EARLY_STOPPING_CRITERIA, verbose=0),\n",
    "             ModelCheckpoint(filepath=MODEL_FILE, monitor='val_loss', mode='min', verbose=0, save_best_only=True, save_weights_only=True),\n",
    "             ReduceLROnPlateau(monitor='val_loss', mode='min', patience=1, factor=0.1, verbose=0),\n",
    "             TensorBoard(log_dir=run_dir, histogram_freq=1, update_freq='epoch')] # TensorBoard Callback"
   ]
  },
  {
   "cell_type": "markdown",
   "metadata": {
    "colab_type": "text",
    "id": "l2czfBxT22en"
   },
   "source": [
    "* [EarlyStopping](https://www.tensorflow.org/versions/r2.0/api_docs/python/tf/keras/callbacks/EarlyStopping): we'll monitoring the validation loss (`monitor='val_loss'`) and we'll stop the training process easy when the minimum (`mode='min'`) validation loss stop improving for `EARLY_STOPPING_CRITERIA` epochs in a row (`patience=EARLY_STOPPING_CRITERIA`).\n",
    "\n",
    "* [ModelCheckpoint](https://www.tensorflow.org/versions/r2.0/api_docs/python/tf/keras/callbacks/ModelCheckpoint): we'll save the best (`save_best_only=True`) model's weights (`save_weights_only=True`) based on the minimum (`mode='min'`) validation loss (`monitor='val_loss'`) to the file path `MODEL_FILE` (`filepath=MODEL_FILE`).\n",
    "\n",
    "* [ReduceLROnPlateau](https://www.tensorflow.org/versions/r2.0/api_docs/python/tf/keras/callbacks/ReduceLROnPlateau): we'll reduce the learning rate by a factor of 0.1 (`factor=0.1`) when the validation loss (`monitor='val_loss'`) doesn't decrease (`mode='min'`) for more than 1 epoch (`patience=1`).\n",
    "\n",
    "* [TensorBoard](https://www.tensorflow.org/versions/r2.0/api_docs/python/tf/keras/callbacks/TensorBoard): we'll save metrics every epoch (`update_freq='epoch'`) to the `run_dir` (`log_dir=run_dir`).\n"
   ]
  },
  {
   "cell_type": "code",
   "execution_count": 44,
   "metadata": {
    "colab": {
     "base_uri": "https://localhost:8080/",
     "height": 496
    },
    "colab_type": "code",
    "id": "fr1dMk_J5UmI",
    "outputId": "9df81b5a-75cf-4370-fde4-d50df943fa49"
   },
   "outputs": [
    {
     "name": "stdout",
     "output_type": "stream",
     "text": [
      "WARNING:tensorflow:sample_weight modes were coerced from\n",
      "  ...\n",
      "    to  \n",
      "  ['...']\n",
      "Train for 34 steps, validate for 6 steps\n",
      "Epoch 1/10\n",
      "34/34 [==============================] - 1s 23ms/step - loss: 0.0020 - sparse_categorical_accuracy: 0.5697 - val_loss: 0.0017 - val_sparse_categorical_accuracy: 0.6667\n",
      "Epoch 2/10\n",
      "34/34 [==============================] - 0s 7ms/step - loss: 0.0014 - sparse_categorical_accuracy: 0.7590 - val_loss: 0.0012 - val_sparse_categorical_accuracy: 0.8385\n",
      "Epoch 3/10\n",
      "34/34 [==============================] - 0s 7ms/step - loss: 8.9016e-04 - sparse_categorical_accuracy: 0.8957 - val_loss: 7.7756e-04 - val_sparse_categorical_accuracy: 0.9271\n",
      "Epoch 4/10\n",
      "34/34 [==============================] - 0s 7ms/step - loss: 5.8853e-04 - sparse_categorical_accuracy: 0.9455 - val_loss: 5.5944e-04 - val_sparse_categorical_accuracy: 0.9479\n",
      "Epoch 5/10\n",
      "34/34 [==============================] - 0s 5ms/step - loss: 4.4347e-04 - sparse_categorical_accuracy: 0.9575 - val_loss: 4.2903e-04 - val_sparse_categorical_accuracy: 0.9531\n",
      "Epoch 6/10\n",
      "34/34 [==============================] - 0s 5ms/step - loss: 3.6721e-04 - sparse_categorical_accuracy: 0.9584 - val_loss: 3.6567e-04 - val_sparse_categorical_accuracy: 0.9740\n",
      "Epoch 7/10\n",
      "34/34 [==============================] - 0s 6ms/step - loss: 3.2395e-04 - sparse_categorical_accuracy: 0.9686 - val_loss: 3.5583e-04 - val_sparse_categorical_accuracy: 0.9896\n",
      "Epoch 8/10\n",
      "34/34 [==============================] - 0s 5ms/step - loss: 2.9985e-04 - sparse_categorical_accuracy: 0.9788 - val_loss: 3.5572e-04 - val_sparse_categorical_accuracy: 0.9896\n",
      "Epoch 9/10\n",
      "34/34 [==============================] - 0s 7ms/step - loss: 3.0709e-04 - sparse_categorical_accuracy: 0.9732 - val_loss: 3.5582e-04 - val_sparse_categorical_accuracy: 0.9896\n",
      "Epoch 10/10\n",
      "34/34 [==============================] - 0s 4ms/step - loss: 3.1085e-04 - sparse_categorical_accuracy: 0.9649 - val_loss: 3.5581e-04 - val_sparse_categorical_accuracy: 0.9896\n"
     ]
    },
    {
     "data": {
      "text/plain": [
       "<tensorflow.python.keras.callbacks.History at 0x12dd5dc10>"
      ]
     },
     "execution_count": 44,
     "metadata": {},
     "output_type": "execute_result"
    }
   ],
   "source": [
    "# Training\n",
    "model.fit(x=training_generator,\n",
    "          epochs=NUM_EPOCHS,\n",
    "          validation_data=validation_generator,\n",
    "          shuffle=False,\n",
    "          class_weight=class_weights,\n",
    "          verbose=1,\n",
    "          callbacks=callbacks) # add callbacks"
   ]
  },
  {
   "cell_type": "code",
   "execution_count": 45,
   "metadata": {
    "colab": {
     "base_uri": "https://localhost:8080/",
     "height": 34
    },
    "colab_type": "code",
    "id": "nN0x7MZ_67xz",
    "outputId": "46053f31-1c05-4011-b9e7-deaa40115056"
   },
   "outputs": [
    {
     "name": "stdout",
     "output_type": "stream",
     "text": [
      "02_NumPy.ipynb\r\n",
      "03_Pandas-checkpoint.ipynb\r\n",
      "04_Linear_Regression.ipynb\r\n",
      "05_Logistic_Regression.ipynb\r\n",
      "05_PT_Utilities.ipynb\r\n",
      "06_Multilayer_Perceptrons.ipynb\r\n",
      "07_Data_and_Models.ipynb\r\n",
      "08_Utilities.ipynb\r\n",
      "\u001b[34mdatasets\u001b[m\u001b[m\r\n",
      "dentalFormulas.txt\r\n",
      "model.hdf5\r\n",
      "model.pth\r\n",
      "spiral.csv\r\n",
      "\u001b[34mtensorboard\u001b[m\u001b[m\r\n",
      "tumors.csv\r\n",
      "tumors_reduced.csv\r\n",
      "机器学习（无监督类）案例.ipynb\r\n"
     ]
    }
   ],
   "source": [
    "# The best model has been saved to the directory\n",
    "!ls "
   ]
  },
  {
   "cell_type": "code",
   "execution_count": 46,
   "metadata": {
    "colab": {
     "base_uri": "https://localhost:8080/",
     "height": 821
    },
    "colab_type": "code",
    "id": "PnipqhZ77GMQ",
    "outputId": "1237019c-2789-4704-98eb-0f75db24560f"
   },
   "outputs": [
    {
     "data": {
      "text/html": [
       "\n",
       "      <iframe id=\"tensorboard-frame-66af2ec511df5d88\" width=\"100%\" height=\"800\" frameborder=\"0\">\n",
       "      </iframe>\n",
       "      <script>\n",
       "        (function() {\n",
       "          const frame = document.getElementById(\"tensorboard-frame-66af2ec511df5d88\");\n",
       "          const url = new URL(\"/\", window.location);\n",
       "          url.port = 6006;\n",
       "          frame.src = url;\n",
       "        })();\n",
       "      </script>\n",
       "  "
      ],
      "text/plain": [
       "<IPython.core.display.HTML object>"
      ]
     },
     "metadata": {},
     "output_type": "display_data"
    }
   ],
   "source": [
    "# Visualize performance on tensorboard\n",
    "%tensorboard --logdir tensorboard"
   ]
  },
  {
   "cell_type": "markdown",
   "metadata": {
    "colab_type": "text",
    "id": "HmMwGuhJ-pMC"
   },
   "source": [
    "You can see the `ReduceLROnPlateau` callback reduced the learning rate as our training progressed."
   ]
  },
  {
   "cell_type": "markdown",
   "metadata": {
    "colab_type": "text",
    "id": "2GrfMokoV_Uh"
   },
   "source": [
    "# Custom callbacks"
   ]
  },
  {
   "cell_type": "code",
   "execution_count": 47,
   "metadata": {
    "colab": {},
    "colab_type": "code",
    "id": "hf5E1jMVE0aD"
   },
   "outputs": [],
   "source": [
    "from tensorflow.keras.callbacks import Callback\n",
    "from tensorflow.summary import create_file_writer\n",
    "from tensorflow.summary import text"
   ]
  },
  {
   "cell_type": "markdown",
   "metadata": {
    "colab_type": "text",
    "id": "6IWSBC2PGahj"
   },
   "source": [
    "We could add any of the following [methods](https://www.tensorflow.org/versions/r2.0/api_docs/python/tf/keras/callbacks/Callback#methods) to our custom callback at key points during<br> training, testing, and prediction allowing for powerful customization while leveraging fit functions.\n",
    "\n",
    "<table align=\"left\">\n",
    "        <tr>\n",
    "            <th>\n",
    "                <b>General</b>\n",
    "            </th>\n",
    "            <th>\n",
    "                <b>Training</b>\n",
    "            </th>\n",
    "            <th>\n",
    "                <b>Evaluation</b>\n",
    "            </th>\n",
    "            <th>\n",
    "                <b>Inference</b>\n",
    "            </th>\n",
    "        </tr>\n",
    "        <tr>\n",
    "            <td>on_batch_begin</td>\n",
    "            <td>on_train_batch_begin</td>\n",
    "            <td>on_test_batch_begin</td>\n",
    "            <td>on_predict_batch_begin</td>\n",
    "        </tr>\n",
    "        <tr>\n",
    "            <td>on_batch_end</td>\n",
    "            <td>on_train_batch_end</td>\n",
    "            <td>on_test_batch_end</td>\n",
    "            <td>on_predict_batch_end</td>\n",
    "        </tr>\n",
    "        <tr>\n",
    "            <td>on_epoch_begin</td>\n",
    "            <td>on_train_begin</td>\n",
    "            <td>on_test_begin</td>\n",
    "            <td>on_predict_begin</td>\n",
    "        </tr>\n",
    "         <tr>\n",
    "            <td>on_epoch_end</td>\n",
    "            <td>on_train_end</td>\n",
    "            <td>on_test_end</td>\n",
    "            <td>on_predict_end</td>\n",
    "        </tr>\n",
    "    </table>"
   ]
  },
  {
   "cell_type": "markdown",
   "metadata": {
    "colab_type": "text",
    "id": "3av5RrjLIAc7"
   },
   "source": [
    "Our custom callback will be predict the class for center of our spiral `(0.0, 0.0)` and we will do this at the end of every training epoch (`on_epoch_end`)."
   ]
  },
  {
   "cell_type": "code",
   "execution_count": 48,
   "metadata": {
    "colab": {},
    "colab_type": "code",
    "id": "FYLnlUYdGYVb"
   },
   "outputs": [],
   "source": [
    "class PredictCenterPoint(Callback):\n",
    "    def __init__(self, classes, file_writer):\n",
    "        self.center_point = np.array([[0.0, 0.0]])\n",
    "        self.classes = classes\n",
    "        self.file_writer = file_writer\n",
    "        self.history = []\n",
    "\n",
    "    def on_epoch_end(self, epoch, logs={}):\n",
    "        z = self.model(self.center_point).numpy()\n",
    "        prediction = self.classes[np.argmax(z, axis=1)[0]]\n",
    "        self.history.append(prediction)\n",
    "        print (f\"(0.0, 0.0) → {prediction}\")\n",
    "\n",
    "        # Log to TensorBoard\n",
    "        with self.file_writer.as_default():\n",
    "            text('center_point_class', data=prediction, step=epoch)"
   ]
  },
  {
   "cell_type": "markdown",
   "metadata": {
    "colab_type": "text",
    "id": "Yj98YF4yKohK"
   },
   "source": [
    "**NOTE**: We can write many other types of data, besides text, to tensorboard as well. You find learn about them [here](https://www.tensorflow.org/api_docs/python/tf/summary)."
   ]
  },
  {
   "cell_type": "code",
   "execution_count": 49,
   "metadata": {
    "colab": {},
    "colab_type": "code",
    "id": "2uTbE4LKIyOi"
   },
   "outputs": [],
   "source": [
    "# Define callbacks\n",
    "run_dir = 'tensorboard/custom_callback_run'\n",
    "file_writer = create_file_writer(run_dir) # to store custom metrics on tensorboard\n",
    "predict_center_point = PredictCenterPoint(classes=classes, file_writer=file_writer)\n",
    "callbacks = [EarlyStopping(monitor='val_loss', mode='min', patience=EARLY_STOPPING_CRITERIA, verbose=0),\n",
    "             ModelCheckpoint(filepath=MODEL_FILE, monitor='val_loss', mode='min', verbose=0, save_best_only=True, save_weights_only=True),\n",
    "             ReduceLROnPlateau(monitor='val_loss', mode='min', patience=1, factor=0.1, verbose=0),\n",
    "             TensorBoard(log_dir=run_dir, histogram_freq=1, update_freq='epoch'),\n",
    "             predict_center_point] # TensorBoard Callback"
   ]
  },
  {
   "cell_type": "code",
   "execution_count": 50,
   "metadata": {
    "colab": {},
    "colab_type": "code",
    "id": "J4mXFU9qPqHl"
   },
   "outputs": [],
   "source": [
    "# Initialize model\n",
    "model = MLP(hidden_dim=HIDDEN_DIM, dropout_p=DROPOUT_P, num_classes=NUM_CLASSES)\n",
    "model.compile(optimizer=Adam(lr=LEARNING_RATE),\n",
    "              loss=SparseCategoricalCrossentropy(),\n",
    "              metrics=[SparseCategoricalAccuracy()])"
   ]
  },
  {
   "cell_type": "code",
   "execution_count": 51,
   "metadata": {
    "colab": {
     "base_uri": "https://localhost:8080/",
     "height": 751
    },
    "colab_type": "code",
    "id": "vlhTQoA_IyLe",
    "outputId": "5c404260-44b9-41e2-d247-6d9579eb7964"
   },
   "outputs": [
    {
     "name": "stdout",
     "output_type": "stream",
     "text": [
      "WARNING:tensorflow:sample_weight modes were coerced from\n",
      "  ...\n",
      "    to  \n",
      "  ['...']\n",
      "Train for 34 steps, validate for 6 steps\n",
      "Epoch 1/10\n",
      "WARNING:tensorflow:Layer mlp_with_dropout is casting an input tensor from dtype float64 to the layer's dtype of float32, which is new behavior in TensorFlow 2.  The layer has dtype float32 because it's dtype defaults to floatx.\n",
      "\n",
      "If you intended to run this layer in float32, you can safely ignore this warning. If in doubt, this warning is likely only an issue if you are porting a TensorFlow 1.X model to TensorFlow 2.\n",
      "\n",
      "To change all layers to have dtype float64 by default, call `tf.keras.backend.set_floatx('float64')`. To change just this layer, pass dtype='float64' to the layer constructor. If you are the author of this layer, you can disable autocasting by passing autocast=False to the base Layer constructor.\n",
      "\n",
      "(0.0, 0.0) → c3\n",
      "34/34 - 1s - loss: 0.0021 - sparse_categorical_accuracy: 0.5512 - val_loss: 0.0018 - val_sparse_categorical_accuracy: 0.6250\n",
      "Epoch 2/10\n",
      "(0.0, 0.0) → c3\n",
      "34/34 - 0s - loss: 0.0015 - sparse_categorical_accuracy: 0.7285 - val_loss: 0.0013 - val_sparse_categorical_accuracy: 0.8438\n",
      "Epoch 3/10\n",
      "(0.0, 0.0) → c2\n",
      "34/34 - 0s - loss: 9.8046e-04 - sparse_categorical_accuracy: 0.8827 - val_loss: 8.7768e-04 - val_sparse_categorical_accuracy: 0.9375\n",
      "Epoch 4/10\n",
      "(0.0, 0.0) → c2\n",
      "34/34 - 0s - loss: 6.6148e-04 - sparse_categorical_accuracy: 0.9335 - val_loss: 6.3142e-04 - val_sparse_categorical_accuracy: 0.9427\n",
      "Epoch 5/10\n",
      "(0.0, 0.0) → c2\n",
      "34/34 - 0s - loss: 5.0551e-04 - sparse_categorical_accuracy: 0.9501 - val_loss: 4.9751e-04 - val_sparse_categorical_accuracy: 0.9688\n",
      "Epoch 6/10\n",
      "(0.0, 0.0) → c3\n",
      "34/34 - 0s - loss: 3.9834e-04 - sparse_categorical_accuracy: 0.9640 - val_loss: 4.1624e-04 - val_sparse_categorical_accuracy: 0.9688\n",
      "Epoch 7/10\n",
      "(0.0, 0.0) → c2\n",
      "34/34 - 0s - loss: 3.6732e-04 - sparse_categorical_accuracy: 0.9668 - val_loss: 3.9055e-04 - val_sparse_categorical_accuracy: 0.9792\n",
      "Epoch 8/10\n",
      "(0.0, 0.0) → c3\n",
      "34/34 - 0s - loss: 3.4191e-04 - sparse_categorical_accuracy: 0.9631 - val_loss: 3.9869e-04 - val_sparse_categorical_accuracy: 0.9896\n",
      "Epoch 9/10\n",
      "(0.0, 0.0) → c3\n",
      "34/34 - 0s - loss: 3.3142e-04 - sparse_categorical_accuracy: 0.9686 - val_loss: 3.9778e-04 - val_sparse_categorical_accuracy: 0.9896\n",
      "Epoch 10/10\n",
      "(0.0, 0.0) → c3\n",
      "34/34 - 0s - loss: 3.1752e-04 - sparse_categorical_accuracy: 0.9723 - val_loss: 3.9772e-04 - val_sparse_categorical_accuracy: 0.9896\n"
     ]
    },
    {
     "data": {
      "text/plain": [
       "<tensorflow.python.keras.callbacks.History at 0x12e81acd0>"
      ]
     },
     "execution_count": 51,
     "metadata": {},
     "output_type": "execute_result"
    }
   ],
   "source": [
    "# Training\n",
    "model.fit(x=training_generator,\n",
    "          epochs=NUM_EPOCHS,\n",
    "          validation_data=validation_generator,\n",
    "          shuffle=False,\n",
    "          class_weight=class_weights,\n",
    "          verbose=2, # verbose=2 doesn't use the progress bar\n",
    "          callbacks=callbacks) # add callbacks"
   ]
  },
  {
   "cell_type": "code",
   "execution_count": 52,
   "metadata": {
    "colab": {
     "base_uri": "https://localhost:8080/",
     "height": 34
    },
    "colab_type": "code",
    "id": "j8-YzB2IIyIW",
    "outputId": "15fae17f-9f8e-4cfd-c399-9259e0459d5e"
   },
   "outputs": [
    {
     "data": {
      "text/plain": [
       "['c3', 'c3', 'c2', 'c2', 'c2', 'c3', 'c2', 'c3', 'c3', 'c3']"
      ]
     },
     "execution_count": 52,
     "metadata": {},
     "output_type": "execute_result"
    }
   ],
   "source": [
    "# Custom callback results\n",
    "predict_center_point.history"
   ]
  },
  {
   "cell_type": "code",
   "execution_count": 53,
   "metadata": {
    "colab": {
     "base_uri": "https://localhost:8080/",
     "height": 838
    },
    "colab_type": "code",
    "id": "0kTVObfkNXG1",
    "outputId": "dba13ac1-b309-40bf-b9aa-1ff43fb097fc"
   },
   "outputs": [
    {
     "data": {
      "text/plain": [
       "Reusing TensorBoard on port 6006 (pid 4529), started 0:00:34 ago. (Use '!kill 4529' to kill it.)"
      ]
     },
     "metadata": {},
     "output_type": "display_data"
    },
    {
     "data": {
      "text/html": [
       "\n",
       "      <iframe id=\"tensorboard-frame-5bab442b47500651\" width=\"100%\" height=\"800\" frameborder=\"0\">\n",
       "      </iframe>\n",
       "      <script>\n",
       "        (function() {\n",
       "          const frame = document.getElementById(\"tensorboard-frame-5bab442b47500651\");\n",
       "          const url = new URL(\"/\", window.location);\n",
       "          url.port = 6006;\n",
       "          frame.src = url;\n",
       "        })();\n",
       "      </script>\n",
       "  "
      ],
      "text/plain": [
       "<IPython.core.display.HTML object>"
      ]
     },
     "metadata": {},
     "output_type": "display_data"
    }
   ],
   "source": [
    "# Visualize performance on tensorboard (click on the TEXT tab to see our center point predictions)\n",
    "%tensorboard --logdir tensorboard"
   ]
  },
  {
   "cell_type": "markdown",
   "metadata": {
    "colab_type": "text",
    "id": "a9Ku-RAnnHGA"
   },
   "source": [
    "# GradientTape"
   ]
  },
  {
   "cell_type": "markdown",
   "metadata": {
    "colab_type": "text",
    "id": "YlwFrxTmnJm9"
   },
   "source": [
    "So far we've used `model.fit` to train our models. This has been very useful so we don't have to write training loop biolerplate code every time while still giving us enough control via callbacks, loss, metrics, etc. But what if we wanted even more control in customizing our training loop? Tensorflow's [GradientTape](https://www.tensorflow.org/api_docs/python/tf/GradientTape) allows us to do exactly this."
   ]
  },
  {
   "cell_type": "code",
   "execution_count": 54,
   "metadata": {
    "colab": {},
    "colab_type": "code",
    "id": "X4BRmDdmgR9d"
   },
   "outputs": [],
   "source": [
    "from tensorflow.keras.metrics import Mean"
   ]
  },
  {
   "cell_type": "code",
   "execution_count": 55,
   "metadata": {
    "colab": {},
    "colab_type": "code",
    "id": "7attpqoIoToA"
   },
   "outputs": [],
   "source": [
    "# Initialize model\n",
    "model = MLP(hidden_dim=HIDDEN_DIM, dropout_p=DROPOUT_P, num_classes=NUM_CLASSES)"
   ]
  },
  {
   "cell_type": "code",
   "execution_count": 56,
   "metadata": {
    "colab": {},
    "colab_type": "code",
    "id": "DBig3q-InJ6P"
   },
   "outputs": [],
   "source": [
    "# Compile\n",
    "optimizer = Adam(lr=LEARNING_RATE)\n",
    "loss_fn = SparseCategoricalCrossentropy()"
   ]
  },
  {
   "cell_type": "code",
   "execution_count": 57,
   "metadata": {
    "colab": {},
    "colab_type": "code",
    "id": "atX9ZJ73gAnY"
   },
   "outputs": [],
   "source": [
    "# Metrics\n",
    "train_loss = Mean(name='train_loss')\n",
    "val_loss = Mean(name='val_loss')\n",
    "train_accuracy = SparseCategoricalAccuracy(name='train_accuracy')\n",
    "val_accuracy = SparseCategoricalAccuracy(name='val_accuracy')"
   ]
  },
  {
   "cell_type": "code",
   "execution_count": 58,
   "metadata": {
    "colab": {},
    "colab_type": "code",
    "id": "IzC7OXFodv7M"
   },
   "outputs": [],
   "source": [
    "# Train step\n",
    "@tf.function\n",
    "def train_step(x, y):\n",
    "\n",
    "    # Forward pass and loss\n",
    "    with tf.GradientTape() as tape:\n",
    "        y_pred = model(x)\n",
    "        loss = loss_fn(y, y_pred)\n",
    "\n",
    "    # Backprop\n",
    "    gradients = tape.gradient(loss, model.trainable_variables)\n",
    "    optimizer.apply_gradients(zip(gradients, model.trainable_variables))\n",
    "\n",
    "    # Metrics\n",
    "    train_loss(loss)\n",
    "    train_accuracy(y, y_pred)"
   ]
  },
  {
   "cell_type": "code",
   "execution_count": 59,
   "metadata": {
    "colab": {},
    "colab_type": "code",
    "id": "S5_eL6NHdv4p"
   },
   "outputs": [],
   "source": [
    "# Validation step\n",
    "@tf.function\n",
    "def val_step(x, y):\n",
    "    # Forward pass and loss\n",
    "    y_pred = model(x)\n",
    "    loss = loss_fn(y, y_pred)\n",
    "\n",
    "    # Metrics\n",
    "    val_loss(loss)\n",
    "    val_accuracy(y, y_pred)"
   ]
  },
  {
   "cell_type": "code",
   "execution_count": 60,
   "metadata": {
    "colab": {
     "base_uri": "https://localhost:8080/",
     "height": 309
    },
    "colab_type": "code",
    "id": "PPvHoY9NpucQ",
    "outputId": "d16fb009-f34a-4885-82ae-397beb4797d1"
   },
   "outputs": [
    {
     "name": "stdout",
     "output_type": "stream",
     "text": [
      "WARNING:tensorflow:Layer mlp_with_dropout is casting an input tensor from dtype float64 to the layer's dtype of float32, which is new behavior in TensorFlow 2.  The layer has dtype float32 because it's dtype defaults to floatx.\n",
      "\n",
      "If you intended to run this layer in float32, you can safely ignore this warning. If in doubt, this warning is likely only an issue if you are porting a TensorFlow 1.X model to TensorFlow 2.\n",
      "\n",
      "To change all layers to have dtype float64 by default, call `tf.keras.backend.set_floatx('float64')`. To change just this layer, pass dtype='float64' to the layer constructor. If you are the author of this layer, you can disable autocasting by passing autocast=False to the base Layer constructor.\n",
      "\n",
      "Epoch: 0 | train_loss: 0.71 | train_acc:  0.57 | val_loss: 0.61 | val_acc:  0.70\n",
      "Epoch: 1 | train_loss: 0.59 | train_acc:  0.67 | val_loss: 0.51 | val_acc:  0.77\n",
      "Epoch: 2 | train_loss: 0.49 | train_acc:  0.76 | val_loss: 0.43 | val_acc:  0.83\n",
      "Epoch: 3 | train_loss: 0.42 | train_acc:  0.81 | val_loss: 0.37 | val_acc:  0.86\n",
      "Epoch: 4 | train_loss: 0.36 | train_acc:  0.84 | val_loss: 0.33 | val_acc:  0.88\n",
      "Epoch: 5 | train_loss: 0.32 | train_acc:  0.86 | val_loss: 0.30 | val_acc:  0.90\n",
      "Epoch: 6 | train_loss: 0.29 | train_acc:  0.88 | val_loss: 0.27 | val_acc:  0.91\n",
      "Epoch: 7 | train_loss: 0.26 | train_acc:  0.89 | val_loss: 0.25 | val_acc:  0.92\n",
      "Epoch: 8 | train_loss: 0.24 | train_acc:  0.90 | val_loss: 0.23 | val_acc:  0.93\n",
      "Epoch: 9 | train_loss: 0.22 | train_acc:  0.91 | val_loss: 0.21 | val_acc:  0.93\n"
     ]
    }
   ],
   "source": [
    "# Training\n",
    "for epoch in range(NUM_EPOCHS):\n",
    "\n",
    "    # Reset metrics for new epoch\n",
    "    model.reset_metrics()\n",
    "    \n",
    "    # Training\n",
    "    for batch in training_generator:\n",
    "        X, y = batch\n",
    "        train_step(X, y)\n",
    "\n",
    "    # Validation\n",
    "    for batch in validation_generator:\n",
    "        X, y = batch\n",
    "        val_step(X, y)\n",
    "\n",
    "    # Metrics\n",
    "    print (f\"Epoch: {epoch} | train_loss: {train_loss.result():.2f} | train_acc: {train_accuracy.result(): .2f} | val_loss: {val_loss.result():.2f} | val_acc: {val_accuracy.result(): .2f}\")"
   ]
  },
  {
   "cell_type": "markdown",
   "metadata": {
    "colab_type": "text",
    "id": "VGxKQB5nNfZY"
   },
   "source": [
    "# Hyperparameter Optimization"
   ]
  },
  {
   "cell_type": "markdown",
   "metadata": {
    "colab_type": "text",
    "id": "YJpO17hYqEP_"
   },
   "source": [
    "How do we know that the parameters (like *HIDDEN_DIM*, *DROPOUT_P*, *LEARNING_RATE*, etc.) we chose for our model are the best? We can empirically validate by doing hyperparameter optimization with TensorBoard. We will just try a few hyperparameter values but you can see the results and fine tune ever more."
   ]
  },
  {
   "cell_type": "code",
   "execution_count": 61,
   "metadata": {
    "colab": {},
    "colab_type": "code",
    "id": "URFQ87whq8Wm"
   },
   "outputs": [],
   "source": [
    "from tensorboard.plugins.hparams import api as hp"
   ]
  },
  {
   "cell_type": "code",
   "execution_count": 62,
   "metadata": {
    "colab": {},
    "colab_type": "code",
    "id": "p1MaWcU6vVdU"
   },
   "outputs": [],
   "source": [
    "def train_test_model(hparams):\n",
    "    \"\"\"Training and testing functions.\n",
    "    \"\"\"\n",
    "    # Initialize\n",
    "    model = MLP(hidden_dim=hparams[HP_HIDDEN_DIM],\n",
    "            dropout_p=hparams[HP_DROPOUT_P],\n",
    "            num_classes=NUM_CLASSES)\n",
    "\n",
    "    # Compile\n",
    "    model.compile(optimizer=Adam(lr=hparams[HP_LR]),\n",
    "                  loss=SparseCategoricalCrossentropy(),\n",
    "                  metrics=[SparseCategoricalAccuracy()])\n",
    "    \n",
    "    # Callbacks\n",
    "    callbacks = [EarlyStopping(monitor='val_loss', mode='min', patience=EARLY_STOPPING_CRITERIA, verbose=0),\n",
    "                 ReduceLROnPlateau(monitor='val_loss', mode='min', patience=1, factor=0.1, verbose=0)]\n",
    "    \n",
    "    # Training\n",
    "    model.fit(x=training_generator,\n",
    "              epochs=NUM_EPOCHS,\n",
    "              validation_data=validation_generator,\n",
    "              class_weight=class_weights,\n",
    "              callbacks=callbacks,\n",
    "              shuffle=False,\n",
    "              verbose=1)\n",
    "\n",
    "    # Evaluate\n",
    "    test_loss, test_accuracy = model.evaluate(x=testing_generator, verbose=1)\n",
    "    \n",
    "    return test_accuracy"
   ]
  },
  {
   "cell_type": "code",
   "execution_count": 63,
   "metadata": {
    "colab": {},
    "colab_type": "code",
    "id": "E8GMsf2mwnRR"
   },
   "outputs": [],
   "source": [
    "def run(run_dir, hparams):\n",
    "    with tf.summary.create_file_writer(run_dir).as_default():\n",
    "        # Record hparams in this run\n",
    "        hp.hparams(hparams) \n",
    "        accuracy = train_test_model(hparams)\n",
    "        tf.summary.scalar('accuracy', accuracy, step=1)"
   ]
  },
  {
   "cell_type": "code",
   "execution_count": 64,
   "metadata": {
    "colab": {},
    "colab_type": "code",
    "id": "6cMCrlWTvQ8_"
   },
   "outputs": [],
   "source": [
    "# Hyperparameters\n",
    "HP_HIDDEN_DIM = hp.HParam('hidden_dim', hp.Discrete([16, 32]))\n",
    "HP_DROPOUT_P = hp.HParam('dropout_p', hp.RealInterval(0.1, 0.2))\n",
    "HP_LR = hp.HParam('lr', hp.Discrete([1e-3, 1e-2]))"
   ]
  },
  {
   "cell_type": "code",
   "execution_count": 65,
   "metadata": {
    "colab": {},
    "colab_type": "code",
    "id": "_62nKKFFvQ4z"
   },
   "outputs": [],
   "source": [
    "log_dir = 'tensorboard/hparam_tuning'\n",
    "with tf.summary.create_file_writer(log_dir).as_default():\n",
    "    hp.hparams_config(\n",
    "        hparams=[HP_HIDDEN_DIM, HP_HIDDEN_DIM, HP_LR],\n",
    "        metrics=[hp.Metric('accuracy', display_name='Accuracy')],\n",
    "        )"
   ]
  },
  {
   "cell_type": "code",
   "execution_count": 66,
   "metadata": {
    "colab": {
     "base_uri": "https://localhost:8080/",
     "height": 1000
    },
    "colab_type": "code",
    "id": "ew4__Z0Av8AE",
    "outputId": "315c16b3-86bf-43ca-da01-0a31b860c185"
   },
   "outputs": [
    {
     "name": "stdout",
     "output_type": "stream",
     "text": [
      "--- Starting trial: run-0000\n",
      "{'hidden_dim': 16, 'dropout_p': 0.1, 'lr': 0.001}\n",
      "WARNING:tensorflow:sample_weight modes were coerced from\n",
      "  ...\n",
      "    to  \n",
      "  ['...']\n",
      "Train for 34 steps, validate for 6 steps\n",
      "Epoch 1/10\n",
      "34/34 [==============================] - 1s 21ms/step - loss: 0.0035 - sparse_categorical_accuracy: 0.2493 - val_loss: 0.0034 - val_sparse_categorical_accuracy: 0.3125\n",
      "Epoch 2/10\n",
      "34/34 [==============================] - 0s 6ms/step - loss: 0.0032 - sparse_categorical_accuracy: 0.3167 - val_loss: 0.0031 - val_sparse_categorical_accuracy: 0.3021\n",
      "Epoch 3/10\n",
      "34/34 [==============================] - 0s 4ms/step - loss: 0.0030 - sparse_categorical_accuracy: 0.3804 - val_loss: 0.0030 - val_sparse_categorical_accuracy: 0.4167\n",
      "Epoch 4/10\n",
      "34/34 [==============================] - 0s 4ms/step - loss: 0.0029 - sparse_categorical_accuracy: 0.4211 - val_loss: 0.0028 - val_sparse_categorical_accuracy: 0.4635\n",
      "Epoch 5/10\n",
      "34/34 [==============================] - 0s 4ms/step - loss: 0.0027 - sparse_categorical_accuracy: 0.4894 - val_loss: 0.0027 - val_sparse_categorical_accuracy: 0.5156\n",
      "Epoch 6/10\n",
      "34/34 [==============================] - 0s 4ms/step - loss: 0.0026 - sparse_categorical_accuracy: 0.5319 - val_loss: 0.0026 - val_sparse_categorical_accuracy: 0.5260\n",
      "Epoch 7/10\n",
      "34/34 [==============================] - 0s 4ms/step - loss: 0.0025 - sparse_categorical_accuracy: 0.5596 - val_loss: 0.0025 - val_sparse_categorical_accuracy: 0.5521\n",
      "Epoch 8/10\n",
      "34/34 [==============================] - 0s 4ms/step - loss: 0.0025 - sparse_categorical_accuracy: 0.5494 - val_loss: 0.0025 - val_sparse_categorical_accuracy: 0.5521\n",
      "Epoch 9/10\n",
      "34/34 [==============================] - 0s 4ms/step - loss: 0.0024 - sparse_categorical_accuracy: 0.5697 - val_loss: 0.0025 - val_sparse_categorical_accuracy: 0.5469\n",
      "Epoch 10/10\n",
      "34/34 [==============================] - 0s 4ms/step - loss: 0.0024 - sparse_categorical_accuracy: 0.5522 - val_loss: 0.0025 - val_sparse_categorical_accuracy: 0.5469\n",
      "WARNING:tensorflow:sample_weight modes were coerced from\n",
      "  ...\n",
      "    to  \n",
      "  ['...']\n",
      "8/8 [==============================] - 0s 9ms/step - loss: 0.8649 - sparse_categorical_accuracy: 0.5689\n",
      "--- Starting trial: run-0001\n",
      "{'hidden_dim': 16, 'dropout_p': 0.1, 'lr': 0.01}\n",
      "WARNING:tensorflow:sample_weight modes were coerced from\n",
      "  ...\n",
      "    to  \n",
      "  ['...']\n",
      "Train for 34 steps, validate for 6 steps\n",
      "Epoch 1/10\n",
      "34/34 [==============================] - 1s 22ms/step - loss: 0.0023 - sparse_categorical_accuracy: 0.5309 - val_loss: 0.0020 - val_sparse_categorical_accuracy: 0.5312\n",
      "Epoch 2/10\n",
      "34/34 [==============================] - 0s 7ms/step - loss: 0.0019 - sparse_categorical_accuracy: 0.5799 - val_loss: 0.0018 - val_sparse_categorical_accuracy: 0.6094\n",
      "Epoch 3/10\n",
      "34/34 [==============================] - 0s 4ms/step - loss: 0.0017 - sparse_categorical_accuracy: 0.6380 - val_loss: 0.0016 - val_sparse_categorical_accuracy: 0.6510\n",
      "Epoch 4/10\n",
      "34/34 [==============================] - 0s 3ms/step - loss: 0.0016 - sparse_categorical_accuracy: 0.7184 - val_loss: 0.0014 - val_sparse_categorical_accuracy: 0.7917\n",
      "Epoch 5/10\n",
      "34/34 [==============================] - 0s 4ms/step - loss: 0.0014 - sparse_categorical_accuracy: 0.8153 - val_loss: 0.0012 - val_sparse_categorical_accuracy: 0.8073\n",
      "Epoch 6/10\n",
      "34/34 [==============================] - 0s 5ms/step - loss: 0.0013 - sparse_categorical_accuracy: 0.8264 - val_loss: 0.0011 - val_sparse_categorical_accuracy: 0.8698\n",
      "Epoch 7/10\n",
      "34/34 [==============================] - 0s 7ms/step - loss: 0.0012 - sparse_categorical_accuracy: 0.8596 - val_loss: 0.0010 - val_sparse_categorical_accuracy: 0.8958\n",
      "Epoch 8/10\n",
      "34/34 [==============================] - 0s 6ms/step - loss: 0.0010 - sparse_categorical_accuracy: 0.8883 - val_loss: 9.1372e-04 - val_sparse_categorical_accuracy: 0.9167\n",
      "Epoch 9/10\n",
      "34/34 [==============================] - 0s 4ms/step - loss: 0.0010 - sparse_categorical_accuracy: 0.8781 - val_loss: 9.0851e-04 - val_sparse_categorical_accuracy: 0.9115\n",
      "Epoch 10/10\n",
      "34/34 [==============================] - 0s 3ms/step - loss: 9.6401e-04 - sparse_categorical_accuracy: 0.8966 - val_loss: 8.9917e-04 - val_sparse_categorical_accuracy: 0.9219\n",
      "WARNING:tensorflow:sample_weight modes were coerced from\n",
      "  ...\n",
      "    to  \n",
      "  ['...']\n",
      "8/8 [==============================] - 0s 9ms/step - loss: 0.2832 - sparse_categorical_accuracy: 0.9244\n",
      "--- Starting trial: run-0002\n",
      "{'hidden_dim': 16, 'dropout_p': 0.2, 'lr': 0.001}\n",
      "WARNING:tensorflow:sample_weight modes were coerced from\n",
      "  ...\n",
      "    to  \n",
      "  ['...']\n",
      "Train for 34 steps, validate for 6 steps\n",
      "Epoch 1/10\n",
      "34/34 [==============================] - 1s 17ms/step - loss: 0.0030 - sparse_categorical_accuracy: 0.3352 - val_loss: 0.0028 - val_sparse_categorical_accuracy: 0.4688\n",
      "Epoch 2/10\n",
      "34/34 [==============================] - 0s 4ms/step - loss: 0.0028 - sparse_categorical_accuracy: 0.4090 - val_loss: 0.0027 - val_sparse_categorical_accuracy: 0.4062\n",
      "Epoch 3/10\n",
      "34/34 [==============================] - 0s 6ms/step - loss: 0.0026 - sparse_categorical_accuracy: 0.4774 - val_loss: 0.0026 - val_sparse_categorical_accuracy: 0.5417\n",
      "Epoch 4/10\n",
      "34/34 [==============================] - 0s 4ms/step - loss: 0.0025 - sparse_categorical_accuracy: 0.5125 - val_loss: 0.0024 - val_sparse_categorical_accuracy: 0.5365\n",
      "Epoch 5/10\n",
      "34/34 [==============================] - 0s 5ms/step - loss: 0.0024 - sparse_categorical_accuracy: 0.5512 - val_loss: 0.0023 - val_sparse_categorical_accuracy: 0.5729\n",
      "Epoch 6/10\n",
      "34/34 [==============================] - 0s 4ms/step - loss: 0.0023 - sparse_categorical_accuracy: 0.5540 - val_loss: 0.0023 - val_sparse_categorical_accuracy: 0.5729\n",
      "Epoch 7/10\n",
      "34/34 [==============================] - 0s 4ms/step - loss: 0.0023 - sparse_categorical_accuracy: 0.5531 - val_loss: 0.0023 - val_sparse_categorical_accuracy: 0.5729\n",
      "Epoch 8/10\n",
      "34/34 [==============================] - 0s 4ms/step - loss: 0.0023 - sparse_categorical_accuracy: 0.5577 - val_loss: 0.0023 - val_sparse_categorical_accuracy: 0.5729\n",
      "Epoch 9/10\n",
      "34/34 [==============================] - 0s 3ms/step - loss: 0.0023 - sparse_categorical_accuracy: 0.5586 - val_loss: 0.0023 - val_sparse_categorical_accuracy: 0.5729\n",
      "Epoch 10/10\n",
      "34/34 [==============================] - 0s 3ms/step - loss: 0.0023 - sparse_categorical_accuracy: 0.5753 - val_loss: 0.0023 - val_sparse_categorical_accuracy: 0.5729\n",
      "WARNING:tensorflow:sample_weight modes were coerced from\n",
      "  ...\n",
      "    to  \n",
      "  ['...']\n",
      "8/8 [==============================] - 0s 8ms/step - loss: 0.8106 - sparse_categorical_accuracy: 0.5689\n",
      "--- Starting trial: run-0003\n",
      "{'hidden_dim': 16, 'dropout_p': 0.2, 'lr': 0.01}\n",
      "WARNING:tensorflow:sample_weight modes were coerced from\n",
      "  ...\n",
      "    to  \n",
      "  ['...']\n",
      "Train for 34 steps, validate for 6 steps\n",
      "Epoch 1/10\n",
      "34/34 [==============================] - 1s 16ms/step - loss: 0.0026 - sparse_categorical_accuracy: 0.5014 - val_loss: 0.0022 - val_sparse_categorical_accuracy: 0.5990\n",
      "Epoch 2/10\n",
      "34/34 [==============================] - 0s 4ms/step - loss: 0.0020 - sparse_categorical_accuracy: 0.6196 - val_loss: 0.0019 - val_sparse_categorical_accuracy: 0.6458\n",
      "Epoch 3/10\n",
      "34/34 [==============================] - 0s 4ms/step - loss: 0.0018 - sparse_categorical_accuracy: 0.6602 - val_loss: 0.0017 - val_sparse_categorical_accuracy: 0.6979\n",
      "Epoch 4/10\n",
      "34/34 [==============================] - 0s 6ms/step - loss: 0.0017 - sparse_categorical_accuracy: 0.6971 - val_loss: 0.0016 - val_sparse_categorical_accuracy: 0.7396\n",
      "Epoch 5/10\n",
      "34/34 [==============================] - 0s 4ms/step - loss: 0.0016 - sparse_categorical_accuracy: 0.7211 - val_loss: 0.0014 - val_sparse_categorical_accuracy: 0.7604\n",
      "Epoch 6/10\n",
      "34/34 [==============================] - 0s 3ms/step - loss: 0.0015 - sparse_categorical_accuracy: 0.7378 - val_loss: 0.0013 - val_sparse_categorical_accuracy: 0.7917\n",
      "Epoch 7/10\n",
      "34/34 [==============================] - 0s 4ms/step - loss: 0.0013 - sparse_categorical_accuracy: 0.7904 - val_loss: 0.0013 - val_sparse_categorical_accuracy: 0.7812\n",
      "Epoch 8/10\n",
      "34/34 [==============================] - 0s 7ms/step - loss: 0.0013 - sparse_categorical_accuracy: 0.7775 - val_loss: 0.0013 - val_sparse_categorical_accuracy: 0.7812\n",
      "Epoch 9/10\n"
     ]
    },
    {
     "name": "stdout",
     "output_type": "stream",
     "text": [
      "34/34 [==============================] - 0s 4ms/step - loss: 0.0013 - sparse_categorical_accuracy: 0.7793 - val_loss: 0.0013 - val_sparse_categorical_accuracy: 0.7812\n",
      "Epoch 10/10\n",
      "34/34 [==============================] - 0s 4ms/step - loss: 0.0014 - sparse_categorical_accuracy: 0.7738 - val_loss: 0.0013 - val_sparse_categorical_accuracy: 0.7812\n",
      "WARNING:tensorflow:sample_weight modes were coerced from\n",
      "  ...\n",
      "    to  \n",
      "  ['...']\n",
      "8/8 [==============================] - 0s 10ms/step - loss: 0.3969 - sparse_categorical_accuracy: 0.8489\n",
      "--- Starting trial: run-0004\n",
      "{'hidden_dim': 32, 'dropout_p': 0.1, 'lr': 0.001}\n",
      "WARNING:tensorflow:sample_weight modes were coerced from\n",
      "  ...\n",
      "    to  \n",
      "  ['...']\n",
      "Train for 34 steps, validate for 6 steps\n",
      "Epoch 1/10\n",
      "34/34 [==============================] - 1s 16ms/step - loss: 0.0034 - sparse_categorical_accuracy: 0.1958 - val_loss: 0.0031 - val_sparse_categorical_accuracy: 0.2292\n",
      "Epoch 2/10\n",
      "34/34 [==============================] - 0s 3ms/step - loss: 0.0030 - sparse_categorical_accuracy: 0.3158 - val_loss: 0.0028 - val_sparse_categorical_accuracy: 0.4323\n",
      "Epoch 3/10\n",
      "34/34 [==============================] - 0s 3ms/step - loss: 0.0027 - sparse_categorical_accuracy: 0.5199 - val_loss: 0.0026 - val_sparse_categorical_accuracy: 0.6094\n",
      "Epoch 4/10\n",
      "34/34 [==============================] - 0s 3ms/step - loss: 0.0025 - sparse_categorical_accuracy: 0.6094 - val_loss: 0.0024 - val_sparse_categorical_accuracy: 0.5990\n",
      "Epoch 5/10\n",
      "34/34 [==============================] - 0s 3ms/step - loss: 0.0023 - sparse_categorical_accuracy: 0.6094 - val_loss: 0.0023 - val_sparse_categorical_accuracy: 0.5990\n",
      "Epoch 6/10\n",
      "34/34 [==============================] - 0s 5ms/step - loss: 0.0022 - sparse_categorical_accuracy: 0.5965 - val_loss: 0.0022 - val_sparse_categorical_accuracy: 0.5990\n",
      "Epoch 7/10\n",
      "34/34 [==============================] - 0s 3ms/step - loss: 0.0021 - sparse_categorical_accuracy: 0.5946 - val_loss: 0.0022 - val_sparse_categorical_accuracy: 0.5990\n",
      "Epoch 8/10\n",
      "34/34 [==============================] - 0s 3ms/step - loss: 0.0022 - sparse_categorical_accuracy: 0.5946 - val_loss: 0.0022 - val_sparse_categorical_accuracy: 0.5990\n",
      "Epoch 9/10\n",
      "34/34 [==============================] - 0s 3ms/step - loss: 0.0021 - sparse_categorical_accuracy: 0.6020 - val_loss: 0.0022 - val_sparse_categorical_accuracy: 0.5990\n",
      "Epoch 10/10\n",
      "34/34 [==============================] - 0s 5ms/step - loss: 0.0021 - sparse_categorical_accuracy: 0.5928 - val_loss: 0.0022 - val_sparse_categorical_accuracy: 0.5990\n",
      "WARNING:tensorflow:sample_weight modes were coerced from\n",
      "  ...\n",
      "    to  \n",
      "  ['...']\n",
      "8/8 [==============================] - 0s 9ms/step - loss: 0.7684 - sparse_categorical_accuracy: 0.6089\n",
      "--- Starting trial: run-0005\n",
      "{'hidden_dim': 32, 'dropout_p': 0.1, 'lr': 0.01}\n",
      "WARNING:tensorflow:sample_weight modes were coerced from\n",
      "  ...\n",
      "    to  \n",
      "  ['...']\n",
      "Train for 34 steps, validate for 6 steps\n",
      "Epoch 1/10\n",
      "34/34 [==============================] - 1s 19ms/step - loss: 0.0023 - sparse_categorical_accuracy: 0.5171 - val_loss: 0.0019 - val_sparse_categorical_accuracy: 0.5729\n",
      "Epoch 2/10\n",
      "34/34 [==============================] - 0s 3ms/step - loss: 0.0018 - sparse_categorical_accuracy: 0.6066 - val_loss: 0.0016 - val_sparse_categorical_accuracy: 0.6823\n",
      "Epoch 3/10\n",
      "34/34 [==============================] - 0s 3ms/step - loss: 0.0014 - sparse_categorical_accuracy: 0.7525 - val_loss: 0.0014 - val_sparse_categorical_accuracy: 0.8021\n",
      "Epoch 4/10\n",
      "34/34 [==============================] - 0s 3ms/step - loss: 0.0012 - sparse_categorical_accuracy: 0.8199 - val_loss: 0.0011 - val_sparse_categorical_accuracy: 0.8490\n",
      "Epoch 5/10\n",
      "34/34 [==============================] - 0s 3ms/step - loss: 9.7455e-04 - sparse_categorical_accuracy: 0.8855 - val_loss: 9.5967e-04 - val_sparse_categorical_accuracy: 0.8802\n",
      "Epoch 6/10\n",
      "34/34 [==============================] - 0s 3ms/step - loss: 8.3020e-04 - sparse_categorical_accuracy: 0.9095 - val_loss: 8.3588e-04 - val_sparse_categorical_accuracy: 0.8854\n",
      "Epoch 7/10\n",
      "34/34 [==============================] - 0s 3ms/step - loss: 7.2973e-04 - sparse_categorical_accuracy: 0.9104 - val_loss: 7.4651e-04 - val_sparse_categorical_accuracy: 0.9115\n",
      "Epoch 8/10\n",
      "34/34 [==============================] - 0s 3ms/step - loss: 6.8117e-04 - sparse_categorical_accuracy: 0.9178 - val_loss: 7.2017e-04 - val_sparse_categorical_accuracy: 0.8958\n",
      "Epoch 9/10\n",
      "34/34 [==============================] - 0s 3ms/step - loss: 6.4808e-04 - sparse_categorical_accuracy: 0.9206 - val_loss: 7.1196e-04 - val_sparse_categorical_accuracy: 0.8958\n",
      "Epoch 10/10\n",
      "34/34 [==============================] - 0s 3ms/step - loss: 6.7198e-04 - sparse_categorical_accuracy: 0.9252 - val_loss: 7.1149e-04 - val_sparse_categorical_accuracy: 0.8958\n",
      "WARNING:tensorflow:sample_weight modes were coerced from\n",
      "  ...\n",
      "    to  \n",
      "  ['...']\n",
      "8/8 [==============================] - 0s 9ms/step - loss: 0.2011 - sparse_categorical_accuracy: 0.9200\n",
      "--- Starting trial: run-0006\n",
      "{'hidden_dim': 32, 'dropout_p': 0.2, 'lr': 0.001}\n",
      "WARNING:tensorflow:sample_weight modes were coerced from\n",
      "  ...\n",
      "    to  \n",
      "  ['...']\n",
      "Train for 34 steps, validate for 6 steps\n",
      "Epoch 1/10\n",
      "34/34 [==============================] - 1s 16ms/step - loss: 0.0025 - sparse_categorical_accuracy: 0.5577 - val_loss: 0.0024 - val_sparse_categorical_accuracy: 0.5156\n",
      "Epoch 2/10\n",
      "34/34 [==============================] - 0s 3ms/step - loss: 0.0023 - sparse_categorical_accuracy: 0.5291 - val_loss: 0.0022 - val_sparse_categorical_accuracy: 0.5208\n",
      "Epoch 3/10\n",
      "34/34 [==============================] - 0s 3ms/step - loss: 0.0022 - sparse_categorical_accuracy: 0.5494 - val_loss: 0.0022 - val_sparse_categorical_accuracy: 0.5260\n",
      "Epoch 4/10\n",
      "34/34 [==============================] - 0s 4ms/step - loss: 0.0021 - sparse_categorical_accuracy: 0.5466 - val_loss: 0.0021 - val_sparse_categorical_accuracy: 0.5260\n",
      "Epoch 5/10\n",
      "34/34 [==============================] - 0s 3ms/step - loss: 0.0021 - sparse_categorical_accuracy: 0.5457 - val_loss: 0.0021 - val_sparse_categorical_accuracy: 0.5260\n",
      "Epoch 6/10\n",
      "34/34 [==============================] - 0s 3ms/step - loss: 0.0021 - sparse_categorical_accuracy: 0.5485 - val_loss: 0.0021 - val_sparse_categorical_accuracy: 0.5260\n",
      "Epoch 7/10\n",
      "34/34 [==============================] - 0s 6ms/step - loss: 0.0021 - sparse_categorical_accuracy: 0.5402 - val_loss: 0.0021 - val_sparse_categorical_accuracy: 0.5260\n",
      "Epoch 8/10\n",
      "34/34 [==============================] - 0s 5ms/step - loss: 0.0021 - sparse_categorical_accuracy: 0.5355 - val_loss: 0.0021 - val_sparse_categorical_accuracy: 0.5260\n",
      "Epoch 9/10\n",
      "34/34 [==============================] - 0s 5ms/step - loss: 0.0021 - sparse_categorical_accuracy: 0.5319 - val_loss: 0.0021 - val_sparse_categorical_accuracy: 0.5260\n",
      "Epoch 10/10\n",
      "34/34 [==============================] - 0s 6ms/step - loss: 0.0021 - sparse_categorical_accuracy: 0.5448 - val_loss: 0.0021 - val_sparse_categorical_accuracy: 0.5260\n",
      "WARNING:tensorflow:sample_weight modes were coerced from\n",
      "  ...\n",
      "    to  \n",
      "  ['...']\n",
      "8/8 [==============================] - 0s 14ms/step - loss: 0.7134 - sparse_categorical_accuracy: 0.5333\n",
      "--- Starting trial: run-0007\n",
      "{'hidden_dim': 32, 'dropout_p': 0.2, 'lr': 0.01}\n",
      "WARNING:tensorflow:sample_weight modes were coerced from\n",
      "  ...\n",
      "    to  \n",
      "  ['...']\n",
      "Train for 34 steps, validate for 6 steps\n",
      "Epoch 1/10\n",
      "34/34 [==============================] - 1s 28ms/step - loss: 0.0023 - sparse_categorical_accuracy: 0.5282 - val_loss: 0.0020 - val_sparse_categorical_accuracy: 0.5781\n",
      "Epoch 2/10\n",
      "34/34 [==============================] - 0s 4ms/step - loss: 0.0018 - sparse_categorical_accuracy: 0.6159 - val_loss: 0.0017 - val_sparse_categorical_accuracy: 0.6719\n",
      "Epoch 3/10\n",
      "34/34 [==============================] - 0s 3ms/step - loss: 0.0015 - sparse_categorical_accuracy: 0.7202 - val_loss: 0.0014 - val_sparse_categorical_accuracy: 0.7604\n",
      "Epoch 4/10\n",
      "34/34 [==============================] - 0s 4ms/step - loss: 0.0013 - sparse_categorical_accuracy: 0.7922 - val_loss: 0.0012 - val_sparse_categorical_accuracy: 0.8177\n",
      "Epoch 5/10\n",
      "34/34 [==============================] - 0s 4ms/step - loss: 0.0011 - sparse_categorical_accuracy: 0.8403 - val_loss: 0.0010 - val_sparse_categorical_accuracy: 0.8698\n",
      "Epoch 6/10\n"
     ]
    },
    {
     "name": "stdout",
     "output_type": "stream",
     "text": [
      "34/34 [==============================] - 0s 5ms/step - loss: 9.9945e-04 - sparse_categorical_accuracy: 0.8735 - val_loss: 9.0820e-04 - val_sparse_categorical_accuracy: 0.8906\n",
      "Epoch 7/10\n",
      "34/34 [==============================] - 0s 4ms/step - loss: 9.6021e-04 - sparse_categorical_accuracy: 0.8717 - val_loss: 8.3889e-04 - val_sparse_categorical_accuracy: 0.9115\n",
      "Epoch 8/10\n",
      "34/34 [==============================] - 0s 4ms/step - loss: 8.2967e-04 - sparse_categorical_accuracy: 0.9040 - val_loss: 8.2097e-04 - val_sparse_categorical_accuracy: 0.8906\n",
      "Epoch 9/10\n",
      "34/34 [==============================] - 0s 4ms/step - loss: 8.6325e-04 - sparse_categorical_accuracy: 0.8873 - val_loss: 8.2082e-04 - val_sparse_categorical_accuracy: 0.8906\n",
      "Epoch 10/10\n",
      "34/34 [==============================] - 0s 3ms/step - loss: 8.0316e-04 - sparse_categorical_accuracy: 0.9132 - val_loss: 8.2075e-04 - val_sparse_categorical_accuracy: 0.8906\n",
      "WARNING:tensorflow:sample_weight modes were coerced from\n",
      "  ...\n",
      "    to  \n",
      "  ['...']\n",
      "8/8 [==============================] - 0s 9ms/step - loss: 0.2379 - sparse_categorical_accuracy: 0.9111\n"
     ]
    }
   ],
   "source": [
    "session_num = 0\n",
    "for hidden_dim in HP_HIDDEN_DIM.domain.values:\n",
    "    for dropout_p in (HP_DROPOUT_P.domain.min_value, HP_DROPOUT_P.domain.max_value):\n",
    "        for lr in HP_LR.domain.values:\n",
    "            hparams = {\n",
    "                HP_HIDDEN_DIM: hidden_dim,\n",
    "                HP_DROPOUT_P: dropout_p,\n",
    "                HP_LR: lr,\n",
    "            }\n",
    "            run_name = f\"run-{session_num:04d}\"\n",
    "            print(f\"--- Starting trial: {run_name}\")\n",
    "            print({h.name: hparams[h] for h in hparams})\n",
    "            run(f'{log_dir}/' + run_name, hparams)\n",
    "            session_num += 1\n"
   ]
  },
  {
   "cell_type": "code",
   "execution_count": 67,
   "metadata": {
    "colab": {
     "base_uri": "https://localhost:8080/",
     "height": 838
    },
    "colab_type": "code",
    "id": "kKCNTXS5sgK7",
    "outputId": "083462ab-f19c-44fa-8c0d-44dd564772bf"
   },
   "outputs": [
    {
     "data": {
      "text/plain": [
       "Reusing TensorBoard on port 6006 (pid 4529), started 0:01:21 ago. (Use '!kill 4529' to kill it.)"
      ]
     },
     "metadata": {},
     "output_type": "display_data"
    },
    {
     "data": {
      "text/html": [
       "\n",
       "      <iframe id=\"tensorboard-frame-39b1024ef59ae32a\" width=\"100%\" height=\"800\" frameborder=\"0\">\n",
       "      </iframe>\n",
       "      <script>\n",
       "        (function() {\n",
       "          const frame = document.getElementById(\"tensorboard-frame-39b1024ef59ae32a\");\n",
       "          const url = new URL(\"/\", window.location);\n",
       "          url.port = 6006;\n",
       "          frame.src = url;\n",
       "        })();\n",
       "      </script>\n",
       "  "
      ],
      "text/plain": [
       "<IPython.core.display.HTML object>"
      ]
     },
     "metadata": {},
     "output_type": "display_data"
    }
   ],
   "source": [
    "%tensorboard --logdir tensorboard"
   ]
  },
  {
   "cell_type": "markdown",
   "metadata": {
    "colab_type": "text",
    "id": "_8I_eP--pHG7"
   },
   "source": [
    "**NOTE**: We will explore even more TensorBoard features in subsequent lessons, such as  visualzing imaging datasets, embeddings, and many more! "
   ]
  },
  {
   "cell_type": "markdown",
   "metadata": {
    "colab_type": "text",
    "id": "4hgPIZ7vGvR9"
   },
   "source": [
    "---\n",
    "Share and discover ML projects at <a href=\"https://madewithml.com/#newsletter\">Made With ML</a>.\n",
    "\n",
    "<a class=\"ai-header-badge\" target=\"_blank\" href=\"https://github.com/practicalAI/practicalAI\"><img src=\"https://img.shields.io/github/stars/practicalAI/practicalAI.svg?style=social&label=Star\"></a>&nbsp;\n",
    "<a class=\"ai-header-badge\" target=\"_blank\" href=\"https://www.linkedin.com/company/madewithml\"><img src=\"https://img.shields.io/badge/style--5eba00.svg?label=LinkedIn&logo=linkedin&style=social\"></a>&nbsp;\n",
    "<a class=\"ai-header-badge\" target=\"_blank\" href=\"https://twitter.com/madewithml\"><img src=\"https://img.shields.io/twitter/follow/madewithml.svg?label=Follow&style=social\"></a>\n",
    "             "
   ]
  }
 ],
 "metadata": {
  "accelerator": "GPU",
  "colab": {
   "collapsed_sections": [],
   "machine_shape": "hm",
   "name": "08_Utilities",
   "provenance": [],
   "toc_visible": true
  },
  "kernelspec": {
   "display_name": "Python 3",
   "language": "python",
   "name": "python3"
  },
  "language_info": {
   "codemirror_mode": {
    "name": "ipython",
    "version": 3
   },
   "file_extension": ".py",
   "mimetype": "text/x-python",
   "name": "python",
   "nbconvert_exporter": "python",
   "pygments_lexer": "ipython3",
   "version": "3.7.6"
  },
  "toc": {
   "base_numbering": 1,
   "nav_menu": {},
   "number_sections": true,
   "sideBar": true,
   "skip_h1_title": false,
   "title_cell": "Table of Contents",
   "title_sidebar": "Contents",
   "toc_cell": false,
   "toc_position": {},
   "toc_section_display": true,
   "toc_window_display": false
  }
 },
 "nbformat": 4,
 "nbformat_minor": 1
}
